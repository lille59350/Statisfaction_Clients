{
 "cells": [
  {
   "cell_type": "code",
   "execution_count": 1,
   "id": "16ee25c2",
   "metadata": {},
   "outputs": [],
   "source": [
    "import pandas as pd\n",
    "import requests\n",
    "from bs4 import BeautifulSoup"
   ]
  },
  {
   "cell_type": "code",
   "execution_count": 2,
   "id": "91183cee",
   "metadata": {},
   "outputs": [
    {
     "data": {
      "text/plain": [
       "<Response [200]>"
      ]
     },
     "execution_count": 2,
     "metadata": {},
     "output_type": "execute_result"
    }
   ],
   "source": [
    "url = 'https://fr.trustpilot.com/review/www.cdiscount.com'\n",
    "html = requests.get(url)\n",
    "html"
   ]
  },
  {
   "cell_type": "code",
   "execution_count": 16,
   "id": "2a76aeff",
   "metadata": {},
   "outputs": [
    {
     "name": "stdout",
     "output_type": "stream",
     "text": [
      "SGSerge Gardeil1 avisFRll y a 2 joursAchat d'un téléphone redmi note11 en…Achat d'un téléphone redmi note11 en aout Le téléphone est d'origine anglophone et ne prend pas les mises à jour et garde la langue anglaise malgré les réglages géographiques.Nous sommes le 11 novembre 2022 après renvoi courant début octobre de l'appareil et des promesses de remboursement des sommes déjà versées ( 24 messages d’échange et plusieurs appels au service client Cdisount)Le service client est incapable d'effectuer le remboursement sur le compte ayant servi à l'achat.Pourtant déjà réaliser lors d'achats précédents.Je n'ai à ce jour plus de téléphone ni remboursementJe déconseille vivement ce site qui mène en bateau les clients fidèles pourtant depuis 15 ansDate de l'expérience: 11 novembre 2022\n"
     ]
    }
   ],
   "source": [
    "# transformation de la page en un document exploitable\n",
    "# Selon le parsers choisi (html.parser, lxml, lxml-xml, xml, html5lib)\n",
    "soup = BeautifulSoup(html.text, 'html.parser')\n",
    "\n",
    "# affichage de manière agencé avec la methode pretiffy\n",
    "soup.prettify()\n",
    "\n",
    "# Chercher à partir de la valeur d'une balise tous les éléments d'un commentaire\n",
    "comment = soup.find_all('div', {\"class\" : \"styles_cardWrapper__LcCPA styles_show__HUXRb styles_reviewCard__9HxJJ\"})\n",
    "print(comment[2].text)"
   ]
  },
  {
   "cell_type": "code",
   "execution_count": 74,
   "id": "28a720c0",
   "metadata": {},
   "outputs": [
    {
     "name": "stdout",
     "output_type": "stream",
     "text": [
      "FR\n",
      "1\n",
      "SAV Cdiscount catastrophique\n",
      "ll y a 4 joursSAV Cdiscount catastrophiqueune insatisfaction complète pour le service après vente de Cdiscount qui malgré la loi refuse de faire son travail de changement de pièce sous prétexte que leur réparateur agréé n'a pas trouver la panne. Cette même panne qui à été constaté par l'un des réparateurs de la marque elle-même. Je vous déconseille fortement de passer par eux pour acheter vos produits. Cela va faire une mois maintenant que j'attends et que je bataille pour que le changement soit fait et pour le moment sans résultat positif pour moi. Je me retrouve avec un appareil qui  plante régulièrement.Date de l'expérience: 10 novembre 2022\n"
     ]
    }
   ],
   "source": [
    "# chercher dans la balise précédente les sous balises correspondant au pays, à la note et au commentaire\n",
    "\n",
    "pays = comment[1].find('div', {\"class\" : \"typography_body-m__xgxZ_ typography_appearance-subtle__8_H2l styles_detailsIcon__Fo_ua\"}).span.text\n",
    "print(pays)\n",
    "\n",
    "note = comment[1].find('div', {\"class\" : \"styles_reviewHeader__iU9Px\"})['data-service-review-rating']\n",
    "print(note)\n",
    "\n",
    "titre_commentaire = comment[1].find({\"h2\" : \"typography_heading-s__f7029 typography_appearance-default__AAY17\"}).text\n",
    "print(titre_commentaire)\n",
    "\n",
    "commentaire = comment[1].find('section', {\"class\" : \"styles_reviewContentwrapper__zH_9M\"}).text\n",
    "print(commentaire)"
   ]
  },
  {
   "cell_type": "code",
   "execution_count": 99,
   "id": "68090436",
   "metadata": {
    "scrolled": true
   },
   "outputs": [
    {
     "name": "stdout",
     "output_type": "stream",
     "text": [
      "le temps de calcul est de 532.31 secondes\n"
     ]
    }
   ],
   "source": [
    "from time import time\n",
    "t0 = time()\n",
    "\n",
    "# recherche sur plusieurs pages\n",
    "nb_pages = 6206\n",
    "liste_url = []\n",
    "page = 1\n",
    "while page <= nb_pages :\n",
    "    liste_url.append('https://fr.trustpilot.com/review/www.cdiscount.com?page='+str(page))\n",
    "    page = page + 1\n",
    "\n",
    "liste_pays = []\n",
    "liste_note = []\n",
    "liste_titre_commentaire = []\n",
    "liste_commentaire = []\n",
    "\n",
    "for page in liste_url:\n",
    "    comment = soup.find_all('div', {\"class\" : \"styles_cardWrapper__LcCPA styles_show__HUXRb styles_reviewCard__9HxJJ\"})\n",
    "    soup = BeautifulSoup(html.text, 'html.parser')\n",
    "    for nb_avis in range(len(comment)):\n",
    "        liste_pays.append(comment[nb_avis].find('div', {\"class\" : \"typography_body-m__xgxZ_ typography_appearance-subtle__8_H2l styles_detailsIcon__Fo_ua\"}).span.text)\n",
    "        liste_note.append(comment[nb_avis].find('div', {\"class\" : \"styles_reviewHeader__iU9Px\"})['data-service-review-rating'])\n",
    "        liste_titre_commentaire.append(comment[nb_avis].find({\"h2\" : \"typography_heading-s__f7029 typography_appearance-default__AAY17\"}).text)\n",
    "        liste_commentaire.append(comment[nb_avis].find('section', {\"class\" : \"styles_reviewContentwrapper__zH_9M\"}).text)\n",
    "\n",
    "dico = {'pays' : liste_pays, 'note' : liste_note, 'titre' : liste_titre_commentaire, 'commentaire' : liste_commentaire}\n",
    "df = pd.DataFrame(dico)\n",
    "\n",
    "print('le temps de calcul est de {:.2f} secondes'.format(time()-t0))"
   ]
  },
  {
   "cell_type": "code",
   "execution_count": 100,
   "id": "cd6585b8",
   "metadata": {},
   "outputs": [
    {
     "data": {
      "text/html": [
       "<div>\n",
       "<style scoped>\n",
       "    .dataframe tbody tr th:only-of-type {\n",
       "        vertical-align: middle;\n",
       "    }\n",
       "\n",
       "    .dataframe tbody tr th {\n",
       "        vertical-align: top;\n",
       "    }\n",
       "\n",
       "    .dataframe thead th {\n",
       "        text-align: right;\n",
       "    }\n",
       "</style>\n",
       "<table border=\"1\" class=\"dataframe\">\n",
       "  <thead>\n",
       "    <tr style=\"text-align: right;\">\n",
       "      <th></th>\n",
       "      <th>pays</th>\n",
       "      <th>note</th>\n",
       "      <th>titre</th>\n",
       "      <th>commentaire</th>\n",
       "    </tr>\n",
       "  </thead>\n",
       "  <tbody>\n",
       "    <tr>\n",
       "      <th>0</th>\n",
       "      <td>FR</td>\n",
       "      <td>1</td>\n",
       "      <td>Je me suis fais voler mon colis par le livreur</td>\n",
       "      <td>ll y a 4 joursJe me suis fais voler mon colis ...</td>\n",
       "    </tr>\n",
       "    <tr>\n",
       "      <th>1</th>\n",
       "      <td>FR</td>\n",
       "      <td>1</td>\n",
       "      <td>SAV Cdiscount catastrophique</td>\n",
       "      <td>ll y a 4 joursSAV Cdiscount catastrophiqueune ...</td>\n",
       "    </tr>\n",
       "    <tr>\n",
       "      <th>2</th>\n",
       "      <td>FR</td>\n",
       "      <td>1</td>\n",
       "      <td>Achat d'un téléphone redmi note11 en…</td>\n",
       "      <td>ll y a 2 joursAchat d'un téléphone redmi note1...</td>\n",
       "    </tr>\n",
       "    <tr>\n",
       "      <th>3</th>\n",
       "      <td>FR</td>\n",
       "      <td>1</td>\n",
       "      <td>SAV horrible</td>\n",
       "      <td>ll y a 5 joursSAV horribleJe vais faire un ret...</td>\n",
       "    </tr>\n",
       "    <tr>\n",
       "      <th>4</th>\n",
       "      <td>FR</td>\n",
       "      <td>2</td>\n",
       "      <td>Je suis fortement déçu</td>\n",
       "      <td>ll y a 5 joursSur invitationJe suis fortement ...</td>\n",
       "    </tr>\n",
       "    <tr>\n",
       "      <th>...</th>\n",
       "      <td>...</td>\n",
       "      <td>...</td>\n",
       "      <td>...</td>\n",
       "      <td>...</td>\n",
       "    </tr>\n",
       "    <tr>\n",
       "      <th>124115</th>\n",
       "      <td>FR</td>\n",
       "      <td>1</td>\n",
       "      <td>Très mauvaise expérience</td>\n",
       "      <td>ll y a 5 joursTrès mauvaise expérienceTrès mau...</td>\n",
       "    </tr>\n",
       "    <tr>\n",
       "      <th>124116</th>\n",
       "      <td>FR</td>\n",
       "      <td>1</td>\n",
       "      <td>Qualité en baisse</td>\n",
       "      <td>ll y a 4 joursQualité en baisseCe site de e-co...</td>\n",
       "    </tr>\n",
       "    <tr>\n",
       "      <th>124117</th>\n",
       "      <td>FR</td>\n",
       "      <td>5</td>\n",
       "      <td>Commande très satisfaisante</td>\n",
       "      <td>Il y a 4 heuresSur invitationCommande très sat...</td>\n",
       "    </tr>\n",
       "    <tr>\n",
       "      <th>124118</th>\n",
       "      <td>FR</td>\n",
       "      <td>1</td>\n",
       "      <td>Dégâts lors de la livraison d'une…</td>\n",
       "      <td>ll y a 3 joursDégâts lors de la livraison d'un...</td>\n",
       "    </tr>\n",
       "    <tr>\n",
       "      <th>124119</th>\n",
       "      <td>FR</td>\n",
       "      <td>1</td>\n",
       "      <td>Le mec qui m à répondu sur le problème…</td>\n",
       "      <td>ll y a 5 joursLe mec qui m à répondu sur le pr...</td>\n",
       "    </tr>\n",
       "  </tbody>\n",
       "</table>\n",
       "<p>124120 rows × 4 columns</p>\n",
       "</div>"
      ],
      "text/plain": [
       "       pays note                                           titre  \\\n",
       "0        FR    1  Je me suis fais voler mon colis par le livreur   \n",
       "1        FR    1                    SAV Cdiscount catastrophique   \n",
       "2        FR    1           Achat d'un téléphone redmi note11 en…   \n",
       "3        FR    1                                    SAV horrible   \n",
       "4        FR    2                          Je suis fortement déçu   \n",
       "...     ...  ...                                             ...   \n",
       "124115   FR    1                        Très mauvaise expérience   \n",
       "124116   FR    1                               Qualité en baisse   \n",
       "124117   FR    5                     Commande très satisfaisante   \n",
       "124118   FR    1              Dégâts lors de la livraison d'une…   \n",
       "124119   FR    1         Le mec qui m à répondu sur le problème…   \n",
       "\n",
       "                                              commentaire  \n",
       "0       ll y a 4 joursJe me suis fais voler mon colis ...  \n",
       "1       ll y a 4 joursSAV Cdiscount catastrophiqueune ...  \n",
       "2       ll y a 2 joursAchat d'un téléphone redmi note1...  \n",
       "3       ll y a 5 joursSAV horribleJe vais faire un ret...  \n",
       "4       ll y a 5 joursSur invitationJe suis fortement ...  \n",
       "...                                                   ...  \n",
       "124115  ll y a 5 joursTrès mauvaise expérienceTrès mau...  \n",
       "124116  ll y a 4 joursQualité en baisseCe site de e-co...  \n",
       "124117  Il y a 4 heuresSur invitationCommande très sat...  \n",
       "124118  ll y a 3 joursDégâts lors de la livraison d'un...  \n",
       "124119  ll y a 5 joursLe mec qui m à répondu sur le pr...  \n",
       "\n",
       "[124120 rows x 4 columns]"
      ]
     },
     "execution_count": 100,
     "metadata": {},
     "output_type": "execute_result"
    }
   ],
   "source": [
    "df"
   ]
  },
  {
   "cell_type": "code",
   "execution_count": 101,
   "id": "164f559e",
   "metadata": {},
   "outputs": [],
   "source": [
    "df.to_csv('datasets/SatisfactionClients/cdiscount.csv')"
   ]
  }
 ],
 "metadata": {
  "kernelspec": {
   "display_name": "Python 3 (ipykernel)",
   "language": "python",
   "name": "python3"
  },
  "language_info": {
   "codemirror_mode": {
    "name": "ipython",
    "version": 3
   },
   "file_extension": ".py",
   "mimetype": "text/x-python",
   "name": "python",
   "nbconvert_exporter": "python",
   "pygments_lexer": "ipython3",
   "version": "3.9.7"
  }
 },
 "nbformat": 4,
 "nbformat_minor": 5
}
