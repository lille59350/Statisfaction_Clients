{
 "cells": [
  {
   "cell_type": "code",
   "execution_count": 1,
   "id": "196d79a4",
   "metadata": {},
   "outputs": [],
   "source": [
    "import pandas as pd\n",
    "import numpy as np\n",
    "import matplotlib.pyplot as plt\n",
    "import seaborn as sns\n",
    "from time import time\n",
    "import itertools"
   ]
  },
  {
   "cell_type": "code",
   "execution_count": 2,
   "id": "6b85a034",
   "metadata": {},
   "outputs": [],
   "source": [
    "pd.options.display.max_colwidth=800\n",
    "pd.set_option('display.max_rows', 500)\n",
    "pd.set_option('display.max_columns', 500)"
   ]
  },
  {
   "cell_type": "code",
   "execution_count": 3,
   "id": "119a889d",
   "metadata": {},
   "outputs": [
    {
     "data": {
      "text/html": [
       "<div>\n",
       "<style scoped>\n",
       "    .dataframe tbody tr th:only-of-type {\n",
       "        vertical-align: middle;\n",
       "    }\n",
       "\n",
       "    .dataframe tbody tr th {\n",
       "        vertical-align: top;\n",
       "    }\n",
       "\n",
       "    .dataframe thead th {\n",
       "        text-align: right;\n",
       "    }\n",
       "</style>\n",
       "<table border=\"1\" class=\"dataframe\">\n",
       "  <thead>\n",
       "    <tr style=\"text-align: right;\">\n",
       "      <th></th>\n",
       "      <th>pays</th>\n",
       "      <th>note</th>\n",
       "      <th>titre</th>\n",
       "      <th>commentaire</th>\n",
       "    </tr>\n",
       "  </thead>\n",
       "  <tbody>\n",
       "    <tr>\n",
       "      <th>0</th>\n",
       "      <td>FR</td>\n",
       "      <td>1</td>\n",
       "      <td>Les As du prélèvement illicite</td>\n",
       "      <td>Il y a un jourLes As du prélèvement illicitePratiques à la limite de légal.J' ai pris un paiement en 4x dont il restait deux mois , pendant 1 semaine je ne retrouve pas ma carte , je la bloque temporairement.Le prelevement 3 ne passe pas Cdiscount m' informe qu' il faut régulariser, je retrouve ma carte et........boum deux prelevements simultanés des deux mensualités, celle du et l' autre prévue pour décembre.Cela me servira de leçon mais les vautours c 'est fini pour moi.Date de l'expérience: 14 novembre 2022</td>\n",
       "    </tr>\n",
       "    <tr>\n",
       "      <th>1</th>\n",
       "      <td>FR</td>\n",
       "      <td>1</td>\n",
       "      <td>Commande une télévision avec rendez…</td>\n",
       "      <td>Il y a 13 heuresCommande une télévision avec rendez…Commande une télévision avec rendez vous du livreur. Je prend une journée de congé et le livreur ne vient pas. Je demande le renvoie de la télé chez Cdiscount. Cdiscount me rembourse la télé mes pas les 29 euros de livraison. Donc une journée de congé pour rien et un cadeau de 29 euros a Cdiscount. Plus jamais de commande sur Cdiscount.Date de l'expérience: 02 novembre 2022</td>\n",
       "    </tr>\n",
       "  </tbody>\n",
       "</table>\n",
       "</div>"
      ],
      "text/plain": [
       "  pays  note                                 titre  \\\n",
       "0   FR     1        Les As du prélèvement illicite   \n",
       "1   FR     1  Commande une télévision avec rendez…   \n",
       "\n",
       "                                                                                                                                                                                                                                                                                                                                                                                                                                                                                                                           commentaire  \n",
       "0  Il y a un jourLes As du prélèvement illicitePratiques à la limite de légal.J' ai pris un paiement en 4x dont il restait deux mois , pendant 1 semaine je ne retrouve pas ma carte , je la bloque temporairement.Le prelevement 3 ne passe pas Cdiscount m' informe qu' il faut régulariser, je retrouve ma carte et........boum deux prelevements simultanés des deux mensualités, celle du et l' autre prévue pour décembre.Cela me servira de leçon mais les vautours c 'est fini pour moi.Date de l'expérience: 14 novembre 2022  \n",
       "1                                                                                         Il y a 13 heuresCommande une télévision avec rendez…Commande une télévision avec rendez vous du livreur. Je prend une journée de congé et le livreur ne vient pas. Je demande le renvoie de la télé chez Cdiscount. Cdiscount me rembourse la télé mes pas les 29 euros de livraison. Donc une journée de congé pour rien et un cadeau de 29 euros a Cdiscount. Plus jamais de commande sur Cdiscount.Date de l'expérience: 02 novembre 2022  "
      ]
     },
     "execution_count": 3,
     "metadata": {},
     "output_type": "execute_result"
    }
   ],
   "source": [
    "df = pd.read_csv('datasets/SatisfactionClients/cdiscount.csv', index_col=0)\n",
    "df_test = pd.read_csv('datasets/SatisfactionClients/amazon_test1.csv', index_col=0)\n",
    "df.head(2)"
   ]
  },
  {
   "cell_type": "code",
   "execution_count": 4,
   "id": "ddfd6bfc",
   "metadata": {
    "scrolled": true
   },
   "outputs": [
    {
     "data": {
      "image/png": "[encoded data removed]",
      "text/plain": [
       "<Figure size 432x288 with 1 Axes>"
      ]
     },
     "metadata": {
      "needs_background": "light"
     },
     "output_type": "display_data"
    }
   ],
   "source": [
    "sns.countplot(x='note', data=df);"
   ]
  },
  {
   "cell_type": "code",
   "execution_count": 5,
   "id": "3ded978e",
   "metadata": {},
   "outputs": [
    {
     "data": {
      "image/png": "[encoded data removed]",
      "text/plain": [
       "<Figure size 432x288 with 1 Axes>"
      ]
     },
     "metadata": {
      "needs_background": "light"
     },
     "output_type": "display_data"
    }
   ],
   "source": [
    "sns.countplot(x='note', data=df_test);"
   ]
  },
  {
   "cell_type": "code",
   "execution_count": 6,
   "id": "f13e334a",
   "metadata": {},
   "outputs": [],
   "source": [
    "# séparation de la variable cible et des variables explicatives\n",
    "X = df['commentaire']\n",
    "y = df['note'].values"
   ]
  },
  {
   "cell_type": "code",
   "execution_count": 7,
   "id": "6269af3d",
   "metadata": {},
   "outputs": [],
   "source": [
    "# séparation du jeu de données en un dataset d'entrainement et un dataset de test\n",
    "from sklearn.model_selection import train_test_split\n",
    "X_train, X_test, y_train, y_test = train_test_split(X, y, test_size=0.2, shuffle=True)"
   ]
  },
  {
   "cell_type": "code",
   "execution_count": 8,
   "id": "0673da10",
   "metadata": {},
   "outputs": [
    {
     "name": "stdout",
     "output_type": "stream",
     "text": [
      "(96000,)\n",
      "(24000,)\n",
      "(100, 4)\n"
     ]
    }
   ],
   "source": [
    "print(X_train.shape)\n",
    "print(X_test.shape)\n",
    "print(df_test.shape)"
   ]
  },
  {
   "cell_type": "code",
   "execution_count": 9,
   "id": "d40a7b61",
   "metadata": {},
   "outputs": [],
   "source": [
    "from keras.preprocessing.text import Tokenizer\n",
    "from keras.preprocessing.sequence import pad_sequences"
   ]
  },
  {
   "cell_type": "code",
   "execution_count": 10,
   "id": "7709d894",
   "metadata": {},
   "outputs": [],
   "source": [
    "# tokenisation des commentaires\n",
    "num_words=4000\n",
    "tk = Tokenizer(num_words=num_words, lower=True)"
   ]
  },
  {
   "cell_type": "code",
   "execution_count": 11,
   "id": "014744b9",
   "metadata": {},
   "outputs": [],
   "source": [
    "# entrainement de la tokenisation sur le X_train\n",
    "tk.fit_on_texts(X_train)"
   ]
  },
  {
   "cell_type": "code",
   "execution_count": 12,
   "id": "5faa7d54",
   "metadata": {},
   "outputs": [
    {
     "data": {
      "text/plain": [
       "81645"
      ]
     },
     "execution_count": 12,
     "metadata": {},
     "output_type": "execute_result"
    }
   ],
   "source": [
    "# nb de ligne de la matrice\n",
    "word_index = tk.word_index\n",
    "len(tk.word_index)"
   ]
  },
  {
   "cell_type": "code",
   "execution_count": 14,
   "id": "8a275671",
   "metadata": {},
   "outputs": [
    {
     "data": {
      "text/plain": [
       "4000"
      ]
     },
     "execution_count": 14,
     "metadata": {},
     "output_type": "execute_result"
    }
   ],
   "source": [
    "# nb de colonnes dans la matrice\n",
    "vocabulary_size = tk.num_words\n",
    "vocabulary_size"
   ]
  },
  {
   "cell_type": "code",
   "execution_count": 15,
   "id": "c937c451",
   "metadata": {},
   "outputs": [],
   "source": [
    "# mise sous vecteur des commentaires\n",
    "X_seq_train = tk.texts_to_sequences(X_train)\n",
    "X_seq_test = tk.texts_to_sequences(X_test)"
   ]
  },
  {
   "cell_type": "code",
   "execution_count": 16,
   "id": "204ad175",
   "metadata": {},
   "outputs": [
    {
     "name": "stdout",
     "output_type": "stream",
     "text": [
      "[126, 22, 324, 2200, 326, 27, 388, 167, 1, 2, 134, 22, 15]\n",
      "[56, 22, 20, 102, 20, 102, 193, 232, 101, 17, 534, 5, 150, 172, 1, 2, 56, 22, 15]\n",
      "[81, 73, 542, 54, 1, 2, 81, 69, 15]\n",
      "[116, 22, 9, 148, 39, 23, 5, 4, 239, 1, 2, 135, 22, 8]\n",
      "[127, 73, 1280, 23, 164, 1139, 1, 2, 131, 69, 7]\n"
     ]
    }
   ],
   "source": [
    "# affichage de la vectorisation réalisée\n",
    "for x in range(0,5):\n",
    "    print(X_seq_train[x])"
   ]
  },
  {
   "cell_type": "code",
   "execution_count": null,
   "id": "1dabd2d6",
   "metadata": {},
   "outputs": [],
   "source": [
    "# affichage du nb de mots par commentaire pour nous aider à choisir le nb de mots dans la matrice \n",
    "df_hist = pd.read_csv('datasets/SatisfactionClients/cdiscount_retraite.csv', index_col=0)\n",
    "df_hist['split'] = df_hist['commentaire'].apply(lambda x: len(x.split(' ')))\n",
    "\n",
    "plt.figure(figsize=(12, 4))\n",
    "plt.hist(df_hist['split'])\n",
    "plt.xlim([0, 600])\n",
    "plt.title('commentaires bruts')"
   ]
  },
  {
   "cell_type": "code",
   "execution_count": 17,
   "id": "aa8ad6cf",
   "metadata": {},
   "outputs": [],
   "source": [
    "# transformation en matrice de même longueur par maxlen défini ci-dessous. Avec des 0 si colonne inférieure à maxlen\n",
    "max_words = 200\n",
    "X_pad_train = pad_sequences(X_seq_train, maxlen=max_words, padding='post')\n",
    "X_pad_test= pad_sequences(X_seq_test, maxlen=max_words, padding='post')"
   ]
  },
  {
   "cell_type": "code",
   "execution_count": 18,
   "id": "e5651d36",
   "metadata": {},
   "outputs": [
    {
     "name": "stdout",
     "output_type": "stream",
     "text": [
      "(96000, 200)\n"
     ]
    },
    {
     "data": {
      "text/plain": [
       "array([[126,  22, 324, ...,   0,   0,   0],\n",
       "       [ 56,  22,  20, ...,   0,   0,   0],\n",
       "       [ 81,  73, 542, ...,   0,   0,   0],\n",
       "       ...,\n",
       "       [ 82,  25,  72, ...,   0,   0,   0],\n",
       "       [113,  22,   1, ...,   0,   0,   0],\n",
       "       [ 91,  34,  43, ...,   0,   0,   0]])"
      ]
     },
     "execution_count": 18,
     "metadata": {},
     "output_type": "execute_result"
    }
   ],
   "source": [
    "# affice de la matrice\n",
    "print(X_pad_train.shape)\n",
    "X_pad_train"
   ]
  },
  {
   "cell_type": "code",
   "execution_count": 19,
   "id": "a509121c",
   "metadata": {},
   "outputs": [
    {
     "name": "stdout",
     "output_type": "stream",
     "text": [
      "Model: \"sequential\"\n",
      "_________________________________________________________________\n",
      "Layer (type)                 Output Shape              Param #   \n",
      "=================================================================\n",
      "embedding (Embedding)        (None, 200, 100)          400000    \n",
      "_________________________________________________________________\n",
      "global_average_pooling1d (Gl (None, 100)               0         \n",
      "_________________________________________________________________\n",
      "dense (Dense)                (None, 256)               25856     \n",
      "_________________________________________________________________\n",
      "dropout (Dropout)            (None, 256)               0         \n",
      "_________________________________________________________________\n",
      "dense_1 (Dense)              (None, 128)               32896     \n",
      "_________________________________________________________________\n",
      "dropout_1 (Dropout)          (None, 128)               0         \n",
      "_________________________________________________________________\n",
      "dense_2 (Dense)              (None, 64)                8256      \n",
      "_________________________________________________________________\n",
      "dropout_2 (Dropout)          (None, 64)                0         \n",
      "_________________________________________________________________\n",
      "dense_3 (Dense)              (None, 32)                2080      \n",
      "_________________________________________________________________\n",
      "dropout_3 (Dropout)          (None, 32)                0         \n",
      "_________________________________________________________________\n",
      "dense_4 (Dense)              (None, 6)                 198       \n",
      "=================================================================\n",
      "Total params: 469,286\n",
      "Trainable params: 469,286\n",
      "Non-trainable params: 0\n",
      "_________________________________________________________________\n"
     ]
    }
   ],
   "source": [
    "# Création des couches du modèle\n",
    "\n",
    "from tensorflow.keras.models import Sequential\n",
    "from tensorflow.keras.layers import Dense, GlobalAveragePooling1D, Input, Embedding, Dropout\n",
    "\n",
    "embedding_size = 100\n",
    "\n",
    "model_embedding_1 = Sequential()\n",
    "model_embedding_1.add(Embedding(input_dim=vocabulary_size, output_dim=embedding_size, input_length=max_words, embeddings_initializer='uniform'))  # On reprend le nb de mot choisi dans la tokenisation\n",
    "model_embedding_1.add(GlobalAveragePooling1D())\n",
    "model_embedding_1.add(Dense(units=256, activation='relu'))\n",
    "model_embedding_1.add(Dropout(rate=0.25))\n",
    "model_embedding_1.add(Dense(units=128, activation='relu'))\n",
    "model_embedding_1.add(Dropout(rate=0.18))\n",
    "model_embedding_1.add(Dense(units=64, activation='relu'))\n",
    "model_embedding_1.add(Dropout(rate=0.15))\n",
    "model_embedding_1.add(Dense(units=32, activation='relu'))\n",
    "model_embedding_1.add(Dropout(rate=0.20))\n",
    "model_embedding_1.add(Dense(units=6, activation='softmax')) # En sortie le nb de units devra correspondre aux nb de variables cibles\n",
    "\n",
    "model_embedding_1.summary()"
   ]
  },
  {
   "cell_type": "code",
   "execution_count": null,
   "id": "3cc3b674",
   "metadata": {},
   "outputs": [],
   "source": [
    "# timer pour mesurer le temps écoulé entre les epochs de début et de fin de callback\n",
    "from tensorflow.keras.callbacks import Callback\n",
    "from timeit import default_timer as timer\n",
    "\n",
    "class TimingCallback(Callback):\n",
    "    def __init__(self, logs={}):\n",
    "        self.logs=[]\n",
    "    def on_epoch_begin(self, epoch, logs={}):\n",
    "        self.starttime = timer()\n",
    "    def on_epoch_end(self, epoch, logs={}):\n",
    "        self.logs.append(timer()-self.starttime)\n",
    "\n",
    "# instanciation la fonction TimingCallback()\n",
    "time_callback = TimingCallback()"
   ]
  },
  {
   "cell_type": "code",
   "execution_count": null,
   "id": "bc1b8381",
   "metadata": {},
   "outputs": [],
   "source": [
    "# Création des callback\n",
    "from tensorflow.keras.callbacks import EarlyStopping\n",
    "\n",
    "early_stop = EarlyStopping(monitor='val_loss',\n",
    "                          min_delta=0.01,\n",
    "                          patience=2,\n",
    "                          mode='min',\n",
    "                          restore_best_weights=True,\n",
    "                          verbose=1)"
   ]
  },
  {
   "cell_type": "code",
   "execution_count": 20,
   "id": "bbfcec82",
   "metadata": {},
   "outputs": [],
   "source": [
    "model_embedding_1.compile(loss='sparse_categorical_crossentropy', optimizer='adam', metrics=['accuracy'])"
   ]
  },
  {
   "cell_type": "code",
   "execution_count": 21,
   "id": "6a48774e",
   "metadata": {},
   "outputs": [
    {
     "name": "stdout",
     "output_type": "stream",
     "text": [
      "Epoch 1/20\n",
      "2700/2700 [==============================] - 36s 13ms/step - loss: 0.8153 - accuracy: 0.6889 - val_loss: 0.7320 - val_accuracy: 0.7054\n",
      "Epoch 2/20\n",
      "2700/2700 [==============================] - 36s 13ms/step - loss: 0.7288 - accuracy: 0.7112 - val_loss: 0.7127 - val_accuracy: 0.7150\n",
      "Epoch 3/20\n",
      "2700/2700 [==============================] - 36s 13ms/step - loss: 0.7029 - accuracy: 0.7218 - val_loss: 0.7433 - val_accuracy: 0.7146\n",
      "Epoch 4/20\n",
      "2700/2700 [==============================] - 35s 13ms/step - loss: 0.6882 - accuracy: 0.7262 - val_loss: 0.7596 - val_accuracy: 0.7144\n",
      "Epoch 5/20\n",
      "2700/2700 [==============================] - 35s 13ms/step - loss: 0.6785 - accuracy: 0.7299 - val_loss: 0.7193 - val_accuracy: 0.7174\n",
      "Epoch 6/20\n",
      "2700/2700 [==============================] - 35s 13ms/step - loss: 0.6700 - accuracy: 0.7315 - val_loss: 0.7386 - val_accuracy: 0.7168\n",
      "Epoch 7/20\n",
      "2700/2700 [==============================] - 34s 13ms/step - loss: 0.6600 - accuracy: 0.7360 - val_loss: 0.7190 - val_accuracy: 0.7197\n",
      "Epoch 8/20\n",
      "2700/2700 [==============================] - 36s 13ms/step - loss: 0.6535 - accuracy: 0.7384 - val_loss: 0.7300 - val_accuracy: 0.7127\n",
      "Epoch 9/20\n",
      "2700/2700 [==============================] - 36s 13ms/step - loss: 0.6473 - accuracy: 0.7406 - val_loss: 0.7259 - val_accuracy: 0.7192\n",
      "Epoch 10/20\n",
      "2700/2700 [==============================] - 33s 12ms/step - loss: 0.6397 - accuracy: 0.7426 - val_loss: 0.7287 - val_accuracy: 0.7167\n",
      "Epoch 11/20\n",
      "2700/2700 [==============================] - 34s 12ms/step - loss: 0.6344 - accuracy: 0.7446 - val_loss: 0.7468 - val_accuracy: 0.7192\n",
      "Epoch 12/20\n",
      "2700/2700 [==============================] - 34s 12ms/step - loss: 0.6308 - accuracy: 0.7455 - val_loss: 0.7442 - val_accuracy: 0.7182\n",
      "Epoch 13/20\n",
      "2700/2700 [==============================] - 32s 12ms/step - loss: 0.6233 - accuracy: 0.7476 - val_loss: 0.7734 - val_accuracy: 0.7173\n",
      "Epoch 14/20\n",
      "2700/2700 [==============================] - 33s 12ms/step - loss: 0.6185 - accuracy: 0.7489 - val_loss: 0.7762 - val_accuracy: 0.7161\n",
      "Epoch 15/20\n",
      "2700/2700 [==============================] - 33s 12ms/step - loss: 0.6159 - accuracy: 0.7496 - val_loss: 0.7848 - val_accuracy: 0.7176\n",
      "Epoch 16/20\n",
      "2700/2700 [==============================] - 32s 12ms/step - loss: 0.6102 - accuracy: 0.7531 - val_loss: 0.8074 - val_accuracy: 0.7061\n",
      "Epoch 17/20\n",
      "2700/2700 [==============================] - 30s 11ms/step - loss: 0.6069 - accuracy: 0.7533 - val_loss: 0.8069 - val_accuracy: 0.7117\n",
      "Epoch 18/20\n",
      "2700/2700 [==============================] - 33s 12ms/step - loss: 0.6030 - accuracy: 0.7549 - val_loss: 0.8436 - val_accuracy: 0.7015\n",
      "Epoch 19/20\n",
      "2700/2700 [==============================] - 31s 12ms/step - loss: 0.5963 - accuracy: 0.7573 - val_loss: 0.8303 - val_accuracy: 0.7141\n",
      "Epoch 20/20\n",
      "2700/2700 [==============================] - 31s 12ms/step - loss: 0.5937 - accuracy: 0.7574 - val_loss: 0.8729 - val_accuracy: 0.7102\n"
     ]
    }
   ],
   "source": [
    "batch_size = 32\n",
    "epochs = 20\n",
    "history = model_embedding_1.fit(X_pad_train, y_train, batch_size=batch_size, epochs=epochs, validation_split=0.1,\n",
    "                               callbacks=[early_stop, time_callback])"
   ]
  },
  {
   "cell_type": "code",
   "execution_count": 22,
   "id": "9ae167f8",
   "metadata": {},
   "outputs": [
    {
     "name": "stdout",
     "output_type": "stream",
     "text": [
      "750/750 [==============================] - 3s 4ms/step - loss: 0.8874 - accuracy: 0.7149\n"
     ]
    },
    {
     "data": {
      "text/plain": [
       "[0.8874200582504272, 0.7149166464805603]"
      ]
     },
     "execution_count": 22,
     "metadata": {},
     "output_type": "execute_result"
    }
   ],
   "source": [
    "model_embedding_1.evaluate(X_pad_test, y_test, verbose=1)"
   ]
  },
  {
   "cell_type": "markdown",
   "id": "6aa031ba",
   "metadata": {},
   "source": [
    "### Calcul des prédictions sur le le de test cdiscount"
   ]
  },
  {
   "cell_type": "code",
   "execution_count": 23,
   "id": "047e9d1c",
   "metadata": {},
   "outputs": [
    {
     "name": "stdout",
     "output_type": "stream",
     "text": [
      "750/750 [==============================] - 3s 4ms/step\n"
     ]
    }
   ],
   "source": [
    "# création des prédictions du eu de test cdiscount à partir du modèle\n",
    "predict_cdiscount = model_embedding_1.predict(X_pad_test, verbose=1)"
   ]
  },
  {
   "cell_type": "code",
   "execution_count": 24,
   "id": "839cd186",
   "metadata": {},
   "outputs": [
    {
     "data": {
      "text/plain": [
       "array([5, 5, 5, ..., 5, 5, 5], dtype=int64)"
      ]
     },
     "execution_count": 24,
     "metadata": {},
     "output_type": "execute_result"
    }
   ],
   "source": [
    "predict_cdiscount_class = predict_cdiscount.argmax(axis=1)\n",
    "predict_cdiscount_class"
   ]
  },
  {
   "cell_type": "code",
   "execution_count": 25,
   "id": "c60286b3",
   "metadata": {},
   "outputs": [
    {
     "name": "stderr",
     "output_type": "stream",
     "text": [
      "C:\\Users\\t.fourtouill\\Anaconda3\\lib\\site-packages\\seaborn\\_decorators.py:36: FutureWarning: Pass the following variable as a keyword arg: x. From version 0.12, the only valid positional argument will be `data`, and passing other arguments without an explicit keyword will result in an error or misinterpretation.\n",
      "  warnings.warn(\n"
     ]
    },
    {
     "data": {
      "image/png": "[encoded data removed]",
      "text/plain": [
       "<Figure size 432x288 with 1 Axes>"
      ]
     },
     "metadata": {
      "needs_background": "light"
     },
     "output_type": "display_data"
    }
   ],
   "source": [
    "sns.countplot(predict_cdiscount_class)\n",
    "plt.show();"
   ]
  },
  {
   "cell_type": "markdown",
   "id": "33371e69",
   "metadata": {},
   "source": [
    "### Calcul des prédictions sur le jeu de test amazon"
   ]
  },
  {
   "cell_type": "code",
   "execution_count": 26,
   "id": "fa5e08ab",
   "metadata": {
    "scrolled": true
   },
   "outputs": [
    {
     "data": {
      "text/html": [
       "<div>\n",
       "<style scoped>\n",
       "    .dataframe tbody tr th:only-of-type {\n",
       "        vertical-align: middle;\n",
       "    }\n",
       "\n",
       "    .dataframe tbody tr th {\n",
       "        vertical-align: top;\n",
       "    }\n",
       "\n",
       "    .dataframe thead th {\n",
       "        text-align: right;\n",
       "    }\n",
       "</style>\n",
       "<table border=\"1\" class=\"dataframe\">\n",
       "  <thead>\n",
       "    <tr style=\"text-align: right;\">\n",
       "      <th></th>\n",
       "      <th>pays</th>\n",
       "      <th>note</th>\n",
       "      <th>titre</th>\n",
       "      <th>commentaire</th>\n",
       "    </tr>\n",
       "  </thead>\n",
       "  <tbody>\n",
       "    <tr>\n",
       "      <th>0</th>\n",
       "      <td>FR</td>\n",
       "      <td>1</td>\n",
       "      <td>nage en eaux troubles</td>\n",
       "      <td>ll y a 2 joursnage en eaux troublesSystème de vérification de compte horrible, aucunes indications, quand on fournit les pièces demandées ça ne va pas et on nous redemande les mêmes choses par la suite, service client horrible, attente interminable, me voilà bloqué depuis 3 jours et  cela n'est toujours pas résolu; aucunes informations sur la suite des démarche, ma pire expérience en matière de résolution des soucis liés à un compteDate de l'expérience: 26 novembre 2022</td>\n",
       "    </tr>\n",
       "    <tr>\n",
       "      <th>1</th>\n",
       "      <td>FR</td>\n",
       "      <td>1</td>\n",
       "      <td>Colis qui fait le tour du monde</td>\n",
       "      <td>ll y a 2 joursColis qui fait le tour du mondeJe ne suis pas adepte cette enseigne mais j'avoue que je n'ai trouvé ce produit nulle part ailleurs mon expérience pour le paiement XXL par contre pour le suivi et la livraison nul archi nul aucun suivi de commande disponible je ne sais d'où vient mon produit c'est mon ultime commande et la deuxième seulement auprès de cette enseigneDate de l'expérience: 26 novembre 2022</td>\n",
       "    </tr>\n",
       "  </tbody>\n",
       "</table>\n",
       "</div>"
      ],
      "text/plain": [
       "  pays  note                            titre  \\\n",
       "0   FR     1            nage en eaux troubles   \n",
       "1   FR     1  Colis qui fait le tour du monde   \n",
       "\n",
       "                                                                                                                                                                                                                                                                                                                                                                                                                                                                                  commentaire  \n",
       "0  ll y a 2 joursnage en eaux troublesSystème de vérification de compte horrible, aucunes indications, quand on fournit les pièces demandées ça ne va pas et on nous redemande les mêmes choses par la suite, service client horrible, attente interminable, me voilà bloqué depuis 3 jours et  cela n'est toujours pas résolu; aucunes informations sur la suite des démarche, ma pire expérience en matière de résolution des soucis liés à un compteDate de l'expérience: 26 novembre 2022  \n",
       "1                                                          ll y a 2 joursColis qui fait le tour du mondeJe ne suis pas adepte cette enseigne mais j'avoue que je n'ai trouvé ce produit nulle part ailleurs mon expérience pour le paiement XXL par contre pour le suivi et la livraison nul archi nul aucun suivi de commande disponible je ne sais d'où vient mon produit c'est mon ultime commande et la deuxième seulement auprès de cette enseigneDate de l'expérience: 26 novembre 2022  "
      ]
     },
     "execution_count": 26,
     "metadata": {},
     "output_type": "execute_result"
    }
   ],
   "source": [
    "df_test.head(2)"
   ]
  },
  {
   "cell_type": "code",
   "execution_count": 27,
   "id": "11489f4b",
   "metadata": {},
   "outputs": [],
   "source": [
    "# séparation de la variable cible et des variables explicatives\n",
    "check_set = df_test['commentaire'].values"
   ]
  },
  {
   "cell_type": "code",
   "execution_count": 28,
   "id": "10065e99",
   "metadata": {},
   "outputs": [],
   "source": [
    "# vectorisation des token\n",
    "check_seq = tk.texts_to_sequences(check_set)"
   ]
  },
  {
   "cell_type": "code",
   "execution_count": 29,
   "id": "5197708f",
   "metadata": {},
   "outputs": [],
   "source": [
    "# mise sous matrice numpy\n",
    "check_pad = pad_sequences(check_seq, maxlen=max_words, padding='post')"
   ]
  },
  {
   "cell_type": "code",
   "execution_count": 30,
   "id": "1061496c",
   "metadata": {},
   "outputs": [
    {
     "data": {
      "text/plain": [
       "array([[ 995,  163,   18, ...,    0,    0,    0],\n",
       "       [ 995,  163,   18, ...,    0,    0,    0],\n",
       "       [ 995,  163,   18, ...,    0,    0,    0],\n",
       "       ...,\n",
       "       [  82,   60, 2691, ...,    0,    0,    0],\n",
       "       [ 128,   34, 1324, ...,    0,    0,    0],\n",
       "       [  85,   60,   53, ...,    0,    0,    0]])"
      ]
     },
     "execution_count": 30,
     "metadata": {},
     "output_type": "execute_result"
    }
   ],
   "source": [
    "check_pad"
   ]
  },
  {
   "cell_type": "code",
   "execution_count": 31,
   "id": "bff87635",
   "metadata": {},
   "outputs": [
    {
     "name": "stdout",
     "output_type": "stream",
     "text": [
      "4/4 [==============================] - 0s 5ms/step\n"
     ]
    }
   ],
   "source": [
    "# création des prédictions du jeu de test amazon à partir du modèle\n",
    "check_predict = model_embedding_1.predict(check_pad, verbose=1)"
   ]
  },
  {
   "cell_type": "code",
   "execution_count": 32,
   "id": "3690b8c8",
   "metadata": {},
   "outputs": [
    {
     "name": "stdout",
     "output_type": "stream",
     "text": [
      "[[0.00000000e+00 1.00000000e+00 5.94464566e-09 4.87547644e-21\n",
      "  2.24290021e-30 0.00000000e+00]\n",
      " [3.55407778e-33 8.79610062e-01 1.04075886e-01 1.42298685e-02\n",
      "  1.84380228e-03 2.40440451e-04]\n",
      " [0.00000000e+00 9.92412746e-01 7.57644558e-03 1.07625201e-05\n",
      "  2.42431994e-08 1.60254327e-11]\n",
      " [1.00683160e-16 5.66719651e-01 2.44403645e-01 1.59805059e-01\n",
      "  2.35717259e-02 5.49993198e-03]\n",
      " [0.00000000e+00 9.99423623e-01 5.76459046e-04 2.53696015e-08\n",
      "  1.10878563e-11 4.64805306e-16]\n",
      " [0.00000000e+00 1.00000000e+00 2.82399187e-10 1.52990905e-24\n",
      "  8.29232559e-36 0.00000000e+00]\n",
      " [0.00000000e+00 1.00000000e+00 2.19684204e-09 1.48559674e-23\n",
      "  6.15535260e-37 0.00000000e+00]\n",
      " [0.00000000e+00 1.00000000e+00 4.54634837e-11 4.83541937e-26\n",
      "  6.22116610e-37 0.00000000e+00]\n",
      " [0.00000000e+00 9.99865055e-01 1.34922258e-04 1.15616865e-11\n",
      "  4.29211354e-20 7.52280424e-30]\n",
      " [0.00000000e+00 9.99999642e-01 3.35008025e-07 2.31367182e-16\n",
      "  4.47654330e-23 3.33767721e-32]\n",
      " [0.00000000e+00 9.99981165e-01 1.88419690e-05 1.96821249e-12\n",
      "  1.94847729e-18 3.96186593e-26]\n",
      " [0.00000000e+00 9.99897718e-01 1.02296937e-04 2.38306291e-10\n",
      "  6.50648613e-15 9.25913262e-21]\n",
      " [4.40668058e-11 1.22721102e-02 1.16976677e-02 5.59632108e-02\n",
      "  3.31840783e-01 5.88226140e-01]\n",
      " [0.00000000e+00 1.00000000e+00 2.70026206e-08 5.30451333e-19\n",
      "  1.51120127e-26 8.18943127e-37]\n",
      " [0.00000000e+00 9.99999642e-01 3.51778510e-07 4.58691528e-16\n",
      "  5.29528373e-22 2.83049241e-30]\n",
      " [0.00000000e+00 9.99117434e-01 8.82569759e-04 4.62781706e-08\n",
      "  8.52732728e-12 1.83973333e-16]\n",
      " [0.00000000e+00 9.35980082e-01 6.17043562e-02 2.26281444e-03\n",
      "  5.18204251e-05 9.31932618e-07]\n",
      " [0.00000000e+00 8.70950341e-01 1.28370643e-01 6.79003191e-04\n",
      "  6.69905997e-09 6.42441761e-14]\n",
      " [0.00000000e+00 9.99999642e-01 4.12369587e-07 9.07385434e-17\n",
      "  5.81929575e-25 1.52569194e-35]\n",
      " [0.00000000e+00 1.00000000e+00 1.13036696e-17 0.00000000e+00\n",
      "  0.00000000e+00 0.00000000e+00]\n",
      " [2.00241007e-20 6.86099350e-01 2.03989431e-01 9.09453556e-02\n",
      "  1.51190590e-02 3.84681532e-03]\n",
      " [0.00000000e+00 9.99999881e-01 7.74614364e-08 1.23254130e-18\n",
      "  9.53127515e-28 0.00000000e+00]\n",
      " [0.00000000e+00 9.99999166e-01 8.55123346e-07 4.88294801e-16\n",
      "  4.74298044e-24 2.91021430e-34]\n",
      " [0.00000000e+00 9.99999881e-01 1.46043845e-07 1.82320471e-18\n",
      "  1.38311983e-28 0.00000000e+00]\n",
      " [0.00000000e+00 9.96968210e-01 3.03083053e-03 9.90788180e-07\n",
      "  7.29825589e-10 1.16433962e-13]\n",
      " [0.00000000e+00 9.95981574e-01 4.01705084e-03 1.36706706e-06\n",
      "  4.57044236e-10 3.59538178e-14]\n",
      " [1.26696488e-16 5.24217665e-01 2.69413352e-01 1.84943274e-01\n",
      "  1.84823759e-02 2.94325687e-03]\n",
      " [3.94815074e-31 7.10979700e-01 2.45125458e-01 4.35204692e-02\n",
      "  3.69731511e-04 4.63958804e-06]\n",
      " [0.00000000e+00 9.97941673e-01 2.05817912e-03 8.82060860e-08\n",
      "  1.03858176e-12 1.90085050e-18]\n",
      " [0.00000000e+00 9.99737442e-01 2.62525515e-04 1.25687927e-09\n",
      "  1.71461339e-14 1.71271559e-20]\n",
      " [0.00000000e+00 2.01218173e-01 6.20478094e-01 1.78283617e-01\n",
      "  2.00873037e-05 1.80735371e-10]\n",
      " [0.00000000e+00 4.13906062e-04 5.66070937e-02 9.40757990e-01\n",
      "  2.22092983e-03 2.28616681e-10]\n",
      " [0.00000000e+00 9.99911427e-01 8.85603731e-05 3.31946665e-10\n",
      "  4.38161165e-14 2.59327067e-19]\n",
      " [2.45185013e-28 6.05616748e-01 3.13611001e-01 8.02755952e-02\n",
      "  4.91724699e-04 4.90622688e-06]\n",
      " [0.00000000e+00 9.99811947e-01 1.88124512e-04 1.09809462e-09\n",
      "  5.66554453e-14 1.70054582e-19]\n",
      " [0.00000000e+00 9.99912739e-01 8.72774181e-05 6.04317638e-11\n",
      "  1.16992151e-16 9.85139044e-24]\n",
      " [2.96001392e-27 2.92171121e-01 4.07682091e-01 2.97600716e-01\n",
      "  2.53763399e-03 8.40786106e-06]\n",
      " [0.00000000e+00 9.99103963e-01 8.96017707e-04 4.52996112e-08\n",
      "  7.99750630e-12 1.67590471e-16]\n",
      " [1.23474994e-38 4.82138239e-06 1.18118587e-04 3.81858163e-02\n",
      "  9.54989433e-01 6.70191040e-03]\n",
      " [0.00000000e+00 9.49102700e-01 4.87308428e-02 2.03315285e-03\n",
      "  1.27833424e-04 5.48393700e-06]\n",
      " [5.31018853e-21 3.72974644e-03 1.38394171e-02 2.83918947e-01\n",
      "  6.35712862e-01 6.27990514e-02]\n",
      " [3.33889206e-34 3.24865490e-01 4.73448187e-01 2.01329157e-01\n",
      "  3.56927630e-04 2.25228547e-07]\n",
      " [5.22948505e-18 4.05232131e-01 3.19947660e-01 2.60383219e-01\n",
      "  1.36294896e-02 8.07522854e-04]\n",
      " [3.30096637e-24 5.23170471e-01 3.34270597e-01 1.40509471e-01\n",
      "  2.01143208e-03 3.80683923e-05]\n",
      " [0.00000000e+00 1.60366699e-01 5.02216220e-01 3.36784124e-01\n",
      "  6.32863143e-04 8.55328466e-08]\n",
      " [4.49689665e-15 1.94717929e-01 2.40367249e-01 4.50819612e-01\n",
      "  1.03022747e-01 1.10724811e-02]\n",
      " [0.00000000e+00 2.81850521e-06 1.88925987e-04 1.46011665e-01\n",
      "  8.53333354e-01 4.63235483e-04]\n",
      " [4.74198311e-26 2.89033772e-03 1.75231136e-02 3.95444095e-01\n",
      "  5.67210674e-01 1.69317797e-02]\n",
      " [2.46228398e-29 2.44478020e-08 1.25076610e-07 4.37833223e-05\n",
      "  3.77438575e-01 6.22517467e-01]\n",
      " [7.64823354e-18 2.71944433e-01 3.05962205e-01 3.88606668e-01\n",
      "  3.19756940e-02 1.51099334e-03]\n",
      " [0.00000000e+00 1.89047001e-04 2.13448983e-02 9.49173987e-01\n",
      "  2.92919036e-02 7.43306430e-08]\n",
      " [9.14283216e-21 1.21628058e-04 1.46728373e-04 1.75150018e-03\n",
      "  1.24683678e-01 8.73296440e-01]\n",
      " [0.00000000e+00 9.99999046e-01 9.71669010e-07 4.74470249e-15\n",
      "  7.61506349e-21 7.98712458e-29]\n",
      " [0.00000000e+00 9.82757092e-01 1.71441473e-02 9.80844125e-05\n",
      "  7.55616441e-07 2.59664645e-09]\n",
      " [6.67793216e-08 6.22069836e-02 4.69985642e-02 1.38238624e-01\n",
      "  2.77919650e-01 4.74636197e-01]\n",
      " [3.10260857e-35 2.92353661e-07 6.49694641e-07 3.16939477e-05\n",
      "  5.76022901e-02 9.42364991e-01]\n",
      " [0.00000000e+00 1.75164462e-06 2.64386297e-04 2.53842443e-01\n",
      "  7.45827615e-01 6.38462298e-05]\n",
      " [4.09641139e-18 6.69980586e-01 1.73256651e-01 9.13094878e-02\n",
      "  4.01802808e-02 2.52730120e-02]\n",
      " [2.87318720e-08 1.61942780e-01 1.13137566e-01 2.46763706e-01\n",
      "  2.39094287e-01 2.39061505e-01]\n",
      " [0.00000000e+00 9.99852538e-01 1.47438521e-04 5.64403080e-10\n",
      "  1.85723527e-14 3.30123453e-20]\n",
      " [3.39879001e-38 9.17620659e-01 7.49000460e-02 6.62990613e-03\n",
      "  7.69900449e-04 7.94801163e-05]\n",
      " [1.60303615e-09 9.52283517e-02 3.96047831e-02 5.79646677e-02\n",
      "  1.69028699e-01 6.38173461e-01]\n",
      " [2.81963327e-35 1.28885150e-01 4.16243404e-01 4.51175600e-01\n",
      "  3.69390682e-03 1.97038116e-06]\n",
      " [3.27820142e-20 3.01612949e-04 2.87918723e-04 2.27485574e-03\n",
      "  1.13641933e-01 8.83493662e-01]\n",
      " [0.00000000e+00 5.58865291e-13 9.09645026e-10 1.86304474e-04\n",
      "  9.99801457e-01 1.22316396e-05]\n",
      " [1.67197162e-27 7.44429529e-01 2.04424113e-01 4.90754023e-02\n",
      "  1.95735111e-03 1.13604852e-04]\n",
      " [0.00000000e+00 9.99980330e-01 1.96913406e-05 8.46485035e-12\n",
      "  3.01242053e-16 2.59597968e-22]\n",
      " [0.00000000e+00 1.08115261e-09 5.48011849e-06 1.92881599e-01\n",
      "  8.07112873e-01 8.76019399e-08]\n",
      " [6.39311613e-25 1.61435208e-04 9.22418898e-04 5.44226654e-02\n",
      "  8.64502668e-01 7.99907520e-02]\n",
      " [3.35665834e-19 1.39747382e-04 1.72969478e-04 1.93747575e-03\n",
      "  1.60129055e-01 8.37620795e-01]\n",
      " [1.27377349e-36 2.29399075e-06 2.65645622e-06 4.26241822e-05\n",
      "  3.93641032e-02 9.60588396e-01]\n",
      " [2.01957999e-17 2.48537952e-04 3.05201014e-04 3.07287043e-03\n",
      "  1.77182227e-01 8.19191098e-01]\n",
      " [2.89273126e-31 8.44499588e-01 1.31745324e-01 2.16283854e-02\n",
      "  1.92529894e-03 2.01361021e-04]\n",
      " [0.00000000e+00 8.33200204e-07 9.67363803e-07 1.87024270e-05\n",
      "  3.14440690e-02 9.68535364e-01]\n",
      " [0.00000000e+00 9.26038504e-01 6.94973096e-02 4.20997432e-03\n",
      "  2.43186951e-04 1.10805386e-05]\n",
      " [0.00000000e+00 9.99733388e-01 2.66609015e-04 2.96951774e-09\n",
      "  2.93078143e-13 2.02602630e-18]\n",
      " [0.00000000e+00 9.22157073e-11 1.86940838e-07 1.60223544e-02\n",
      "  9.83975530e-01 1.86270563e-06]\n",
      " [4.89819400e-11 4.53600921e-02 5.66692203e-02 2.82251984e-01\n",
      "  3.92759502e-01 2.22959116e-01]\n",
      " [9.82115621e-22 3.30271796e-05 5.18501438e-05 8.37042462e-04\n",
      "  1.45225659e-01 8.53852510e-01]\n",
      " [1.05380672e-22 2.90276796e-01 3.61336499e-01 3.39296639e-01\n",
      "  8.97824299e-03 1.11770569e-04]\n",
      " [1.57891089e-10 3.81008953e-01 1.54205665e-01 1.69666559e-01\n",
      "  1.32609457e-01 1.62509382e-01]\n",
      " [0.00000000e+00 1.34085631e-09 3.01148817e-09 2.80033930e-07\n",
      "  1.25932805e-02 9.87406552e-01]\n",
      " [1.22993639e-22 2.75942220e-05 4.06354484e-05 8.02045048e-04\n",
      "  1.15326062e-01 8.83803725e-01]\n",
      " [1.51982944e-31 1.44666103e-06 2.45834576e-06 7.88038378e-05\n",
      "  6.01956062e-02 9.39721704e-01]\n",
      " [1.07808336e-35 1.42458707e-01 4.34118122e-01 4.20908213e-01\n",
      "  2.51385872e-03 1.09878124e-06]\n",
      " [0.00000000e+00 1.16128236e-08 2.17486011e-08 1.23403856e-06\n",
      "  1.79231130e-02 9.82075632e-01]\n",
      " [7.95241260e-13 4.20362735e-03 5.78581123e-03 5.40908091e-02\n",
      "  5.07640898e-01 4.28278923e-01]\n",
      " [3.74453290e-19 3.72037648e-05 6.38562124e-05 1.34598615e-03\n",
      "  1.80792212e-01 8.17760766e-01]\n",
      " [5.35553752e-13 2.72259489e-03 3.48858535e-03 2.99456306e-02\n",
      "  4.32078719e-01 5.31764448e-01]\n",
      " [1.59585424e-17 7.95541564e-05 1.58321767e-04 4.73036431e-03\n",
      "  4.69318122e-01 5.25713623e-01]\n",
      " [0.00000000e+00 2.45407149e-02 7.81103671e-01 1.94355324e-01\n",
      "  2.75226398e-07 2.31852320e-16]\n",
      " [1.56181131e-22 4.85526456e-04 3.68848763e-04 1.90723478e-03\n",
      "  9.56629962e-02 9.01575387e-01]\n",
      " [8.46964971e-37 3.22472370e-05 6.14309392e-04 1.23285651e-01\n",
      "  8.70300293e-01 5.76747814e-03]\n",
      " [6.93037849e-11 1.03539759e-02 1.18699130e-02 7.37101287e-02\n",
      "  4.32856977e-01 4.71209019e-01]\n",
      " [5.12287702e-38 1.77961931e-06 1.97213535e-06 3.19655701e-05\n",
      "  3.55183855e-02 9.64445829e-01]\n",
      " [1.26568145e-21 1.05113475e-04 1.19600780e-04 1.35856913e-03\n",
      "  1.08921185e-01 8.89495492e-01]\n",
      " [0.00000000e+00 9.74756122e-01 2.31413823e-02 8.77143233e-04\n",
      "  7.89179816e-04 4.36112314e-04]\n",
      " [0.00000000e+00 9.99997973e-01 2.00597742e-06 4.91605691e-14\n",
      "  6.00292880e-19 5.90254202e-26]\n",
      " [0.00000000e+00 2.77282065e-03 7.03435019e-02 8.99492145e-01\n",
      "  2.73905192e-02 1.08106860e-06]\n",
      " [6.67227242e-17 6.28667772e-01 1.55267432e-01 8.76860172e-02\n",
      "  6.30533174e-02 6.53253719e-02]]\n"
     ]
    }
   ],
   "source": [
    "print(check_predict)"
   ]
  },
  {
   "cell_type": "code",
   "execution_count": 33,
   "id": "918f024f",
   "metadata": {},
   "outputs": [
    {
     "data": {
      "text/plain": [
       "array([1, 1, 1, 1, 1, 1, 1, 1, 1, 1, 1, 1, 5, 1, 1, 1, 1, 1, 1, 1, 1, 1,\n",
       "       1, 1, 1, 1, 1, 1, 1, 1, 2, 3, 1, 1, 1, 1, 2, 1, 4, 1, 4, 2, 1, 1,\n",
       "       2, 3, 4, 4, 5, 3, 3, 5, 1, 1, 5, 5, 4, 1, 3, 1, 1, 5, 3, 5, 4, 1,\n",
       "       1, 4, 4, 5, 5, 5, 1, 5, 1, 1, 4, 4, 5, 2, 1, 5, 5, 5, 2, 5, 4, 5,\n",
       "       5, 5, 2, 5, 4, 5, 5, 5, 1, 1, 3, 1], dtype=int64)"
      ]
     },
     "execution_count": 33,
     "metadata": {},
     "output_type": "execute_result"
    }
   ],
   "source": [
    "check_predict_class = check_predict.argmax(axis=1)\n",
    "check_predict_class"
   ]
  },
  {
   "cell_type": "code",
   "execution_count": 34,
   "id": "819395e0",
   "metadata": {},
   "outputs": [
    {
     "name": "stderr",
     "output_type": "stream",
     "text": [
      "C:\\Users\\t.fourtouill\\Anaconda3\\lib\\site-packages\\seaborn\\_decorators.py:36: FutureWarning: Pass the following variable as a keyword arg: x. From version 0.12, the only valid positional argument will be `data`, and passing other arguments without an explicit keyword will result in an error or misinterpretation.\n",
      "  warnings.warn(\n"
     ]
    },
    {
     "data": {
      "image/png": "[encoded data removed]",
      "text/plain": [
       "<Figure size 432x288 with 1 Axes>"
      ]
     },
     "metadata": {
      "needs_background": "light"
     },
     "output_type": "display_data"
    }
   ],
   "source": [
    "sns.countplot(check_predict_class);"
   ]
  },
  {
   "cell_type": "code",
   "execution_count": 35,
   "id": "438bcba6",
   "metadata": {},
   "outputs": [
    {
     "data": {
      "text/html": [
       "<div>\n",
       "<style scoped>\n",
       "    .dataframe tbody tr th:only-of-type {\n",
       "        vertical-align: middle;\n",
       "    }\n",
       "\n",
       "    .dataframe tbody tr th {\n",
       "        vertical-align: top;\n",
       "    }\n",
       "\n",
       "    .dataframe thead th {\n",
       "        text-align: right;\n",
       "    }\n",
       "</style>\n",
       "<table border=\"1\" class=\"dataframe\">\n",
       "  <thead>\n",
       "    <tr style=\"text-align: right;\">\n",
       "      <th></th>\n",
       "      <th>commentaire</th>\n",
       "      <th>note</th>\n",
       "      <th>prediction</th>\n",
       "    </tr>\n",
       "  </thead>\n",
       "  <tbody>\n",
       "    <tr>\n",
       "      <th>0</th>\n",
       "      <td>ll y a 2 joursnage en eaux troublesSystème de vérification de compte horrible, aucunes indications, quand on fournit les pièces demandées ça ne va pas et on nous redemande les mêmes choses par la suite, service client horrible, attente interminable, me voilà bloqué depuis 3 jours et  cela n'est toujours pas résolu; aucunes informations sur la suite des démarche, ma pire expérience en matière de résolution des soucis liés à un compteDate de l'expérience: 26 novembre 2022</td>\n",
       "      <td>1</td>\n",
       "      <td>1</td>\n",
       "    </tr>\n",
       "    <tr>\n",
       "      <th>1</th>\n",
       "      <td>ll y a 2 joursColis qui fait le tour du mondeJe ne suis pas adepte cette enseigne mais j'avoue que je n'ai trouvé ce produit nulle part ailleurs mon expérience pour le paiement XXL par contre pour le suivi et la livraison nul archi nul aucun suivi de commande disponible je ne sais d'où vient mon produit c'est mon ultime commande et la deuxième seulement auprès de cette enseigneDate de l'expérience: 26 novembre 2022</td>\n",
       "      <td>1</td>\n",
       "      <td>1</td>\n",
       "    </tr>\n",
       "    <tr>\n",
       "      <th>2</th>\n",
       "      <td>ll y a 2 joursPromotion mensongèreHier j’ai voulu commandé un jouet avec la promotion affichée « 3 jouets pour 2 ». Il était bien indiqué que la promotion fonctionnait sur le jouet en question. Arrivé au paiement, pas de déduction pour le 3è jouet, je ne commande donc pas et envoie un mail à Amazon avec print écran à l’appui de la promo sur le jouet. L’interlocutrice n’a rien voulu savoir, la promo a été retirée depuis sur le jouet, honteux !! Non seulement les prix varient sans arrêt et en plus ils ne respectent pas les promotions qu’ils mettent en place. J’ai trouvé mon bonheur chez cdiscount, vendeur bien plus sérieuxDate de l'expérience: 24 novembre 2022</td>\n",
       "      <td>1</td>\n",
       "      <td>1</td>\n",
       "    </tr>\n",
       "    <tr>\n",
       "      <th>3</th>\n",
       "      <td>ll y a 3 joursJ’ai commandé un article cadeau sur…J’ai commandé un article cadeau sur Amazon, le fournisseur n’apparaît plus sur le site d’Amazon, je n’ai aucun retour de la part d’Amazon. Ce n’est que 28€ mais de trop si pas de remboursement. Il me paraît impossible d’entrer en contact avec le service « commercial » après plusieurs tentatives, avez-vous un numéro ou une adresse ? Merci de votre aideDate de l'expérience: 23 novembre 2022</td>\n",
       "      <td>1</td>\n",
       "      <td>1</td>\n",
       "    </tr>\n",
       "    <tr>\n",
       "      <th>4</th>\n",
       "      <td>ll y a 3 joursJ'ai commandé un téléphone portable sur…J'ai commandé un téléphone portable sur le site, reçu mais après lecture de la documentation technique, ce téléphone n'avait pas les fonctions indiquées sur l'annonce, bon l'erreur est humaine, je renvois le matériel avec l'autorisation d'Amazon le 8 novembre, malgré les divers contacts et relances, aucun remboursement ce jour soit le 25 novembre, depuis j'ai acheté un autre téléphone, je me suis fais escroqué de 140 euros, voilà c'est Amazon, ca à bien changé, faites attention.Date de l'expérience: 08 novembre 2022</td>\n",
       "      <td>1</td>\n",
       "      <td>1</td>\n",
       "    </tr>\n",
       "  </tbody>\n",
       "</table>\n",
       "</div>"
      ],
      "text/plain": [
       "                                                                                                                                                                                                                                                                                                                                                                                                                                                                                                                                                                                                                                                                                  commentaire  \\\n",
       "0                                                                                                                                                                                                  ll y a 2 joursnage en eaux troublesSystème de vérification de compte horrible, aucunes indications, quand on fournit les pièces demandées ça ne va pas et on nous redemande les mêmes choses par la suite, service client horrible, attente interminable, me voilà bloqué depuis 3 jours et  cela n'est toujours pas résolu; aucunes informations sur la suite des démarche, ma pire expérience en matière de résolution des soucis liés à un compteDate de l'expérience: 26 novembre 2022   \n",
       "1                                                                                                                                                                                                                                                          ll y a 2 joursColis qui fait le tour du mondeJe ne suis pas adepte cette enseigne mais j'avoue que je n'ai trouvé ce produit nulle part ailleurs mon expérience pour le paiement XXL par contre pour le suivi et la livraison nul archi nul aucun suivi de commande disponible je ne sais d'où vient mon produit c'est mon ultime commande et la deuxième seulement auprès de cette enseigneDate de l'expérience: 26 novembre 2022   \n",
       "2  ll y a 2 joursPromotion mensongèreHier j’ai voulu commandé un jouet avec la promotion affichée « 3 jouets pour 2 ». Il était bien indiqué que la promotion fonctionnait sur le jouet en question. Arrivé au paiement, pas de déduction pour le 3è jouet, je ne commande donc pas et envoie un mail à Amazon avec print écran à l’appui de la promo sur le jouet. L’interlocutrice n’a rien voulu savoir, la promo a été retirée depuis sur le jouet, honteux !! Non seulement les prix varient sans arrêt et en plus ils ne respectent pas les promotions qu’ils mettent en place. J’ai trouvé mon bonheur chez cdiscount, vendeur bien plus sérieuxDate de l'expérience: 24 novembre 2022   \n",
       "3                                                                                                                                                                                                                                   ll y a 3 joursJ’ai commandé un article cadeau sur…J’ai commandé un article cadeau sur Amazon, le fournisseur n’apparaît plus sur le site d’Amazon, je n’ai aucun retour de la part d’Amazon. Ce n’est que 28€ mais de trop si pas de remboursement. Il me paraît impossible d’entrer en contact avec le service « commercial » après plusieurs tentatives, avez-vous un numéro ou une adresse ? Merci de votre aideDate de l'expérience: 23 novembre 2022   \n",
       "4                                                                                             ll y a 3 joursJ'ai commandé un téléphone portable sur…J'ai commandé un téléphone portable sur le site, reçu mais après lecture de la documentation technique, ce téléphone n'avait pas les fonctions indiquées sur l'annonce, bon l'erreur est humaine, je renvois le matériel avec l'autorisation d'Amazon le 8 novembre, malgré les divers contacts et relances, aucun remboursement ce jour soit le 25 novembre, depuis j'ai acheté un autre téléphone, je me suis fais escroqué de 140 euros, voilà c'est Amazon, ca à bien changé, faites attention.Date de l'expérience: 08 novembre 2022   \n",
       "\n",
       "   note  prediction  \n",
       "0     1           1  \n",
       "1     1           1  \n",
       "2     1           1  \n",
       "3     1           1  \n",
       "4     1           1  "
      ]
     },
     "execution_count": 35,
     "metadata": {},
     "output_type": "execute_result"
    }
   ],
   "source": [
    "# comparaison des prédictions et des notes du jeu de test\n",
    "check_df = pd.DataFrame(list(zip(df_test.commentaire, df_test.note, check_predict_class)), columns=['commentaire', 'note', 'prediction'])\n",
    "check_df.head()"
   ]
  },
  {
   "cell_type": "code",
   "execution_count": 36,
   "id": "11ec7bbb",
   "metadata": {},
   "outputs": [
    {
     "name": "stdout",
     "output_type": "stream",
     "text": [
      "              precision    recall  f1-score   support\n",
      "\n",
      "           1       0.68      0.75      0.71      2041\n",
      "           2       0.20      0.05      0.08       556\n",
      "           3       0.35      0.29      0.32      1424\n",
      "           4       0.50      0.23      0.31      4952\n",
      "           5       0.77      0.93      0.85     15027\n",
      "\n",
      "    accuracy                           0.71     24000\n",
      "   macro avg       0.50      0.45      0.45     24000\n",
      "weighted avg       0.67      0.71      0.68     24000\n",
      "\n"
     ]
    },
    {
     "data": {
      "text/html": [
       "<div>\n",
       "<style scoped>\n",
       "    .dataframe tbody tr th:only-of-type {\n",
       "        vertical-align: middle;\n",
       "    }\n",
       "\n",
       "    .dataframe tbody tr th {\n",
       "        vertical-align: top;\n",
       "    }\n",
       "\n",
       "    .dataframe thead th {\n",
       "        text-align: right;\n",
       "    }\n",
       "</style>\n",
       "<table border=\"1\" class=\"dataframe\">\n",
       "  <thead>\n",
       "    <tr style=\"text-align: right;\">\n",
       "      <th>predictions</th>\n",
       "      <th>1</th>\n",
       "      <th>2</th>\n",
       "      <th>3</th>\n",
       "      <th>4</th>\n",
       "      <th>5</th>\n",
       "    </tr>\n",
       "    <tr>\n",
       "      <th>données réelles</th>\n",
       "      <th></th>\n",
       "      <th></th>\n",
       "      <th></th>\n",
       "      <th></th>\n",
       "      <th></th>\n",
       "    </tr>\n",
       "  </thead>\n",
       "  <tbody>\n",
       "    <tr>\n",
       "      <th>1</th>\n",
       "      <td>1526</td>\n",
       "      <td>78</td>\n",
       "      <td>212</td>\n",
       "      <td>44</td>\n",
       "      <td>181</td>\n",
       "    </tr>\n",
       "    <tr>\n",
       "      <th>2</th>\n",
       "      <td>210</td>\n",
       "      <td>27</td>\n",
       "      <td>171</td>\n",
       "      <td>56</td>\n",
       "      <td>92</td>\n",
       "    </tr>\n",
       "    <tr>\n",
       "      <th>3</th>\n",
       "      <td>265</td>\n",
       "      <td>20</td>\n",
       "      <td>420</td>\n",
       "      <td>298</td>\n",
       "      <td>421</td>\n",
       "    </tr>\n",
       "    <tr>\n",
       "      <th>4</th>\n",
       "      <td>127</td>\n",
       "      <td>5</td>\n",
       "      <td>278</td>\n",
       "      <td>1136</td>\n",
       "      <td>3406</td>\n",
       "    </tr>\n",
       "    <tr>\n",
       "      <th>5</th>\n",
       "      <td>113</td>\n",
       "      <td>2</td>\n",
       "      <td>136</td>\n",
       "      <td>727</td>\n",
       "      <td>14049</td>\n",
       "    </tr>\n",
       "  </tbody>\n",
       "</table>\n",
       "</div>"
      ],
      "text/plain": [
       "predictions         1   2    3     4      5\n",
       "données réelles                            \n",
       "1                1526  78  212    44    181\n",
       "2                 210  27  171    56     92\n",
       "3                 265  20  420   298    421\n",
       "4                 127   5  278  1136   3406\n",
       "5                 113   2  136   727  14049"
      ]
     },
     "metadata": {},
     "output_type": "display_data"
    },
    {
     "name": "stdout",
     "output_type": "stream",
     "text": [
      "              precision    recall  f1-score   support\n",
      "\n",
      "           1       0.37      0.95      0.54        20\n",
      "           2       0.29      0.10      0.15        20\n",
      "           3       0.57      0.20      0.30        20\n",
      "           4       0.42      0.25      0.31        20\n",
      "           5       0.48      0.55      0.51        20\n",
      "\n",
      "    accuracy                           0.41       100\n",
      "   macro avg       0.42      0.41      0.36       100\n",
      "weighted avg       0.42      0.41      0.36       100\n",
      "\n"
     ]
    },
    {
     "data": {
      "text/html": [
       "<div>\n",
       "<style scoped>\n",
       "    .dataframe tbody tr th:only-of-type {\n",
       "        vertical-align: middle;\n",
       "    }\n",
       "\n",
       "    .dataframe tbody tr th {\n",
       "        vertical-align: top;\n",
       "    }\n",
       "\n",
       "    .dataframe thead th {\n",
       "        text-align: right;\n",
       "    }\n",
       "</style>\n",
       "<table border=\"1\" class=\"dataframe\">\n",
       "  <thead>\n",
       "    <tr style=\"text-align: right;\">\n",
       "      <th>predictions</th>\n",
       "      <th>1</th>\n",
       "      <th>2</th>\n",
       "      <th>3</th>\n",
       "      <th>4</th>\n",
       "      <th>5</th>\n",
       "    </tr>\n",
       "    <tr>\n",
       "      <th>données réelles</th>\n",
       "      <th></th>\n",
       "      <th></th>\n",
       "      <th></th>\n",
       "      <th></th>\n",
       "      <th></th>\n",
       "    </tr>\n",
       "  </thead>\n",
       "  <tbody>\n",
       "    <tr>\n",
       "      <th>1</th>\n",
       "      <td>19</td>\n",
       "      <td>0</td>\n",
       "      <td>0</td>\n",
       "      <td>0</td>\n",
       "      <td>1</td>\n",
       "    </tr>\n",
       "    <tr>\n",
       "      <th>2</th>\n",
       "      <td>16</td>\n",
       "      <td>2</td>\n",
       "      <td>1</td>\n",
       "      <td>1</td>\n",
       "      <td>0</td>\n",
       "    </tr>\n",
       "    <tr>\n",
       "      <th>3</th>\n",
       "      <td>6</td>\n",
       "      <td>2</td>\n",
       "      <td>4</td>\n",
       "      <td>4</td>\n",
       "      <td>4</td>\n",
       "    </tr>\n",
       "    <tr>\n",
       "      <th>4</th>\n",
       "      <td>6</td>\n",
       "      <td>1</td>\n",
       "      <td>1</td>\n",
       "      <td>5</td>\n",
       "      <td>7</td>\n",
       "    </tr>\n",
       "    <tr>\n",
       "      <th>5</th>\n",
       "      <td>4</td>\n",
       "      <td>2</td>\n",
       "      <td>1</td>\n",
       "      <td>2</td>\n",
       "      <td>11</td>\n",
       "    </tr>\n",
       "  </tbody>\n",
       "</table>\n",
       "</div>"
      ],
      "text/plain": [
       "predictions       1  2  3  4   5\n",
       "données réelles                 \n",
       "1                19  0  0  0   1\n",
       "2                16  2  1  1   0\n",
       "3                 6  2  4  4   4\n",
       "4                 6  1  1  5   7\n",
       "5                 4  2  1  2  11"
      ]
     },
     "metadata": {},
     "output_type": "display_data"
    },
    {
     "data": {
      "text/html": [
       "<div>\n",
       "<style scoped>\n",
       "    .dataframe tbody tr th:only-of-type {\n",
       "        vertical-align: middle;\n",
       "    }\n",
       "\n",
       "    .dataframe tbody tr th {\n",
       "        vertical-align: top;\n",
       "    }\n",
       "\n",
       "    .dataframe thead th {\n",
       "        text-align: right;\n",
       "    }\n",
       "</style>\n",
       "<table border=\"1\" class=\"dataframe\">\n",
       "  <thead>\n",
       "    <tr style=\"text-align: right;\">\n",
       "      <th>predictions</th>\n",
       "      <th>1</th>\n",
       "      <th>2</th>\n",
       "      <th>3</th>\n",
       "      <th>4</th>\n",
       "      <th>5</th>\n",
       "    </tr>\n",
       "    <tr>\n",
       "      <th>données réelles</th>\n",
       "      <th></th>\n",
       "      <th></th>\n",
       "      <th></th>\n",
       "      <th></th>\n",
       "      <th></th>\n",
       "    </tr>\n",
       "  </thead>\n",
       "  <tbody>\n",
       "    <tr>\n",
       "      <th>1</th>\n",
       "      <td>0.95</td>\n",
       "      <td>0.00</td>\n",
       "      <td>0.00</td>\n",
       "      <td>0.00</td>\n",
       "      <td>0.05</td>\n",
       "    </tr>\n",
       "    <tr>\n",
       "      <th>2</th>\n",
       "      <td>0.80</td>\n",
       "      <td>0.10</td>\n",
       "      <td>0.05</td>\n",
       "      <td>0.05</td>\n",
       "      <td>0.00</td>\n",
       "    </tr>\n",
       "    <tr>\n",
       "      <th>3</th>\n",
       "      <td>0.30</td>\n",
       "      <td>0.10</td>\n",
       "      <td>0.20</td>\n",
       "      <td>0.20</td>\n",
       "      <td>0.20</td>\n",
       "    </tr>\n",
       "    <tr>\n",
       "      <th>4</th>\n",
       "      <td>0.30</td>\n",
       "      <td>0.05</td>\n",
       "      <td>0.05</td>\n",
       "      <td>0.25</td>\n",
       "      <td>0.35</td>\n",
       "    </tr>\n",
       "    <tr>\n",
       "      <th>5</th>\n",
       "      <td>0.20</td>\n",
       "      <td>0.10</td>\n",
       "      <td>0.05</td>\n",
       "      <td>0.10</td>\n",
       "      <td>0.55</td>\n",
       "    </tr>\n",
       "  </tbody>\n",
       "</table>\n",
       "</div>"
      ],
      "text/plain": [
       "predictions         1     2     3     4     5\n",
       "données réelles                              \n",
       "1                0.95  0.00  0.00  0.00  0.05\n",
       "2                0.80  0.10  0.05  0.05  0.00\n",
       "3                0.30  0.10  0.20  0.20  0.20\n",
       "4                0.30  0.05  0.05  0.25  0.35\n",
       "5                0.20  0.10  0.05  0.10  0.55"
      ]
     },
     "metadata": {},
     "output_type": "display_data"
    },
    {
     "name": "stdout",
     "output_type": "stream",
     "text": [
      "les prédictions correctes sont supérieures à 50% pour 1 étoile(s) avec 95%\n",
      "les prédictions correctes sont supérieures à 50% pour 5 étoile(s) avec 55%\n"
     ]
    }
   ],
   "source": [
    "from sklearn.metrics import classification_report\n",
    "\n",
    "cr = classification_report(y_test, predict_cdiscount_class)\n",
    "print(cr)\n",
    "\n",
    "cm = pd.crosstab(y_test, predict_cdiscount_class, rownames=['données réelles'], colnames=['predictions'])\n",
    "display(cm)\n",
    "\n",
    "# vérification des résultats sur un jeu de test externe (100 commentaires amazon également répartis entre les étoiles)\n",
    "\n",
    "cm_test = classification_report(df_test.note, check_predict_class)\n",
    "print(cm_test)\n",
    "\n",
    "cm_test2 = pd.crosstab(df_test.note, check_predict_class, rownames=['données réelles'], colnames=['predictions'])\n",
    "display(cm_test2)\n",
    "\n",
    "cm_test3 = pd.crosstab(df_test.note, check_predict_class, rownames=['données réelles'], colnames=['predictions'], normalize=0)\n",
    "display(cm_test3)\n",
    "\n",
    "for i in cm_test3.index:\n",
    "    for j in cm_test3.columns :\n",
    "        if (i==j and cm_test3.loc[i, j] > 0.5) :\n",
    "            print(\"les prédictions correctes sont supérieures à 50% pour {} étoile(s) avec {:0.0%}\".format(i, cm_test3.loc[i, j]))"
   ]
  },
  {
   "cell_type": "code",
   "execution_count": 37,
   "id": "8b6366a5",
   "metadata": {},
   "outputs": [
    {
     "name": "stdout",
     "output_type": "stream",
     "text": [
      "INFO:tensorflow:Assets written to: datasets/SatisfactionClients/model_embedding9\\assets\n"
     ]
    }
   ],
   "source": [
    "import os\n",
    "path = \"/Users/t.fourtouill/Downloads/SatisfactionClients\"\n",
    "os.makedirs(path, exist_ok=True)\n",
    "model_embedding_1.save('datasets/SatisfactionClients/model_embedding9')"
   ]
  }
 ],
 "metadata": {
  "kernelspec": {
   "display_name": "Python 3 (ipykernel)",
   "language": "python",
   "name": "python3"
  },
  "language_info": {
   "codemirror_mode": {
    "name": "ipython",
    "version": 3
   },
   "file_extension": ".py",
   "mimetype": "text/x-python",
   "name": "python",
   "nbconvert_exporter": "python",
   "pygments_lexer": "ipython3",
   "version": "3.9.7"
  }
 },
 "nbformat": 4,
 "nbformat_minor": 5
}
