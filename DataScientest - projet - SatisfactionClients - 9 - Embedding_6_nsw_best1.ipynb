{
 "cells": [
  {
   "cell_type": "code",
   "execution_count": 1,
   "id": "196d79a4",
   "metadata": {},
   "outputs": [],
   "source": [
    "import pandas as pd\n",
    "import numpy as np\n",
    "import matplotlib.pyplot as plt\n",
    "import seaborn as sns\n",
    "from time import time\n",
    "import itertools"
   ]
  },
  {
   "cell_type": "code",
   "execution_count": 2,
   "id": "6b85a034",
   "metadata": {},
   "outputs": [],
   "source": [
    "pd.options.display.max_colwidth=800\n",
    "pd.set_option('display.max_rows', 500)\n",
    "pd.set_option('display.max_columns', 500)"
   ]
  },
  {
   "cell_type": "code",
   "execution_count": 3,
   "id": "119a889d",
   "metadata": {},
   "outputs": [
    {
     "data": {
      "text/html": [
       "<div>\n",
       "<style scoped>\n",
       "    .dataframe tbody tr th:only-of-type {\n",
       "        vertical-align: middle;\n",
       "    }\n",
       "\n",
       "    .dataframe tbody tr th {\n",
       "        vertical-align: top;\n",
       "    }\n",
       "\n",
       "    .dataframe thead th {\n",
       "        text-align: right;\n",
       "    }\n",
       "</style>\n",
       "<table border=\"1\" class=\"dataframe\">\n",
       "  <thead>\n",
       "    <tr style=\"text-align: right;\">\n",
       "      <th></th>\n",
       "      <th>pays</th>\n",
       "      <th>note</th>\n",
       "      <th>titre</th>\n",
       "      <th>commentaire</th>\n",
       "    </tr>\n",
       "  </thead>\n",
       "  <tbody>\n",
       "    <tr>\n",
       "      <th>0</th>\n",
       "      <td>FR</td>\n",
       "      <td>1</td>\n",
       "      <td>Les As du prélèvement illicite</td>\n",
       "      <td>Il y a un jourLes As du prélèvement illicitePratiques à la limite de légal.J' ai pris un paiement en 4x dont il restait deux mois , pendant 1 semaine je ne retrouve pas ma carte , je la bloque temporairement.Le prelevement 3 ne passe pas Cdiscount m' informe qu' il faut régulariser, je retrouve ma carte et........boum deux prelevements simultanés des deux mensualités, celle du et l' autre prévue pour décembre.Cela me servira de leçon mais les vautours c 'est fini pour moi.Date de l'expérience: 14 novembre 2022</td>\n",
       "    </tr>\n",
       "    <tr>\n",
       "      <th>1</th>\n",
       "      <td>FR</td>\n",
       "      <td>1</td>\n",
       "      <td>Commande une télévision avec rendez…</td>\n",
       "      <td>Il y a 13 heuresCommande une télévision avec rendez…Commande une télévision avec rendez vous du livreur. Je prend une journée de congé et le livreur ne vient pas. Je demande le renvoie de la télé chez Cdiscount. Cdiscount me rembourse la télé mes pas les 29 euros de livraison. Donc une journée de congé pour rien et un cadeau de 29 euros a Cdiscount. Plus jamais de commande sur Cdiscount.Date de l'expérience: 02 novembre 2022</td>\n",
       "    </tr>\n",
       "  </tbody>\n",
       "</table>\n",
       "</div>"
      ],
      "text/plain": [
       "  pays  note                                 titre  \\\n",
       "0   FR     1        Les As du prélèvement illicite   \n",
       "1   FR     1  Commande une télévision avec rendez…   \n",
       "\n",
       "                                                                                                                                                                                                                                                                                                                                                                                                                                                                                                                           commentaire  \n",
       "0  Il y a un jourLes As du prélèvement illicitePratiques à la limite de légal.J' ai pris un paiement en 4x dont il restait deux mois , pendant 1 semaine je ne retrouve pas ma carte , je la bloque temporairement.Le prelevement 3 ne passe pas Cdiscount m' informe qu' il faut régulariser, je retrouve ma carte et........boum deux prelevements simultanés des deux mensualités, celle du et l' autre prévue pour décembre.Cela me servira de leçon mais les vautours c 'est fini pour moi.Date de l'expérience: 14 novembre 2022  \n",
       "1                                                                                         Il y a 13 heuresCommande une télévision avec rendez…Commande une télévision avec rendez vous du livreur. Je prend une journée de congé et le livreur ne vient pas. Je demande le renvoie de la télé chez Cdiscount. Cdiscount me rembourse la télé mes pas les 29 euros de livraison. Donc une journée de congé pour rien et un cadeau de 29 euros a Cdiscount. Plus jamais de commande sur Cdiscount.Date de l'expérience: 02 novembre 2022  "
      ]
     },
     "execution_count": 3,
     "metadata": {},
     "output_type": "execute_result"
    }
   ],
   "source": [
    "df = pd.read_csv('datasets/SatisfactionClients/cdiscount.csv', index_col=0)\n",
    "df_test = pd.read_csv('datasets/SatisfactionClients/amazon_test1.csv', index_col=0)\n",
    "df.head(2)"
   ]
  },
  {
   "cell_type": "code",
   "execution_count": 4,
   "id": "ddfd6bfc",
   "metadata": {
    "scrolled": true
   },
   "outputs": [
    {
     "data": {
      "image/png": "[encoded data removed]",
      "text/plain": [
       "<Figure size 432x288 with 1 Axes>"
      ]
     },
     "metadata": {
      "needs_background": "light"
     },
     "output_type": "display_data"
    }
   ],
   "source": [
    "sns.countplot(x='note', data=df);"
   ]
  },
  {
   "cell_type": "code",
   "execution_count": 5,
   "id": "3ded978e",
   "metadata": {},
   "outputs": [
    {
     "data": {
      "image/png": "[encoded data removed]",
      "text/plain": [
       "<Figure size 432x288 with 1 Axes>"
      ]
     },
     "metadata": {
      "needs_background": "light"
     },
     "output_type": "display_data"
    }
   ],
   "source": [
    "sns.countplot(x='note', data=df_test);"
   ]
  },
  {
   "cell_type": "code",
   "execution_count": 6,
   "id": "f13e334a",
   "metadata": {},
   "outputs": [],
   "source": [
    "# séparation de la variable cible et des variables explicatives\n",
    "X = df['commentaire']\n",
    "y = df['note'].values"
   ]
  },
  {
   "cell_type": "code",
   "execution_count": 7,
   "id": "6269af3d",
   "metadata": {},
   "outputs": [],
   "source": [
    "# séparation du jeu de données en un dataset d'entrainement et un dataset de test\n",
    "from sklearn.model_selection import train_test_split\n",
    "X_train, X_test, y_train, y_test = train_test_split(X, y, test_size=0.2, shuffle=True)"
   ]
  },
  {
   "cell_type": "code",
   "execution_count": 8,
   "id": "0673da10",
   "metadata": {},
   "outputs": [
    {
     "name": "stdout",
     "output_type": "stream",
     "text": [
      "(96000,)\n",
      "(24000,)\n",
      "(100, 4)\n"
     ]
    }
   ],
   "source": [
    "print(X_train.shape)\n",
    "print(X_test.shape)\n",
    "print(df_test.shape)"
   ]
  },
  {
   "cell_type": "code",
   "execution_count": 9,
   "id": "d40a7b61",
   "metadata": {},
   "outputs": [],
   "source": [
    "from keras.preprocessing.text import Tokenizer\n",
    "from keras.preprocessing.sequence import pad_sequences"
   ]
  },
  {
   "cell_type": "code",
   "execution_count": 10,
   "id": "7709d894",
   "metadata": {},
   "outputs": [],
   "source": [
    "# tokenisation des commentaires\n",
    "num_words=4000\n",
    "tk = Tokenizer(num_words=num_words, lower=True)"
   ]
  },
  {
   "cell_type": "code",
   "execution_count": 11,
   "id": "014744b9",
   "metadata": {},
   "outputs": [],
   "source": [
    "# entrainement de la tokenisation sur le X_train\n",
    "tk.fit_on_texts(X_train)"
   ]
  },
  {
   "cell_type": "code",
   "execution_count": 12,
   "id": "5faa7d54",
   "metadata": {},
   "outputs": [
    {
     "data": {
      "text/plain": [
       "82268"
      ]
     },
     "execution_count": 12,
     "metadata": {},
     "output_type": "execute_result"
    }
   ],
   "source": [
    "# nb de ligne de la matrice\n",
    "word_index = tk.word_index\n",
    "len(tk.word_index)"
   ]
  },
  {
   "cell_type": "code",
   "execution_count": 13,
   "id": "8a275671",
   "metadata": {},
   "outputs": [
    {
     "data": {
      "text/plain": [
       "4000"
      ]
     },
     "execution_count": 13,
     "metadata": {},
     "output_type": "execute_result"
    }
   ],
   "source": [
    "# nb de colonnes dans la matrice\n",
    "vocabulary_size = tk.num_words\n",
    "vocabulary_size"
   ]
  },
  {
   "cell_type": "code",
   "execution_count": 14,
   "id": "c937c451",
   "metadata": {},
   "outputs": [],
   "source": [
    "# mise sous vecteur des commentaires\n",
    "X_seq_train = tk.texts_to_sequences(X_train)\n",
    "X_seq_test = tk.texts_to_sequences(X_test)"
   ]
  },
  {
   "cell_type": "code",
   "execution_count": 15,
   "id": "204ad175",
   "metadata": {},
   "outputs": [
    {
     "name": "stdout",
     "output_type": "stream",
     "text": [
      "[197, 4, 65, 93, 78, 3147, 47, 91, 78, 3147, 47, 91, 71, 11, 863, 40, 21, 335, 13, 507, 78, 1300, 1, 179, 4, 63, 94, 118, 51, 284, 3885, 225, 16, 529, 225, 847, 4, 63, 225, 183, 1, 158, 266, 2647, 266, 1293, 66, 139, 1705, 47, 94, 5, 174, 167, 118, 35, 872, 17, 3531, 1, 59, 349, 351, 126, 210, 66, 163, 18, 16, 216, 266, 2647, 1, 174, 250, 144, 13, 35, 232, 18, 474, 693, 19, 1200, 97, 109, 53, 144, 46, 591, 28, 13, 139, 2717, 10, 11, 232, 1, 54, 556, 206, 2242, 64, 21, 12, 74, 4, 63, 94, 28, 1690, 498, 3, 411, 1031, 2905, 809, 5, 19, 167, 721, 49, 1, 57, 111, 121, 266, 2647, 1, 174, 250, 87, 1, 11, 1, 11, 250, 1, 171, 1, 2, 65, 88, 44]\n",
      "[85, 34, 607, 27, 30, 121, 644, 121, 564, 1, 2, 85, 33, 44]\n",
      "[83, 60, 431, 605, 1, 2, 83, 58, 44]\n",
      "[95, 25, 3204, 26, 3267, 67, 272, 35, 30, 4, 105, 68, 66, 464, 18, 51, 13, 1, 169, 307, 31, 26, 21, 462, 87, 35, 425, 6, 1, 2, 95, 25, 7]\n",
      "[99, 24, 416, 688, 23, 74, 194, 144, 454, 11, 1117, 499, 1876, 376, 31, 316, 6, 1, 2, 142, 24, 15]\n"
     ]
    }
   ],
   "source": [
    "# affichage de la vectorisation réalisée\n",
    "for x in range(0,5):\n",
    "    print(X_seq_train[x])"
   ]
  },
  {
   "cell_type": "code",
   "execution_count": 16,
   "id": "6ff388a7",
   "metadata": {},
   "outputs": [
    {
     "data": {
      "text/plain": [
       "Text(0.5, 1.0, 'commentaires bruts')"
      ]
     },
     "execution_count": 16,
     "metadata": {},
     "output_type": "execute_result"
    },
    {
     "data": {
      "image/png": "[encoded data removed]",
      "text/plain": [
       "<Figure size 864x288 with 1 Axes>"
      ]
     },
     "metadata": {
      "needs_background": "light"
     },
     "output_type": "display_data"
    }
   ],
   "source": [
    "# affichage du nb de mots par commentaire pour nous aider à choisir le nb de mots dans la matrice \n",
    "df_hist = pd.read_csv('datasets/SatisfactionClients/cdiscount_retraite.csv', index_col=0)\n",
    "df_hist['split'] = df_hist['commentaire'].apply(lambda x: len(x.split(' ')))\n",
    "\n",
    "plt.figure(figsize=(12, 4))\n",
    "plt.hist(df_hist['split'])\n",
    "plt.xlim([0, 600])\n",
    "plt.title('commentaires bruts')"
   ]
  },
  {
   "cell_type": "code",
   "execution_count": 17,
   "id": "aa8ad6cf",
   "metadata": {},
   "outputs": [],
   "source": [
    "# transformation en matrice de même longueur par maxlen défini ci-dessous. Avec des 0 si colonne inférieure à maxlen\n",
    "max_words = 200\n",
    "X_pad_train = pad_sequences(X_seq_train, maxlen=max_words, padding='post')\n",
    "X_pad_test= pad_sequences(X_seq_test, maxlen=max_words, padding='post')"
   ]
  },
  {
   "cell_type": "code",
   "execution_count": 18,
   "id": "e5651d36",
   "metadata": {},
   "outputs": [
    {
     "name": "stdout",
     "output_type": "stream",
     "text": [
      "(96000, 200)\n"
     ]
    },
    {
     "data": {
      "text/plain": [
       "array([[197,   4,  65, ...,   0,   0,   0],\n",
       "       [ 85,  34, 607, ...,   0,   0,   0],\n",
       "       [ 83,  60, 431, ...,   0,   0,   0],\n",
       "       ...,\n",
       "       [103,  22,   9, ...,   0,   0,   0],\n",
       "       [ 79,  42,   9, ...,   0,   0,   0],\n",
       "       [ 72,  42,  45, ...,   0,   0,   0]])"
      ]
     },
     "execution_count": 18,
     "metadata": {},
     "output_type": "execute_result"
    }
   ],
   "source": [
    "# affice de la matrice\n",
    "print(X_pad_train.shape)\n",
    "X_pad_train"
   ]
  },
  {
   "cell_type": "code",
   "execution_count": 19,
   "id": "a509121c",
   "metadata": {},
   "outputs": [
    {
     "name": "stdout",
     "output_type": "stream",
     "text": [
      "Model: \"sequential\"\n",
      "_________________________________________________________________\n",
      "Layer (type)                 Output Shape              Param #   \n",
      "=================================================================\n",
      "embedding (Embedding)        (None, 200, 100)          400000    \n",
      "_________________________________________________________________\n",
      "global_average_pooling1d (Gl (None, 100)               0         \n",
      "_________________________________________________________________\n",
      "dense (Dense)                (None, 256)               25856     \n",
      "_________________________________________________________________\n",
      "dropout (Dropout)            (None, 256)               0         \n",
      "_________________________________________________________________\n",
      "dense_1 (Dense)              (None, 6)                 1542      \n",
      "=================================================================\n",
      "Total params: 427,398\n",
      "Trainable params: 427,398\n",
      "Non-trainable params: 0\n",
      "_________________________________________________________________\n"
     ]
    }
   ],
   "source": [
    "# Création des couches du modèle\n",
    "\n",
    "from tensorflow.keras.models import Sequential\n",
    "from tensorflow.keras.layers import Dense, GlobalAveragePooling1D, Input, Embedding, Dropout\n",
    "\n",
    "embedding_size = 100\n",
    "\n",
    "model_embedding_1 = Sequential()\n",
    "model_embedding_1.add(Embedding(input_dim=vocabulary_size, output_dim=embedding_size, input_length=max_words, embeddings_initializer='uniform'))  # On reprend le nb de mot choisi dans la tokenisation\n",
    "model_embedding_1.add(GlobalAveragePooling1D())\n",
    "model_embedding_1.add(Dense(units=256, activation='relu'))\n",
    "model_embedding_1.add(Dropout(rate=0.3))\n",
    "model_embedding_1.add(Dense(units=6, activation='softmax')) # En sortie le nb de units devra correspondre aux nb de variables cibles\n",
    "\n",
    "model_embedding_1.summary()"
   ]
  },
  {
   "cell_type": "code",
   "execution_count": 20,
   "id": "a4c383d2",
   "metadata": {},
   "outputs": [],
   "source": [
    "# timer pour mesurer le temps écoulé entre les epochs de début et de fin de callback\n",
    "from tensorflow.keras.callbacks import Callback\n",
    "from timeit import default_timer as timer\n",
    "\n",
    "class TimingCallback(Callback):\n",
    "    def __init__(self, logs={}):\n",
    "        self.logs=[]\n",
    "    def on_epoch_begin(self, epoch, logs={}):\n",
    "        self.starttime = timer()\n",
    "    def on_epoch_end(self, epoch, logs={}):\n",
    "        self.logs.append(timer()-self.starttime)\n",
    "\n",
    "# instanciation la fonction TimingCallback()\n",
    "time_callback = TimingCallback()"
   ]
  },
  {
   "cell_type": "code",
   "execution_count": 21,
   "id": "6a824e05",
   "metadata": {},
   "outputs": [],
   "source": [
    "# Création des callback\n",
    "from tensorflow.keras.callbacks import EarlyStopping\n",
    "\n",
    "early_stop = EarlyStopping(monitor='val_loss',\n",
    "                          min_delta=0.01,\n",
    "                          patience=2,\n",
    "                          mode='min',\n",
    "                          restore_best_weights=True,\n",
    "                          verbose=1)"
   ]
  },
  {
   "cell_type": "code",
   "execution_count": 22,
   "id": "bbfcec82",
   "metadata": {},
   "outputs": [],
   "source": [
    "model_embedding_1.compile(loss='sparse_categorical_crossentropy', optimizer='adam', metrics=['accuracy'])"
   ]
  },
  {
   "cell_type": "code",
   "execution_count": 23,
   "id": "6a48774e",
   "metadata": {},
   "outputs": [
    {
     "name": "stdout",
     "output_type": "stream",
     "text": [
      "Epoch 1/10\n",
      "2700/2700 [==============================] - 23s 8ms/step - loss: 0.8156 - accuracy: 0.6887 - val_loss: 0.7575 - val_accuracy: 0.6981\n",
      "Epoch 2/10\n",
      "2700/2700 [==============================] - 23s 9ms/step - loss: 0.7099 - accuracy: 0.7175 - val_loss: 0.7172 - val_accuracy: 0.7105\n",
      "Epoch 3/10\n",
      "2700/2700 [==============================] - 23s 9ms/step - loss: 0.6807 - accuracy: 0.7263 - val_loss: 0.7012 - val_accuracy: 0.7167\n",
      "Epoch 4/10\n",
      "2700/2700 [==============================] - 24s 9ms/step - loss: 0.6657 - accuracy: 0.7325 - val_loss: 0.7208 - val_accuracy: 0.7041\n",
      "Epoch 5/10\n",
      "2700/2700 [==============================] - 23s 9ms/step - loss: 0.6554 - accuracy: 0.7354 - val_loss: 0.7138 - val_accuracy: 0.7177\n",
      "Restoring model weights from the end of the best epoch.\n",
      "Epoch 00005: early stopping\n"
     ]
    }
   ],
   "source": [
    "batch_size = 32\n",
    "epochs = 10\n",
    "history = model_embedding_1.fit(X_pad_train, y_train, batch_size=batch_size, epochs=epochs, validation_split=0.1,\n",
    "                               callbacks=[early_stop, time_callback])"
   ]
  },
  {
   "cell_type": "code",
   "execution_count": 24,
   "id": "9ae167f8",
   "metadata": {},
   "outputs": [
    {
     "name": "stdout",
     "output_type": "stream",
     "text": [
      "750/750 [==============================] - 2s 3ms/step - loss: 0.6947 - accuracy: 0.7236\n"
     ]
    },
    {
     "data": {
      "text/plain": [
       "[0.694678783416748, 0.7235833406448364]"
      ]
     },
     "execution_count": 24,
     "metadata": {},
     "output_type": "execute_result"
    }
   ],
   "source": [
    "model_embedding_1.evaluate(X_pad_test, y_test, verbose=1)"
   ]
  },
  {
   "cell_type": "markdown",
   "id": "6aa031ba",
   "metadata": {},
   "source": [
    "### Calcul des prédictions sur le le de test cdiscount"
   ]
  },
  {
   "cell_type": "code",
   "execution_count": 25,
   "id": "047e9d1c",
   "metadata": {},
   "outputs": [
    {
     "name": "stdout",
     "output_type": "stream",
     "text": [
      "750/750 [==============================] - 2s 2ms/step\n"
     ]
    }
   ],
   "source": [
    "# création des prédictions du eu de test cdiscount à partir du modèle\n",
    "predict_cdiscount = model_embedding_1.predict(X_pad_test, verbose=1)"
   ]
  },
  {
   "cell_type": "code",
   "execution_count": 26,
   "id": "839cd186",
   "metadata": {},
   "outputs": [
    {
     "data": {
      "text/plain": [
       "array([5, 5, 5, ..., 5, 5, 5], dtype=int64)"
      ]
     },
     "execution_count": 26,
     "metadata": {},
     "output_type": "execute_result"
    }
   ],
   "source": [
    "predict_cdiscount_class = predict_cdiscount.argmax(axis=1)\n",
    "predict_cdiscount_class"
   ]
  },
  {
   "cell_type": "code",
   "execution_count": 27,
   "id": "c60286b3",
   "metadata": {},
   "outputs": [
    {
     "name": "stderr",
     "output_type": "stream",
     "text": [
      "C:\\Users\\t.fourtouill\\Anaconda3\\lib\\site-packages\\seaborn\\_decorators.py:36: FutureWarning: Pass the following variable as a keyword arg: x. From version 0.12, the only valid positional argument will be `data`, and passing other arguments without an explicit keyword will result in an error or misinterpretation.\n",
      "  warnings.warn(\n"
     ]
    },
    {
     "data": {
      "image/png": "[encoded data removed]",
      "text/plain": [
       "<Figure size 432x288 with 1 Axes>"
      ]
     },
     "metadata": {
      "needs_background": "light"
     },
     "output_type": "display_data"
    }
   ],
   "source": [
    "sns.countplot(predict_cdiscount_class)\n",
    "plt.show();"
   ]
  },
  {
   "cell_type": "markdown",
   "id": "33371e69",
   "metadata": {},
   "source": [
    "### Calcul des prédictions sur le jeu de test amazon"
   ]
  },
  {
   "cell_type": "code",
   "execution_count": 28,
   "id": "fa5e08ab",
   "metadata": {
    "scrolled": true
   },
   "outputs": [
    {
     "data": {
      "text/html": [
       "<div>\n",
       "<style scoped>\n",
       "    .dataframe tbody tr th:only-of-type {\n",
       "        vertical-align: middle;\n",
       "    }\n",
       "\n",
       "    .dataframe tbody tr th {\n",
       "        vertical-align: top;\n",
       "    }\n",
       "\n",
       "    .dataframe thead th {\n",
       "        text-align: right;\n",
       "    }\n",
       "</style>\n",
       "<table border=\"1\" class=\"dataframe\">\n",
       "  <thead>\n",
       "    <tr style=\"text-align: right;\">\n",
       "      <th></th>\n",
       "      <th>pays</th>\n",
       "      <th>note</th>\n",
       "      <th>titre</th>\n",
       "      <th>commentaire</th>\n",
       "    </tr>\n",
       "  </thead>\n",
       "  <tbody>\n",
       "    <tr>\n",
       "      <th>0</th>\n",
       "      <td>FR</td>\n",
       "      <td>1</td>\n",
       "      <td>nage en eaux troubles</td>\n",
       "      <td>ll y a 2 joursnage en eaux troublesSystème de vérification de compte horrible, aucunes indications, quand on fournit les pièces demandées ça ne va pas et on nous redemande les mêmes choses par la suite, service client horrible, attente interminable, me voilà bloqué depuis 3 jours et  cela n'est toujours pas résolu; aucunes informations sur la suite des démarche, ma pire expérience en matière de résolution des soucis liés à un compteDate de l'expérience: 26 novembre 2022</td>\n",
       "    </tr>\n",
       "    <tr>\n",
       "      <th>1</th>\n",
       "      <td>FR</td>\n",
       "      <td>1</td>\n",
       "      <td>Colis qui fait le tour du monde</td>\n",
       "      <td>ll y a 2 joursColis qui fait le tour du mondeJe ne suis pas adepte cette enseigne mais j'avoue que je n'ai trouvé ce produit nulle part ailleurs mon expérience pour le paiement XXL par contre pour le suivi et la livraison nul archi nul aucun suivi de commande disponible je ne sais d'où vient mon produit c'est mon ultime commande et la deuxième seulement auprès de cette enseigneDate de l'expérience: 26 novembre 2022</td>\n",
       "    </tr>\n",
       "  </tbody>\n",
       "</table>\n",
       "</div>"
      ],
      "text/plain": [
       "  pays  note                            titre  \\\n",
       "0   FR     1            nage en eaux troubles   \n",
       "1   FR     1  Colis qui fait le tour du monde   \n",
       "\n",
       "                                                                                                                                                                                                                                                                                                                                                                                                                                                                                  commentaire  \n",
       "0  ll y a 2 joursnage en eaux troublesSystème de vérification de compte horrible, aucunes indications, quand on fournit les pièces demandées ça ne va pas et on nous redemande les mêmes choses par la suite, service client horrible, attente interminable, me voilà bloqué depuis 3 jours et  cela n'est toujours pas résolu; aucunes informations sur la suite des démarche, ma pire expérience en matière de résolution des soucis liés à un compteDate de l'expérience: 26 novembre 2022  \n",
       "1                                                          ll y a 2 joursColis qui fait le tour du mondeJe ne suis pas adepte cette enseigne mais j'avoue que je n'ai trouvé ce produit nulle part ailleurs mon expérience pour le paiement XXL par contre pour le suivi et la livraison nul archi nul aucun suivi de commande disponible je ne sais d'où vient mon produit c'est mon ultime commande et la deuxième seulement auprès de cette enseigneDate de l'expérience: 26 novembre 2022  "
      ]
     },
     "execution_count": 28,
     "metadata": {},
     "output_type": "execute_result"
    }
   ],
   "source": [
    "df_test.head(2)"
   ]
  },
  {
   "cell_type": "code",
   "execution_count": 29,
   "id": "11489f4b",
   "metadata": {},
   "outputs": [],
   "source": [
    "# séparation de la variable cible et des variables explicatives\n",
    "check_set = df_test['commentaire'].values"
   ]
  },
  {
   "cell_type": "code",
   "execution_count": 30,
   "id": "10065e99",
   "metadata": {},
   "outputs": [],
   "source": [
    "# vectorisation des token\n",
    "check_seq = tk.texts_to_sequences(check_set)"
   ]
  },
  {
   "cell_type": "code",
   "execution_count": 31,
   "id": "5197708f",
   "metadata": {},
   "outputs": [],
   "source": [
    "# mise sous matrice numpy\n",
    "check_pad = pad_sequences(check_seq, maxlen=max_words, padding='post')"
   ]
  },
  {
   "cell_type": "code",
   "execution_count": 32,
   "id": "1061496c",
   "metadata": {},
   "outputs": [
    {
     "data": {
      "text/plain": [
       "array([[ 997,  163,   18, ...,    0,    0,    0],\n",
       "       [ 997,  163,   18, ...,    0,    0,    0],\n",
       "       [ 997,  163,   18, ...,    0,    0,    0],\n",
       "       ...,\n",
       "       [  83,   60, 2516, ...,    0,    0,    0],\n",
       "       [ 129,   34, 1431, ...,    0,    0,    0],\n",
       "       [  84,   60,   53, ...,    0,    0,    0]])"
      ]
     },
     "execution_count": 32,
     "metadata": {},
     "output_type": "execute_result"
    }
   ],
   "source": [
    "check_pad"
   ]
  },
  {
   "cell_type": "code",
   "execution_count": 33,
   "id": "bff87635",
   "metadata": {},
   "outputs": [
    {
     "name": "stdout",
     "output_type": "stream",
     "text": [
      "4/4 [==============================] - 0s 3ms/step\n"
     ]
    }
   ],
   "source": [
    "# création des prédictions du jeu de test amazon à partir du modèle\n",
    "check_predict = model_embedding_1.predict(check_pad, verbose=1)"
   ]
  },
  {
   "cell_type": "code",
   "execution_count": 34,
   "id": "3690b8c8",
   "metadata": {},
   "outputs": [
    {
     "name": "stdout",
     "output_type": "stream",
     "text": [
      "[[5.93000704e-10 8.66153836e-01 8.11001733e-02 4.75140288e-02\n",
      "  4.38921526e-03 8.42753390e-04]\n",
      " [2.25173899e-05 5.61640620e-01 1.73912764e-01 1.48879528e-01\n",
      "  5.92051558e-02 5.63393198e-02]\n",
      " [5.01775066e-10 9.20568049e-01 5.13962694e-02 2.16634311e-02\n",
      "  3.23385606e-03 3.13845254e-03]\n",
      " [4.55211868e-08 7.48284638e-01 1.37921974e-01 9.42650810e-02\n",
      "  1.51443919e-02 4.38386993e-03]\n",
      " [4.95088557e-08 8.37462842e-01 9.04252604e-02 5.37449531e-02\n",
      "  1.09227672e-02 7.44406041e-03]\n",
      " [3.32487749e-18 9.92894948e-01 6.10475428e-03 9.74702358e-04\n",
      "  1.97364225e-05 5.87571276e-06]\n",
      " [3.51253319e-15 9.74186718e-01 1.92129351e-02 6.42776815e-03\n",
      "  1.59040312e-04 1.35467671e-05]\n",
      " [1.98313696e-12 9.36973453e-01 4.54505719e-02 1.64140537e-02\n",
      "  9.48591100e-04 2.13337029e-04]\n",
      " [8.88037150e-17 9.84409034e-01 1.26694422e-02 2.85409833e-03\n",
      "  6.01769716e-05 7.24474785e-06]\n",
      " [2.15504541e-11 9.56456006e-01 2.89822277e-02 1.29289748e-02\n",
      "  1.11528847e-03 5.17415232e-04]\n",
      " [3.79997683e-13 9.31278467e-01 4.62944694e-02 2.15047933e-02\n",
      "  8.59174703e-04 6.31548246e-05]\n",
      " [1.12174922e-10 9.46881652e-01 3.45668457e-02 1.53124863e-02\n",
      "  1.81161752e-03 1.42752915e-03]\n",
      " [9.89868538e-04 9.31264982e-02 1.31654128e-01 2.07379550e-01\n",
      "  2.44937509e-01 3.21912497e-01]\n",
      " [1.34098726e-18 9.98768866e-01 1.04089186e-03 1.64260855e-04\n",
      "  6.69324845e-06 1.92990610e-05]\n",
      " [1.03374669e-08 9.15003955e-01 3.97520214e-02 2.07413528e-02\n",
      "  6.07207324e-03 1.84306409e-02]\n",
      " [1.06738084e-10 9.16604459e-01 5.12321852e-02 2.95948572e-02\n",
      "  2.17447663e-03 3.94049974e-04]\n",
      " [3.82182641e-08 6.75995231e-01 1.68607384e-01 1.29600644e-01\n",
      "  2.11989637e-02 4.59774677e-03]\n",
      " [2.00500150e-09 7.04797566e-01 1.86213359e-01 9.12430137e-02\n",
      "  1.41837094e-02 3.56233399e-03]\n",
      " [2.60878513e-10 9.44422483e-01 3.50507013e-02 1.63258072e-02\n",
      "  2.15863483e-03 2.04228330e-03]\n",
      " [9.82064504e-16 9.79621291e-01 1.69047359e-02 3.30948993e-03\n",
      "  1.24769373e-04 3.96400719e-05]\n",
      " [1.27808189e-05 6.25364423e-01 1.47534475e-01 1.24632902e-01\n",
      "  4.76032421e-02 5.48520833e-02]\n",
      " [7.10906594e-13 9.67861891e-01 2.41402332e-02 7.06572924e-03\n",
      "  5.30650315e-04 4.01473750e-04]\n",
      " [4.08462919e-15 9.79171097e-01 1.63024366e-02 4.34870552e-03\n",
      "  1.46669612e-04 3.09844218e-05]\n",
      " [1.42736169e-17 9.58085239e-01 3.55955027e-02 6.18602801e-03\n",
      "  1.24998624e-04 8.33403919e-06]\n",
      " [3.93237497e-05 4.05665278e-01 9.37491506e-02 8.34725648e-02\n",
      "  7.56435767e-02 3.41430098e-01]\n",
      " [5.06582687e-09 7.48857975e-01 1.38692111e-01 9.79762077e-02\n",
      "  1.23204272e-02 2.15333817e-03]\n",
      " [6.60282637e-08 6.77196264e-01 1.76600128e-01 1.18002228e-01\n",
      "  2.16992889e-02 6.50205696e-03]\n",
      " [2.31758731e-12 6.03628457e-01 2.19156519e-01 1.64419934e-01\n",
      "  1.22809643e-02 5.14149258e-04]\n",
      " [4.77216877e-12 4.83748198e-01 2.17342421e-01 2.74161249e-01\n",
      "  2.41477266e-02 6.00465806e-04]\n",
      " [2.10786720e-06 7.39161670e-01 9.99972895e-02 7.68048167e-02\n",
      "  2.94176508e-02 5.46164960e-02]\n",
      " [5.79202268e-12 4.09276187e-01 2.69314706e-01 2.86815643e-01\n",
      "  3.34437303e-02 1.14977662e-03]\n",
      " [4.07152511e-05 3.56821179e-01 2.13682309e-01 2.62603313e-01\n",
      "  1.08618960e-01 5.82335368e-02]\n",
      " [2.17193431e-07 8.14185441e-01 8.91827792e-02 7.34276697e-02\n",
      "  1.47634922e-02 8.44044797e-03]\n",
      " [1.07488568e-05 4.39792484e-01 2.05861375e-01 2.36213103e-01\n",
      "  8.34210962e-02 3.47011946e-02]\n",
      " [4.38924144e-05 4.10364538e-01 2.09060684e-01 2.22113788e-01\n",
      "  9.80769992e-02 6.03399947e-02]\n",
      " [3.66293307e-09 9.17948663e-01 4.74894382e-02 2.59265602e-02\n",
      "  4.28872183e-03 4.34660260e-03]\n",
      " [1.26134470e-09 5.23482502e-01 2.80027032e-01 1.64411724e-01\n",
      "  2.75056511e-02 4.57303738e-03]\n",
      " [4.90576781e-11 9.34547842e-01 4.23255377e-02 2.10824795e-02\n",
      "  1.61780335e-03 4.26340324e-04]\n",
      " [4.43780164e-06 1.78721294e-01 2.32632339e-01 3.56118947e-01\n",
      "  1.83433428e-01 4.90896180e-02]\n",
      " [1.03510924e-08 7.67571926e-01 1.33806109e-01 8.40750337e-02\n",
      "  1.15932506e-02 2.95357197e-03]\n",
      " [3.47575178e-06 1.02901265e-01 1.52749971e-01 3.99805874e-01\n",
      "  2.80002952e-01 6.45364299e-02]\n",
      " [2.46410673e-06 3.43390197e-01 2.42367730e-01 2.89123237e-01\n",
      "  9.92162302e-02 2.59000957e-02]\n",
      " [2.66224117e-04 6.48870915e-02 1.06505848e-01 2.54080147e-01\n",
      "  3.18132132e-01 2.56128520e-01]\n",
      " [4.66730995e-07 4.14071411e-01 2.26587415e-01 2.69289851e-01\n",
      "  7.53802806e-02 1.46706095e-02]\n",
      " [1.73827414e-06 6.03393435e-01 1.62907675e-01 1.73781767e-01\n",
      "  4.43432443e-02 1.55721651e-02]\n",
      " [1.31077854e-07 8.32020398e-03 7.98659325e-02 2.86443800e-01\n",
      "  5.09915650e-01 1.15454257e-01]\n",
      " [2.88572693e-07 6.38652034e-03 4.52733487e-02 2.46844441e-01\n",
      "  5.58915317e-01 1.42580077e-01]\n",
      " [1.94464565e-06 6.64786994e-03 3.31530347e-02 1.79292411e-01\n",
      "  5.21287262e-01 2.59617448e-01]\n",
      " [3.12759548e-05 2.30400771e-01 1.18644513e-01 6.69873729e-02\n",
      "  7.97769427e-02 5.04159093e-01]\n",
      " [2.61326500e-06 6.94254935e-01 1.41205147e-01 1.02961801e-01\n",
      "  3.25853266e-02 2.89902147e-02]\n",
      " [4.92429422e-07 1.22682996e-01 2.12938711e-01 4.20553863e-01\n",
      "  2.10737810e-01 3.30861881e-02]\n",
      " [1.93836740e-07 7.33745098e-01 1.47240177e-01 8.95814002e-02\n",
      "  1.95825975e-02 9.85057652e-03]\n",
      " [9.57050328e-10 9.39591408e-01 3.59476916e-02 1.68695059e-02\n",
      "  3.03440052e-03 4.55692410e-03]\n",
      " [1.61441176e-06 6.83577240e-01 1.54783487e-01 1.15259014e-01\n",
      "  2.96892896e-02 1.66893005e-02]\n",
      " [3.72419947e-07 5.10563217e-02 1.48444816e-01 4.11170512e-01\n",
      "  3.34967107e-01 5.43608591e-02]\n",
      " [2.41886210e-05 3.70916426e-02 1.42105982e-01 2.72200406e-01\n",
      "  3.55773926e-01 1.92803830e-01]\n",
      " [3.94568245e-09 8.42353981e-03 9.47843492e-02 3.54685068e-01\n",
      "  4.88870770e-01 5.32362014e-02]\n",
      " [1.85564772e-08 7.87300050e-01 1.18725494e-01 7.97031522e-02\n",
      "  1.13412188e-02 2.93003372e-03]\n",
      " [2.61693767e-05 2.25295171e-01 2.22578958e-01 3.22860688e-01\n",
      "  1.64432064e-01 6.48069456e-02]\n",
      " [1.51697016e-10 9.41627264e-01 3.66556048e-02 1.90956034e-02\n",
      "  1.83457602e-03 7.86880555e-04]\n",
      " [6.31539194e-07 7.63517916e-01 1.15378223e-01 8.64574686e-02\n",
      "  2.06098668e-02 1.40358852e-02]\n",
      " [5.16331238e-05 4.44369942e-01 1.14746951e-01 1.13654673e-01\n",
      "  8.10702518e-02 2.46106446e-01]\n",
      " [2.15138198e-06 3.87110338e-02 1.21084191e-01 3.69615257e-01\n",
      "  3.80217344e-01 9.03700590e-02]\n",
      " [4.86383760e-06 1.63615011e-02 6.65004039e-03 1.57048907e-02\n",
      "  1.02659598e-01 8.58619153e-01]\n",
      " [1.20228033e-04 5.41604981e-02 4.85573076e-02 1.22110367e-01\n",
      "  2.62882769e-01 5.12168825e-01]\n",
      " [4.59500779e-06 6.69562280e-01 1.48326904e-01 1.05380543e-01\n",
      "  3.66085283e-02 4.01170366e-02]\n",
      " [1.21730052e-04 3.54016751e-01 1.87986389e-01 2.33122930e-01\n",
      "  1.21111684e-01 1.03640556e-01]\n",
      " [4.29121287e-11 6.01938926e-03 8.92096832e-02 4.21056390e-01\n",
      "  4.62897897e-01 2.08166912e-02]\n",
      " [5.74466458e-06 4.43369634e-02 1.42189056e-01 3.45153779e-01\n",
      "  3.56805116e-01 1.11509360e-01]\n",
      " [1.80941470e-06 3.46848834e-03 4.83545242e-03 2.86985692e-02\n",
      "  2.80049205e-01 6.82946503e-01]\n",
      " [3.72479990e-05 3.68658789e-02 1.96007714e-02 4.51857448e-02\n",
      "  1.63872033e-01 7.34438300e-01]\n",
      " [2.15704145e-04 1.84048668e-01 2.09966242e-01 2.73526490e-01\n",
      "  1.96672112e-01 1.35570779e-01]\n",
      " [3.12424663e-06 6.04352057e-01 1.86599657e-01 1.45877823e-01\n",
      "  4.17923555e-02 2.13750359e-02]\n",
      " [1.67785956e-07 5.66630997e-03 1.59957819e-03 4.21012938e-03\n",
      "  5.82386181e-02 9.30285156e-01]\n",
      " [3.59628098e-06 4.02878731e-01 2.51510024e-01 2.29897961e-01\n",
      "  8.41250196e-02 3.15846242e-02]\n",
      " [2.76332526e-06 7.15570867e-01 1.23452216e-01 9.22071487e-02\n",
      "  3.09659466e-02 3.78009528e-02]\n",
      " [1.22121042e-08 6.59712241e-04 4.40078788e-03 6.80307895e-02\n",
      "  6.40100241e-01 2.86808491e-01]\n",
      " [1.82590484e-05 1.48067847e-02 4.79126312e-02 1.76115423e-01\n",
      "  4.15323853e-01 3.45823020e-01]\n",
      " [8.36715870e-08 2.05734069e-03 1.69770289e-02 1.36607274e-01\n",
      "  5.82278430e-01 2.62079805e-01]\n",
      " [6.49059439e-05 4.91459072e-01 1.75205216e-01 1.73324063e-01\n",
      "  7.89877698e-02 8.09590071e-02]\n",
      " [4.31944471e-04 2.35711768e-01 1.82059571e-01 2.41658181e-01\n",
      "  1.66421086e-01 1.73717439e-01]\n",
      " [2.96138786e-12 1.83262296e-06 1.34924539e-06 2.99011772e-05\n",
      "  2.43856665e-02 9.75581288e-01]\n",
      " [1.77743402e-08 1.19649514e-03 3.73508985e-04 1.37254607e-03\n",
      "  4.34070416e-02 9.53650355e-01]\n",
      " [7.21541715e-09 1.70866406e-04 1.31924433e-04 1.18650496e-03\n",
      "  8.02920908e-02 9.18218553e-01]\n",
      " [1.98912494e-06 1.59971461e-01 3.21684688e-01 2.89496303e-01\n",
      "  1.60824344e-01 6.80212155e-02]\n",
      " [1.60857827e-09 1.97306537e-04 7.94606749e-05 4.88480669e-04\n",
      "  3.64189595e-02 9.62815821e-01]\n",
      " [2.74366666e-05 1.62630416e-02 3.05239316e-02 1.32885590e-01\n",
      "  4.00956482e-01 4.19343501e-01]\n",
      " [9.11849781e-07 1.99313299e-03 2.32612994e-03 1.26021178e-02\n",
      "  1.83911562e-01 7.99166203e-01]\n",
      " [5.61428533e-05 4.34301607e-02 2.44792346e-02 5.59133515e-02\n",
      "  1.76835939e-01 6.99285150e-01]\n",
      " [2.37450610e-08 2.86082766e-04 3.52197705e-04 3.55563918e-03\n",
      "  1.55606866e-01 8.40199172e-01]\n",
      " [2.03490094e-06 4.71647650e-01 1.94569871e-01 2.47108310e-01\n",
      "  6.87187761e-02 1.79533288e-02]\n",
      " [6.77059797e-05 4.16440040e-01 1.14525333e-01 1.00897945e-01\n",
      "  7.89872631e-02 2.89081782e-01]\n",
      " [7.20456010e-04 8.06221813e-02 1.32425413e-01 2.14802638e-01\n",
      "  2.63107121e-01 3.08322191e-01]\n",
      " [3.72354384e-06 5.61584299e-03 8.75757635e-03 5.15919290e-02\n",
      "  3.58053923e-01 5.75977027e-01]\n",
      " [9.97185623e-08 1.84913389e-02 2.86996597e-03 4.23920155e-03\n",
      "  3.71694081e-02 9.37230051e-01]\n",
      " [8.97000859e-07 2.27767974e-03 2.22722185e-03 1.26981493e-02\n",
      "  1.87351882e-01 7.95444191e-01]\n",
      " [2.41668240e-05 6.61972314e-02 2.60464251e-02 5.15456423e-02\n",
      "  1.48372397e-01 7.07814097e-01]\n",
      " [4.51539336e-06 3.14431876e-01 4.92667481e-02 5.03831059e-02\n",
      "  7.37065151e-02 5.12207270e-01]\n",
      " [6.41203602e-04 9.96786430e-02 1.79423451e-01 1.99216828e-01\n",
      "  2.23535717e-01 2.97504097e-01]\n",
      " [1.47868221e-07 8.44146430e-01 6.17670491e-02 3.40179652e-02\n",
      "  1.28912218e-02 4.71771955e-02]]\n"
     ]
    }
   ],
   "source": [
    "print(check_predict)"
   ]
  },
  {
   "cell_type": "code",
   "execution_count": 35,
   "id": "918f024f",
   "metadata": {},
   "outputs": [
    {
     "data": {
      "text/plain": [
       "array([1, 1, 1, 1, 1, 1, 1, 1, 1, 1, 1, 1, 5, 1, 1, 1, 1, 1, 1, 1, 1, 1,\n",
       "       1, 1, 1, 1, 1, 1, 1, 1, 1, 1, 1, 1, 1, 1, 1, 1, 3, 1, 3, 1, 4, 1,\n",
       "       1, 4, 4, 4, 5, 1, 3, 1, 1, 1, 3, 4, 4, 1, 3, 1, 1, 1, 4, 5, 5, 1,\n",
       "       1, 4, 4, 5, 5, 3, 1, 5, 1, 1, 4, 4, 4, 1, 3, 5, 5, 5, 2, 5, 5, 5,\n",
       "       5, 5, 1, 1, 5, 5, 5, 5, 5, 5, 5, 1], dtype=int64)"
      ]
     },
     "execution_count": 35,
     "metadata": {},
     "output_type": "execute_result"
    }
   ],
   "source": [
    "check_predict_class = check_predict.argmax(axis=1)\n",
    "check_predict_class"
   ]
  },
  {
   "cell_type": "code",
   "execution_count": 36,
   "id": "819395e0",
   "metadata": {},
   "outputs": [
    {
     "name": "stderr",
     "output_type": "stream",
     "text": [
      "C:\\Users\\t.fourtouill\\Anaconda3\\lib\\site-packages\\seaborn\\_decorators.py:36: FutureWarning: Pass the following variable as a keyword arg: x. From version 0.12, the only valid positional argument will be `data`, and passing other arguments without an explicit keyword will result in an error or misinterpretation.\n",
      "  warnings.warn(\n"
     ]
    },
    {
     "data": {
      "image/png": "[encoded data removed]",
      "text/plain": [
       "<Figure size 432x288 with 1 Axes>"
      ]
     },
     "metadata": {
      "needs_background": "light"
     },
     "output_type": "display_data"
    }
   ],
   "source": [
    "sns.countplot(check_predict_class);"
   ]
  },
  {
   "cell_type": "code",
   "execution_count": 37,
   "id": "438bcba6",
   "metadata": {},
   "outputs": [
    {
     "data": {
      "text/html": [
       "<div>\n",
       "<style scoped>\n",
       "    .dataframe tbody tr th:only-of-type {\n",
       "        vertical-align: middle;\n",
       "    }\n",
       "\n",
       "    .dataframe tbody tr th {\n",
       "        vertical-align: top;\n",
       "    }\n",
       "\n",
       "    .dataframe thead th {\n",
       "        text-align: right;\n",
       "    }\n",
       "</style>\n",
       "<table border=\"1\" class=\"dataframe\">\n",
       "  <thead>\n",
       "    <tr style=\"text-align: right;\">\n",
       "      <th></th>\n",
       "      <th>commentaire</th>\n",
       "      <th>note</th>\n",
       "      <th>prediction</th>\n",
       "    </tr>\n",
       "  </thead>\n",
       "  <tbody>\n",
       "    <tr>\n",
       "      <th>0</th>\n",
       "      <td>ll y a 2 joursnage en eaux troublesSystème de vérification de compte horrible, aucunes indications, quand on fournit les pièces demandées ça ne va pas et on nous redemande les mêmes choses par la suite, service client horrible, attente interminable, me voilà bloqué depuis 3 jours et  cela n'est toujours pas résolu; aucunes informations sur la suite des démarche, ma pire expérience en matière de résolution des soucis liés à un compteDate de l'expérience: 26 novembre 2022</td>\n",
       "      <td>1</td>\n",
       "      <td>1</td>\n",
       "    </tr>\n",
       "    <tr>\n",
       "      <th>1</th>\n",
       "      <td>ll y a 2 joursColis qui fait le tour du mondeJe ne suis pas adepte cette enseigne mais j'avoue que je n'ai trouvé ce produit nulle part ailleurs mon expérience pour le paiement XXL par contre pour le suivi et la livraison nul archi nul aucun suivi de commande disponible je ne sais d'où vient mon produit c'est mon ultime commande et la deuxième seulement auprès de cette enseigneDate de l'expérience: 26 novembre 2022</td>\n",
       "      <td>1</td>\n",
       "      <td>1</td>\n",
       "    </tr>\n",
       "    <tr>\n",
       "      <th>2</th>\n",
       "      <td>ll y a 2 joursPromotion mensongèreHier j’ai voulu commandé un jouet avec la promotion affichée « 3 jouets pour 2 ». Il était bien indiqué que la promotion fonctionnait sur le jouet en question. Arrivé au paiement, pas de déduction pour le 3è jouet, je ne commande donc pas et envoie un mail à Amazon avec print écran à l’appui de la promo sur le jouet. L’interlocutrice n’a rien voulu savoir, la promo a été retirée depuis sur le jouet, honteux !! Non seulement les prix varient sans arrêt et en plus ils ne respectent pas les promotions qu’ils mettent en place. J’ai trouvé mon bonheur chez cdiscount, vendeur bien plus sérieuxDate de l'expérience: 24 novembre 2022</td>\n",
       "      <td>1</td>\n",
       "      <td>1</td>\n",
       "    </tr>\n",
       "    <tr>\n",
       "      <th>3</th>\n",
       "      <td>ll y a 3 joursJ’ai commandé un article cadeau sur…J’ai commandé un article cadeau sur Amazon, le fournisseur n’apparaît plus sur le site d’Amazon, je n’ai aucun retour de la part d’Amazon. Ce n’est que 28€ mais de trop si pas de remboursement. Il me paraît impossible d’entrer en contact avec le service « commercial » après plusieurs tentatives, avez-vous un numéro ou une adresse ? Merci de votre aideDate de l'expérience: 23 novembre 2022</td>\n",
       "      <td>1</td>\n",
       "      <td>1</td>\n",
       "    </tr>\n",
       "    <tr>\n",
       "      <th>4</th>\n",
       "      <td>ll y a 3 joursJ'ai commandé un téléphone portable sur…J'ai commandé un téléphone portable sur le site, reçu mais après lecture de la documentation technique, ce téléphone n'avait pas les fonctions indiquées sur l'annonce, bon l'erreur est humaine, je renvois le matériel avec l'autorisation d'Amazon le 8 novembre, malgré les divers contacts et relances, aucun remboursement ce jour soit le 25 novembre, depuis j'ai acheté un autre téléphone, je me suis fais escroqué de 140 euros, voilà c'est Amazon, ca à bien changé, faites attention.Date de l'expérience: 08 novembre 2022</td>\n",
       "      <td>1</td>\n",
       "      <td>1</td>\n",
       "    </tr>\n",
       "  </tbody>\n",
       "</table>\n",
       "</div>"
      ],
      "text/plain": [
       "                                                                                                                                                                                                                                                                                                                                                                                                                                                                                                                                                                                                                                                                                  commentaire  \\\n",
       "0                                                                                                                                                                                                  ll y a 2 joursnage en eaux troublesSystème de vérification de compte horrible, aucunes indications, quand on fournit les pièces demandées ça ne va pas et on nous redemande les mêmes choses par la suite, service client horrible, attente interminable, me voilà bloqué depuis 3 jours et  cela n'est toujours pas résolu; aucunes informations sur la suite des démarche, ma pire expérience en matière de résolution des soucis liés à un compteDate de l'expérience: 26 novembre 2022   \n",
       "1                                                                                                                                                                                                                                                          ll y a 2 joursColis qui fait le tour du mondeJe ne suis pas adepte cette enseigne mais j'avoue que je n'ai trouvé ce produit nulle part ailleurs mon expérience pour le paiement XXL par contre pour le suivi et la livraison nul archi nul aucun suivi de commande disponible je ne sais d'où vient mon produit c'est mon ultime commande et la deuxième seulement auprès de cette enseigneDate de l'expérience: 26 novembre 2022   \n",
       "2  ll y a 2 joursPromotion mensongèreHier j’ai voulu commandé un jouet avec la promotion affichée « 3 jouets pour 2 ». Il était bien indiqué que la promotion fonctionnait sur le jouet en question. Arrivé au paiement, pas de déduction pour le 3è jouet, je ne commande donc pas et envoie un mail à Amazon avec print écran à l’appui de la promo sur le jouet. L’interlocutrice n’a rien voulu savoir, la promo a été retirée depuis sur le jouet, honteux !! Non seulement les prix varient sans arrêt et en plus ils ne respectent pas les promotions qu’ils mettent en place. J’ai trouvé mon bonheur chez cdiscount, vendeur bien plus sérieuxDate de l'expérience: 24 novembre 2022   \n",
       "3                                                                                                                                                                                                                                   ll y a 3 joursJ’ai commandé un article cadeau sur…J’ai commandé un article cadeau sur Amazon, le fournisseur n’apparaît plus sur le site d’Amazon, je n’ai aucun retour de la part d’Amazon. Ce n’est que 28€ mais de trop si pas de remboursement. Il me paraît impossible d’entrer en contact avec le service « commercial » après plusieurs tentatives, avez-vous un numéro ou une adresse ? Merci de votre aideDate de l'expérience: 23 novembre 2022   \n",
       "4                                                                                             ll y a 3 joursJ'ai commandé un téléphone portable sur…J'ai commandé un téléphone portable sur le site, reçu mais après lecture de la documentation technique, ce téléphone n'avait pas les fonctions indiquées sur l'annonce, bon l'erreur est humaine, je renvois le matériel avec l'autorisation d'Amazon le 8 novembre, malgré les divers contacts et relances, aucun remboursement ce jour soit le 25 novembre, depuis j'ai acheté un autre téléphone, je me suis fais escroqué de 140 euros, voilà c'est Amazon, ca à bien changé, faites attention.Date de l'expérience: 08 novembre 2022   \n",
       "\n",
       "   note  prediction  \n",
       "0     1           1  \n",
       "1     1           1  \n",
       "2     1           1  \n",
       "3     1           1  \n",
       "4     1           1  "
      ]
     },
     "execution_count": 37,
     "metadata": {},
     "output_type": "execute_result"
    }
   ],
   "source": [
    "# comparaison des prédictions et des notes du jeu de test\n",
    "check_df = pd.DataFrame(list(zip(df_test.commentaire, df_test.note, check_predict_class)), columns=['commentaire', 'note', 'prediction'])\n",
    "check_df.head()"
   ]
  },
  {
   "cell_type": "code",
   "execution_count": 38,
   "id": "11ec7bbb",
   "metadata": {},
   "outputs": [
    {
     "name": "stdout",
     "output_type": "stream",
     "text": [
      "              precision    recall  f1-score   support\n",
      "\n",
      "           1       0.76      0.78      0.77      2071\n",
      "           2       0.21      0.01      0.01       555\n",
      "           3       0.38      0.27      0.31      1394\n",
      "           4       0.47      0.22      0.30      4972\n",
      "           5       0.77      0.95      0.85     15008\n",
      "\n",
      "    accuracy                           0.72     24000\n",
      "   macro avg       0.52      0.45      0.45     24000\n",
      "weighted avg       0.67      0.72      0.68     24000\n",
      "\n"
     ]
    },
    {
     "data": {
      "text/html": [
       "<div>\n",
       "<style scoped>\n",
       "    .dataframe tbody tr th:only-of-type {\n",
       "        vertical-align: middle;\n",
       "    }\n",
       "\n",
       "    .dataframe tbody tr th {\n",
       "        vertical-align: top;\n",
       "    }\n",
       "\n",
       "    .dataframe thead th {\n",
       "        text-align: right;\n",
       "    }\n",
       "</style>\n",
       "<table border=\"1\" class=\"dataframe\">\n",
       "  <thead>\n",
       "    <tr style=\"text-align: right;\">\n",
       "      <th>predictions</th>\n",
       "      <th>1</th>\n",
       "      <th>2</th>\n",
       "      <th>3</th>\n",
       "      <th>4</th>\n",
       "      <th>5</th>\n",
       "    </tr>\n",
       "    <tr>\n",
       "      <th>données réelles</th>\n",
       "      <th></th>\n",
       "      <th></th>\n",
       "      <th></th>\n",
       "      <th></th>\n",
       "      <th></th>\n",
       "    </tr>\n",
       "  </thead>\n",
       "  <tbody>\n",
       "    <tr>\n",
       "      <th>1</th>\n",
       "      <td>1615</td>\n",
       "      <td>2</td>\n",
       "      <td>205</td>\n",
       "      <td>91</td>\n",
       "      <td>158</td>\n",
       "    </tr>\n",
       "    <tr>\n",
       "      <th>2</th>\n",
       "      <td>203</td>\n",
       "      <td>4</td>\n",
       "      <td>144</td>\n",
       "      <td>105</td>\n",
       "      <td>99</td>\n",
       "    </tr>\n",
       "    <tr>\n",
       "      <th>3</th>\n",
       "      <td>185</td>\n",
       "      <td>5</td>\n",
       "      <td>374</td>\n",
       "      <td>433</td>\n",
       "      <td>397</td>\n",
       "    </tr>\n",
       "    <tr>\n",
       "      <th>4</th>\n",
       "      <td>74</td>\n",
       "      <td>6</td>\n",
       "      <td>201</td>\n",
       "      <td>1116</td>\n",
       "      <td>3575</td>\n",
       "    </tr>\n",
       "    <tr>\n",
       "      <th>5</th>\n",
       "      <td>40</td>\n",
       "      <td>2</td>\n",
       "      <td>64</td>\n",
       "      <td>645</td>\n",
       "      <td>14257</td>\n",
       "    </tr>\n",
       "  </tbody>\n",
       "</table>\n",
       "</div>"
      ],
      "text/plain": [
       "predictions         1  2    3     4      5\n",
       "données réelles                           \n",
       "1                1615  2  205    91    158\n",
       "2                 203  4  144   105     99\n",
       "3                 185  5  374   433    397\n",
       "4                  74  6  201  1116   3575\n",
       "5                  40  2   64   645  14257"
      ]
     },
     "metadata": {},
     "output_type": "display_data"
    },
    {
     "name": "stdout",
     "output_type": "stream",
     "text": [
      "              precision    recall  f1-score   support\n",
      "\n",
      "           1       0.33      0.95      0.49        20\n",
      "           2       0.00      0.00      0.00        20\n",
      "           3       0.57      0.20      0.30        20\n",
      "           4       0.50      0.30      0.37        20\n",
      "           5       0.68      0.75      0.71        20\n",
      "\n",
      "    accuracy                           0.44       100\n",
      "   macro avg       0.42      0.44      0.37       100\n",
      "weighted avg       0.42      0.44      0.37       100\n",
      "\n"
     ]
    },
    {
     "data": {
      "text/html": [
       "<div>\n",
       "<style scoped>\n",
       "    .dataframe tbody tr th:only-of-type {\n",
       "        vertical-align: middle;\n",
       "    }\n",
       "\n",
       "    .dataframe tbody tr th {\n",
       "        vertical-align: top;\n",
       "    }\n",
       "\n",
       "    .dataframe thead th {\n",
       "        text-align: right;\n",
       "    }\n",
       "</style>\n",
       "<table border=\"1\" class=\"dataframe\">\n",
       "  <thead>\n",
       "    <tr style=\"text-align: right;\">\n",
       "      <th>predictions</th>\n",
       "      <th>1</th>\n",
       "      <th>2</th>\n",
       "      <th>3</th>\n",
       "      <th>4</th>\n",
       "      <th>5</th>\n",
       "    </tr>\n",
       "    <tr>\n",
       "      <th>données réelles</th>\n",
       "      <th></th>\n",
       "      <th></th>\n",
       "      <th></th>\n",
       "      <th></th>\n",
       "      <th></th>\n",
       "    </tr>\n",
       "  </thead>\n",
       "  <tbody>\n",
       "    <tr>\n",
       "      <th>1</th>\n",
       "      <td>19</td>\n",
       "      <td>0</td>\n",
       "      <td>0</td>\n",
       "      <td>0</td>\n",
       "      <td>1</td>\n",
       "    </tr>\n",
       "    <tr>\n",
       "      <th>2</th>\n",
       "      <td>19</td>\n",
       "      <td>0</td>\n",
       "      <td>1</td>\n",
       "      <td>0</td>\n",
       "      <td>0</td>\n",
       "    </tr>\n",
       "    <tr>\n",
       "      <th>3</th>\n",
       "      <td>9</td>\n",
       "      <td>0</td>\n",
       "      <td>4</td>\n",
       "      <td>6</td>\n",
       "      <td>1</td>\n",
       "    </tr>\n",
       "    <tr>\n",
       "      <th>4</th>\n",
       "      <td>8</td>\n",
       "      <td>0</td>\n",
       "      <td>1</td>\n",
       "      <td>6</td>\n",
       "      <td>5</td>\n",
       "    </tr>\n",
       "    <tr>\n",
       "      <th>5</th>\n",
       "      <td>3</td>\n",
       "      <td>1</td>\n",
       "      <td>1</td>\n",
       "      <td>0</td>\n",
       "      <td>15</td>\n",
       "    </tr>\n",
       "  </tbody>\n",
       "</table>\n",
       "</div>"
      ],
      "text/plain": [
       "predictions       1  2  3  4   5\n",
       "données réelles                 \n",
       "1                19  0  0  0   1\n",
       "2                19  0  1  0   0\n",
       "3                 9  0  4  6   1\n",
       "4                 8  0  1  6   5\n",
       "5                 3  1  1  0  15"
      ]
     },
     "metadata": {},
     "output_type": "display_data"
    },
    {
     "data": {
      "text/html": [
       "<div>\n",
       "<style scoped>\n",
       "    .dataframe tbody tr th:only-of-type {\n",
       "        vertical-align: middle;\n",
       "    }\n",
       "\n",
       "    .dataframe tbody tr th {\n",
       "        vertical-align: top;\n",
       "    }\n",
       "\n",
       "    .dataframe thead th {\n",
       "        text-align: right;\n",
       "    }\n",
       "</style>\n",
       "<table border=\"1\" class=\"dataframe\">\n",
       "  <thead>\n",
       "    <tr style=\"text-align: right;\">\n",
       "      <th>predictions</th>\n",
       "      <th>1</th>\n",
       "      <th>2</th>\n",
       "      <th>3</th>\n",
       "      <th>4</th>\n",
       "      <th>5</th>\n",
       "    </tr>\n",
       "    <tr>\n",
       "      <th>données réelles</th>\n",
       "      <th></th>\n",
       "      <th></th>\n",
       "      <th></th>\n",
       "      <th></th>\n",
       "      <th></th>\n",
       "    </tr>\n",
       "  </thead>\n",
       "  <tbody>\n",
       "    <tr>\n",
       "      <th>1</th>\n",
       "      <td>0.95</td>\n",
       "      <td>0.00</td>\n",
       "      <td>0.00</td>\n",
       "      <td>0.0</td>\n",
       "      <td>0.05</td>\n",
       "    </tr>\n",
       "    <tr>\n",
       "      <th>2</th>\n",
       "      <td>0.95</td>\n",
       "      <td>0.00</td>\n",
       "      <td>0.05</td>\n",
       "      <td>0.0</td>\n",
       "      <td>0.00</td>\n",
       "    </tr>\n",
       "    <tr>\n",
       "      <th>3</th>\n",
       "      <td>0.45</td>\n",
       "      <td>0.00</td>\n",
       "      <td>0.20</td>\n",
       "      <td>0.3</td>\n",
       "      <td>0.05</td>\n",
       "    </tr>\n",
       "    <tr>\n",
       "      <th>4</th>\n",
       "      <td>0.40</td>\n",
       "      <td>0.00</td>\n",
       "      <td>0.05</td>\n",
       "      <td>0.3</td>\n",
       "      <td>0.25</td>\n",
       "    </tr>\n",
       "    <tr>\n",
       "      <th>5</th>\n",
       "      <td>0.15</td>\n",
       "      <td>0.05</td>\n",
       "      <td>0.05</td>\n",
       "      <td>0.0</td>\n",
       "      <td>0.75</td>\n",
       "    </tr>\n",
       "  </tbody>\n",
       "</table>\n",
       "</div>"
      ],
      "text/plain": [
       "predictions         1     2     3    4     5\n",
       "données réelles                             \n",
       "1                0.95  0.00  0.00  0.0  0.05\n",
       "2                0.95  0.00  0.05  0.0  0.00\n",
       "3                0.45  0.00  0.20  0.3  0.05\n",
       "4                0.40  0.00  0.05  0.3  0.25\n",
       "5                0.15  0.05  0.05  0.0  0.75"
      ]
     },
     "metadata": {},
     "output_type": "display_data"
    },
    {
     "name": "stdout",
     "output_type": "stream",
     "text": [
      "les prédictions correctes sont supérieures à 50% pour 1 étoile(s) avec 95%\n",
      "les prédictions correctes sont supérieures à 50% pour 5 étoile(s) avec 75%\n"
     ]
    }
   ],
   "source": [
    "from sklearn.metrics import classification_report\n",
    "\n",
    "cr = classification_report(y_test, predict_cdiscount_class)\n",
    "print(cr)\n",
    "\n",
    "cm = pd.crosstab(y_test, predict_cdiscount_class, rownames=['données réelles'], colnames=['predictions'])\n",
    "display(cm)\n",
    "\n",
    "# vérification des résultats sur un jeu de test externe (100 commentaires amazon également répartis entre les étoiles)\n",
    "\n",
    "cm_test = classification_report(df_test.note, check_predict_class)\n",
    "print(cm_test)\n",
    "\n",
    "cm_test2 = pd.crosstab(df_test.note, check_predict_class, rownames=['données réelles'], colnames=['predictions'])\n",
    "display(cm_test2)\n",
    "\n",
    "cm_test3 = pd.crosstab(df_test.note, check_predict_class, rownames=['données réelles'], colnames=['predictions'], normalize=0)\n",
    "display(cm_test3)\n",
    "\n",
    "for i in cm_test3.index:\n",
    "    for j in cm_test3.columns :\n",
    "        if (i==j and cm_test3.loc[i, j] > 0.5) :\n",
    "            print(\"les prédictions correctes sont supérieures à 50% pour {} étoile(s) avec {:0.0%}\".format(i, cm_test3.loc[i, j]))"
   ]
  },
  {
   "cell_type": "code",
   "execution_count": 39,
   "id": "8b6366a5",
   "metadata": {},
   "outputs": [
    {
     "name": "stdout",
     "output_type": "stream",
     "text": [
      "INFO:tensorflow:Assets written to: datasets/SatisfactionClients/model_embedding6\\assets\n"
     ]
    }
   ],
   "source": [
    "import os\n",
    "path = \"/Users/t.fourtouill/Downloads/SatisfactionClients\"\n",
    "os.makedirs(path, exist_ok=True)\n",
    "model_embedding_1.save('datasets/SatisfactionClients/model_embedding6')"
   ]
  }
 ],
 "metadata": {
  "kernelspec": {
   "display_name": "Python 3 (ipykernel)",
   "language": "python",
   "name": "python3"
  },
  "language_info": {
   "codemirror_mode": {
    "name": "ipython",
    "version": 3
   },
   "file_extension": ".py",
   "mimetype": "text/x-python",
   "name": "python",
   "nbconvert_exporter": "python",
   "pygments_lexer": "ipython3",
   "version": "3.9.7"
  }
 },
 "nbformat": 4,
 "nbformat_minor": 5
}
