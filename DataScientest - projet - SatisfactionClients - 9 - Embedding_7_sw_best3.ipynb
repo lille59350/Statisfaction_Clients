{
 "cells": [
  {
   "cell_type": "code",
   "execution_count": 1,
   "id": "196d79a4",
   "metadata": {},
   "outputs": [],
   "source": [
    "import pandas as pd\n",
    "import numpy as np\n",
    "import matplotlib.pyplot as plt\n",
    "import seaborn as sns\n",
    "from time import time\n",
    "import itertools"
   ]
  },
  {
   "cell_type": "code",
   "execution_count": 2,
   "id": "6b85a034",
   "metadata": {},
   "outputs": [],
   "source": [
    "pd.options.display.max_colwidth=800\n",
    "pd.set_option('display.max_rows', 500)\n",
    "pd.set_option('display.max_columns', 500)"
   ]
  },
  {
   "cell_type": "code",
   "execution_count": 3,
   "id": "119a889d",
   "metadata": {},
   "outputs": [
    {
     "data": {
      "text/html": [
       "<div>\n",
       "<style scoped>\n",
       "    .dataframe tbody tr th:only-of-type {\n",
       "        vertical-align: middle;\n",
       "    }\n",
       "\n",
       "    .dataframe tbody tr th {\n",
       "        vertical-align: top;\n",
       "    }\n",
       "\n",
       "    .dataframe thead th {\n",
       "        text-align: right;\n",
       "    }\n",
       "</style>\n",
       "<table border=\"1\" class=\"dataframe\">\n",
       "  <thead>\n",
       "    <tr style=\"text-align: right;\">\n",
       "      <th></th>\n",
       "      <th>pays</th>\n",
       "      <th>note</th>\n",
       "      <th>titre</th>\n",
       "      <th>commentaire</th>\n",
       "    </tr>\n",
       "  </thead>\n",
       "  <tbody>\n",
       "    <tr>\n",
       "      <th>0</th>\n",
       "      <td>FR</td>\n",
       "      <td>1</td>\n",
       "      <td>Les As du prélèvement illicite</td>\n",
       "      <td>Il y a un jourLes As du prélèvement illicitePratiques à la limite de légal.J' ai pris un paiement en 4x dont il restait deux mois , pendant 1 semaine je ne retrouve pas ma carte , je la bloque temporairement.Le prelevement 3 ne passe pas Cdiscount m' informe qu' il faut régulariser, je retrouve ma carte et........boum deux prelevements simultanés des deux mensualités, celle du et l' autre prévue pour décembre.Cela me servira de leçon mais les vautours c 'est fini pour moi.Date de l'expérience: 14 novembre 2022</td>\n",
       "    </tr>\n",
       "    <tr>\n",
       "      <th>1</th>\n",
       "      <td>FR</td>\n",
       "      <td>1</td>\n",
       "      <td>Commande une télévision avec rendez…</td>\n",
       "      <td>Il y a 13 heuresCommande une télévision avec rendez…Commande une télévision avec rendez vous du livreur. Je prend une journée de congé et le livreur ne vient pas. Je demande le renvoie de la télé chez Cdiscount. Cdiscount me rembourse la télé mes pas les 29 euros de livraison. Donc une journée de congé pour rien et un cadeau de 29 euros a Cdiscount. Plus jamais de commande sur Cdiscount.Date de l'expérience: 02 novembre 2022</td>\n",
       "    </tr>\n",
       "  </tbody>\n",
       "</table>\n",
       "</div>"
      ],
      "text/plain": [
       "  pays  note                                 titre  \\\n",
       "0   FR     1        Les As du prélèvement illicite   \n",
       "1   FR     1  Commande une télévision avec rendez…   \n",
       "\n",
       "                                                                                                                                                                                                                                                                                                                                                                                                                                                                                                                           commentaire  \n",
       "0  Il y a un jourLes As du prélèvement illicitePratiques à la limite de légal.J' ai pris un paiement en 4x dont il restait deux mois , pendant 1 semaine je ne retrouve pas ma carte , je la bloque temporairement.Le prelevement 3 ne passe pas Cdiscount m' informe qu' il faut régulariser, je retrouve ma carte et........boum deux prelevements simultanés des deux mensualités, celle du et l' autre prévue pour décembre.Cela me servira de leçon mais les vautours c 'est fini pour moi.Date de l'expérience: 14 novembre 2022  \n",
       "1                                                                                         Il y a 13 heuresCommande une télévision avec rendez…Commande une télévision avec rendez vous du livreur. Je prend une journée de congé et le livreur ne vient pas. Je demande le renvoie de la télé chez Cdiscount. Cdiscount me rembourse la télé mes pas les 29 euros de livraison. Donc une journée de congé pour rien et un cadeau de 29 euros a Cdiscount. Plus jamais de commande sur Cdiscount.Date de l'expérience: 02 novembre 2022  "
      ]
     },
     "execution_count": 3,
     "metadata": {},
     "output_type": "execute_result"
    }
   ],
   "source": [
    "df = pd.read_csv('datasets/SatisfactionClients/cdiscount.csv', index_col=0)\n",
    "df_test = pd.read_csv('datasets/SatisfactionClients/amazon_test1.csv', index_col=0)\n",
    "df.head(2)"
   ]
  },
  {
   "cell_type": "code",
   "execution_count": 4,
   "id": "ba3cf0df",
   "metadata": {},
   "outputs": [],
   "source": [
    "# chargement de la bibliothèque de stopwords et de tokenisation\n",
    "from nltk.corpus import stopwords\n",
    "from nltk import word_tokenize\n",
    "from nltk.tokenize.regexp import RegexpTokenizer\n",
    "from nltk.tokenize import PunktSentenceTokenizer"
   ]
  },
  {
   "cell_type": "code",
   "execution_count": 5,
   "id": "afbf1a9b",
   "metadata": {},
   "outputs": [
    {
     "name": "stderr",
     "output_type": "stream",
     "text": [
      "[nltk_data] Downloading package punkt to\n",
      "[nltk_data]     C:\\Users\\t.fourtouill\\AppData\\Roaming\\nltk_data...\n",
      "[nltk_data]   Package punkt is already up-to-date!\n"
     ]
    },
    {
     "data": {
      "text/plain": [
       "True"
      ]
     },
     "execution_count": 5,
     "metadata": {},
     "output_type": "execute_result"
    }
   ],
   "source": [
    "import nltk\n",
    "nltk.download('punkt')"
   ]
  },
  {
   "cell_type": "code",
   "execution_count": 6,
   "id": "f3c03c94",
   "metadata": {},
   "outputs": [],
   "source": [
    "# chargement des listes stopwords pour les 3 langues principales \n",
    "stop_words_french = stopwords.words('french')\n",
    "stop_words_english = stopwords.words('english')\n",
    "stop_words_spanish = stopwords.words('spanish')\n",
    "\n",
    "# création d'une stopwords regroupant les 3 langues\n",
    "stop_words = stop_words_french + stop_words_english + stop_words_spanish"
   ]
  },
  {
   "cell_type": "code",
   "execution_count": 7,
   "id": "9418557a",
   "metadata": {},
   "outputs": [],
   "source": [
    "def commentaire_filtering(txt, stop_words):\n",
    "    tokenizer = RegexpTokenizer('[0-9a-zA-Zéèëãñ]')\n",
    "    tokens = word_tokenize(txt.lower())\n",
    "    words = [word for word in tokens if word not in stop_words]\n",
    "    return ' '.join(words).strip()"
   ]
  },
  {
   "cell_type": "code",
   "execution_count": 8,
   "id": "b9fb115a",
   "metadata": {},
   "outputs": [
    {
     "name": "stdout",
     "output_type": "stream",
     "text": [
      "le temps de calcul est de 55.99  secondes\n"
     ]
    }
   ],
   "source": [
    "# création d'une colonne commentaire_filtre par application de la fonction commentaire_filtering à la colonne commentaire\n",
    "t0 = time()\n",
    "\n",
    "df['commentaire_filtre'] = df['commentaire'].apply(lambda x : commentaire_filtering(str(x), stop_words))\n",
    "\n",
    "print('le temps de calcul est de {:.2f}'.format(time()-t0), ' secondes')"
   ]
  },
  {
   "cell_type": "code",
   "execution_count": 9,
   "id": "187c073c",
   "metadata": {},
   "outputs": [
    {
     "data": {
      "text/html": [
       "<div>\n",
       "<style scoped>\n",
       "    .dataframe tbody tr th:only-of-type {\n",
       "        vertical-align: middle;\n",
       "    }\n",
       "\n",
       "    .dataframe tbody tr th {\n",
       "        vertical-align: top;\n",
       "    }\n",
       "\n",
       "    .dataframe thead th {\n",
       "        text-align: right;\n",
       "    }\n",
       "</style>\n",
       "<table border=\"1\" class=\"dataframe\">\n",
       "  <thead>\n",
       "    <tr style=\"text-align: right;\">\n",
       "      <th></th>\n",
       "      <th>pays</th>\n",
       "      <th>note</th>\n",
       "      <th>titre</th>\n",
       "      <th>commentaire</th>\n",
       "      <th>commentaire_filtre</th>\n",
       "    </tr>\n",
       "  </thead>\n",
       "  <tbody>\n",
       "    <tr>\n",
       "      <th>0</th>\n",
       "      <td>FR</td>\n",
       "      <td>1</td>\n",
       "      <td>Les As du prélèvement illicite</td>\n",
       "      <td>Il y a un jourLes As du prélèvement illicitePratiques à la limite de légal.J' ai pris un paiement en 4x dont il restait deux mois , pendant 1 semaine je ne retrouve pas ma carte , je la bloque temporairement.Le prelevement 3 ne passe pas Cdiscount m' informe qu' il faut régulariser, je retrouve ma carte et........boum deux prelevements simultanés des deux mensualités, celle du et l' autre prévue pour décembre.Cela me servira de leçon mais les vautours c 'est fini pour moi.Date de l'expérience: 14 novembre 2022</td>\n",
       "      <td>jourles prélèvement illicitepratiques limite légal.j ' pris paiement 4x dont restait deux mois , pendant 1 semaine retrouve carte , bloque temporairement.le prelevement 3 passe cdiscount ' informe ' faut régulariser , retrouve carte ........ boum deux prelevements simultanés deux mensualités , celle ' autre prévue décembre.cela servira leçon vautours 'est fini moi.date l'expérience : 14 novembre 2022</td>\n",
       "    </tr>\n",
       "    <tr>\n",
       "      <th>1</th>\n",
       "      <td>FR</td>\n",
       "      <td>1</td>\n",
       "      <td>Commande une télévision avec rendez…</td>\n",
       "      <td>Il y a 13 heuresCommande une télévision avec rendez…Commande une télévision avec rendez vous du livreur. Je prend une journée de congé et le livreur ne vient pas. Je demande le renvoie de la télé chez Cdiscount. Cdiscount me rembourse la télé mes pas les 29 euros de livraison. Donc une journée de congé pour rien et un cadeau de 29 euros a Cdiscount. Plus jamais de commande sur Cdiscount.Date de l'expérience: 02 novembre 2022</td>\n",
       "      <td>13 heurescommande télévision rendez…commande télévision rendez livreur . prend journée congé livreur vient . demande renvoie télé chez cdiscount . cdiscount rembourse télé 29 euros livraison . donc journée congé rien cadeau 29 euros cdiscount . plus jamais commande cdiscount.date l'expérience : 02 novembre 2022</td>\n",
       "    </tr>\n",
       "  </tbody>\n",
       "</table>\n",
       "</div>"
      ],
      "text/plain": [
       "  pays  note                                 titre  \\\n",
       "0   FR     1        Les As du prélèvement illicite   \n",
       "1   FR     1  Commande une télévision avec rendez…   \n",
       "\n",
       "                                                                                                                                                                                                                                                                                                                                                                                                                                                                                                                           commentaire  \\\n",
       "0  Il y a un jourLes As du prélèvement illicitePratiques à la limite de légal.J' ai pris un paiement en 4x dont il restait deux mois , pendant 1 semaine je ne retrouve pas ma carte , je la bloque temporairement.Le prelevement 3 ne passe pas Cdiscount m' informe qu' il faut régulariser, je retrouve ma carte et........boum deux prelevements simultanés des deux mensualités, celle du et l' autre prévue pour décembre.Cela me servira de leçon mais les vautours c 'est fini pour moi.Date de l'expérience: 14 novembre 2022   \n",
       "1                                                                                         Il y a 13 heuresCommande une télévision avec rendez…Commande une télévision avec rendez vous du livreur. Je prend une journée de congé et le livreur ne vient pas. Je demande le renvoie de la télé chez Cdiscount. Cdiscount me rembourse la télé mes pas les 29 euros de livraison. Donc une journée de congé pour rien et un cadeau de 29 euros a Cdiscount. Plus jamais de commande sur Cdiscount.Date de l'expérience: 02 novembre 2022   \n",
       "\n",
       "                                                                                                                                                                                                                                                                                                                                                                                                    commentaire_filtre  \n",
       "0  jourles prélèvement illicitepratiques limite légal.j ' pris paiement 4x dont restait deux mois , pendant 1 semaine retrouve carte , bloque temporairement.le prelevement 3 passe cdiscount ' informe ' faut régulariser , retrouve carte ........ boum deux prelevements simultanés deux mensualités , celle ' autre prévue décembre.cela servira leçon vautours 'est fini moi.date l'expérience : 14 novembre 2022  \n",
       "1                                                                                             13 heurescommande télévision rendez…commande télévision rendez livreur . prend journée congé livreur vient . demande renvoie télé chez cdiscount . cdiscount rembourse télé 29 euros livraison . donc journée congé rien cadeau 29 euros cdiscount . plus jamais commande cdiscount.date l'expérience : 02 novembre 2022  "
      ]
     },
     "execution_count": 9,
     "metadata": {},
     "output_type": "execute_result"
    }
   ],
   "source": [
    "df.head(2)"
   ]
  },
  {
   "cell_type": "code",
   "execution_count": 10,
   "id": "ddfd6bfc",
   "metadata": {
    "scrolled": true
   },
   "outputs": [
    {
     "data": {
      "image/png": "[encoded data removed]",
      "text/plain": [
       "<Figure size 432x288 with 1 Axes>"
      ]
     },
     "metadata": {
      "needs_background": "light"
     },
     "output_type": "display_data"
    }
   ],
   "source": [
    "sns.countplot(x='note', data=df);"
   ]
  },
  {
   "cell_type": "code",
   "execution_count": 11,
   "id": "3ded978e",
   "metadata": {},
   "outputs": [
    {
     "data": {
      "image/png": "[encoded data removed]",
      "text/plain": [
       "<Figure size 432x288 with 1 Axes>"
      ]
     },
     "metadata": {
      "needs_background": "light"
     },
     "output_type": "display_data"
    }
   ],
   "source": [
    "sns.countplot(x='note', data=df_test);"
   ]
  },
  {
   "cell_type": "code",
   "execution_count": 12,
   "id": "f13e334a",
   "metadata": {},
   "outputs": [],
   "source": [
    "# séparation de la variable cible et des variables explicatives\n",
    "X = df['commentaire_filtre']\n",
    "y = df['note'].values"
   ]
  },
  {
   "cell_type": "code",
   "execution_count": 13,
   "id": "6269af3d",
   "metadata": {},
   "outputs": [],
   "source": [
    "# séparation du jeu de données en un dataset d'entrainement et un dataset de test\n",
    "from sklearn.model_selection import train_test_split\n",
    "X_train, X_test, y_train, y_test = train_test_split(X, y, test_size=0.2, shuffle=True)"
   ]
  },
  {
   "cell_type": "code",
   "execution_count": 14,
   "id": "0673da10",
   "metadata": {},
   "outputs": [
    {
     "name": "stdout",
     "output_type": "stream",
     "text": [
      "(96000,)\n",
      "(24000,)\n",
      "(100, 4)\n"
     ]
    }
   ],
   "source": [
    "print(X_train.shape)\n",
    "print(X_test.shape)\n",
    "print(df_test.shape)"
   ]
  },
  {
   "cell_type": "code",
   "execution_count": 15,
   "id": "d40a7b61",
   "metadata": {},
   "outputs": [],
   "source": [
    "from keras.preprocessing.text import Tokenizer\n",
    "from keras.preprocessing.sequence import pad_sequences"
   ]
  },
  {
   "cell_type": "code",
   "execution_count": 16,
   "id": "7709d894",
   "metadata": {},
   "outputs": [],
   "source": [
    "# tokenisation des commentaires\n",
    "num_words=2000\n",
    "tk = Tokenizer(num_words=num_words, lower=True)"
   ]
  },
  {
   "cell_type": "code",
   "execution_count": 17,
   "id": "014744b9",
   "metadata": {},
   "outputs": [],
   "source": [
    "# entrainement de la tokenisation sur le X_train\n",
    "tk.fit_on_texts(X_train)"
   ]
  },
  {
   "cell_type": "code",
   "execution_count": 18,
   "id": "5faa7d54",
   "metadata": {},
   "outputs": [
    {
     "data": {
      "text/plain": [
       "80467"
      ]
     },
     "execution_count": 18,
     "metadata": {},
     "output_type": "execute_result"
    }
   ],
   "source": [
    "# nb de ligne de la matrice\n",
    "word_index = tk.word_index\n",
    "len(tk.word_index)"
   ]
  },
  {
   "cell_type": "code",
   "execution_count": 19,
   "id": "8a275671",
   "metadata": {},
   "outputs": [
    {
     "data": {
      "text/plain": [
       "2000"
      ]
     },
     "execution_count": 19,
     "metadata": {},
     "output_type": "execute_result"
    }
   ],
   "source": [
    "# nb de colonnes dans la matrice\n",
    "vocabulary_size = tk.num_words\n",
    "vocabulary_size"
   ]
  },
  {
   "cell_type": "code",
   "execution_count": 20,
   "id": "c937c451",
   "metadata": {},
   "outputs": [],
   "source": [
    "# mise sous vecteur des commentaires\n",
    "X_seq_train = tk.texts_to_sequences(X_train)\n",
    "X_seq_test = tk.texts_to_sequences(X_test)"
   ]
  },
  {
   "cell_type": "code",
   "execution_count": 21,
   "id": "204ad175",
   "metadata": {},
   "outputs": [
    {
     "name": "stdout",
     "output_type": "stream",
     "text": [
      "[49, 22, 1954, 1748, 218, 692, 655, 1314, 199, 465, 86, 1209, 1368, 190, 139, 199, 264, 259, 683, 218, 210, 173, 75, 436, 108, 45, 190, 1030, 855, 692, 569, 98, 125, 1492, 139, 118, 901, 7, 29, 318, 133, 1, 49, 22, 3]\n",
      "[44, 8, 494, 576, 1, 44, 8, 6]\n",
      "[38, 30, 1210, 407, 282, 76, 14, 100, 516, 1, 38, 27, 6]\n",
      "[73, 11, 5, 545, 125, 1692, 1, 73, 11, 4]\n",
      "[91, 34, 88, 14, 2, 1, 103, 31, 24]\n"
     ]
    }
   ],
   "source": [
    "# affichage de la vectorisation réalisée\n",
    "for x in range(0,5):\n",
    "    print(X_seq_train[x]) "
   ]
  },
  {
   "cell_type": "code",
   "execution_count": 22,
   "id": "49a6833f",
   "metadata": {},
   "outputs": [
    {
     "data": {
      "text/plain": [
       "Text(0.5, 1.0, 'commentaires sans stop_word')"
      ]
     },
     "execution_count": 22,
     "metadata": {},
     "output_type": "execute_result"
    },
    {
     "data": {
      "image/png": "[encoded data removed]",
      "text/plain": [
       "<Figure size 864x288 with 2 Axes>"
      ]
     },
     "metadata": {
      "needs_background": "light"
     },
     "output_type": "display_data"
    }
   ],
   "source": [
    "# affichage du nb de mots par commentaire pour nous aider à choisir le nb de mots dans la matrice \n",
    "df_hist = pd.read_csv('datasets/SatisfactionClients/cdiscount_retraite.csv', index_col=0)\n",
    "df_hist['split'] = df_hist['commentaire'].apply(lambda x: len(x.split(' ')))\n",
    "df_hist['filtre_split'] = df_hist['Commentaire_filtre'].apply(lambda x: len(x.split(' ')))\n",
    "\n",
    "plt.figure(figsize=(12, 4))\n",
    "plt.subplot(121)\n",
    "plt.hist(df_hist['split'])\n",
    "plt.xlim([0, 600])\n",
    "plt.title('commentaires bruts')\n",
    "plt.subplot(122)\n",
    "plt.hist(df_hist['filtre_split'])\n",
    "plt.xlim([0, 600])\n",
    "plt.title('commentaires sans stop_word')"
   ]
  },
  {
   "cell_type": "code",
   "execution_count": 23,
   "id": "aa8ad6cf",
   "metadata": {},
   "outputs": [],
   "source": [
    "# transformation en matrice de même longueur par maxlen défini ci-dessous. Avec des 0 si colonne inférieure à maxlen\n",
    "max_words = 200\n",
    "X_pad_train = pad_sequences(X_seq_train, maxlen=max_words, padding='post')\n",
    "X_pad_test= pad_sequences(X_seq_test, maxlen=max_words, padding='post')"
   ]
  },
  {
   "cell_type": "code",
   "execution_count": 24,
   "id": "e5651d36",
   "metadata": {},
   "outputs": [
    {
     "name": "stdout",
     "output_type": "stream",
     "text": [
      "(96000, 200)\n"
     ]
    },
    {
     "data": {
      "text/plain": [
       "array([[  49,   22, 1954, ...,    0,    0,    0],\n",
       "       [  44,    8,  494, ...,    0,    0,    0],\n",
       "       [  38,   30, 1210, ...,    0,    0,    0],\n",
       "       ...,\n",
       "       [  90,   34,   23, ...,    0,    0,    0],\n",
       "       [  60,   10, 1509, ...,    0,    0,    0],\n",
       "       [  50,   47,   25, ...,    0,    0,    0]])"
      ]
     },
     "execution_count": 24,
     "metadata": {},
     "output_type": "execute_result"
    }
   ],
   "source": [
    "# affice de la matrice\n",
    "print(X_pad_train.shape)\n",
    "X_pad_train"
   ]
  },
  {
   "cell_type": "code",
   "execution_count": 25,
   "id": "a509121c",
   "metadata": {},
   "outputs": [
    {
     "name": "stdout",
     "output_type": "stream",
     "text": [
      "Model: \"sequential\"\n",
      "_________________________________________________________________\n",
      "Layer (type)                 Output Shape              Param #   \n",
      "=================================================================\n",
      "embedding (Embedding)        (None, 200, 100)          200000    \n",
      "_________________________________________________________________\n",
      "global_average_pooling1d (Gl (None, 100)               0         \n",
      "_________________________________________________________________\n",
      "dense (Dense)                (None, 256)               25856     \n",
      "_________________________________________________________________\n",
      "dropout (Dropout)            (None, 256)               0         \n",
      "_________________________________________________________________\n",
      "dense_1 (Dense)              (None, 128)               32896     \n",
      "_________________________________________________________________\n",
      "dropout_1 (Dropout)          (None, 128)               0         \n",
      "_________________________________________________________________\n",
      "dense_2 (Dense)              (None, 64)                8256      \n",
      "_________________________________________________________________\n",
      "dropout_2 (Dropout)          (None, 64)                0         \n",
      "_________________________________________________________________\n",
      "dense_3 (Dense)              (None, 6)                 390       \n",
      "=================================================================\n",
      "Total params: 267,398\n",
      "Trainable params: 267,398\n",
      "Non-trainable params: 0\n",
      "_________________________________________________________________\n"
     ]
    }
   ],
   "source": [
    "# Création des couches du modéle\n",
    "\n",
    "from tensorflow.keras.models import Sequential\n",
    "from tensorflow.keras.layers import Dense, GlobalAveragePooling1D, Input, Embedding, Dropout\n",
    "\n",
    "embedding_size = 100\n",
    "\n",
    "model_embedding_1 = Sequential()\n",
    "model_embedding_1.add(Embedding(input_dim=vocabulary_size, output_dim=embedding_size, input_length=max_words, embeddings_initializer='uniform'))  # On reprend le nb de mot choisi dans la tokenisation\n",
    "model_embedding_1.add(GlobalAveragePooling1D())\n",
    "model_embedding_1.add(Dense(units=256, activation='relu'))\n",
    "model_embedding_1.add(Dropout(rate=0.3))\n",
    "model_embedding_1.add(Dense(units=128, activation='relu'))\n",
    "model_embedding_1.add(Dropout(rate=0.2))\n",
    "model_embedding_1.add(Dense(units=64, activation='relu'))\n",
    "model_embedding_1.add(Dropout(rate=0.2))\n",
    "model_embedding_1.add(Dense(units=6, activation='softmax')) # En sortie le nb de units devra correspondre aux nb de variables cibles\n",
    "\n",
    "model_embedding_1.summary()"
   ]
  },
  {
   "cell_type": "code",
   "execution_count": 26,
   "id": "71f386bc",
   "metadata": {},
   "outputs": [],
   "source": [
    "# timer pour mesurer le temps écoulé entre les epochs de début et de fin de callback\n",
    "from tensorflow.keras.callbacks import Callback\n",
    "from timeit import default_timer as timer\n",
    "\n",
    "class TimingCallback(Callback):\n",
    "    def __init__(self, logs={}):\n",
    "        self.logs=[]\n",
    "    def on_epoch_begin(self, epoch, logs={}):\n",
    "        self.starttime = timer()\n",
    "    def on_epoch_end(self, epoch, logs={}):\n",
    "        self.logs.append(timer()-self.starttime)\n",
    "\n",
    "# instanciation la fonction TimingCallback()\n",
    "time_callback = TimingCallback()"
   ]
  },
  {
   "cell_type": "code",
   "execution_count": 27,
   "id": "9b84cd49",
   "metadata": {},
   "outputs": [],
   "source": [
    "# Création des callback\n",
    "from tensorflow.keras.callbacks import EarlyStopping\n",
    "\n",
    "early_stop = EarlyStopping(monitor='val_loss',\n",
    "                          min_delta=0.01,\n",
    "                          patience=2,\n",
    "                          mode='min',\n",
    "                          restore_best_weights=True,\n",
    "                          verbose=1)"
   ]
  },
  {
   "cell_type": "code",
   "execution_count": 28,
   "id": "bbfcec82",
   "metadata": {},
   "outputs": [],
   "source": [
    "model_embedding_1.compile(loss='sparse_categorical_crossentropy', optimizer='adam', metrics=['accuracy'])"
   ]
  },
  {
   "cell_type": "code",
   "execution_count": 29,
   "id": "6a48774e",
   "metadata": {},
   "outputs": [
    {
     "name": "stdout",
     "output_type": "stream",
     "text": [
      "Epoch 1/10\n",
      "2700/2700 [==============================] - 16s 6ms/step - loss: 0.8284 - accuracy: 0.6861 - val_loss: 0.7560 - val_accuracy: 0.6973\n",
      "Epoch 2/10\n",
      "2700/2700 [==============================] - 15s 6ms/step - loss: 0.7487 - accuracy: 0.7047 - val_loss: 0.7282 - val_accuracy: 0.7107\n",
      "Epoch 3/10\n",
      "2700/2700 [==============================] - 15s 6ms/step - loss: 0.7252 - accuracy: 0.7134 - val_loss: 0.7198 - val_accuracy: 0.7114\n",
      "Epoch 4/10\n",
      "2700/2700 [==============================] - 16s 6ms/step - loss: 0.7143 - accuracy: 0.7182 - val_loss: 0.7201 - val_accuracy: 0.7169\n",
      "Restoring model weights from the end of the best epoch.\n",
      "Epoch 00004: early stopping\n"
     ]
    }
   ],
   "source": [
    "batch_size = 32\n",
    "epochs = 10\n",
    "history = model_embedding_1.fit(X_pad_train, y_train, batch_size=batch_size, epochs=epochs, validation_split=0.1,\n",
    "                               callbacks=[early_stop, time_callback])"
   ]
  },
  {
   "cell_type": "code",
   "execution_count": 30,
   "id": "9ae167f8",
   "metadata": {},
   "outputs": [
    {
     "name": "stdout",
     "output_type": "stream",
     "text": [
      "750/750 [==============================] - 2s 3ms/step - loss: 0.7322 - accuracy: 0.7097\n"
     ]
    },
    {
     "data": {
      "text/plain": [
       "[0.7322489619255066, 0.7096666693687439]"
      ]
     },
     "execution_count": 30,
     "metadata": {},
     "output_type": "execute_result"
    }
   ],
   "source": [
    "model_embedding_1.evaluate(X_pad_test, y_test, verbose=1)"
   ]
  },
  {
   "cell_type": "markdown",
   "id": "6aa031ba",
   "metadata": {},
   "source": [
    "### Calcul des prédictions sur le le de test cdiscount"
   ]
  },
  {
   "cell_type": "code",
   "execution_count": 31,
   "id": "047e9d1c",
   "metadata": {},
   "outputs": [
    {
     "name": "stdout",
     "output_type": "stream",
     "text": [
      "750/750 [==============================] - 2s 3ms/step\n"
     ]
    }
   ],
   "source": [
    "# création des prédictions du eu de test cdiscount à partir du modèle\n",
    "predict_cdiscount = model_embedding_1.predict(X_pad_test, verbose=1)"
   ]
  },
  {
   "cell_type": "code",
   "execution_count": 32,
   "id": "839cd186",
   "metadata": {},
   "outputs": [
    {
     "data": {
      "text/plain": [
       "array([5, 5, 4, ..., 5, 5, 5], dtype=int64)"
      ]
     },
     "execution_count": 32,
     "metadata": {},
     "output_type": "execute_result"
    }
   ],
   "source": [
    "predict_cdiscount_class = predict_cdiscount.argmax(axis=1)\n",
    "predict_cdiscount_class"
   ]
  },
  {
   "cell_type": "code",
   "execution_count": 33,
   "id": "c60286b3",
   "metadata": {},
   "outputs": [
    {
     "name": "stderr",
     "output_type": "stream",
     "text": [
      "C:\\Users\\t.fourtouill\\Anaconda3\\lib\\site-packages\\seaborn\\_decorators.py:36: FutureWarning: Pass the following variable as a keyword arg: x. From version 0.12, the only valid positional argument will be `data`, and passing other arguments without an explicit keyword will result in an error or misinterpretation.\n",
      "  warnings.warn(\n"
     ]
    },
    {
     "data": {
      "image/png": "[encoded data removed]",
      "text/plain": [
       "<Figure size 432x288 with 1 Axes>"
      ]
     },
     "metadata": {
      "needs_background": "light"
     },
     "output_type": "display_data"
    }
   ],
   "source": [
    "sns.countplot(predict_cdiscount_class)\n",
    "plt.show();"
   ]
  },
  {
   "cell_type": "markdown",
   "id": "33371e69",
   "metadata": {},
   "source": [
    "### Calcul des prédictions sur le jeu de test amazon"
   ]
  },
  {
   "cell_type": "code",
   "execution_count": 34,
   "id": "3196ab7a",
   "metadata": {},
   "outputs": [
    {
     "name": "stdout",
     "output_type": "stream",
     "text": [
      "le temps de calcul est de 0.13\n"
     ]
    }
   ],
   "source": [
    "# création d'une colonne commentaire_filtre par application de la fonction commentaire_filtering à la colonne commentaire\n",
    "t0 = time()\n",
    "\n",
    "df_test['commentaire_filtre'] = df_test['commentaire'].apply(lambda x : commentaire_filtering(str(x), stop_words))\n",
    "\n",
    "print('le temps de calcul est de {:.2f}'.format(time()-t0))"
   ]
  },
  {
   "cell_type": "code",
   "execution_count": 35,
   "id": "fa5e08ab",
   "metadata": {},
   "outputs": [
    {
     "data": {
      "text/html": [
       "<div>\n",
       "<style scoped>\n",
       "    .dataframe tbody tr th:only-of-type {\n",
       "        vertical-align: middle;\n",
       "    }\n",
       "\n",
       "    .dataframe tbody tr th {\n",
       "        vertical-align: top;\n",
       "    }\n",
       "\n",
       "    .dataframe thead th {\n",
       "        text-align: right;\n",
       "    }\n",
       "</style>\n",
       "<table border=\"1\" class=\"dataframe\">\n",
       "  <thead>\n",
       "    <tr style=\"text-align: right;\">\n",
       "      <th></th>\n",
       "      <th>pays</th>\n",
       "      <th>note</th>\n",
       "      <th>titre</th>\n",
       "      <th>commentaire</th>\n",
       "      <th>commentaire_filtre</th>\n",
       "    </tr>\n",
       "  </thead>\n",
       "  <tbody>\n",
       "    <tr>\n",
       "      <th>0</th>\n",
       "      <td>FR</td>\n",
       "      <td>1</td>\n",
       "      <td>nage en eaux troubles</td>\n",
       "      <td>ll y a 2 joursnage en eaux troublesSystème de vérification de compte horrible, aucunes indications, quand on fournit les pièces demandées ça ne va pas et on nous redemande les mêmes choses par la suite, service client horrible, attente interminable, me voilà bloqué depuis 3 jours et  cela n'est toujours pas résolu; aucunes informations sur la suite des démarche, ma pire expérience en matière de résolution des soucis liés à un compteDate de l'expérience: 26 novembre 2022</td>\n",
       "      <td>2 joursnage eaux troublessystème vérification compte horrible , aucunes indications , quand fournit pièces demandées ça va redemande mêmes choses suite , service client horrible , attente interminable , voilà bloqué depuis 3 jours cela n'est toujours résolu ; aucunes informations suite démarche , pire expérience matière résolution soucis liés comptedate l'expérience : 26 novembre 2022</td>\n",
       "    </tr>\n",
       "    <tr>\n",
       "      <th>1</th>\n",
       "      <td>FR</td>\n",
       "      <td>1</td>\n",
       "      <td>Colis qui fait le tour du monde</td>\n",
       "      <td>ll y a 2 joursColis qui fait le tour du mondeJe ne suis pas adepte cette enseigne mais j'avoue que je n'ai trouvé ce produit nulle part ailleurs mon expérience pour le paiement XXL par contre pour le suivi et la livraison nul archi nul aucun suivi de commande disponible je ne sais d'où vient mon produit c'est mon ultime commande et la deuxième seulement auprès de cette enseigneDate de l'expérience: 26 novembre 2022</td>\n",
       "      <td>2 jourscolis fait tour mondeje adepte cette enseigne j'avoue n'ai trouvé produit nulle part ailleurs expérience paiement xxl contre suivi livraison nul archi nul aucun suivi commande disponible sais d'où vient produit c'est ultime commande deuxième seulement auprès cette enseignedate l'expérience : 26 novembre 2022</td>\n",
       "    </tr>\n",
       "  </tbody>\n",
       "</table>\n",
       "</div>"
      ],
      "text/plain": [
       "  pays  note                            titre  \\\n",
       "0   FR     1            nage en eaux troubles   \n",
       "1   FR     1  Colis qui fait le tour du monde   \n",
       "\n",
       "                                                                                                                                                                                                                                                                                                                                                                                                                                                                                  commentaire  \\\n",
       "0  ll y a 2 joursnage en eaux troublesSystème de vérification de compte horrible, aucunes indications, quand on fournit les pièces demandées ça ne va pas et on nous redemande les mêmes choses par la suite, service client horrible, attente interminable, me voilà bloqué depuis 3 jours et  cela n'est toujours pas résolu; aucunes informations sur la suite des démarche, ma pire expérience en matière de résolution des soucis liés à un compteDate de l'expérience: 26 novembre 2022   \n",
       "1                                                          ll y a 2 joursColis qui fait le tour du mondeJe ne suis pas adepte cette enseigne mais j'avoue que je n'ai trouvé ce produit nulle part ailleurs mon expérience pour le paiement XXL par contre pour le suivi et la livraison nul archi nul aucun suivi de commande disponible je ne sais d'où vient mon produit c'est mon ultime commande et la deuxième seulement auprès de cette enseigneDate de l'expérience: 26 novembre 2022   \n",
       "\n",
       "                                                                                                                                                                                                                                                                                                                                                                                    commentaire_filtre  \n",
       "0  2 joursnage eaux troublessystème vérification compte horrible , aucunes indications , quand fournit pièces demandées ça va redemande mêmes choses suite , service client horrible , attente interminable , voilà bloqué depuis 3 jours cela n'est toujours résolu ; aucunes informations suite démarche , pire expérience matière résolution soucis liés comptedate l'expérience : 26 novembre 2022  \n",
       "1                                                                         2 jourscolis fait tour mondeje adepte cette enseigne j'avoue n'ai trouvé produit nulle part ailleurs expérience paiement xxl contre suivi livraison nul archi nul aucun suivi commande disponible sais d'où vient produit c'est ultime commande deuxième seulement auprès cette enseignedate l'expérience : 26 novembre 2022  "
      ]
     },
     "execution_count": 35,
     "metadata": {},
     "output_type": "execute_result"
    }
   ],
   "source": [
    "df_test.head(2)"
   ]
  },
  {
   "cell_type": "code",
   "execution_count": 36,
   "id": "11489f4b",
   "metadata": {},
   "outputs": [],
   "source": [
    "# séparation de la variable cible et des variables explicatives\n",
    "check_set = df_test['commentaire_filtre'].values"
   ]
  },
  {
   "cell_type": "code",
   "execution_count": 37,
   "id": "10065e99",
   "metadata": {},
   "outputs": [],
   "source": [
    "# vectorisation des token\n",
    "check_seq = tk.texts_to_sequences(check_set)"
   ]
  },
  {
   "cell_type": "code",
   "execution_count": 38,
   "id": "5197708f",
   "metadata": {},
   "outputs": [],
   "source": [
    "# mise sous matrice numpy\n",
    "check_pad = pad_sequences(check_seq, maxlen=max_words, padding='post')"
   ]
  },
  {
   "cell_type": "code",
   "execution_count": 39,
   "id": "1061496c",
   "metadata": {},
   "outputs": [
    {
     "data": {
      "text/plain": [
       "array([[  70,  172,  131, ...,    0,    0,    0],\n",
       "       [  70,   83,  137, ...,    0,    0,    0],\n",
       "       [  70,   36,  473, ...,    0,    0,    0],\n",
       "       ...,\n",
       "       [  52,   34, 1044, ...,    0,    0,    0],\n",
       "       [  91,   17, 1303, ...,    0,    0,    0],\n",
       "       [  56,   34,   36, ...,    0,    0,    0]])"
      ]
     },
     "execution_count": 39,
     "metadata": {},
     "output_type": "execute_result"
    }
   ],
   "source": [
    "check_pad"
   ]
  },
  {
   "cell_type": "code",
   "execution_count": 40,
   "id": "bff87635",
   "metadata": {},
   "outputs": [
    {
     "name": "stdout",
     "output_type": "stream",
     "text": [
      "4/4 [==============================] - 0s 3ms/step\n"
     ]
    }
   ],
   "source": [
    "# création des prédictions du jeu de test amazon à partir du modèle\n",
    "check_predict = model_embedding_1.predict(check_pad, verbose=1)"
   ]
  },
  {
   "cell_type": "code",
   "execution_count": 41,
   "id": "3690b8c8",
   "metadata": {},
   "outputs": [
    {
     "name": "stdout",
     "output_type": "stream",
     "text": [
      "[[6.00516543e-08 7.01677144e-01 1.03334539e-01 1.30971253e-01\n",
      "  4.12099175e-02 2.28070319e-02]\n",
      " [7.76449749e-09 7.88140357e-01 7.97346309e-02 8.99789929e-02\n",
      "  2.54931636e-02 1.66528672e-02]\n",
      " [6.33871899e-10 8.23263586e-01 7.42727444e-02 7.73319229e-02\n",
      "  1.56643018e-02 9.46741272e-03]\n",
      " [9.39667233e-11 8.40839744e-01 7.12985247e-02 7.07995743e-02\n",
      "  1.09935394e-02 6.06867950e-03]\n",
      " [1.07629190e-13 9.45169806e-01 2.77780183e-02 2.30036099e-02\n",
      "  2.48159072e-03 1.56682369e-03]\n",
      " [4.13589595e-20 9.90351975e-01 6.49789767e-03 3.00405151e-03\n",
      "  8.03674338e-05 6.58178178e-05]\n",
      " [2.55288107e-14 9.36899483e-01 3.54179703e-02 2.48809326e-02\n",
      "  1.72802468e-03 1.07357313e-03]\n",
      " [1.75973094e-14 9.28893447e-01 3.81228440e-02 3.01712453e-02\n",
      "  1.91313040e-03 8.99406790e-04]\n",
      " [1.42342067e-18 9.78545904e-01 1.42028034e-02 6.93369005e-03\n",
      "  1.89388229e-04 1.28290761e-04]\n",
      " [2.38702477e-13 9.57641780e-01 2.17688307e-02 1.61160249e-02\n",
      "  2.27631931e-03 2.19703536e-03]\n",
      " [2.51855425e-10 8.00314546e-01 8.23436379e-02 9.50314030e-02\n",
      "  1.55604994e-02 6.74994057e-03]\n",
      " [6.55132060e-11 8.86420071e-01 4.96644303e-02 4.81905825e-02\n",
      "  9.33696050e-03 6.38793875e-03]\n",
      " [1.74890411e-05 4.36780781e-01 1.42654687e-01 2.26490319e-01\n",
      "  1.25195652e-01 6.88610598e-02]\n",
      " [3.50455197e-16 9.73030984e-01 1.53716505e-02 1.04625048e-02\n",
      "  6.80397963e-04 4.54456807e-04]\n",
      " [3.47850256e-11 9.28821623e-01 3.27806734e-02 2.54124720e-02\n",
      "  5.83873969e-03 7.14640226e-03]\n",
      " [4.55551992e-13 9.24655199e-01 3.64027955e-02 3.31964977e-02\n",
      "  3.74618405e-03 1.99915003e-03]\n",
      " [1.37366030e-09 7.49316633e-01 9.87426862e-02 1.20672412e-01\n",
      "  2.21355706e-02 9.13273729e-03]\n",
      " [1.24351729e-08 7.12123930e-01 1.15484774e-01 1.29507601e-01\n",
      "  2.81269625e-02 1.47566758e-02]\n",
      " [2.34744234e-12 9.18595433e-01 3.82587872e-02 3.51918899e-02\n",
      "  4.94194310e-03 3.01198848e-03]\n",
      " [3.42110445e-18 9.80669200e-01 1.25688501e-02 6.37326809e-03\n",
      "  2.18766480e-04 1.69945793e-04]\n",
      " [1.37769121e-06 6.61484540e-01 1.05059035e-01 1.23424649e-01\n",
      "  5.93161285e-02 5.07143587e-02]\n",
      " [2.51222321e-10 8.29788446e-01 7.24732727e-02 7.64701962e-02\n",
      "  1.37626799e-02 7.50536239e-03]\n",
      " [2.50939185e-17 9.79448259e-01 1.22788427e-02 7.64134713e-03\n",
      "  3.79247766e-04 2.52310361e-04]\n",
      " [6.54235841e-18 9.65038061e-01 2.40379907e-02 1.05540995e-02\n",
      "  2.21187132e-04 1.48522799e-04]\n",
      " [3.20196777e-05 5.49388111e-01 7.80038238e-02 8.08213130e-02\n",
      "  8.99392739e-02 2.01815456e-01]\n",
      " [4.95446018e-10 7.83633769e-01 9.12502483e-02 1.00713588e-01\n",
      "  1.66937560e-02 7.70868314e-03]\n",
      " [1.32572744e-10 8.19571674e-01 7.53812864e-02 8.53810459e-02\n",
      "  1.36343772e-02 6.03169017e-03]\n",
      " [3.40217838e-07 5.27419925e-01 1.59926802e-01 2.28209212e-01\n",
      "  6.12999462e-02 2.31437851e-02]\n",
      " [7.43841100e-12 8.48346770e-01 7.54663646e-02 6.68038353e-02\n",
      "  6.37207320e-03 3.01095191e-03]\n",
      " [6.63074898e-05 7.09143654e-02 2.87407041e-02 6.19165115e-02\n",
      "  2.44628012e-01 5.93734086e-01]\n",
      " [3.50465001e-07 5.07076561e-01 1.70522600e-01 2.39106506e-01\n",
      "  6.09256439e-02 2.23683491e-02]\n",
      " [1.12855958e-03 1.41632572e-01 8.89977217e-02 1.93333119e-01\n",
      "  2.84396589e-01 2.90511400e-01]\n",
      " [1.68393921e-08 7.89196968e-01 7.80289695e-02 8.45857859e-02\n",
      "  2.72052176e-02 2.09831260e-02]\n",
      " [2.58445198e-06 5.56161582e-01 1.30017832e-01 1.84902683e-01\n",
      "  8.29880163e-02 4.59272861e-02]\n",
      " [7.56203053e-06 5.03532171e-01 1.36241883e-01 2.01360956e-01\n",
      "  1.01519905e-01 5.73375002e-02]\n",
      " [1.51234192e-10 8.94328415e-01 4.60163951e-02 4.16246168e-02\n",
      "  9.55669396e-03 8.47387407e-03]\n",
      " [5.40202050e-10 7.96177685e-01 9.36558619e-02 8.82268026e-02\n",
      "  1.38422046e-02 8.09739344e-03]\n",
      " [2.81845857e-12 9.20174122e-01 3.76949646e-02 3.39792669e-02\n",
      "  4.93864808e-03 3.21302959e-03]\n",
      " [9.57896532e-07 1.59200460e-01 1.21087946e-01 4.16151881e-01\n",
      "  2.43574098e-01 5.99846318e-02]\n",
      " [7.20610016e-09 7.27375209e-01 1.03689425e-01 1.26682818e-01\n",
      "  2.86669675e-02 1.35855936e-02]\n",
      " [3.59592377e-05 5.35586298e-01 1.20954819e-01 1.50133848e-01\n",
      "  9.93240848e-02 9.39650163e-02]\n",
      " [1.26121267e-06 3.14275414e-01 1.56640276e-01 3.44333768e-01\n",
      "  1.43047705e-01 4.17015962e-02]\n",
      " [4.85907862e-04 2.50947535e-01 1.26996264e-01 2.32962564e-01\n",
      "  2.21837088e-01 1.66770607e-01]\n",
      " [7.25158711e-10 7.74036348e-01 9.31601673e-02 1.06087349e-01\n",
      "  1.84118114e-02 8.30439478e-03]\n",
      " [4.19944081e-06 5.80560982e-01 1.22470737e-01 1.61647409e-01\n",
      "  8.01196620e-02 5.51970527e-02]\n",
      " [1.06200412e-06 1.03454575e-01 9.68231037e-02 3.90896022e-01\n",
      "  3.18301111e-01 9.05242041e-02]\n",
      " [4.76743281e-07 4.71065119e-02 5.49535975e-02 3.00663501e-01\n",
      "  4.37526852e-01 1.59748986e-01]\n",
      " [2.08341180e-06 4.13056687e-02 4.80258949e-02 2.43970513e-01\n",
      "  4.46666360e-01 2.20029429e-01]\n",
      " [1.28445870e-04 1.98910296e-01 1.37253970e-01 3.12240809e-01\n",
      "  2.39649594e-01 1.11816876e-01]\n",
      " [1.06905864e-05 5.87094247e-01 1.15518101e-01 1.40236452e-01\n",
      "  8.21261704e-02 7.50142485e-02]\n",
      " [1.26648115e-06 2.62902915e-01 1.57839090e-01 3.75521153e-01\n",
      "  1.62070259e-01 4.16652337e-02]\n",
      " [1.94088571e-07 6.83990479e-01 1.06056735e-01 1.32008970e-01\n",
      "  4.78220731e-02 3.01216245e-02]\n",
      " [9.51993817e-10 8.33875656e-01 6.67968169e-02 7.15797096e-02\n",
      "  1.69112757e-02 1.08365808e-02]\n",
      " [1.40420235e-08 7.33522713e-01 9.70605165e-02 1.20536633e-01\n",
      "  3.22795808e-02 1.66005529e-02]\n",
      " [5.34545643e-06 1.67933524e-01 1.23214483e-01 3.83922338e-01\n",
      "  2.48861089e-01 7.60632381e-02]\n",
      " [5.12754968e-06 5.98762706e-02 6.36222437e-02 2.81363398e-01\n",
      "  4.07699585e-01 1.87433332e-01]\n",
      " [1.32532557e-06 1.21579386e-01 1.09285563e-01 3.93954307e-01\n",
      "  2.92970240e-01 8.22091922e-02]\n",
      " [9.03821240e-10 7.82986760e-01 8.63590688e-02 1.01954557e-01\n",
      "  1.96568146e-02 9.04280040e-03]\n",
      " [2.28662575e-05 3.49950045e-01 1.44756243e-01 2.68128902e-01\n",
      "  1.59561962e-01 7.75798783e-02]\n",
      " [2.61733177e-08 8.13516438e-01 6.84536323e-02 6.62220269e-02\n",
      "  2.49143112e-02 2.68935654e-02]\n",
      " [7.09580945e-08 6.90562189e-01 1.05838187e-01 1.36960983e-01\n",
      "  4.34327610e-02 2.32059043e-02]\n",
      " [4.96469031e-04 7.46022463e-02 4.59464155e-02 1.08966984e-01\n",
      "  2.99714148e-01 4.70273703e-01]\n",
      " [3.51424956e-06 9.16826651e-02 8.64627436e-02 3.55974138e-01\n",
      "  3.45339566e-01 1.20537400e-01]\n",
      " [1.73717526e-05 2.90222578e-02 1.60316937e-02 4.79554944e-02\n",
      "  2.67341346e-01 6.39631808e-01]\n",
      " [2.74356125e-07 4.69685532e-03 4.16116556e-03 2.56884173e-02\n",
      "  2.86913604e-01 6.78539634e-01]\n",
      " [5.77318682e-09 8.23640168e-01 6.81626499e-02 6.96372986e-02\n",
      "  2.10430659e-02 1.75167881e-02]\n",
      " [2.27578857e-06 4.28193241e-01 1.48779139e-01 2.64709234e-01\n",
      "  1.13513991e-01 4.48020957e-02]\n",
      " [1.79560720e-06 1.69927180e-01 1.34089619e-01 3.93760085e-01\n",
      "  2.38617763e-01 6.36036098e-02]\n",
      " [2.82066139e-05 9.70373675e-02 8.90186727e-02 3.10594857e-01\n",
      "  3.43761176e-01 1.59559786e-01]\n",
      " [4.46436257e-04 1.21329598e-01 9.04584229e-02 2.29805470e-01\n",
      "  3.14198822e-01 2.43761286e-01]\n",
      " [2.19773632e-04 1.06003568e-01 4.16858681e-02 8.05579498e-02\n",
      "  2.45503440e-01 5.26029348e-01]\n",
      " [4.59043113e-05 2.96984047e-01 1.46882728e-01 2.85972774e-01\n",
      "  1.82716563e-01 8.73979256e-02]\n",
      " [4.16836230e-07 5.97399712e-01 1.27485409e-01 1.81206599e-01\n",
      "  6.38517812e-02 3.00561078e-02]\n",
      " [7.06483320e-07 1.78591944e-02 7.01620895e-03 2.10527629e-02\n",
      "  1.97970986e-01 7.56100118e-01]\n",
      " [1.48113397e-08 6.91214323e-01 1.24811441e-01 1.40744567e-01\n",
      "  2.89114844e-02 1.43182501e-02]\n",
      " [2.53901521e-06 6.72952533e-01 9.73784849e-02 1.05547845e-01\n",
      "  5.86856082e-02 6.54329434e-02]\n",
      " [2.19647245e-05 4.35457192e-02 4.68562357e-02 1.92464560e-01\n",
      "  4.20580268e-01 2.96531230e-01]\n",
      " [6.80683370e-05 6.56585544e-02 6.30126297e-02 2.25173444e-01\n",
      "  3.85833740e-01 2.60253608e-01]\n",
      " [1.11484860e-06 2.15438958e-02 2.89278645e-02 1.63144603e-01\n",
      "  4.79523420e-01 3.06859165e-01]\n",
      " [6.73819086e-05 2.54273027e-01 1.38482079e-01 2.93494940e-01\n",
      "  2.11338937e-01 1.02343611e-01]\n",
      " [2.26423217e-05 5.61451912e-01 1.17221788e-01 1.42300442e-01\n",
      "  9.08818394e-02 8.81212950e-02]\n",
      " [1.17013848e-13 8.15893945e-05 3.86506690e-05 4.99880000e-04\n",
      "  7.10729882e-02 9.28306878e-01]\n",
      " [4.76281414e-08 8.56899191e-03 3.06928437e-03 1.06849493e-02\n",
      "  1.59737736e-01 8.17938983e-01]\n",
      " [6.48922014e-06 2.75053103e-02 1.28641911e-02 3.67748663e-02\n",
      "  2.40190327e-01 6.82658792e-01]\n",
      " [3.17663691e-08 6.61498547e-01 1.35427997e-01 1.54433846e-01\n",
      "  3.26860771e-02 1.59534756e-02]\n",
      " [2.53158640e-11 8.25143710e-04 2.67288327e-04 1.58141239e-03\n",
      "  8.60933363e-02 9.11232829e-01]\n",
      " [1.44758803e-06 1.23487357e-02 7.15117436e-03 2.71783751e-02\n",
      "  2.42197886e-01 7.11122334e-01]\n",
      " [1.16750487e-09 1.71939109e-03 7.93960586e-04 4.59343288e-03\n",
      "  1.38563275e-01 8.54330003e-01]\n",
      " [2.12075101e-04 6.71819523e-02 3.53459418e-02 8.31550881e-02\n",
      "  2.79152572e-01 5.34952343e-01]\n",
      " [1.04501375e-13 9.47564695e-05 3.88696972e-05 4.47604107e-04\n",
      "  6.47706464e-02 9.34648097e-01]\n",
      " [6.49545655e-06 5.83126783e-01 1.19909205e-01 1.52701467e-01\n",
      "  8.11947659e-02 6.30612001e-02]\n",
      " [9.83288162e-04 3.18587214e-01 8.91235918e-02 1.18394427e-01\n",
      "  1.70065179e-01 3.02846313e-01]\n",
      " [3.40359948e-05 2.93984681e-01 1.66156635e-01 3.05801362e-01\n",
      "  1.64554939e-01 6.94682896e-02]\n",
      " [5.33460843e-06 1.33960536e-02 1.03822602e-02 4.45545577e-02\n",
      "  3.03848207e-01 6.27813578e-01]\n",
      " [2.05857958e-07 1.16258487e-02 4.63809492e-03 1.54853873e-02\n",
      "  1.84347987e-01 7.83902586e-01]\n",
      " [9.42103373e-09 3.90446559e-03 1.64963782e-03 7.40762148e-03\n",
      "  1.53621614e-01 8.33416700e-01]\n",
      " [1.50994776e-04 1.62044108e-01 4.52854335e-02 7.23109841e-02\n",
      "  2.07524896e-01 5.12683570e-01]\n",
      " [4.89051200e-09 8.37117154e-03 1.87804131e-03 5.57403918e-03\n",
      "  1.09957255e-01 8.74219477e-01]\n",
      " [8.07414108e-06 1.22870967e-01 1.05883472e-01 3.66496861e-01\n",
      "  3.00283164e-01 1.04457512e-01]\n",
      " [7.58193710e-05 4.30755168e-01 1.37018964e-01 2.01323032e-01\n",
      "  1.35184243e-01 9.56427231e-02]]\n"
     ]
    }
   ],
   "source": [
    "print(check_predict)"
   ]
  },
  {
   "cell_type": "code",
   "execution_count": 42,
   "id": "918f024f",
   "metadata": {},
   "outputs": [
    {
     "data": {
      "text/plain": [
       "array([1, 1, 1, 1, 1, 1, 1, 1, 1, 1, 1, 1, 1, 1, 1, 1, 1, 1, 1, 1, 1, 1,\n",
       "       1, 1, 1, 1, 1, 1, 1, 5, 1, 5, 1, 1, 1, 1, 1, 1, 3, 1, 1, 3, 1, 1,\n",
       "       1, 3, 4, 4, 3, 1, 3, 1, 1, 1, 3, 4, 3, 1, 1, 1, 1, 5, 3, 5, 5, 1,\n",
       "       1, 3, 4, 4, 5, 1, 1, 5, 1, 1, 4, 4, 4, 3, 1, 5, 5, 5, 1, 5, 5, 5,\n",
       "       5, 5, 1, 1, 3, 5, 5, 5, 5, 5, 3, 1], dtype=int64)"
      ]
     },
     "execution_count": 42,
     "metadata": {},
     "output_type": "execute_result"
    }
   ],
   "source": [
    "check_predict_class = check_predict.argmax(axis=1)\n",
    "check_predict_class"
   ]
  },
  {
   "cell_type": "code",
   "execution_count": 43,
   "id": "819395e0",
   "metadata": {},
   "outputs": [
    {
     "name": "stderr",
     "output_type": "stream",
     "text": [
      "C:\\Users\\t.fourtouill\\Anaconda3\\lib\\site-packages\\seaborn\\_decorators.py:36: FutureWarning: Pass the following variable as a keyword arg: x. From version 0.12, the only valid positional argument will be `data`, and passing other arguments without an explicit keyword will result in an error or misinterpretation.\n",
      "  warnings.warn(\n"
     ]
    },
    {
     "data": {
      "image/png": "[encoded data removed]",
      "text/plain": [
       "<Figure size 432x288 with 1 Axes>"
      ]
     },
     "metadata": {
      "needs_background": "light"
     },
     "output_type": "display_data"
    }
   ],
   "source": [
    "sns.countplot(check_predict_class);"
   ]
  },
  {
   "cell_type": "code",
   "execution_count": 44,
   "id": "438bcba6",
   "metadata": {},
   "outputs": [
    {
     "data": {
      "text/html": [
       "<div>\n",
       "<style scoped>\n",
       "    .dataframe tbody tr th:only-of-type {\n",
       "        vertical-align: middle;\n",
       "    }\n",
       "\n",
       "    .dataframe tbody tr th {\n",
       "        vertical-align: top;\n",
       "    }\n",
       "\n",
       "    .dataframe thead th {\n",
       "        text-align: right;\n",
       "    }\n",
       "</style>\n",
       "<table border=\"1\" class=\"dataframe\">\n",
       "  <thead>\n",
       "    <tr style=\"text-align: right;\">\n",
       "      <th></th>\n",
       "      <th>commentaire</th>\n",
       "      <th>note</th>\n",
       "      <th>prediction</th>\n",
       "    </tr>\n",
       "  </thead>\n",
       "  <tbody>\n",
       "    <tr>\n",
       "      <th>0</th>\n",
       "      <td>ll y a 2 joursnage en eaux troublesSystème de vérification de compte horrible, aucunes indications, quand on fournit les pièces demandées ça ne va pas et on nous redemande les mêmes choses par la suite, service client horrible, attente interminable, me voilà bloqué depuis 3 jours et  cela n'est toujours pas résolu; aucunes informations sur la suite des démarche, ma pire expérience en matière de résolution des soucis liés à un compteDate de l'expérience: 26 novembre 2022</td>\n",
       "      <td>1</td>\n",
       "      <td>1</td>\n",
       "    </tr>\n",
       "    <tr>\n",
       "      <th>1</th>\n",
       "      <td>ll y a 2 joursColis qui fait le tour du mondeJe ne suis pas adepte cette enseigne mais j'avoue que je n'ai trouvé ce produit nulle part ailleurs mon expérience pour le paiement XXL par contre pour le suivi et la livraison nul archi nul aucun suivi de commande disponible je ne sais d'où vient mon produit c'est mon ultime commande et la deuxième seulement auprès de cette enseigneDate de l'expérience: 26 novembre 2022</td>\n",
       "      <td>1</td>\n",
       "      <td>1</td>\n",
       "    </tr>\n",
       "    <tr>\n",
       "      <th>2</th>\n",
       "      <td>ll y a 2 joursPromotion mensongèreHier j’ai voulu commandé un jouet avec la promotion affichée « 3 jouets pour 2 ». Il était bien indiqué que la promotion fonctionnait sur le jouet en question. Arrivé au paiement, pas de déduction pour le 3è jouet, je ne commande donc pas et envoie un mail à Amazon avec print écran à l’appui de la promo sur le jouet. L’interlocutrice n’a rien voulu savoir, la promo a été retirée depuis sur le jouet, honteux !! Non seulement les prix varient sans arrêt et en plus ils ne respectent pas les promotions qu’ils mettent en place. J’ai trouvé mon bonheur chez cdiscount, vendeur bien plus sérieuxDate de l'expérience: 24 novembre 2022</td>\n",
       "      <td>1</td>\n",
       "      <td>1</td>\n",
       "    </tr>\n",
       "    <tr>\n",
       "      <th>3</th>\n",
       "      <td>ll y a 3 joursJ’ai commandé un article cadeau sur…J’ai commandé un article cadeau sur Amazon, le fournisseur n’apparaît plus sur le site d’Amazon, je n’ai aucun retour de la part d’Amazon. Ce n’est que 28€ mais de trop si pas de remboursement. Il me paraît impossible d’entrer en contact avec le service « commercial » après plusieurs tentatives, avez-vous un numéro ou une adresse ? Merci de votre aideDate de l'expérience: 23 novembre 2022</td>\n",
       "      <td>1</td>\n",
       "      <td>1</td>\n",
       "    </tr>\n",
       "    <tr>\n",
       "      <th>4</th>\n",
       "      <td>ll y a 3 joursJ'ai commandé un téléphone portable sur…J'ai commandé un téléphone portable sur le site, reçu mais après lecture de la documentation technique, ce téléphone n'avait pas les fonctions indiquées sur l'annonce, bon l'erreur est humaine, je renvois le matériel avec l'autorisation d'Amazon le 8 novembre, malgré les divers contacts et relances, aucun remboursement ce jour soit le 25 novembre, depuis j'ai acheté un autre téléphone, je me suis fais escroqué de 140 euros, voilà c'est Amazon, ca à bien changé, faites attention.Date de l'expérience: 08 novembre 2022</td>\n",
       "      <td>1</td>\n",
       "      <td>1</td>\n",
       "    </tr>\n",
       "  </tbody>\n",
       "</table>\n",
       "</div>"
      ],
      "text/plain": [
       "                                                                                                                                                                                                                                                                                                                                                                                                                                                                                                                                                                                                                                                                                  commentaire  \\\n",
       "0                                                                                                                                                                                                  ll y a 2 joursnage en eaux troublesSystème de vérification de compte horrible, aucunes indications, quand on fournit les pièces demandées ça ne va pas et on nous redemande les mêmes choses par la suite, service client horrible, attente interminable, me voilà bloqué depuis 3 jours et  cela n'est toujours pas résolu; aucunes informations sur la suite des démarche, ma pire expérience en matière de résolution des soucis liés à un compteDate de l'expérience: 26 novembre 2022   \n",
       "1                                                                                                                                                                                                                                                          ll y a 2 joursColis qui fait le tour du mondeJe ne suis pas adepte cette enseigne mais j'avoue que je n'ai trouvé ce produit nulle part ailleurs mon expérience pour le paiement XXL par contre pour le suivi et la livraison nul archi nul aucun suivi de commande disponible je ne sais d'où vient mon produit c'est mon ultime commande et la deuxième seulement auprès de cette enseigneDate de l'expérience: 26 novembre 2022   \n",
       "2  ll y a 2 joursPromotion mensongèreHier j’ai voulu commandé un jouet avec la promotion affichée « 3 jouets pour 2 ». Il était bien indiqué que la promotion fonctionnait sur le jouet en question. Arrivé au paiement, pas de déduction pour le 3è jouet, je ne commande donc pas et envoie un mail à Amazon avec print écran à l’appui de la promo sur le jouet. L’interlocutrice n’a rien voulu savoir, la promo a été retirée depuis sur le jouet, honteux !! Non seulement les prix varient sans arrêt et en plus ils ne respectent pas les promotions qu’ils mettent en place. J’ai trouvé mon bonheur chez cdiscount, vendeur bien plus sérieuxDate de l'expérience: 24 novembre 2022   \n",
       "3                                                                                                                                                                                                                                   ll y a 3 joursJ’ai commandé un article cadeau sur…J’ai commandé un article cadeau sur Amazon, le fournisseur n’apparaît plus sur le site d’Amazon, je n’ai aucun retour de la part d’Amazon. Ce n’est que 28€ mais de trop si pas de remboursement. Il me paraît impossible d’entrer en contact avec le service « commercial » après plusieurs tentatives, avez-vous un numéro ou une adresse ? Merci de votre aideDate de l'expérience: 23 novembre 2022   \n",
       "4                                                                                             ll y a 3 joursJ'ai commandé un téléphone portable sur…J'ai commandé un téléphone portable sur le site, reçu mais après lecture de la documentation technique, ce téléphone n'avait pas les fonctions indiquées sur l'annonce, bon l'erreur est humaine, je renvois le matériel avec l'autorisation d'Amazon le 8 novembre, malgré les divers contacts et relances, aucun remboursement ce jour soit le 25 novembre, depuis j'ai acheté un autre téléphone, je me suis fais escroqué de 140 euros, voilà c'est Amazon, ca à bien changé, faites attention.Date de l'expérience: 08 novembre 2022   \n",
       "\n",
       "   note  prediction  \n",
       "0     1           1  \n",
       "1     1           1  \n",
       "2     1           1  \n",
       "3     1           1  \n",
       "4     1           1  "
      ]
     },
     "execution_count": 44,
     "metadata": {},
     "output_type": "execute_result"
    }
   ],
   "source": [
    "# comparaison des prédictions et des notes du jeu de test\n",
    "check_df = pd.DataFrame(list(zip(df_test.commentaire, df_test.note, check_predict_class)), columns=['commentaire', 'note', 'prediction'])\n",
    "check_df.head()"
   ]
  },
  {
   "cell_type": "code",
   "execution_count": 45,
   "id": "11ec7bbb",
   "metadata": {},
   "outputs": [
    {
     "name": "stdout",
     "output_type": "stream",
     "text": [
      "              precision    recall  f1-score   support\n",
      "\n",
      "           1       0.74      0.79      0.77      2045\n",
      "           2       0.00      0.00      0.00       584\n",
      "           3       0.42      0.18      0.25      1445\n",
      "           4       0.40      0.10      0.16      4957\n",
      "           5       0.73      0.98      0.84     14969\n",
      "\n",
      "    accuracy                           0.71     24000\n",
      "   macro avg       0.46      0.41      0.40     24000\n",
      "weighted avg       0.63      0.71      0.64     24000\n",
      "\n"
     ]
    },
    {
     "name": "stderr",
     "output_type": "stream",
     "text": [
      "C:\\Users\\t.fourtouill\\Anaconda3\\lib\\site-packages\\sklearn\\metrics\\_classification.py:1327: UndefinedMetricWarning: Precision and F-score are ill-defined and being set to 0.0 in labels with no predicted samples. Use `zero_division` parameter to control this behavior.\n",
      "  _warn_prf(average, modifier, msg_start, len(result))\n",
      "C:\\Users\\t.fourtouill\\Anaconda3\\lib\\site-packages\\sklearn\\metrics\\_classification.py:1327: UndefinedMetricWarning: Precision and F-score are ill-defined and being set to 0.0 in labels with no predicted samples. Use `zero_division` parameter to control this behavior.\n",
      "  _warn_prf(average, modifier, msg_start, len(result))\n",
      "C:\\Users\\t.fourtouill\\Anaconda3\\lib\\site-packages\\sklearn\\metrics\\_classification.py:1327: UndefinedMetricWarning: Precision and F-score are ill-defined and being set to 0.0 in labels with no predicted samples. Use `zero_division` parameter to control this behavior.\n",
      "  _warn_prf(average, modifier, msg_start, len(result))\n"
     ]
    },
    {
     "data": {
      "text/html": [
       "<div>\n",
       "<style scoped>\n",
       "    .dataframe tbody tr th:only-of-type {\n",
       "        vertical-align: middle;\n",
       "    }\n",
       "\n",
       "    .dataframe tbody tr th {\n",
       "        vertical-align: top;\n",
       "    }\n",
       "\n",
       "    .dataframe thead th {\n",
       "        text-align: right;\n",
       "    }\n",
       "</style>\n",
       "<table border=\"1\" class=\"dataframe\">\n",
       "  <thead>\n",
       "    <tr style=\"text-align: right;\">\n",
       "      <th>predictions</th>\n",
       "      <th>1</th>\n",
       "      <th>3</th>\n",
       "      <th>4</th>\n",
       "      <th>5</th>\n",
       "    </tr>\n",
       "    <tr>\n",
       "      <th>données réelles</th>\n",
       "      <th></th>\n",
       "      <th></th>\n",
       "      <th></th>\n",
       "      <th></th>\n",
       "    </tr>\n",
       "  </thead>\n",
       "  <tbody>\n",
       "    <tr>\n",
       "      <th>1</th>\n",
       "      <td>1618</td>\n",
       "      <td>88</td>\n",
       "      <td>80</td>\n",
       "      <td>259</td>\n",
       "    </tr>\n",
       "    <tr>\n",
       "      <th>2</th>\n",
       "      <td>223</td>\n",
       "      <td>94</td>\n",
       "      <td>107</td>\n",
       "      <td>160</td>\n",
       "    </tr>\n",
       "    <tr>\n",
       "      <th>3</th>\n",
       "      <td>199</td>\n",
       "      <td>265</td>\n",
       "      <td>337</td>\n",
       "      <td>644</td>\n",
       "    </tr>\n",
       "    <tr>\n",
       "      <th>4</th>\n",
       "      <td>77</td>\n",
       "      <td>158</td>\n",
       "      <td>505</td>\n",
       "      <td>4217</td>\n",
       "    </tr>\n",
       "    <tr>\n",
       "      <th>5</th>\n",
       "      <td>60</td>\n",
       "      <td>33</td>\n",
       "      <td>232</td>\n",
       "      <td>14644</td>\n",
       "    </tr>\n",
       "  </tbody>\n",
       "</table>\n",
       "</div>"
      ],
      "text/plain": [
       "predictions         1    3    4      5\n",
       "données réelles                       \n",
       "1                1618   88   80    259\n",
       "2                 223   94  107    160\n",
       "3                 199  265  337    644\n",
       "4                  77  158  505   4217\n",
       "5                  60   33  232  14644"
      ]
     },
     "metadata": {},
     "output_type": "display_data"
    },
    {
     "name": "stderr",
     "output_type": "stream",
     "text": [
      "C:\\Users\\t.fourtouill\\Anaconda3\\lib\\site-packages\\sklearn\\metrics\\_classification.py:1327: UndefinedMetricWarning: Precision and F-score are ill-defined and being set to 0.0 in labels with no predicted samples. Use `zero_division` parameter to control this behavior.\n",
      "  _warn_prf(average, modifier, msg_start, len(result))\n",
      "C:\\Users\\t.fourtouill\\Anaconda3\\lib\\site-packages\\sklearn\\metrics\\_classification.py:1327: UndefinedMetricWarning: Precision and F-score are ill-defined and being set to 0.0 in labels with no predicted samples. Use `zero_division` parameter to control this behavior.\n",
      "  _warn_prf(average, modifier, msg_start, len(result))\n",
      "C:\\Users\\t.fourtouill\\Anaconda3\\lib\\site-packages\\sklearn\\metrics\\_classification.py:1327: UndefinedMetricWarning: Precision and F-score are ill-defined and being set to 0.0 in labels with no predicted samples. Use `zero_division` parameter to control this behavior.\n",
      "  _warn_prf(average, modifier, msg_start, len(result))\n"
     ]
    },
    {
     "name": "stdout",
     "output_type": "stream",
     "text": [
      "              precision    recall  f1-score   support\n",
      "\n",
      "           1       0.33      1.00      0.50        20\n",
      "           2       0.00      0.00      0.00        20\n",
      "           3       0.50      0.30      0.37        20\n",
      "           4       0.62      0.25      0.36        20\n",
      "           5       0.65      0.65      0.65        20\n",
      "\n",
      "    accuracy                           0.44       100\n",
      "   macro avg       0.42      0.44      0.38       100\n",
      "weighted avg       0.42      0.44      0.38       100\n",
      "\n"
     ]
    },
    {
     "data": {
      "text/html": [
       "<div>\n",
       "<style scoped>\n",
       "    .dataframe tbody tr th:only-of-type {\n",
       "        vertical-align: middle;\n",
       "    }\n",
       "\n",
       "    .dataframe tbody tr th {\n",
       "        vertical-align: top;\n",
       "    }\n",
       "\n",
       "    .dataframe thead th {\n",
       "        text-align: right;\n",
       "    }\n",
       "</style>\n",
       "<table border=\"1\" class=\"dataframe\">\n",
       "  <thead>\n",
       "    <tr style=\"text-align: right;\">\n",
       "      <th>predictions</th>\n",
       "      <th>1</th>\n",
       "      <th>3</th>\n",
       "      <th>4</th>\n",
       "      <th>5</th>\n",
       "    </tr>\n",
       "    <tr>\n",
       "      <th>données réelles</th>\n",
       "      <th></th>\n",
       "      <th></th>\n",
       "      <th></th>\n",
       "      <th></th>\n",
       "    </tr>\n",
       "  </thead>\n",
       "  <tbody>\n",
       "    <tr>\n",
       "      <th>1</th>\n",
       "      <td>20</td>\n",
       "      <td>0</td>\n",
       "      <td>0</td>\n",
       "      <td>0</td>\n",
       "    </tr>\n",
       "    <tr>\n",
       "      <th>2</th>\n",
       "      <td>17</td>\n",
       "      <td>1</td>\n",
       "      <td>0</td>\n",
       "      <td>2</td>\n",
       "    </tr>\n",
       "    <tr>\n",
       "      <th>3</th>\n",
       "      <td>11</td>\n",
       "      <td>6</td>\n",
       "      <td>3</td>\n",
       "      <td>0</td>\n",
       "    </tr>\n",
       "    <tr>\n",
       "      <th>4</th>\n",
       "      <td>7</td>\n",
       "      <td>3</td>\n",
       "      <td>5</td>\n",
       "      <td>5</td>\n",
       "    </tr>\n",
       "    <tr>\n",
       "      <th>5</th>\n",
       "      <td>5</td>\n",
       "      <td>2</td>\n",
       "      <td>0</td>\n",
       "      <td>13</td>\n",
       "    </tr>\n",
       "  </tbody>\n",
       "</table>\n",
       "</div>"
      ],
      "text/plain": [
       "predictions       1  3  4   5\n",
       "données réelles              \n",
       "1                20  0  0   0\n",
       "2                17  1  0   2\n",
       "3                11  6  3   0\n",
       "4                 7  3  5   5\n",
       "5                 5  2  0  13"
      ]
     },
     "metadata": {},
     "output_type": "display_data"
    },
    {
     "data": {
      "text/html": [
       "<div>\n",
       "<style scoped>\n",
       "    .dataframe tbody tr th:only-of-type {\n",
       "        vertical-align: middle;\n",
       "    }\n",
       "\n",
       "    .dataframe tbody tr th {\n",
       "        vertical-align: top;\n",
       "    }\n",
       "\n",
       "    .dataframe thead th {\n",
       "        text-align: right;\n",
       "    }\n",
       "</style>\n",
       "<table border=\"1\" class=\"dataframe\">\n",
       "  <thead>\n",
       "    <tr style=\"text-align: right;\">\n",
       "      <th>predictions</th>\n",
       "      <th>1</th>\n",
       "      <th>3</th>\n",
       "      <th>4</th>\n",
       "      <th>5</th>\n",
       "    </tr>\n",
       "    <tr>\n",
       "      <th>données réelles</th>\n",
       "      <th></th>\n",
       "      <th></th>\n",
       "      <th></th>\n",
       "      <th></th>\n",
       "    </tr>\n",
       "  </thead>\n",
       "  <tbody>\n",
       "    <tr>\n",
       "      <th>1</th>\n",
       "      <td>1.00</td>\n",
       "      <td>0.00</td>\n",
       "      <td>0.00</td>\n",
       "      <td>0.00</td>\n",
       "    </tr>\n",
       "    <tr>\n",
       "      <th>2</th>\n",
       "      <td>0.85</td>\n",
       "      <td>0.05</td>\n",
       "      <td>0.00</td>\n",
       "      <td>0.10</td>\n",
       "    </tr>\n",
       "    <tr>\n",
       "      <th>3</th>\n",
       "      <td>0.55</td>\n",
       "      <td>0.30</td>\n",
       "      <td>0.15</td>\n",
       "      <td>0.00</td>\n",
       "    </tr>\n",
       "    <tr>\n",
       "      <th>4</th>\n",
       "      <td>0.35</td>\n",
       "      <td>0.15</td>\n",
       "      <td>0.25</td>\n",
       "      <td>0.25</td>\n",
       "    </tr>\n",
       "    <tr>\n",
       "      <th>5</th>\n",
       "      <td>0.25</td>\n",
       "      <td>0.10</td>\n",
       "      <td>0.00</td>\n",
       "      <td>0.65</td>\n",
       "    </tr>\n",
       "  </tbody>\n",
       "</table>\n",
       "</div>"
      ],
      "text/plain": [
       "predictions         1     3     4     5\n",
       "données réelles                        \n",
       "1                1.00  0.00  0.00  0.00\n",
       "2                0.85  0.05  0.00  0.10\n",
       "3                0.55  0.30  0.15  0.00\n",
       "4                0.35  0.15  0.25  0.25\n",
       "5                0.25  0.10  0.00  0.65"
      ]
     },
     "metadata": {},
     "output_type": "display_data"
    },
    {
     "name": "stdout",
     "output_type": "stream",
     "text": [
      "les prédictions correctes sont supérieures à 50% pour 1 étoile(s) avec 100%\n",
      "les prédictions correctes sont supérieures à 50% pour 5 étoile(s) avec 65%\n"
     ]
    }
   ],
   "source": [
    "from sklearn.metrics import classification_report\n",
    "\n",
    "cr = classification_report(y_test, predict_cdiscount_class)\n",
    "print(cr)\n",
    "\n",
    "cm = pd.crosstab(y_test, predict_cdiscount_class, rownames=['données réelles'], colnames=['predictions'])\n",
    "display(cm)\n",
    "\n",
    "# vérification des résultats sur un jeu de test externe (100 commentaires amazon également répartis entre les étoiles)\n",
    "\n",
    "cm_test = classification_report(df_test.note, check_predict_class)\n",
    "print(cm_test)\n",
    "\n",
    "cm_test2 = pd.crosstab(df_test.note, check_predict_class, rownames=['données réelles'], colnames=['predictions'])\n",
    "display(cm_test2)\n",
    "\n",
    "cm_test3 = pd.crosstab(df_test.note, check_predict_class, rownames=['données réelles'], colnames=['predictions'], normalize=0)\n",
    "display(cm_test3)\n",
    "\n",
    "for i in cm_test3.index:\n",
    "    for j in cm_test3.columns :\n",
    "        if (i==j and cm_test3.loc[i, j] > 0.5) :\n",
    "            print(\"les prédictions correctes sont supérieures à 50% pour {} étoile(s) avec {:0.0%}\".format(i, cm_test3.loc[i, j]))"
   ]
  },
  {
   "cell_type": "code",
   "execution_count": 46,
   "id": "8b6366a5",
   "metadata": {},
   "outputs": [
    {
     "name": "stdout",
     "output_type": "stream",
     "text": [
      "INFO:tensorflow:Assets written to: datasets/SatisfactionClients/model_embedding7\\assets\n"
     ]
    }
   ],
   "source": [
    "import os\n",
    "path = \"/Users/t.fourtouill/Downloads/SatisfactionClients\"\n",
    "os.makedirs(path, exist_ok=True)\n",
    "model_embedding_1.save('datasets/SatisfactionClients/model_embedding7')"
   ]
  }
 ],
 "metadata": {
  "kernelspec": {
   "display_name": "Python 3 (ipykernel)",
   "language": "python",
   "name": "python3"
  },
  "language_info": {
   "codemirror_mode": {
    "name": "ipython",
    "version": 3
   },
   "file_extension": ".py",
   "mimetype": "text/x-python",
   "name": "python",
   "nbconvert_exporter": "python",
   "pygments_lexer": "ipython3",
   "version": "3.9.7"
  }
 },
 "nbformat": 4,
 "nbformat_minor": 5
}
