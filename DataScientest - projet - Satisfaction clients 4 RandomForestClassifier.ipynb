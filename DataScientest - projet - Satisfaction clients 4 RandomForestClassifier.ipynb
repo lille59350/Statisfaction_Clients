{
 "cells": [
  {
   "cell_type": "code",
   "execution_count": 1,
   "id": "e2cf857f",
   "metadata": {},
   "outputs": [],
   "source": [
    "import pandas as pd\n",
    "import numpy as np\n",
    "import matplotlib.pyplot as plt\n",
    "import seaborn as sns"
   ]
  },
  {
   "cell_type": "code",
   "execution_count": 2,
   "id": "d0a6ec30",
   "metadata": {},
   "outputs": [],
   "source": [
    "TrustPilot = pd.read_csv('TrustPilot_2.csv')\n",
    "TrustedShop = pd.read_csv('TrustedShop_2.csv')"
   ]
  },
  {
   "cell_type": "markdown",
   "id": "a8a1cf34",
   "metadata": {},
   "source": [
    "### Application du RandomForrestClassifier"
   ]
  },
  {
   "cell_type": "code",
   "execution_count": 22,
   "id": "18e229ae",
   "metadata": {},
   "outputs": [
    {
     "data": {
      "text/html": [
       "<div>\n",
       "<style scoped>\n",
       "    .dataframe tbody tr th:only-of-type {\n",
       "        vertical-align: middle;\n",
       "    }\n",
       "\n",
       "    .dataframe tbody tr th {\n",
       "        vertical-align: top;\n",
       "    }\n",
       "\n",
       "    .dataframe thead th {\n",
       "        text-align: right;\n",
       "    }\n",
       "</style>\n",
       "<table border=\"1\" class=\"dataframe\">\n",
       "  <thead>\n",
       "    <tr style=\"text-align: right;\">\n",
       "      <th></th>\n",
       "      <th>Unnamed: 0</th>\n",
       "      <th>Unnamed: 0.1</th>\n",
       "      <th>Commentaire</th>\n",
       "      <th>star</th>\n",
       "      <th>date</th>\n",
       "      <th>client</th>\n",
       "      <th>reponse</th>\n",
       "      <th>source</th>\n",
       "      <th>company</th>\n",
       "      <th>ville</th>\n",
       "      <th>ecart</th>\n",
       "      <th>YearMonth</th>\n",
       "      <th>year</th>\n",
       "      <th>comments_filter</th>\n",
       "    </tr>\n",
       "  </thead>\n",
       "  <tbody>\n",
       "    <tr>\n",
       "      <th>0</th>\n",
       "      <td>0</td>\n",
       "      <td>2320</td>\n",
       "      <td>Excelente</td>\n",
       "      <td>5</td>\n",
       "      <td>2021-06-08</td>\n",
       "      <td>NaN</td>\n",
       "      <td>¡Hola , Gracias por compartir tu experiencia c...</td>\n",
       "      <td>TrustedShop</td>\n",
       "      <td>ShowRoom</td>\n",
       "      <td>NaN</td>\n",
       "      <td>14.0</td>\n",
       "      <td>2021-06</td>\n",
       "      <td>2021</td>\n",
       "      <td>['excelente']</td>\n",
       "    </tr>\n",
       "    <tr>\n",
       "      <th>1</th>\n",
       "      <td>1</td>\n",
       "      <td>2321</td>\n",
       "      <td>J ’ adore les articles de cette marque</td>\n",
       "      <td>5</td>\n",
       "      <td>2021-06-07</td>\n",
       "      <td>NaN</td>\n",
       "      <td>Bonjour , Merci infiniment pour votre apprécia...</td>\n",
       "      <td>TrustedShop</td>\n",
       "      <td>ShowRoom</td>\n",
       "      <td>NaN</td>\n",
       "      <td>14.0</td>\n",
       "      <td>2021-06</td>\n",
       "      <td>2021</td>\n",
       "      <td>['adore', 'articles', 'cette', 'marque']</td>\n",
       "    </tr>\n",
       "  </tbody>\n",
       "</table>\n",
       "</div>"
      ],
      "text/plain": [
       "   Unnamed: 0  Unnamed: 0.1                             Commentaire  star  \\\n",
       "0           0          2320                               Excelente     5   \n",
       "1           1          2321  J ’ adore les articles de cette marque     5   \n",
       "\n",
       "         date client                                            reponse  \\\n",
       "0  2021-06-08    NaN  ¡Hola , Gracias por compartir tu experiencia c...   \n",
       "1  2021-06-07    NaN  Bonjour , Merci infiniment pour votre apprécia...   \n",
       "\n",
       "        source   company ville  ecart YearMonth  year  \\\n",
       "0  TrustedShop  ShowRoom   NaN   14.0   2021-06  2021   \n",
       "1  TrustedShop  ShowRoom   NaN   14.0   2021-06  2021   \n",
       "\n",
       "                            comments_filter  \n",
       "0                             ['excelente']  \n",
       "1  ['adore', 'articles', 'cette', 'marque']  "
      ]
     },
     "execution_count": 22,
     "metadata": {},
     "output_type": "execute_result"
    }
   ],
   "source": [
    "TrustedShop.head(2)"
   ]
  },
  {
   "cell_type": "code",
   "execution_count": 23,
   "id": "166647ac",
   "metadata": {},
   "outputs": [],
   "source": [
    "# répartion entre variables explicatives et variable cible\n",
    "X_rf = TrustedShop['comments_filter']\n",
    "y_rf = TrustedShop['star']"
   ]
  },
  {
   "cell_type": "code",
   "execution_count": 24,
   "id": "a331104b",
   "metadata": {},
   "outputs": [],
   "source": [
    "# séparation du jeu de données en un dataset d'entrainement et un dataset de test\n",
    "from sklearn.model_selection import train_test_split\n",
    "\n",
    "X_train, X_test, y_train, y_test = train_test_split(X_rf, y_rf, test_size=0.2, shuffle=True)"
   ]
  },
  {
   "cell_type": "code",
   "execution_count": 25,
   "id": "e13f2aa0",
   "metadata": {},
   "outputs": [],
   "source": [
    "# conversion des chaines de caratères en tokens numériques\n",
    "\n",
    "from sklearn.feature_extraction.text import CountVectorizer\n",
    "\n",
    "vectorizer = CountVectorizer()\n",
    "X_train = vectorizer.fit_transform(X_train).todense()\n",
    "X_test = vectorizer.transform(X_test).todense()"
   ]
  },
  {
   "cell_type": "code",
   "execution_count": 34,
   "id": "6f9fcf75",
   "metadata": {},
   "outputs": [
    {
     "name": "stderr",
     "output_type": "stream",
     "text": [
      "C:\\Users\\t.fourtouill\\Anaconda3\\lib\\site-packages\\sklearn\\utils\\validation.py:727: FutureWarning: np.matrix usage is deprecated in 1.0 and will raise a TypeError in 1.2. Please convert to a numpy array with np.asarray. For more information see: https://numpy.org/doc/stable/reference/generated/numpy.matrix.html\n",
      "  warnings.warn(\n",
      "C:\\Users\\t.fourtouill\\Anaconda3\\lib\\site-packages\\sklearn\\utils\\validation.py:727: FutureWarning: np.matrix usage is deprecated in 1.0 and will raise a TypeError in 1.2. Please convert to a numpy array with np.asarray. For more information see: https://numpy.org/doc/stable/reference/generated/numpy.matrix.html\n",
      "  warnings.warn(\n"
     ]
    }
   ],
   "source": [
    "# application du modèle de gradientBoosting sur les tokens numériques et calcul des prédictions\n",
    "from sklearn.ensemble import RandomForestClassifier\n",
    "\n",
    "clf = RandomForestClassifier(n_estimators=200, n_jobs=-1)\n",
    "clf.fit(X_train, y_train)\n",
    "\n",
    "y_pred = clf.predict(X_test)"
   ]
  },
  {
   "cell_type": "code",
   "execution_count": 38,
   "id": "2139aa3d",
   "metadata": {},
   "outputs": [
    {
     "name": "stderr",
     "output_type": "stream",
     "text": [
      "C:\\Users\\t.fourtouill\\Anaconda3\\lib\\site-packages\\sklearn\\utils\\validation.py:727: FutureWarning: np.matrix usage is deprecated in 1.0 and will raise a TypeError in 1.2. Please convert to a numpy array with np.asarray. For more information see: https://numpy.org/doc/stable/reference/generated/numpy.matrix.html\n",
      "  warnings.warn(\n"
     ]
    },
    {
     "name": "stdout",
     "output_type": "stream",
     "text": [
      "0.5771408351026185\n",
      "\n",
      "              precision    recall  f1-score   support\n",
      "\n",
      "           1       0.30      0.29      0.30       144\n",
      "           2       0.29      0.07      0.11       210\n",
      "           3       0.29      0.19      0.23       321\n",
      "           4       0.40      0.34      0.37       701\n",
      "           5       0.70      0.88      0.78      1450\n",
      "\n",
      "    accuracy                           0.58      2826\n",
      "   macro avg       0.40      0.35      0.36      2826\n",
      "weighted avg       0.53      0.58      0.54      2826\n",
      "\n"
     ]
    },
    {
     "data": {
      "text/html": [
       "<div>\n",
       "<style scoped>\n",
       "    .dataframe tbody tr th:only-of-type {\n",
       "        vertical-align: middle;\n",
       "    }\n",
       "\n",
       "    .dataframe tbody tr th {\n",
       "        vertical-align: top;\n",
       "    }\n",
       "\n",
       "    .dataframe thead th {\n",
       "        text-align: right;\n",
       "    }\n",
       "</style>\n",
       "<table border=\"1\" class=\"dataframe\">\n",
       "  <thead>\n",
       "    <tr style=\"text-align: right;\">\n",
       "      <th>données prédites</th>\n",
       "      <th>1</th>\n",
       "      <th>2</th>\n",
       "      <th>3</th>\n",
       "      <th>4</th>\n",
       "      <th>5</th>\n",
       "    </tr>\n",
       "    <tr>\n",
       "      <th>données réelles</th>\n",
       "      <th></th>\n",
       "      <th></th>\n",
       "      <th></th>\n",
       "      <th></th>\n",
       "      <th></th>\n",
       "    </tr>\n",
       "  </thead>\n",
       "  <tbody>\n",
       "    <tr>\n",
       "      <th>1</th>\n",
       "      <td>42</td>\n",
       "      <td>7</td>\n",
       "      <td>27</td>\n",
       "      <td>36</td>\n",
       "      <td>32</td>\n",
       "    </tr>\n",
       "    <tr>\n",
       "      <th>2</th>\n",
       "      <td>25</td>\n",
       "      <td>14</td>\n",
       "      <td>47</td>\n",
       "      <td>74</td>\n",
       "      <td>50</td>\n",
       "    </tr>\n",
       "    <tr>\n",
       "      <th>3</th>\n",
       "      <td>22</td>\n",
       "      <td>18</td>\n",
       "      <td>60</td>\n",
       "      <td>121</td>\n",
       "      <td>100</td>\n",
       "    </tr>\n",
       "    <tr>\n",
       "      <th>4</th>\n",
       "      <td>31</td>\n",
       "      <td>6</td>\n",
       "      <td>55</td>\n",
       "      <td>241</td>\n",
       "      <td>368</td>\n",
       "    </tr>\n",
       "    <tr>\n",
       "      <th>5</th>\n",
       "      <td>18</td>\n",
       "      <td>4</td>\n",
       "      <td>16</td>\n",
       "      <td>138</td>\n",
       "      <td>1274</td>\n",
       "    </tr>\n",
       "  </tbody>\n",
       "</table>\n",
       "</div>"
      ],
      "text/plain": [
       "données prédites   1   2   3    4     5\n",
       "données réelles                        \n",
       "1                 42   7  27   36    32\n",
       "2                 25  14  47   74    50\n",
       "3                 22  18  60  121   100\n",
       "4                 31   6  55  241   368\n",
       "5                 18   4  16  138  1274"
      ]
     },
     "execution_count": 38,
     "metadata": {},
     "output_type": "execute_result"
    }
   ],
   "source": [
    "# calcul des métriques des résultats du modèle\n",
    "from sklearn.metrics import classification_report\n",
    "\n",
    "print(clf.score(X_test, y_test), end='\\n\\n')\n",
    "\n",
    "cr = classification_report(y_test, y_pred)\n",
    "print(cr)\n",
    "\n",
    "# affichage de la matrice de confusion pour voir si les données se sont bien classées\n",
    "cm = pd.crosstab(y_test, y_pred, rownames=['données réelles'], colnames=['données prédites'])\n",
    "cm"
   ]
  },
  {
   "cell_type": "code",
   "execution_count": 39,
   "id": "68e94461",
   "metadata": {},
   "outputs": [
    {
     "name": "stdout",
     "output_type": "stream",
     "text": [
      "le modèle prédit bien les bon avis (à 5 star) avec 70 % de précision, par contre, plutot mal les notes à 1 star avec seulement 50% et encore pire pour les résultats intermédiaires, on peut penser que le modèle fait de l'overfitting\n"
     ]
    }
   ],
   "source": [
    "print(\"le modèle prédit bien les bon avis (à 5 star) avec 70 % de précision, par contre, plutot mal les notes à 1 star avec seulement 50% et encore pire pour les résultats intermédiaires, on peut penser que le modèle fait de l'overfitting\")"
   ]
  },
  {
   "cell_type": "code",
   "execution_count": 40,
   "id": "2d35682a",
   "metadata": {},
   "outputs": [
    {
     "name": "stdout",
     "output_type": "stream",
     "text": [
      "[5 4 1 3]\n"
     ]
    },
    {
     "name": "stderr",
     "output_type": "stream",
     "text": [
      "C:\\Users\\t.fourtouill\\Anaconda3\\lib\\site-packages\\sklearn\\utils\\validation.py:727: FutureWarning: np.matrix usage is deprecated in 1.0 and will raise a TypeError in 1.2. Please convert to a numpy array with np.asarray. For more information see: https://numpy.org/doc/stable/reference/generated/numpy.matrix.html\n",
      "  warnings.warn(\n"
     ]
    }
   ],
   "source": [
    "# on peut tester le modèles sur de nouveaux commentaire pour voir la prédictions qui seraits faites\n",
    "\n",
    "new_comments = [\"Satisfait et delai de livraison au top\", \"Bel article mais malheureusement trop petit\", \"Très déçu et c'est la deuxième fois ! ! ! Il n ' y avait aucun produits qui correspondaient à ma commande et en plus ils étaient cassés\", \"La veste est trop serré 42 veste Que j ’ avais déjà commander en 40 Déçu Et plus de taille au dessus du 42 dommage Pour cet article\"]\n",
    "\n",
    "# on tokenize les commentaires à partir du modèle vectorizer existant\n",
    "new_comments_token = vectorizer.transform(new_comments).todense()\n",
    "\n",
    "# on prédit les données à partir à parti du modèle clf et on regarde si c'est cohérent\n",
    "y_predict = clf.predict(new_comments_token)\n",
    "print(y_predict)"
   ]
  },
  {
   "cell_type": "code",
   "execution_count": 41,
   "id": "8a849e61",
   "metadata": {},
   "outputs": [
    {
     "name": "stdout",
     "output_type": "stream",
     "text": [
      "les prédictions en partie cohérentes quand les commentaires ne sont pas trop complexes\n"
     ]
    }
   ],
   "source": [
    "print(\"les prédictions en partie cohérentes quand les commentaires ne sont pas trop complexes\")"
   ]
  },
  {
   "cell_type": "code",
   "execution_count": null,
   "id": "db26e3a2",
   "metadata": {},
   "outputs": [],
   "source": []
  },
  {
   "cell_type": "code",
   "execution_count": null,
   "id": "c6e815b2",
   "metadata": {},
   "outputs": [],
   "source": []
  }
 ],
 "metadata": {
  "kernelspec": {
   "display_name": "Python 3 (ipykernel)",
   "language": "python",
   "name": "python3"
  },
  "language_info": {
   "codemirror_mode": {
    "name": "ipython",
    "version": 3
   },
   "file_extension": ".py",
   "mimetype": "text/x-python",
   "name": "python",
   "nbconvert_exporter": "python",
   "pygments_lexer": "ipython3",
   "version": "3.9.7"
  }
 },
 "nbformat": 4,
 "nbformat_minor": 5
}
