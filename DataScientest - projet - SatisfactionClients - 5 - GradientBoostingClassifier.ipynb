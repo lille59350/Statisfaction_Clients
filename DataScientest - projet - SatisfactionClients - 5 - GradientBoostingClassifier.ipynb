{
 "cells": [
  {
   "cell_type": "code",
   "execution_count": 1,
   "id": "654837dc",
   "metadata": {},
   "outputs": [],
   "source": [
    "import pandas as pd\n",
    "import numpy as np\n",
    "import matplotlib.pyplot as plt\n",
    "from time import time"
   ]
  },
  {
   "cell_type": "code",
   "execution_count": 2,
   "id": "e4519392",
   "metadata": {},
   "outputs": [
    {
     "data": {
      "text/html": [
       "<div>\n",
       "<style scoped>\n",
       "    .dataframe tbody tr th:only-of-type {\n",
       "        vertical-align: middle;\n",
       "    }\n",
       "\n",
       "    .dataframe tbody tr th {\n",
       "        vertical-align: top;\n",
       "    }\n",
       "\n",
       "    .dataframe thead th {\n",
       "        text-align: right;\n",
       "    }\n",
       "</style>\n",
       "<table border=\"1\" class=\"dataframe\">\n",
       "  <thead>\n",
       "    <tr style=\"text-align: right;\">\n",
       "      <th></th>\n",
       "      <th>pays</th>\n",
       "      <th>note</th>\n",
       "      <th>titre</th>\n",
       "      <th>commentaire</th>\n",
       "      <th>Commentaire_filtre</th>\n",
       "      <th>titre_filtre</th>\n",
       "    </tr>\n",
       "  </thead>\n",
       "  <tbody>\n",
       "    <tr>\n",
       "      <th>21942</th>\n",
       "      <td>FR</td>\n",
       "      <td>1</td>\n",
       "      <td>Achat d'un téléphone redmi note11 en…</td>\n",
       "      <td>ll y a 2 joursAchat d'un téléphone redmi note1...</td>\n",
       "      <td>['joursachat', 'téléphone', 'redmi', 'note', '...</td>\n",
       "      <td>['achat', 'téléphone', 'redmi', 'note']</td>\n",
       "    </tr>\n",
       "    <tr>\n",
       "      <th>21561</th>\n",
       "      <td>FR</td>\n",
       "      <td>1</td>\n",
       "      <td>SAV Cdiscount catastrophique</td>\n",
       "      <td>ll y a 4 joursSAV Cdiscount catastrophiqueune ...</td>\n",
       "      <td>['jourssav', 'cdiscount', 'catastrophiqueune',...</td>\n",
       "      <td>['sav', 'cdiscount', 'catastrophique']</td>\n",
       "    </tr>\n",
       "    <tr>\n",
       "      <th>54902</th>\n",
       "      <td>FR</td>\n",
       "      <td>1</td>\n",
       "      <td>Achat d'un téléphone redmi note11 en…</td>\n",
       "      <td>ll y a 2 joursAchat d'un téléphone redmi note1...</td>\n",
       "      <td>['joursachat', 'téléphone', 'redmi', 'note', '...</td>\n",
       "      <td>['achat', 'téléphone', 'redmi', 'note']</td>\n",
       "    </tr>\n",
       "  </tbody>\n",
       "</table>\n",
       "</div>"
      ],
      "text/plain": [
       "      pays  note                                  titre  \\\n",
       "21942   FR     1  Achat d'un téléphone redmi note11 en…   \n",
       "21561   FR     1           SAV Cdiscount catastrophique   \n",
       "54902   FR     1  Achat d'un téléphone redmi note11 en…   \n",
       "\n",
       "                                             commentaire  \\\n",
       "21942  ll y a 2 joursAchat d'un téléphone redmi note1...   \n",
       "21561  ll y a 4 joursSAV Cdiscount catastrophiqueune ...   \n",
       "54902  ll y a 2 joursAchat d'un téléphone redmi note1...   \n",
       "\n",
       "                                      Commentaire_filtre  \\\n",
       "21942  ['joursachat', 'téléphone', 'redmi', 'note', '...   \n",
       "21561  ['jourssav', 'cdiscount', 'catastrophiqueune',...   \n",
       "54902  ['joursachat', 'téléphone', 'redmi', 'note', '...   \n",
       "\n",
       "                                  titre_filtre  \n",
       "21942  ['achat', 'téléphone', 'redmi', 'note']  \n",
       "21561   ['sav', 'cdiscount', 'catastrophique']  \n",
       "54902  ['achat', 'téléphone', 'redmi', 'note']  "
      ]
     },
     "execution_count": 2,
     "metadata": {},
     "output_type": "execute_result"
    }
   ],
   "source": [
    "df = pd.read_csv('datasets/SatisfactionClients/cdiscount_retraite.csv', index_col=0)\n",
    "df.sample(3)"
   ]
  },
  {
   "cell_type": "code",
   "execution_count": 3,
   "id": "2758f795",
   "metadata": {},
   "outputs": [
    {
     "name": "stdout",
     "output_type": "stream",
     "text": [
      "(124120,)\n",
      "(124120,)\n"
     ]
    }
   ],
   "source": [
    "# séparation de la variable cible et des variables explicatives\n",
    "X = df['Commentaire_filtre']\n",
    "y = df['note']\n",
    "print(X.shape)\n",
    "print(y.shape)"
   ]
  },
  {
   "cell_type": "code",
   "execution_count": 4,
   "id": "7b695039",
   "metadata": {},
   "outputs": [],
   "source": [
    "# séparation du jeu de données en un dataset d'entrainement et un dataset de test\n",
    "from sklearn.model_selection import train_test_split\n",
    "X_train, X_test, y_train, y_test = train_test_split(X, y, test_size=0.2, shuffle=True)"
   ]
  },
  {
   "cell_type": "code",
   "execution_count": 5,
   "id": "3c3f7190",
   "metadata": {},
   "outputs": [],
   "source": [
    "# conversion des chaines de caratères en tokens numériques\n",
    "\n",
    "from sklearn.feature_extraction.text import CountVectorizer\n",
    "\n",
    "vectorizer = CountVectorizer()\n",
    "X_train = vectorizer.fit_transform(X_train).todense()\n",
    "X_test = vectorizer.transform(X_test).todense()"
   ]
  },
  {
   "cell_type": "code",
   "execution_count": 10,
   "id": "960553c4",
   "metadata": {},
   "outputs": [
    {
     "name": "stderr",
     "output_type": "stream",
     "text": [
      "C:\\Users\\t.fourtouill\\Anaconda3\\lib\\site-packages\\sklearn\\utils\\validation.py:727: FutureWarning: np.matrix usage is deprecated in 1.0 and will raise a TypeError in 1.2. Please convert to a numpy array with np.asarray. For more information see: https://numpy.org/doc/stable/reference/generated/numpy.matrix.html\n",
      "  warnings.warn(\n"
     ]
    },
    {
     "name": "stdout",
     "output_type": "stream",
     "text": [
      "1.0\n",
      "\n",
      "              precision    recall  f1-score   support\n",
      "\n",
      "           1       1.00      1.00      1.00     14957\n",
      "           2       1.00      1.00      1.00      2447\n",
      "           4       1.00      1.00      1.00      1208\n",
      "           5       1.00      1.00      1.00      6212\n",
      "\n",
      "    accuracy                           1.00     24824\n",
      "   macro avg       1.00      1.00      1.00     24824\n",
      "weighted avg       1.00      1.00      1.00     24824\n",
      "\n"
     ]
    },
    {
     "name": "stderr",
     "output_type": "stream",
     "text": [
      "C:\\Users\\t.fourtouill\\Anaconda3\\lib\\site-packages\\sklearn\\utils\\validation.py:727: FutureWarning: np.matrix usage is deprecated in 1.0 and will raise a TypeError in 1.2. Please convert to a numpy array with np.asarray. For more information see: https://numpy.org/doc/stable/reference/generated/numpy.matrix.html\n",
      "  warnings.warn(\n",
      "C:\\Users\\t.fourtouill\\Anaconda3\\lib\\site-packages\\sklearn\\utils\\validation.py:727: FutureWarning: np.matrix usage is deprecated in 1.0 and will raise a TypeError in 1.2. Please convert to a numpy array with np.asarray. For more information see: https://numpy.org/doc/stable/reference/generated/numpy.matrix.html\n",
      "  warnings.warn(\n"
     ]
    },
    {
     "data": {
      "text/html": [
       "<div>\n",
       "<style scoped>\n",
       "    .dataframe tbody tr th:only-of-type {\n",
       "        vertical-align: middle;\n",
       "    }\n",
       "\n",
       "    .dataframe tbody tr th {\n",
       "        vertical-align: top;\n",
       "    }\n",
       "\n",
       "    .dataframe thead th {\n",
       "        text-align: right;\n",
       "    }\n",
       "</style>\n",
       "<table border=\"1\" class=\"dataframe\">\n",
       "  <thead>\n",
       "    <tr style=\"text-align: right;\">\n",
       "      <th>données prédites</th>\n",
       "      <th>1</th>\n",
       "      <th>2</th>\n",
       "      <th>4</th>\n",
       "      <th>5</th>\n",
       "    </tr>\n",
       "    <tr>\n",
       "      <th>données réelles</th>\n",
       "      <th></th>\n",
       "      <th></th>\n",
       "      <th></th>\n",
       "      <th></th>\n",
       "    </tr>\n",
       "  </thead>\n",
       "  <tbody>\n",
       "    <tr>\n",
       "      <th>1</th>\n",
       "      <td>14957</td>\n",
       "      <td>0</td>\n",
       "      <td>0</td>\n",
       "      <td>0</td>\n",
       "    </tr>\n",
       "    <tr>\n",
       "      <th>2</th>\n",
       "      <td>0</td>\n",
       "      <td>2447</td>\n",
       "      <td>0</td>\n",
       "      <td>0</td>\n",
       "    </tr>\n",
       "    <tr>\n",
       "      <th>4</th>\n",
       "      <td>0</td>\n",
       "      <td>0</td>\n",
       "      <td>1208</td>\n",
       "      <td>0</td>\n",
       "    </tr>\n",
       "    <tr>\n",
       "      <th>5</th>\n",
       "      <td>0</td>\n",
       "      <td>0</td>\n",
       "      <td>0</td>\n",
       "      <td>6212</td>\n",
       "    </tr>\n",
       "  </tbody>\n",
       "</table>\n",
       "</div>"
      ],
      "text/plain": [
       "données prédites      1     2     4     5\n",
       "données réelles                          \n",
       "1                 14957     0     0     0\n",
       "2                     0  2447     0     0\n",
       "4                     0     0  1208     0\n",
       "5                     0     0     0  6212"
      ]
     },
     "metadata": {},
     "output_type": "display_data"
    },
    {
     "name": "stdout",
     "output_type": "stream",
     "text": [
      "les prédictions sur le test remontent les notes suivantes :  [1 1 1 1]  Détail ci-dessous :\n",
      " Satisfait et delai de livraison au top  - la note est de : 1 \n",
      " Bel article mais malheureusement trop petit  - la note est de : 1 \n",
      " Très déçu et c'est la deuxième fois ! ! ! Il n ' y avait aucun produits qui correspondaient à ma commande et en plus ils étaient cassés  - la note est de : 1 \n",
      " La veste est trop serré 42 veste Que j ’ avais déjà commander en 40 Déçu Et plus de taille au dessus du 42 dommage Pour cet article  - la note est de : 1\n"
     ]
    },
    {
     "name": "stderr",
     "output_type": "stream",
     "text": [
      "C:\\Users\\t.fourtouill\\Anaconda3\\lib\\site-packages\\sklearn\\utils\\validation.py:727: FutureWarning: np.matrix usage is deprecated in 1.0 and will raise a TypeError in 1.2. Please convert to a numpy array with np.asarray. For more information see: https://numpy.org/doc/stable/reference/generated/numpy.matrix.html\n",
      "  warnings.warn(\n"
     ]
    }
   ],
   "source": [
    "# application du modèle de gradientBoosting sur les tokens numériques et calcul des prédictions\n",
    "from sklearn.ensemble import GradientBoostingClassifier\n",
    "from sklearn.metrics import classification_report\n",
    "\n",
    "clf = GradientBoostingClassifier(n_estimators=10, max_depth=1, learning_rate=1, random_state=0)\n",
    "clf.fit(X_train, y_train)\n",
    "\n",
    "y_pred = clf.predict(X_test)\n",
    "\n",
    "# calcul des métriques des résultats du modèle\n",
    "print(clf.score(X_test, y_test), end='\\n\\n')\n",
    "\n",
    "cr = classification_report(y_test, y_pred)\n",
    "print(cr)\n",
    "\n",
    "# affichage de la matrice de confusion pour voir si les données se sont bien classées\n",
    "cm = pd.crosstab(y_test, y_pred, rownames=['données réelles'], colnames=['données prédites'])\n",
    "display(cm)\n",
    "\n",
    "# on peut tester le modèles sur de nouveaux commentaire pour voir la prédictions qui seraits faites\n",
    "new_comments = [\"Satisfait et delai de livraison au top\", \"Bel article mais malheureusement trop petit\", \"Très déçu et c'est la deuxième fois ! ! ! Il n ' y avait aucun produits qui correspondaient à ma commande et en plus ils étaient cassés\", \"La veste est trop serré 42 veste Que j ’ avais déjà commander en 40 Déçu Et plus de taille au dessus du 42 dommage Pour cet article\"]\n",
    "\n",
    "# on tokenize les commentaires à partir du modèle vectorizer existant\n",
    "new_comments_token = vectorizer.transform(new_comments).todense()\n",
    "\n",
    "# on prédit les données à partir à parti du modèle clf et on regarde si c'est cohérent\n",
    "y_predict_test = clf.predict(new_comments_token)\n",
    "print('les prédictions sur le test remontent les notes suivantes : ', y_predict_test, ' Détail ci-dessous :\\n', new_comments[0], ' - la note est de :', y_predict_test[0], '\\n', new_comments[1], ' - la note est de :',  y_predict_test[1], '\\n', new_comments[2], ' - la note est de :',  y_predict_test[2], '\\n', new_comments[3], ' - la note est de :', y_predict_test[3])"
   ]
  },
  {
   "cell_type": "code",
   "execution_count": 25,
   "id": "6b8855a6",
   "metadata": {},
   "outputs": [
    {
     "name": "stderr",
     "output_type": "stream",
     "text": [
      "C:\\Users\\t.fourtouill\\Anaconda3\\lib\\site-packages\\sklearn\\utils\\validation.py:727: FutureWarning: np.matrix usage is deprecated in 1.0 and will raise a TypeError in 1.2. Please convert to a numpy array with np.asarray. For more information see: https://numpy.org/doc/stable/reference/generated/numpy.matrix.html\n",
      "  warnings.warn(\n"
     ]
    },
    {
     "name": "stdout",
     "output_type": "stream",
     "text": [
      "1.0\n",
      "\n",
      "              precision    recall  f1-score   support\n",
      "\n",
      "           1       1.00      1.00      1.00     14988\n",
      "           2       1.00      1.00      1.00      2426\n",
      "           4       1.00      1.00      1.00      1239\n",
      "           5       1.00      1.00      1.00      6171\n",
      "\n",
      "    accuracy                           1.00     24824\n",
      "   macro avg       1.00      1.00      1.00     24824\n",
      "weighted avg       1.00      1.00      1.00     24824\n",
      "\n"
     ]
    },
    {
     "name": "stderr",
     "output_type": "stream",
     "text": [
      "C:\\Users\\t.fourtouill\\Anaconda3\\lib\\site-packages\\sklearn\\utils\\validation.py:727: FutureWarning: np.matrix usage is deprecated in 1.0 and will raise a TypeError in 1.2. Please convert to a numpy array with np.asarray. For more information see: https://numpy.org/doc/stable/reference/generated/numpy.matrix.html\n",
      "  warnings.warn(\n",
      "C:\\Users\\t.fourtouill\\Anaconda3\\lib\\site-packages\\sklearn\\utils\\validation.py:727: FutureWarning: np.matrix usage is deprecated in 1.0 and will raise a TypeError in 1.2. Please convert to a numpy array with np.asarray. For more information see: https://numpy.org/doc/stable/reference/generated/numpy.matrix.html\n",
      "  warnings.warn(\n"
     ]
    },
    {
     "data": {
      "text/html": [
       "<div>\n",
       "<style scoped>\n",
       "    .dataframe tbody tr th:only-of-type {\n",
       "        vertical-align: middle;\n",
       "    }\n",
       "\n",
       "    .dataframe tbody tr th {\n",
       "        vertical-align: top;\n",
       "    }\n",
       "\n",
       "    .dataframe thead th {\n",
       "        text-align: right;\n",
       "    }\n",
       "</style>\n",
       "<table border=\"1\" class=\"dataframe\">\n",
       "  <thead>\n",
       "    <tr style=\"text-align: right;\">\n",
       "      <th>données prédites</th>\n",
       "      <th>1</th>\n",
       "      <th>2</th>\n",
       "      <th>4</th>\n",
       "      <th>5</th>\n",
       "    </tr>\n",
       "    <tr>\n",
       "      <th>données réelles</th>\n",
       "      <th></th>\n",
       "      <th></th>\n",
       "      <th></th>\n",
       "      <th></th>\n",
       "    </tr>\n",
       "  </thead>\n",
       "  <tbody>\n",
       "    <tr>\n",
       "      <th>1</th>\n",
       "      <td>14988</td>\n",
       "      <td>0</td>\n",
       "      <td>0</td>\n",
       "      <td>0</td>\n",
       "    </tr>\n",
       "    <tr>\n",
       "      <th>2</th>\n",
       "      <td>0</td>\n",
       "      <td>2426</td>\n",
       "      <td>0</td>\n",
       "      <td>0</td>\n",
       "    </tr>\n",
       "    <tr>\n",
       "      <th>4</th>\n",
       "      <td>0</td>\n",
       "      <td>0</td>\n",
       "      <td>1239</td>\n",
       "      <td>0</td>\n",
       "    </tr>\n",
       "    <tr>\n",
       "      <th>5</th>\n",
       "      <td>0</td>\n",
       "      <td>0</td>\n",
       "      <td>0</td>\n",
       "      <td>6171</td>\n",
       "    </tr>\n",
       "  </tbody>\n",
       "</table>\n",
       "</div>"
      ],
      "text/plain": [
       "données prédites      1     2     4     5\n",
       "données réelles                          \n",
       "1                 14988     0     0     0\n",
       "2                     0  2426     0     0\n",
       "4                     0     0  1239     0\n",
       "5                     0     0     0  6171"
      ]
     },
     "metadata": {},
     "output_type": "display_data"
    },
    {
     "name": "stdout",
     "output_type": "stream",
     "text": [
      "les prédictions sur le test remontent les notes suivantes :  [1 1 1 1]  Détail ci-dessous :\n",
      " Satisfait et delai de livraison au top  - la note est de : 1 \n",
      " Bel article mais malheureusement trop petit  - la note est de : 1 \n",
      " Très déçu et c'est la deuxième fois ! ! ! Il n ' y avait aucun produits qui correspondaient à ma commande et en plus ils étaient cassés  - la note est de : 1 \n",
      " La veste est trop serré 42 veste Que j ’ avais déjà commander en 40 Déçu Et plus de taille au dessus du 42 dommage Pour cet article  - la note est de : 1\n"
     ]
    },
    {
     "name": "stderr",
     "output_type": "stream",
     "text": [
      "C:\\Users\\t.fourtouill\\Anaconda3\\lib\\site-packages\\sklearn\\utils\\validation.py:727: FutureWarning: np.matrix usage is deprecated in 1.0 and will raise a TypeError in 1.2. Please convert to a numpy array with np.asarray. For more information see: https://numpy.org/doc/stable/reference/generated/numpy.matrix.html\n",
      "  warnings.warn(\n"
     ]
    }
   ],
   "source": [
    "clf2 = GradientBoostingClassifier(n_estimators=2, learning_rate=1, random_state=0)\n",
    "clf2.fit(X_train, y_train)\n",
    "\n",
    "y_pred2 = clf2.predict(X_test)\n",
    "\n",
    "print(clf2.score(X_test, y_test), end='\\n\\n')\n",
    "\n",
    "cr2 = classification_report(y_test, y_pred2)\n",
    "print(cr2)\n",
    "\n",
    "# affichage de la matrice de confusion pour voir si les données se sont bien classées\n",
    "cm2 = pd.crosstab(y_test, y_pred2, rownames=['données réelles'], colnames=['données prédites'])\n",
    "display(cm2)\n",
    "\n",
    "# on peut tester le modèles sur de nouveaux commentaire pour voir la prédictions qui seraits faites\n",
    "new_comments = [\"Satisfait et delai de livraison au top\", \"Bel article mais malheureusement trop petit\", \"Très déçu et c'est la deuxième fois ! ! ! Il n ' y avait aucun produits qui correspondaient à ma commande et en plus ils étaient cassés\", \"La veste est trop serré 42 veste Que j ’ avais déjà commander en 40 Déçu Et plus de taille au dessus du 42 dommage Pour cet article\"]\n",
    "\n",
    "# on tokenize les commentaires à partir du modèle vectorizer existant\n",
    "new_comments_token = vectorizer.transform(new_comments).todense()\n",
    "\n",
    "# on prédit les données à partir à parti du modèle clf et on regarde si c'est cohérent\n",
    "y_predict_test = clf2.predict(new_comments_token)\n",
    "print('les prédictions sur le test remontent les notes suivantes : ', y_predict_test, ' Détail ci-dessous :\\n', new_comments[0], ' - la note est de :', y_predict_test[0], '\\n', new_comments[1], ' - la note est de :',  y_predict_test[1], '\\n', new_comments[2], ' - la note est de :',  y_predict_test[2], '\\n', new_comments[3], ' - la note est de :', y_predict_test[3])"
   ]
  },
  {
   "cell_type": "code",
   "execution_count": 26,
   "id": "52d1c511",
   "metadata": {},
   "outputs": [
    {
     "name": "stderr",
     "output_type": "stream",
     "text": [
      "C:\\Users\\t.fourtouill\\Anaconda3\\lib\\site-packages\\sklearn\\utils\\validation.py:727: FutureWarning: np.matrix usage is deprecated in 1.0 and will raise a TypeError in 1.2. Please convert to a numpy array with np.asarray. For more information see: https://numpy.org/doc/stable/reference/generated/numpy.matrix.html\n",
      "  warnings.warn(\n"
     ]
    },
    {
     "name": "stdout",
     "output_type": "stream",
     "text": [
      "1.0\n",
      "\n",
      "              precision    recall  f1-score   support\n",
      "\n",
      "           1       1.00      1.00      1.00     14988\n",
      "           2       1.00      1.00      1.00      2426\n",
      "           4       1.00      1.00      1.00      1239\n",
      "           5       1.00      1.00      1.00      6171\n",
      "\n",
      "    accuracy                           1.00     24824\n",
      "   macro avg       1.00      1.00      1.00     24824\n",
      "weighted avg       1.00      1.00      1.00     24824\n",
      "\n"
     ]
    },
    {
     "name": "stderr",
     "output_type": "stream",
     "text": [
      "C:\\Users\\t.fourtouill\\Anaconda3\\lib\\site-packages\\sklearn\\utils\\validation.py:727: FutureWarning: np.matrix usage is deprecated in 1.0 and will raise a TypeError in 1.2. Please convert to a numpy array with np.asarray. For more information see: https://numpy.org/doc/stable/reference/generated/numpy.matrix.html\n",
      "  warnings.warn(\n",
      "C:\\Users\\t.fourtouill\\Anaconda3\\lib\\site-packages\\sklearn\\utils\\validation.py:727: FutureWarning: np.matrix usage is deprecated in 1.0 and will raise a TypeError in 1.2. Please convert to a numpy array with np.asarray. For more information see: https://numpy.org/doc/stable/reference/generated/numpy.matrix.html\n",
      "  warnings.warn(\n"
     ]
    },
    {
     "data": {
      "text/html": [
       "<div>\n",
       "<style scoped>\n",
       "    .dataframe tbody tr th:only-of-type {\n",
       "        vertical-align: middle;\n",
       "    }\n",
       "\n",
       "    .dataframe tbody tr th {\n",
       "        vertical-align: top;\n",
       "    }\n",
       "\n",
       "    .dataframe thead th {\n",
       "        text-align: right;\n",
       "    }\n",
       "</style>\n",
       "<table border=\"1\" class=\"dataframe\">\n",
       "  <thead>\n",
       "    <tr style=\"text-align: right;\">\n",
       "      <th>données prédites</th>\n",
       "      <th>1</th>\n",
       "      <th>2</th>\n",
       "      <th>4</th>\n",
       "      <th>5</th>\n",
       "    </tr>\n",
       "    <tr>\n",
       "      <th>données réelles</th>\n",
       "      <th></th>\n",
       "      <th></th>\n",
       "      <th></th>\n",
       "      <th></th>\n",
       "    </tr>\n",
       "  </thead>\n",
       "  <tbody>\n",
       "    <tr>\n",
       "      <th>1</th>\n",
       "      <td>14988</td>\n",
       "      <td>0</td>\n",
       "      <td>0</td>\n",
       "      <td>0</td>\n",
       "    </tr>\n",
       "    <tr>\n",
       "      <th>2</th>\n",
       "      <td>0</td>\n",
       "      <td>2426</td>\n",
       "      <td>0</td>\n",
       "      <td>0</td>\n",
       "    </tr>\n",
       "    <tr>\n",
       "      <th>4</th>\n",
       "      <td>0</td>\n",
       "      <td>0</td>\n",
       "      <td>1239</td>\n",
       "      <td>0</td>\n",
       "    </tr>\n",
       "    <tr>\n",
       "      <th>5</th>\n",
       "      <td>0</td>\n",
       "      <td>0</td>\n",
       "      <td>0</td>\n",
       "      <td>6171</td>\n",
       "    </tr>\n",
       "  </tbody>\n",
       "</table>\n",
       "</div>"
      ],
      "text/plain": [
       "données prédites      1     2     4     5\n",
       "données réelles                          \n",
       "1                 14988     0     0     0\n",
       "2                     0  2426     0     0\n",
       "4                     0     0  1239     0\n",
       "5                     0     0     0  6171"
      ]
     },
     "metadata": {},
     "output_type": "display_data"
    },
    {
     "name": "stdout",
     "output_type": "stream",
     "text": [
      "les prédictions sur le test remontent les notes suivantes :  [1 1 1 1]  Détail ci-dessous :\n",
      " Satisfait et delai de livraison au top  - la note est de : 1 \n",
      " Bel article mais malheureusement trop petit  - la note est de : 1 \n",
      " Très déçu et c'est la deuxième fois ! ! ! Il n ' y avait aucun produits qui correspondaient à ma commande et en plus ils étaient cassés  - la note est de : 1 \n",
      " La veste est trop serré 42 veste Que j ’ avais déjà commander en 40 Déçu Et plus de taille au dessus du 42 dommage Pour cet article  - la note est de : 1\n"
     ]
    },
    {
     "name": "stderr",
     "output_type": "stream",
     "text": [
      "C:\\Users\\t.fourtouill\\Anaconda3\\lib\\site-packages\\sklearn\\utils\\validation.py:727: FutureWarning: np.matrix usage is deprecated in 1.0 and will raise a TypeError in 1.2. Please convert to a numpy array with np.asarray. For more information see: https://numpy.org/doc/stable/reference/generated/numpy.matrix.html\n",
      "  warnings.warn(\n"
     ]
    }
   ],
   "source": [
    "clf3 = GradientBoostingClassifier(n_estimators=30, learning_rate=1, random_state=0)\n",
    "clf3.fit(X_train, y_train)\n",
    "\n",
    "y_pred3 = clf3.predict(X_test)\n",
    "\n",
    "print(clf2.score(X_test, y_test), end='\\n\\n')\n",
    "\n",
    "cr3 = classification_report(y_test, y_pred3)\n",
    "print(cr3)\n",
    "\n",
    "# affichage de la matrice de confusion pour voir si les données se sont bien classées\n",
    "cm3 = pd.crosstab(y_test, y_pred3, rownames=['données réelles'], colnames=['données prédites'])\n",
    "display(cm3)\n",
    "\n",
    "# on peut tester le modèles sur de nouveaux commentaire pour voir la prédictions qui seraits faites\n",
    "new_comments = [\"Satisfait et delai de livraison au top\", \"Bel article mais malheureusement trop petit\", \"Très déçu et c'est la deuxième fois ! ! ! Il n ' y avait aucun produits qui correspondaient à ma commande et en plus ils étaient cassés\", \"La veste est trop serré 42 veste Que j ’ avais déjà commander en 40 Déçu Et plus de taille au dessus du 42 dommage Pour cet article\"]\n",
    "\n",
    "# on tokenize les commentaires à partir du modèle vectorizer existant\n",
    "new_comments_token = vectorizer.transform(new_comments).todense()\n",
    "\n",
    "# on prédit les données à partir à parti du modèle clf et on regarde si c'est cohérent\n",
    "y_predict_test = clf3.predict(new_comments_token)\n",
    "print('les prédictions sur le test remontent les notes suivantes : ', y_predict_test, ' Détail ci-dessous :\\n', new_comments[0], ' - la note est de :', y_predict_test[0], '\\n', new_comments[1], ' - la note est de :',  y_predict_test[1], '\\n', new_comments[2], ' - la note est de :',  y_predict_test[2], '\\n', new_comments[3], ' - la note est de :', y_predict_test[3])"
   ]
  },
  {
   "cell_type": "code",
   "execution_count": 27,
   "id": "e2cd3fe8",
   "metadata": {},
   "outputs": [
    {
     "name": "stderr",
     "output_type": "stream",
     "text": [
      "C:\\Users\\t.fourtouill\\Anaconda3\\lib\\site-packages\\sklearn\\utils\\validation.py:727: FutureWarning: np.matrix usage is deprecated in 1.0 and will raise a TypeError in 1.2. Please convert to a numpy array with np.asarray. For more information see: https://numpy.org/doc/stable/reference/generated/numpy.matrix.html\n",
      "  warnings.warn(\n"
     ]
    },
    {
     "name": "stdout",
     "output_type": "stream",
     "text": [
      "1.0\n",
      "\n",
      "              precision    recall  f1-score   support\n",
      "\n",
      "           1       1.00      1.00      1.00     14988\n",
      "           2       1.00      1.00      1.00      2426\n",
      "           4       1.00      1.00      1.00      1239\n",
      "           5       1.00      1.00      1.00      6171\n",
      "\n",
      "    accuracy                           1.00     24824\n",
      "   macro avg       1.00      1.00      1.00     24824\n",
      "weighted avg       1.00      1.00      1.00     24824\n",
      "\n"
     ]
    },
    {
     "name": "stderr",
     "output_type": "stream",
     "text": [
      "C:\\Users\\t.fourtouill\\Anaconda3\\lib\\site-packages\\sklearn\\utils\\validation.py:727: FutureWarning: np.matrix usage is deprecated in 1.0 and will raise a TypeError in 1.2. Please convert to a numpy array with np.asarray. For more information see: https://numpy.org/doc/stable/reference/generated/numpy.matrix.html\n",
      "  warnings.warn(\n",
      "C:\\Users\\t.fourtouill\\Anaconda3\\lib\\site-packages\\sklearn\\utils\\validation.py:727: FutureWarning: np.matrix usage is deprecated in 1.0 and will raise a TypeError in 1.2. Please convert to a numpy array with np.asarray. For more information see: https://numpy.org/doc/stable/reference/generated/numpy.matrix.html\n",
      "  warnings.warn(\n"
     ]
    },
    {
     "data": {
      "text/html": [
       "<div>\n",
       "<style scoped>\n",
       "    .dataframe tbody tr th:only-of-type {\n",
       "        vertical-align: middle;\n",
       "    }\n",
       "\n",
       "    .dataframe tbody tr th {\n",
       "        vertical-align: top;\n",
       "    }\n",
       "\n",
       "    .dataframe thead th {\n",
       "        text-align: right;\n",
       "    }\n",
       "</style>\n",
       "<table border=\"1\" class=\"dataframe\">\n",
       "  <thead>\n",
       "    <tr style=\"text-align: right;\">\n",
       "      <th>données prédites</th>\n",
       "      <th>1</th>\n",
       "      <th>2</th>\n",
       "      <th>4</th>\n",
       "      <th>5</th>\n",
       "    </tr>\n",
       "    <tr>\n",
       "      <th>données réelles</th>\n",
       "      <th></th>\n",
       "      <th></th>\n",
       "      <th></th>\n",
       "      <th></th>\n",
       "    </tr>\n",
       "  </thead>\n",
       "  <tbody>\n",
       "    <tr>\n",
       "      <th>1</th>\n",
       "      <td>14988</td>\n",
       "      <td>0</td>\n",
       "      <td>0</td>\n",
       "      <td>0</td>\n",
       "    </tr>\n",
       "    <tr>\n",
       "      <th>2</th>\n",
       "      <td>0</td>\n",
       "      <td>2426</td>\n",
       "      <td>0</td>\n",
       "      <td>0</td>\n",
       "    </tr>\n",
       "    <tr>\n",
       "      <th>4</th>\n",
       "      <td>0</td>\n",
       "      <td>0</td>\n",
       "      <td>1239</td>\n",
       "      <td>0</td>\n",
       "    </tr>\n",
       "    <tr>\n",
       "      <th>5</th>\n",
       "      <td>0</td>\n",
       "      <td>0</td>\n",
       "      <td>0</td>\n",
       "      <td>6171</td>\n",
       "    </tr>\n",
       "  </tbody>\n",
       "</table>\n",
       "</div>"
      ],
      "text/plain": [
       "données prédites      1     2     4     5\n",
       "données réelles                          \n",
       "1                 14988     0     0     0\n",
       "2                     0  2426     0     0\n",
       "4                     0     0  1239     0\n",
       "5                     0     0     0  6171"
      ]
     },
     "metadata": {},
     "output_type": "display_data"
    },
    {
     "name": "stdout",
     "output_type": "stream",
     "text": [
      "les prédictions sur le test remontent les notes suivantes :  [1 1 1 1]  Détail ci-dessous :\n",
      " Satisfait et delai de livraison au top  - la note est de : 1 \n",
      " Bel article mais malheureusement trop petit  - la note est de : 1 \n",
      " Très déçu et c'est la deuxième fois ! ! ! Il n ' y avait aucun produits qui correspondaient à ma commande et en plus ils étaient cassés  - la note est de : 1 \n",
      " La veste est trop serré 42 veste Que j ’ avais déjà commander en 40 Déçu Et plus de taille au dessus du 42 dommage Pour cet article  - la note est de : 1\n"
     ]
    },
    {
     "name": "stderr",
     "output_type": "stream",
     "text": [
      "C:\\Users\\t.fourtouill\\Anaconda3\\lib\\site-packages\\sklearn\\utils\\validation.py:727: FutureWarning: np.matrix usage is deprecated in 1.0 and will raise a TypeError in 1.2. Please convert to a numpy array with np.asarray. For more information see: https://numpy.org/doc/stable/reference/generated/numpy.matrix.html\n",
      "  warnings.warn(\n"
     ]
    }
   ],
   "source": [
    "clf4 = GradientBoostingClassifier(n_estimators=4, learning_rate=100, random_state=0)\n",
    "clf4.fit(X_train, y_train)\n",
    "\n",
    "y_pred4 = clf4.predict(X_test)\n",
    "\n",
    "print(clf4.score(X_test, y_test), end='\\n\\n')\n",
    "\n",
    "cr4 = classification_report(y_test, y_pred4)\n",
    "print(cr4)\n",
    "\n",
    "# affichage de la matrice de confusion pour voir si les données se sont bien classées\n",
    "cm4 = pd.crosstab(y_test, y_pred4, rownames=['données réelles'], colnames=['données prédites'])\n",
    "display(cm4)\n",
    "\n",
    "# on peut tester le modèles sur de nouveaux commentaire pour voir la prédictions qui seraits faites\n",
    "new_comments = [\"Satisfait et delai de livraison au top\", \"Bel article mais malheureusement trop petit\", \"Très déçu et c'est la deuxième fois ! ! ! Il n ' y avait aucun produits qui correspondaient à ma commande et en plus ils étaient cassés\", \"La veste est trop serré 42 veste Que j ’ avais déjà commander en 40 Déçu Et plus de taille au dessus du 42 dommage Pour cet article\"]\n",
    "\n",
    "# on tokenize les commentaires à partir du modèle vectorizer existant\n",
    "new_comments_token = vectorizer.transform(new_comments).todense()\n",
    "\n",
    "# on prédit les données à partir à parti du modèle clf et on regarde si c'est cohérent\n",
    "y_predict_test = clf4.predict(new_comments_token)\n",
    "print('les prédictions sur le test remontent les notes suivantes : ', y_predict_test, ' Détail ci-dessous :\\n', new_comments[0], ' - la note est de :', y_predict_test[0], '\\n', new_comments[1], ' - la note est de :',  y_predict_test[1], '\\n', new_comments[2], ' - la note est de :',  y_predict_test[2], '\\n', new_comments[3], ' - la note est de :', y_predict_test[3])"
   ]
  },
  {
   "cell_type": "code",
   "execution_count": 28,
   "id": "97cd4844",
   "metadata": {},
   "outputs": [
    {
     "name": "stderr",
     "output_type": "stream",
     "text": [
      "C:\\Users\\t.fourtouill\\Anaconda3\\lib\\site-packages\\sklearn\\utils\\validation.py:727: FutureWarning: np.matrix usage is deprecated in 1.0 and will raise a TypeError in 1.2. Please convert to a numpy array with np.asarray. For more information see: https://numpy.org/doc/stable/reference/generated/numpy.matrix.html\n",
      "  warnings.warn(\n",
      "C:\\Users\\t.fourtouill\\Anaconda3\\lib\\site-packages\\sklearn\\utils\\validation.py:727: FutureWarning: np.matrix usage is deprecated in 1.0 and will raise a TypeError in 1.2. Please convert to a numpy array with np.asarray. For more information see: https://numpy.org/doc/stable/reference/generated/numpy.matrix.html\n",
      "  warnings.warn(\n",
      "C:\\Users\\t.fourtouill\\Anaconda3\\lib\\site-packages\\sklearn\\utils\\validation.py:727: FutureWarning: np.matrix usage is deprecated in 1.0 and will raise a TypeError in 1.2. Please convert to a numpy array with np.asarray. For more information see: https://numpy.org/doc/stable/reference/generated/numpy.matrix.html\n",
      "  warnings.warn(\n"
     ]
    },
    {
     "name": "stdout",
     "output_type": "stream",
     "text": [
      "1.0\n",
      "\n",
      "              precision    recall  f1-score   support\n",
      "\n",
      "           1       1.00      1.00      1.00     14988\n",
      "           2       1.00      1.00      1.00      2426\n",
      "           4       1.00      1.00      1.00      1239\n",
      "           5       1.00      1.00      1.00      6171\n",
      "\n",
      "    accuracy                           1.00     24824\n",
      "   macro avg       1.00      1.00      1.00     24824\n",
      "weighted avg       1.00      1.00      1.00     24824\n",
      "\n"
     ]
    },
    {
     "data": {
      "text/html": [
       "<div>\n",
       "<style scoped>\n",
       "    .dataframe tbody tr th:only-of-type {\n",
       "        vertical-align: middle;\n",
       "    }\n",
       "\n",
       "    .dataframe tbody tr th {\n",
       "        vertical-align: top;\n",
       "    }\n",
       "\n",
       "    .dataframe thead th {\n",
       "        text-align: right;\n",
       "    }\n",
       "</style>\n",
       "<table border=\"1\" class=\"dataframe\">\n",
       "  <thead>\n",
       "    <tr style=\"text-align: right;\">\n",
       "      <th>données prédites</th>\n",
       "      <th>1</th>\n",
       "      <th>2</th>\n",
       "      <th>4</th>\n",
       "      <th>5</th>\n",
       "    </tr>\n",
       "    <tr>\n",
       "      <th>données réelles</th>\n",
       "      <th></th>\n",
       "      <th></th>\n",
       "      <th></th>\n",
       "      <th></th>\n",
       "    </tr>\n",
       "  </thead>\n",
       "  <tbody>\n",
       "    <tr>\n",
       "      <th>1</th>\n",
       "      <td>14988</td>\n",
       "      <td>0</td>\n",
       "      <td>0</td>\n",
       "      <td>0</td>\n",
       "    </tr>\n",
       "    <tr>\n",
       "      <th>2</th>\n",
       "      <td>0</td>\n",
       "      <td>2426</td>\n",
       "      <td>0</td>\n",
       "      <td>0</td>\n",
       "    </tr>\n",
       "    <tr>\n",
       "      <th>4</th>\n",
       "      <td>0</td>\n",
       "      <td>0</td>\n",
       "      <td>1239</td>\n",
       "      <td>0</td>\n",
       "    </tr>\n",
       "    <tr>\n",
       "      <th>5</th>\n",
       "      <td>0</td>\n",
       "      <td>0</td>\n",
       "      <td>0</td>\n",
       "      <td>6171</td>\n",
       "    </tr>\n",
       "  </tbody>\n",
       "</table>\n",
       "</div>"
      ],
      "text/plain": [
       "données prédites      1     2     4     5\n",
       "données réelles                          \n",
       "1                 14988     0     0     0\n",
       "2                     0  2426     0     0\n",
       "4                     0     0  1239     0\n",
       "5                     0     0     0  6171"
      ]
     },
     "metadata": {},
     "output_type": "display_data"
    },
    {
     "name": "stdout",
     "output_type": "stream",
     "text": [
      "les prédictions sur le test remontent les notes suivantes :  [1 1 1 1]  Détail ci-dessous :\n",
      " Satisfait et delai de livraison au top  - la note est de : 1 \n",
      " Bel article mais malheureusement trop petit  - la note est de : 1 \n",
      " Très déçu et c'est la deuxième fois ! ! ! Il n ' y avait aucun produits qui correspondaient à ma commande et en plus ils étaient cassés  - la note est de : 1 \n",
      " La veste est trop serré 42 veste Que j ’ avais déjà commander en 40 Déçu Et plus de taille au dessus du 42 dommage Pour cet article  - la note est de : 1\n"
     ]
    },
    {
     "name": "stderr",
     "output_type": "stream",
     "text": [
      "C:\\Users\\t.fourtouill\\Anaconda3\\lib\\site-packages\\sklearn\\utils\\validation.py:727: FutureWarning: np.matrix usage is deprecated in 1.0 and will raise a TypeError in 1.2. Please convert to a numpy array with np.asarray. For more information see: https://numpy.org/doc/stable/reference/generated/numpy.matrix.html\n",
      "  warnings.warn(\n"
     ]
    }
   ],
   "source": [
    "clf5 = GradientBoostingClassifier(n_estimators=200, learning_rate=1, random_state=0)\n",
    "clf5.fit(X_train, y_train)\n",
    "\n",
    "y_pred5 = clf5.predict(X_test)\n",
    "\n",
    "print(clf5.score(X_test, y_test), end='\\n\\n')\n",
    "\n",
    "cr5 = classification_report(y_test, y_pred5)\n",
    "print(cr5)\n",
    "\n",
    "# affichage de la matrice de confusion pour voir si les données se sont bien classées\n",
    "cm5 = pd.crosstab(y_test, y_pred5, rownames=['données réelles'], colnames=['données prédites'])\n",
    "display(cm5)\n",
    "\n",
    "# on peut tester le modèles sur de nouveaux commentaire pour voir la prédictions qui seraits faites\n",
    "new_comments = [\"Satisfait et delai de livraison au top\", \"Bel article mais malheureusement trop petit\", \"Très déçu et c'est la deuxième fois ! ! ! Il n ' y avait aucun produits qui correspondaient à ma commande et en plus ils étaient cassés\", \"La veste est trop serré 42 veste Que j ’ avais déjà commander en 40 Déçu Et plus de taille au dessus du 42 dommage Pour cet article\"]\n",
    "\n",
    "# on tokenize les commentaires à partir du modèle vectorizer existant\n",
    "new_comments_token = vectorizer.transform(new_comments).todense()\n",
    "\n",
    "# on prédit les données à partir à parti du modèle clf et on regarde si c'est cohérent\n",
    "y_predict_test = clf5.predict(new_comments_token)\n",
    "print('les prédictions sur le test remontent les notes suivantes : ', y_predict_test, ' Détail ci-dessous :\\n', new_comments[0], ' - la note est de :', y_predict_test[0], '\\n', new_comments[1], ' - la note est de :',  y_predict_test[1], '\\n', new_comments[2], ' - la note est de :',  y_predict_test[2], '\\n', new_comments[3], ' - la note est de :', y_predict_test[3])"
   ]
  },
  {
   "cell_type": "markdown",
   "id": "efea7ca6",
   "metadata": {},
   "source": [
    "###### le Gradient boosting ne fonctionne pas non plus. overfeatting"
   ]
  }
 ],
 "metadata": {
  "kernelspec": {
   "display_name": "Python 3 (ipykernel)",
   "language": "python",
   "name": "python3"
  },
  "language_info": {
   "codemirror_mode": {
    "name": "ipython",
    "version": 3
   },
   "file_extension": ".py",
   "mimetype": "text/x-python",
   "name": "python",
   "nbconvert_exporter": "python",
   "pygments_lexer": "ipython3",
   "version": "3.9.7"
  }
 },
 "nbformat": 4,
 "nbformat_minor": 5
}
