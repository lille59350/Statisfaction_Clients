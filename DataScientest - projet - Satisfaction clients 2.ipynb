{
 "cells": [
  {
   "cell_type": "code",
   "execution_count": 16,
   "id": "eb703b58",
   "metadata": {},
   "outputs": [],
   "source": [
    "import pandas as pd\n",
    "import numpy as np\n",
    "import matplotlib.pyplot as plt\n",
    "import seaborn as sns"
   ]
  },
  {
   "cell_type": "code",
   "execution_count": 17,
   "id": "03cd8ee9",
   "metadata": {},
   "outputs": [],
   "source": [
    "pd.options.display.max_colwidth=800\n",
    "pd.set_option('display.max_rows', 50)\n",
    "pd.set_option('display.max_columns', 100)"
   ]
  },
  {
   "cell_type": "code",
   "execution_count": 18,
   "id": "9e2440e6",
   "metadata": {},
   "outputs": [],
   "source": [
    "TrustPilot = pd.read_csv('TrustPilot.csv')\n",
    "TrustedShop = pd.read_csv('TrustedShop.csv')"
   ]
  },
  {
   "cell_type": "code",
   "execution_count": 19,
   "id": "201806f3",
   "metadata": {},
   "outputs": [],
   "source": [
    "# chargement de la bibliothèque de stopwords et de tokenisation\n",
    "from nltk.corpus import stopwords\n",
    "from nltk import word_tokenize\n",
    "from nltk.tokenize.regexp import RegexpTokenizer\n",
    "from nltk.tokenize import PunktSentenceTokenizer"
   ]
  },
  {
   "cell_type": "code",
   "execution_count": 20,
   "id": "5d23cf4b",
   "metadata": {},
   "outputs": [
    {
     "name": "stderr",
     "output_type": "stream",
     "text": [
      "[nltk_data] Downloading package punkt to\n",
      "[nltk_data]     C:\\Users\\t.fourtouill\\AppData\\Roaming\\nltk_data...\n",
      "[nltk_data]   Package punkt is already up-to-date!\n"
     ]
    },
    {
     "data": {
      "text/plain": [
       "True"
      ]
     },
     "execution_count": 20,
     "metadata": {},
     "output_type": "execute_result"
    }
   ],
   "source": [
    "import nltk\n",
    "nltk.download('punkt')"
   ]
  },
  {
   "cell_type": "code",
   "execution_count": 21,
   "id": "bd8759bb",
   "metadata": {},
   "outputs": [],
   "source": [
    "# chargement des listes stopwords pour les 3 langues principales \n",
    "stop_words_french = stopwords.words('french')\n",
    "stop_words_english = stopwords.words('english')\n",
    "stop_words_spanish = stopwords.words('spanish')"
   ]
  },
  {
   "cell_type": "code",
   "execution_count": 22,
   "id": "9d17a163",
   "metadata": {},
   "outputs": [],
   "source": [
    "# création d'une stopwords regroupant les 3 langues\n",
    "stop_words = stop_words_french + stop_words_english + stop_words_spanish"
   ]
  },
  {
   "cell_type": "code",
   "execution_count": 23,
   "id": "ff1ecf26",
   "metadata": {},
   "outputs": [],
   "source": [
    "# mise à jour de stopwords avec . et ,\n",
    "\n",
    "stop_words.extend(['.', ','])"
   ]
  },
  {
   "cell_type": "code",
   "execution_count": 24,
   "id": "95cf6bd0",
   "metadata": {
    "collapsed": true
   },
   "outputs": [
    {
     "name": "stdout",
     "output_type": "stream",
     "text": [
      "['au', 'aux', 'avec', 'ce', 'ces', 'dans', 'de', 'des', 'du', 'elle', 'en', 'et', 'eux', 'il', 'ils', 'je', 'la', 'le', 'les', 'leur', 'lui', 'ma', 'mais', 'me', 'même', 'mes', 'moi', 'mon', 'ne', 'nos', 'notre', 'nous', 'on', 'ou', 'par', 'pas', 'pour', 'qu', 'que', 'qui', 'sa', 'se', 'ses', 'son', 'sur', 'ta', 'te', 'tes', 'toi', 'ton', 'tu', 'un', 'une', 'vos', 'votre', 'vous', 'c', 'd', 'j', 'l', 'à', 'm', 'n', 's', 't', 'y', 'été', 'étée', 'étées', 'étés', 'étant', 'étante', 'étants', 'étantes', 'suis', 'es', 'est', 'sommes', 'êtes', 'sont', 'serai', 'seras', 'sera', 'serons', 'serez', 'seront', 'serais', 'serait', 'serions', 'seriez', 'seraient', 'étais', 'était', 'étions', 'étiez', 'étaient', 'fus', 'fut', 'fûmes', 'fûtes', 'furent', 'sois', 'soit', 'soyons', 'soyez', 'soient', 'fusse', 'fusses', 'fût', 'fussions', 'fussiez', 'fussent', 'ayant', 'ayante', 'ayantes', 'ayants', 'eu', 'eue', 'eues', 'eus', 'ai', 'as', 'avons', 'avez', 'ont', 'aurai', 'auras', 'aura', 'aurons', 'aurez', 'auront', 'aurais', 'aurait', 'aurions', 'auriez', 'auraient', 'avais', 'avait', 'avions', 'aviez', 'avaient', 'eut', 'eûmes', 'eûtes', 'eurent', 'aie', 'aies', 'ait', 'ayons', 'ayez', 'aient', 'eusse', 'eusses', 'eût', 'eussions', 'eussiez', 'eussent', 'i', 'me', 'my', 'myself', 'we', 'our', 'ours', 'ourselves', 'you', \"you're\", \"you've\", \"you'll\", \"you'd\", 'your', 'yours', 'yourself', 'yourselves', 'he', 'him', 'his', 'himself', 'she', \"she's\", 'her', 'hers', 'herself', 'it', \"it's\", 'its', 'itself', 'they', 'them', 'their', 'theirs', 'themselves', 'what', 'which', 'who', 'whom', 'this', 'that', \"that'll\", 'these', 'those', 'am', 'is', 'are', 'was', 'were', 'be', 'been', 'being', 'have', 'has', 'had', 'having', 'do', 'does', 'did', 'doing', 'a', 'an', 'the', 'and', 'but', 'if', 'or', 'because', 'as', 'until', 'while', 'of', 'at', 'by', 'for', 'with', 'about', 'against', 'between', 'into', 'through', 'during', 'before', 'after', 'above', 'below', 'to', 'from', 'up', 'down', 'in', 'out', 'on', 'off', 'over', 'under', 'again', 'further', 'then', 'once', 'here', 'there', 'when', 'where', 'why', 'how', 'all', 'any', 'both', 'each', 'few', 'more', 'most', 'other', 'some', 'such', 'no', 'nor', 'not', 'only', 'own', 'same', 'so', 'than', 'too', 'very', 's', 't', 'can', 'will', 'just', 'don', \"don't\", 'should', \"should've\", 'now', 'd', 'll', 'm', 'o', 're', 've', 'y', 'ain', 'aren', \"aren't\", 'couldn', \"couldn't\", 'didn', \"didn't\", 'doesn', \"doesn't\", 'hadn', \"hadn't\", 'hasn', \"hasn't\", 'haven', \"haven't\", 'isn', \"isn't\", 'ma', 'mightn', \"mightn't\", 'mustn', \"mustn't\", 'needn', \"needn't\", 'shan', \"shan't\", 'shouldn', \"shouldn't\", 'wasn', \"wasn't\", 'weren', \"weren't\", 'won', \"won't\", 'wouldn', \"wouldn't\", 'de', 'la', 'que', 'el', 'en', 'y', 'a', 'los', 'del', 'se', 'las', 'por', 'un', 'para', 'con', 'no', 'una', 'su', 'al', 'lo', 'como', 'más', 'pero', 'sus', 'le', 'ya', 'o', 'este', 'sí', 'porque', 'esta', 'entre', 'cuando', 'muy', 'sin', 'sobre', 'también', 'me', 'hasta', 'hay', 'donde', 'quien', 'desde', 'todo', 'nos', 'durante', 'todos', 'uno', 'les', 'ni', 'contra', 'otros', 'ese', 'eso', 'ante', 'ellos', 'e', 'esto', 'mí', 'antes', 'algunos', 'qué', 'unos', 'yo', 'otro', 'otras', 'otra', 'él', 'tanto', 'esa', 'estos', 'mucho', 'quienes', 'nada', 'muchos', 'cual', 'poco', 'ella', 'estar', 'estas', 'algunas', 'algo', 'nosotros', 'mi', 'mis', 'tú', 'te', 'ti', 'tu', 'tus', 'ellas', 'nosotras', 'vosotros', 'vosotras', 'os', 'mío', 'mía', 'míos', 'mías', 'tuyo', 'tuya', 'tuyos', 'tuyas', 'suyo', 'suya', 'suyos', 'suyas', 'nuestro', 'nuestra', 'nuestros', 'nuestras', 'vuestro', 'vuestra', 'vuestros', 'vuestras', 'esos', 'esas', 'estoy', 'estás', 'está', 'estamos', 'estáis', 'están', 'esté', 'estés', 'estemos', 'estéis', 'estén', 'estaré', 'estarás', 'estará', 'estaremos', 'estaréis', 'estarán', 'estaría', 'estarías', 'estaríamos', 'estaríais', 'estarían', 'estaba', 'estabas', 'estábamos', 'estabais', 'estaban', 'estuve', 'estuviste', 'estuvo', 'estuvimos', 'estuvisteis', 'estuvieron', 'estuviera', 'estuvieras', 'estuviéramos', 'estuvierais', 'estuvieran', 'estuviese', 'estuvieses', 'estuviésemos', 'estuvieseis', 'estuviesen', 'estando', 'estado', 'estada', 'estados', 'estadas', 'estad', 'he', 'has', 'ha', 'hemos', 'habéis', 'han', 'haya', 'hayas', 'hayamos', 'hayáis', 'hayan', 'habré', 'habrás', 'habrá', 'habremos', 'habréis', 'habrán', 'habría', 'habrías', 'habríamos', 'habríais', 'habrían', 'había', 'habías', 'habíamos', 'habíais', 'habían', 'hube', 'hubiste', 'hubo', 'hubimos', 'hubisteis', 'hubieron', 'hubiera', 'hubieras', 'hubiéramos', 'hubierais', 'hubieran', 'hubiese', 'hubieses', 'hubiésemos', 'hubieseis', 'hubiesen', 'habiendo', 'habido', 'habida', 'habidos', 'habidas', 'soy', 'eres', 'es', 'somos', 'sois', 'son', 'sea', 'seas', 'seamos', 'seáis', 'sean', 'seré', 'serás', 'será', 'seremos', 'seréis', 'serán', 'sería', 'serías', 'seríamos', 'seríais', 'serían', 'era', 'eras', 'éramos', 'erais', 'eran', 'fui', 'fuiste', 'fue', 'fuimos', 'fuisteis', 'fueron', 'fuera', 'fueras', 'fuéramos', 'fuerais', 'fueran', 'fuese', 'fueses', 'fuésemos', 'fueseis', 'fuesen', 'sintiendo', 'sentido', 'sentida', 'sentidos', 'sentidas', 'siente', 'sentid', 'tengo', 'tienes', 'tiene', 'tenemos', 'tenéis', 'tienen', 'tenga', 'tengas', 'tengamos', 'tengáis', 'tengan', 'tendré', 'tendrás', 'tendrá', 'tendremos', 'tendréis', 'tendrán', 'tendría', 'tendrías', 'tendríamos', 'tendríais', 'tendrían', 'tenía', 'tenías', 'teníamos', 'teníais', 'tenían', 'tuve', 'tuviste', 'tuvo', 'tuvimos', 'tuvisteis', 'tuvieron', 'tuviera', 'tuvieras', 'tuviéramos', 'tuvierais', 'tuvieran', 'tuviese', 'tuvieses', 'tuviésemos', 'tuvieseis', 'tuviesen', 'teniendo', 'tenido', 'tenida', 'tenidos', 'tenidas', 'tened', '.', ',']\n"
     ]
    }
   ],
   "source": [
    "print(stop_words)"
   ]
  },
  {
   "cell_type": "code",
   "execution_count": 30,
   "id": "8a829703",
   "metadata": {},
   "outputs": [],
   "source": [
    "def commentaire_filtering(txt, stop_words):\n",
    "    new_txt = []\n",
    "    tokenizer = RegexpTokenizer(\"[a-zA-Zéèã]{3,}\")\n",
    "    tokens = tokenizer.tokenize(txt.lower())\n",
    "    for word in tokens:\n",
    "        if word not in stop_words:\n",
    "            new_txt.append(word)\n",
    "    return new_txt"
   ]
  },
  {
   "cell_type": "code",
   "execution_count": 31,
   "id": "2c51d25f",
   "metadata": {},
   "outputs": [],
   "source": [
    "# Application du filtre 1 sur la colonne commentaire du df TrustPilot en créant une nouvelle colonne stopwords \n",
    "TrustPilot['comments_filter'] = TrustPilot['Commentaire'].apply(lambda x : commentaire_filtering(x, stop_words))"
   ]
  },
  {
   "cell_type": "code",
   "execution_count": 41,
   "id": "79bc0b8d",
   "metadata": {},
   "outputs": [
    {
     "data": {
      "text/html": [
       "<div>\n",
       "<style scoped>\n",
       "    .dataframe tbody tr th:only-of-type {\n",
       "        vertical-align: middle;\n",
       "    }\n",
       "\n",
       "    .dataframe tbody tr th {\n",
       "        vertical-align: top;\n",
       "    }\n",
       "\n",
       "    .dataframe thead th {\n",
       "        text-align: right;\n",
       "    }\n",
       "</style>\n",
       "<table border=\"1\" class=\"dataframe\">\n",
       "  <thead>\n",
       "    <tr style=\"text-align: right;\">\n",
       "      <th></th>\n",
       "      <th>Unnamed: 0</th>\n",
       "      <th>Commentaire</th>\n",
       "      <th>star</th>\n",
       "      <th>date</th>\n",
       "      <th>client</th>\n",
       "      <th>reponse</th>\n",
       "      <th>source</th>\n",
       "      <th>company</th>\n",
       "      <th>ville</th>\n",
       "      <th>ecart</th>\n",
       "      <th>YearMonth</th>\n",
       "      <th>year</th>\n",
       "      <th>comments_filter</th>\n",
       "    </tr>\n",
       "  </thead>\n",
       "  <tbody>\n",
       "    <tr>\n",
       "      <th>5190</th>\n",
       "      <td>19722</td>\n",
       "      <td>j'ai commandé des produits en boîte donc très lourds ; tellement lourds que la commande a été acheminée en 2 colis ; et malgré ça , les cartons sont arrivés éventrés et certains produits manquaient ( ont-ils glissé par les trous ou des petites mains se sont-elles servies ? ? ? ) donc pas déçue par la qualité des produits mais par le manque de sérieux de l'emballage</td>\n",
       "      <td>1</td>\n",
       "      <td>2016-03-26</td>\n",
       "      <td>messin</td>\n",
       "      <td>NaN</td>\n",
       "      <td>TrustPilot</td>\n",
       "      <td>VeePee</td>\n",
       "      <td>NaN</td>\n",
       "      <td>NaN</td>\n",
       "      <td>2016-03</td>\n",
       "      <td>2016</td>\n",
       "      <td>[commandé, produits, donc, très, lourds, tellement, lourds, commande, acheminée, colis, malgré, cartons, arrivés, éventrés, certains, produits, manquaient, glissé, trous, petites, mains, elles, servies, donc, qualité, produits, manque, sérieux, emballage]</td>\n",
       "    </tr>\n",
       "    <tr>\n",
       "      <th>2535</th>\n",
       "      <td>17048</td>\n",
       "      <td>Beaucoup moins bien qu'avant . On ne peut plus obtenir de factures , j'ai reçu une paire de sandales beaucoup moins belles et chères que celles commandées . Ma réclamation n ' a jamais été suivie d'effets . Aujourd'hui , mon colis n ' a pas été livré a mon domicile , comme demandé et payé . Je dois aller le chercher dans un point relais loin de chez moi !</td>\n",
       "      <td>1</td>\n",
       "      <td>2021-02-19</td>\n",
       "      <td>Al Gonzalez</td>\n",
       "      <td>NaN</td>\n",
       "      <td>TrustPilot</td>\n",
       "      <td>VeePee</td>\n",
       "      <td>NaN</td>\n",
       "      <td>NaN</td>\n",
       "      <td>2021-02</td>\n",
       "      <td>2021</td>\n",
       "      <td>[beaucoup, moins, bien, avant, peut, plus, obtenir, factures, paire, sandales, beaucoup, moins, belles, chères, celles, commandées, réclamation, jamais, suivie, effets, aujourd, hui, colis, livré, domicile, comme, demandé, payé, dois, aller, chercher, point, relais, loin, chez]</td>\n",
       "    </tr>\n",
       "  </tbody>\n",
       "</table>\n",
       "</div>"
      ],
      "text/plain": [
       "      Unnamed: 0  \\\n",
       "5190       19722   \n",
       "2535       17048   \n",
       "\n",
       "                                                                                                                                                                                                                                                                                                                                                                          Commentaire  \\\n",
       "5190  j'ai commandé des produits en boîte donc très lourds ; tellement lourds que la commande a été acheminée en 2 colis ; et malgré ça , les cartons sont arrivés éventrés et certains produits manquaient ( ont-ils glissé par les trous ou des petites mains se sont-elles servies ? ? ? ) donc pas déçue par la qualité des produits mais par le manque de sérieux de l'emballage   \n",
       "2535            Beaucoup moins bien qu'avant . On ne peut plus obtenir de factures , j'ai reçu une paire de sandales beaucoup moins belles et chères que celles commandées . Ma réclamation n ' a jamais été suivie d'effets . Aujourd'hui , mon colis n ' a pas été livré a mon domicile , comme demandé et payé . Je dois aller le chercher dans un point relais loin de chez moi !   \n",
       "\n",
       "      star        date       client reponse      source company  ville  ecart  \\\n",
       "5190     1  2016-03-26       messin     NaN  TrustPilot  VeePee    NaN    NaN   \n",
       "2535     1  2021-02-19  Al Gonzalez     NaN  TrustPilot  VeePee    NaN    NaN   \n",
       "\n",
       "     YearMonth  year  \\\n",
       "5190   2016-03  2016   \n",
       "2535   2021-02  2021   \n",
       "\n",
       "                                                                                                                                                                                                                                                                             comments_filter  \n",
       "5190                         [commandé, produits, donc, très, lourds, tellement, lourds, commande, acheminée, colis, malgré, cartons, arrivés, éventrés, certains, produits, manquaient, glissé, trous, petites, mains, elles, servies, donc, qualité, produits, manque, sérieux, emballage]  \n",
       "2535  [beaucoup, moins, bien, avant, peut, plus, obtenir, factures, paire, sandales, beaucoup, moins, belles, chères, celles, commandées, réclamation, jamais, suivie, effets, aujourd, hui, colis, livré, domicile, comme, demandé, payé, dois, aller, chercher, point, relais, loin, chez]  "
      ]
     },
     "execution_count": 41,
     "metadata": {},
     "output_type": "execute_result"
    }
   ],
   "source": [
    "TrustPilot.sample(2)"
   ]
  },
  {
   "cell_type": "code",
   "execution_count": 43,
   "id": "6c628bda",
   "metadata": {},
   "outputs": [],
   "source": [
    "# Application du filtre 1 sur la colonne commentaire du df TrustedShop en créant une nouvelle colonne stopwords \n",
    "TrustedShop['comments_filter'] = TrustedShop['Commentaire'].apply(lambda x : commentaire_filtering(x, stop_words))"
   ]
  },
  {
   "cell_type": "code",
   "execution_count": 44,
   "id": "7bd9dfbe",
   "metadata": {},
   "outputs": [
    {
     "data": {
      "text/html": [
       "<div>\n",
       "<style scoped>\n",
       "    .dataframe tbody tr th:only-of-type {\n",
       "        vertical-align: middle;\n",
       "    }\n",
       "\n",
       "    .dataframe tbody tr th {\n",
       "        vertical-align: top;\n",
       "    }\n",
       "\n",
       "    .dataframe thead th {\n",
       "        text-align: right;\n",
       "    }\n",
       "</style>\n",
       "<table border=\"1\" class=\"dataframe\">\n",
       "  <thead>\n",
       "    <tr style=\"text-align: right;\">\n",
       "      <th></th>\n",
       "      <th>Unnamed: 0</th>\n",
       "      <th>Commentaire</th>\n",
       "      <th>star</th>\n",
       "      <th>date</th>\n",
       "      <th>client</th>\n",
       "      <th>reponse</th>\n",
       "      <th>source</th>\n",
       "      <th>company</th>\n",
       "      <th>ville</th>\n",
       "      <th>ecart</th>\n",
       "      <th>YearMonth</th>\n",
       "      <th>year</th>\n",
       "      <th>comments_filter</th>\n",
       "    </tr>\n",
       "  </thead>\n",
       "  <tbody>\n",
       "    <tr>\n",
       "      <th>9439</th>\n",
       "      <td>11915</td>\n",
       "      <td>Conforme aux attentes Le délai est long , mais anticipé , mais ce long délai est l'une des composantes du prix très attractif . Moi , j'ai bien intégrée cette donnée .</td>\n",
       "      <td>5</td>\n",
       "      <td>2020-07-09</td>\n",
       "      <td>NaN</td>\n",
       "      <td>Bonjour , Un grand merci pour cet avis ! Bonne journée de la part de toute l'équipe . Ayoub</td>\n",
       "      <td>TrustedShop</td>\n",
       "      <td>ShowRoom</td>\n",
       "      <td>NaN</td>\n",
       "      <td>NaN</td>\n",
       "      <td>2020-07</td>\n",
       "      <td>2020</td>\n",
       "      <td>[conforme, attentes, délai, long, anticipé, long, délai, composantes, prix, très, attractif, bien, intégrée, cette, donnée]</td>\n",
       "    </tr>\n",
       "    <tr>\n",
       "      <th>10138</th>\n",
       "      <td>12634</td>\n",
       "      <td>Délai de livraison beauuuuuuuuucoup trop long et produit non conforme a ce que j'avais commander ..... pantalon long au lieu d'un 7/8ème .........</td>\n",
       "      <td>2</td>\n",
       "      <td>2020-07-03</td>\n",
       "      <td>Chris G .</td>\n",
       "      <td>NaN</td>\n",
       "      <td>TrustedShop</td>\n",
       "      <td>ShowRoom</td>\n",
       "      <td>Montpellier</td>\n",
       "      <td>NaN</td>\n",
       "      <td>2020-07</td>\n",
       "      <td>2020</td>\n",
       "      <td>[délai, livraison, beauuuuuuuuucoup, trop, long, produit, non, conforme, commander, pantalon, long, lieu, ème]</td>\n",
       "    </tr>\n",
       "  </tbody>\n",
       "</table>\n",
       "</div>"
      ],
      "text/plain": [
       "       Unnamed: 0  \\\n",
       "9439        11915   \n",
       "10138       12634   \n",
       "\n",
       "                                                                                                                                                                   Commentaire  \\\n",
       "9439   Conforme aux attentes Le délai est long , mais anticipé , mais ce long délai est l'une des composantes du prix très attractif . Moi , j'ai bien intégrée cette donnée .   \n",
       "10138                       Délai de livraison beauuuuuuuuucoup trop long et produit non conforme a ce que j'avais commander ..... pantalon long au lieu d'un 7/8ème .........   \n",
       "\n",
       "       star        date     client  \\\n",
       "9439      5  2020-07-09        NaN   \n",
       "10138     2  2020-07-03  Chris G .   \n",
       "\n",
       "                                                                                           reponse  \\\n",
       "9439   Bonjour , Un grand merci pour cet avis ! Bonne journée de la part de toute l'équipe . Ayoub   \n",
       "10138                                                                                          NaN   \n",
       "\n",
       "            source   company        ville  ecart YearMonth  year  \\\n",
       "9439   TrustedShop  ShowRoom          NaN    NaN   2020-07  2020   \n",
       "10138  TrustedShop  ShowRoom  Montpellier    NaN   2020-07  2020   \n",
       "\n",
       "                                                                                                                   comments_filter  \n",
       "9439   [conforme, attentes, délai, long, anticipé, long, délai, composantes, prix, très, attractif, bien, intégrée, cette, donnée]  \n",
       "10138               [délai, livraison, beauuuuuuuuucoup, trop, long, produit, non, conforme, commander, pantalon, long, lieu, ème]  "
      ]
     },
     "execution_count": 44,
     "metadata": {},
     "output_type": "execute_result"
    }
   ],
   "source": [
    "TrustedShop.sample(2)"
   ]
  },
  {
   "cell_type": "code",
   "execution_count": 46,
   "id": "22c880b5",
   "metadata": {},
   "outputs": [],
   "source": [
    "TrustPilot.to_csv('TrustPilot_2.csv')\n",
    "TrustedShop.to_csv('TrustedShop_2.csv')"
   ]
  }
 ],
 "metadata": {
  "kernelspec": {
   "display_name": "Python 3 (ipykernel)",
   "language": "python",
   "name": "python3"
  },
  "language_info": {
   "codemirror_mode": {
    "name": "ipython",
    "version": 3
   },
   "file_extension": ".py",
   "mimetype": "text/x-python",
   "name": "python",
   "nbconvert_exporter": "python",
   "pygments_lexer": "ipython3",
   "version": "3.9.7"
  }
 },
 "nbformat": 4,
 "nbformat_minor": 5
}
