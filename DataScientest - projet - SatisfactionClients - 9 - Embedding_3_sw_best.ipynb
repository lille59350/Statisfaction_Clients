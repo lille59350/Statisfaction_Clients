{
 "cells": [
  {
   "cell_type": "code",
   "execution_count": 2,
   "id": "196d79a4",
   "metadata": {},
   "outputs": [],
   "source": [
    "import pandas as pd\n",
    "import numpy as np\n",
    "import matplotlib.pyplot as plt\n",
    "import seaborn as sns\n",
    "from time import time\n",
    "import itertools"
   ]
  },
  {
   "cell_type": "code",
   "execution_count": 3,
   "id": "6b85a034",
   "metadata": {},
   "outputs": [],
   "source": [
    "pd.options.display.max_colwidth=800\n",
    "pd.set_option('display.max_rows', 500)\n",
    "pd.set_option('display.max_columns', 500)"
   ]
  },
  {
   "cell_type": "code",
   "execution_count": 4,
   "id": "119a889d",
   "metadata": {},
   "outputs": [
    {
     "data": {
      "text/html": [
       "<div>\n",
       "<style scoped>\n",
       "    .dataframe tbody tr th:only-of-type {\n",
       "        vertical-align: middle;\n",
       "    }\n",
       "\n",
       "    .dataframe tbody tr th {\n",
       "        vertical-align: top;\n",
       "    }\n",
       "\n",
       "    .dataframe thead th {\n",
       "        text-align: right;\n",
       "    }\n",
       "</style>\n",
       "<table border=\"1\" class=\"dataframe\">\n",
       "  <thead>\n",
       "    <tr style=\"text-align: right;\">\n",
       "      <th></th>\n",
       "      <th>pays</th>\n",
       "      <th>note</th>\n",
       "      <th>titre</th>\n",
       "      <th>commentaire</th>\n",
       "    </tr>\n",
       "  </thead>\n",
       "  <tbody>\n",
       "    <tr>\n",
       "      <th>0</th>\n",
       "      <td>FR</td>\n",
       "      <td>1</td>\n",
       "      <td>Les As du prélèvement illicite</td>\n",
       "      <td>Il y a un jourLes As du prélèvement illicitePratiques à la limite de légal.J' ai pris un paiement en 4x dont il restait deux mois , pendant 1 semaine je ne retrouve pas ma carte , je la bloque temporairement.Le prelevement 3 ne passe pas Cdiscount m' informe qu' il faut régulariser, je retrouve ma carte et........boum deux prelevements simultanés des deux mensualités, celle du et l' autre prévue pour décembre.Cela me servira de leçon mais les vautours c 'est fini pour moi.Date de l'expérience: 14 novembre 2022</td>\n",
       "    </tr>\n",
       "    <tr>\n",
       "      <th>1</th>\n",
       "      <td>FR</td>\n",
       "      <td>1</td>\n",
       "      <td>Commande une télévision avec rendez…</td>\n",
       "      <td>Il y a 13 heuresCommande une télévision avec rendez…Commande une télévision avec rendez vous du livreur. Je prend une journée de congé et le livreur ne vient pas. Je demande le renvoie de la télé chez Cdiscount. Cdiscount me rembourse la télé mes pas les 29 euros de livraison. Donc une journée de congé pour rien et un cadeau de 29 euros a Cdiscount. Plus jamais de commande sur Cdiscount.Date de l'expérience: 02 novembre 2022</td>\n",
       "    </tr>\n",
       "  </tbody>\n",
       "</table>\n",
       "</div>"
      ],
      "text/plain": [
       "  pays  note                                 titre  \\\n",
       "0   FR     1        Les As du prélèvement illicite   \n",
       "1   FR     1  Commande une télévision avec rendez…   \n",
       "\n",
       "                                                                                                                                                                                                                                                                                                                                                                                                                                                                                                                           commentaire  \n",
       "0  Il y a un jourLes As du prélèvement illicitePratiques à la limite de légal.J' ai pris un paiement en 4x dont il restait deux mois , pendant 1 semaine je ne retrouve pas ma carte , je la bloque temporairement.Le prelevement 3 ne passe pas Cdiscount m' informe qu' il faut régulariser, je retrouve ma carte et........boum deux prelevements simultanés des deux mensualités, celle du et l' autre prévue pour décembre.Cela me servira de leçon mais les vautours c 'est fini pour moi.Date de l'expérience: 14 novembre 2022  \n",
       "1                                                                                         Il y a 13 heuresCommande une télévision avec rendez…Commande une télévision avec rendez vous du livreur. Je prend une journée de congé et le livreur ne vient pas. Je demande le renvoie de la télé chez Cdiscount. Cdiscount me rembourse la télé mes pas les 29 euros de livraison. Donc une journée de congé pour rien et un cadeau de 29 euros a Cdiscount. Plus jamais de commande sur Cdiscount.Date de l'expérience: 02 novembre 2022  "
      ]
     },
     "execution_count": 4,
     "metadata": {},
     "output_type": "execute_result"
    }
   ],
   "source": [
    "df = pd.read_csv('datasets/SatisfactionClients/cdiscount.csv', index_col=0)\n",
    "df_test = pd.read_csv('datasets/SatisfactionClients/amazon_test1.csv', index_col=0)\n",
    "df.head(2)"
   ]
  },
  {
   "cell_type": "code",
   "execution_count": 5,
   "id": "ba3cf0df",
   "metadata": {},
   "outputs": [],
   "source": [
    "# chargement de la bibliothèque de stopwords et de tokenisation\n",
    "from nltk.corpus import stopwords\n",
    "from nltk import word_tokenize\n",
    "from nltk.tokenize.regexp import RegexpTokenizer\n",
    "from nltk.tokenize import PunktSentenceTokenizer"
   ]
  },
  {
   "cell_type": "code",
   "execution_count": 6,
   "id": "afbf1a9b",
   "metadata": {},
   "outputs": [
    {
     "name": "stderr",
     "output_type": "stream",
     "text": [
      "[nltk_data] Downloading package punkt to\n",
      "[nltk_data]     C:\\Users\\t.fourtouill\\AppData\\Roaming\\nltk_data...\n",
      "[nltk_data]   Package punkt is already up-to-date!\n"
     ]
    },
    {
     "data": {
      "text/plain": [
       "True"
      ]
     },
     "execution_count": 6,
     "metadata": {},
     "output_type": "execute_result"
    }
   ],
   "source": [
    "import nltk\n",
    "nltk.download('punkt')"
   ]
  },
  {
   "cell_type": "code",
   "execution_count": 7,
   "id": "f3c03c94",
   "metadata": {},
   "outputs": [],
   "source": [
    "# chargement des listes stopwords pour les 3 langues principales \n",
    "stop_words_french = stopwords.words('french')\n",
    "stop_words_english = stopwords.words('english')\n",
    "stop_words_spanish = stopwords.words('spanish')\n",
    "\n",
    "# création d'une stopwords regroupant les 3 langues\n",
    "stop_words = stop_words_french + stop_words_english + stop_words_spanish"
   ]
  },
  {
   "cell_type": "code",
   "execution_count": 8,
   "id": "9418557a",
   "metadata": {},
   "outputs": [],
   "source": [
    "def commentaire_filtering(txt, stop_words):\n",
    "    tokenizer = RegexpTokenizer('[a-zA-Zéèëãñ]')\n",
    "    tokens = word_tokenize(txt.lower())\n",
    "    words = [word for word in tokens if word not in stop_words]\n",
    "    return ' '.join(words).strip()"
   ]
  },
  {
   "cell_type": "code",
   "execution_count": 9,
   "id": "b9fb115a",
   "metadata": {},
   "outputs": [
    {
     "name": "stdout",
     "output_type": "stream",
     "text": [
      "le temps de calcul est de 113.52 secondes\n"
     ]
    }
   ],
   "source": [
    "# création d'une colonne commentaire_filtre par application de la fonction commentaire_filtering à la colonne commentaire\n",
    "t0 = time()\n",
    "\n",
    "df['commentaire_filtre'] = df['commentaire'].apply(lambda x : commentaire_filtering(str(x), stop_words))\n",
    "\n",
    "print('le temps de calcul est de {:.2f}'.format(time()-t0), 'secondes')"
   ]
  },
  {
   "cell_type": "code",
   "execution_count": 10,
   "id": "187c073c",
   "metadata": {},
   "outputs": [
    {
     "data": {
      "text/html": [
       "<div>\n",
       "<style scoped>\n",
       "    .dataframe tbody tr th:only-of-type {\n",
       "        vertical-align: middle;\n",
       "    }\n",
       "\n",
       "    .dataframe tbody tr th {\n",
       "        vertical-align: top;\n",
       "    }\n",
       "\n",
       "    .dataframe thead th {\n",
       "        text-align: right;\n",
       "    }\n",
       "</style>\n",
       "<table border=\"1\" class=\"dataframe\">\n",
       "  <thead>\n",
       "    <tr style=\"text-align: right;\">\n",
       "      <th></th>\n",
       "      <th>pays</th>\n",
       "      <th>note</th>\n",
       "      <th>titre</th>\n",
       "      <th>commentaire</th>\n",
       "      <th>commentaire_filtre</th>\n",
       "    </tr>\n",
       "  </thead>\n",
       "  <tbody>\n",
       "    <tr>\n",
       "      <th>0</th>\n",
       "      <td>FR</td>\n",
       "      <td>1</td>\n",
       "      <td>Les As du prélèvement illicite</td>\n",
       "      <td>Il y a un jourLes As du prélèvement illicitePratiques à la limite de légal.J' ai pris un paiement en 4x dont il restait deux mois , pendant 1 semaine je ne retrouve pas ma carte , je la bloque temporairement.Le prelevement 3 ne passe pas Cdiscount m' informe qu' il faut régulariser, je retrouve ma carte et........boum deux prelevements simultanés des deux mensualités, celle du et l' autre prévue pour décembre.Cela me servira de leçon mais les vautours c 'est fini pour moi.Date de l'expérience: 14 novembre 2022</td>\n",
       "      <td>jourles prélèvement illicitepratiques limite légal.j ' pris paiement 4x dont restait deux mois , pendant 1 semaine retrouve carte , bloque temporairement.le prelevement 3 passe cdiscount ' informe ' faut régulariser , retrouve carte ........ boum deux prelevements simultanés deux mensualités , celle ' autre prévue décembre.cela servira leçon vautours 'est fini moi.date l'expérience : 14 novembre 2022</td>\n",
       "    </tr>\n",
       "    <tr>\n",
       "      <th>1</th>\n",
       "      <td>FR</td>\n",
       "      <td>1</td>\n",
       "      <td>Commande une télévision avec rendez…</td>\n",
       "      <td>Il y a 13 heuresCommande une télévision avec rendez…Commande une télévision avec rendez vous du livreur. Je prend une journée de congé et le livreur ne vient pas. Je demande le renvoie de la télé chez Cdiscount. Cdiscount me rembourse la télé mes pas les 29 euros de livraison. Donc une journée de congé pour rien et un cadeau de 29 euros a Cdiscount. Plus jamais de commande sur Cdiscount.Date de l'expérience: 02 novembre 2022</td>\n",
       "      <td>13 heurescommande télévision rendez…commande télévision rendez livreur . prend journée congé livreur vient . demande renvoie télé chez cdiscount . cdiscount rembourse télé 29 euros livraison . donc journée congé rien cadeau 29 euros cdiscount . plus jamais commande cdiscount.date l'expérience : 02 novembre 2022</td>\n",
       "    </tr>\n",
       "  </tbody>\n",
       "</table>\n",
       "</div>"
      ],
      "text/plain": [
       "  pays  note                                 titre  \\\n",
       "0   FR     1        Les As du prélèvement illicite   \n",
       "1   FR     1  Commande une télévision avec rendez…   \n",
       "\n",
       "                                                                                                                                                                                                                                                                                                                                                                                                                                                                                                                           commentaire  \\\n",
       "0  Il y a un jourLes As du prélèvement illicitePratiques à la limite de légal.J' ai pris un paiement en 4x dont il restait deux mois , pendant 1 semaine je ne retrouve pas ma carte , je la bloque temporairement.Le prelevement 3 ne passe pas Cdiscount m' informe qu' il faut régulariser, je retrouve ma carte et........boum deux prelevements simultanés des deux mensualités, celle du et l' autre prévue pour décembre.Cela me servira de leçon mais les vautours c 'est fini pour moi.Date de l'expérience: 14 novembre 2022   \n",
       "1                                                                                         Il y a 13 heuresCommande une télévision avec rendez…Commande une télévision avec rendez vous du livreur. Je prend une journée de congé et le livreur ne vient pas. Je demande le renvoie de la télé chez Cdiscount. Cdiscount me rembourse la télé mes pas les 29 euros de livraison. Donc une journée de congé pour rien et un cadeau de 29 euros a Cdiscount. Plus jamais de commande sur Cdiscount.Date de l'expérience: 02 novembre 2022   \n",
       "\n",
       "                                                                                                                                                                                                                                                                                                                                                                                                    commentaire_filtre  \n",
       "0  jourles prélèvement illicitepratiques limite légal.j ' pris paiement 4x dont restait deux mois , pendant 1 semaine retrouve carte , bloque temporairement.le prelevement 3 passe cdiscount ' informe ' faut régulariser , retrouve carte ........ boum deux prelevements simultanés deux mensualités , celle ' autre prévue décembre.cela servira leçon vautours 'est fini moi.date l'expérience : 14 novembre 2022  \n",
       "1                                                                                             13 heurescommande télévision rendez…commande télévision rendez livreur . prend journée congé livreur vient . demande renvoie télé chez cdiscount . cdiscount rembourse télé 29 euros livraison . donc journée congé rien cadeau 29 euros cdiscount . plus jamais commande cdiscount.date l'expérience : 02 novembre 2022  "
      ]
     },
     "execution_count": 10,
     "metadata": {},
     "output_type": "execute_result"
    }
   ],
   "source": [
    "df.head(2)"
   ]
  },
  {
   "cell_type": "code",
   "execution_count": 11,
   "id": "ddfd6bfc",
   "metadata": {
    "scrolled": true
   },
   "outputs": [
    {
     "data": {
      "image/png": "[encoded data removed]",
      "text/plain": [
       "<Figure size 432x288 with 1 Axes>"
      ]
     },
     "metadata": {
      "needs_background": "light"
     },
     "output_type": "display_data"
    }
   ],
   "source": [
    "sns.countplot(x='note', data=df);"
   ]
  },
  {
   "cell_type": "code",
   "execution_count": 12,
   "id": "3ded978e",
   "metadata": {},
   "outputs": [
    {
     "data": {
      "image/png": "[encoded data removed]",
      "text/plain": [
       "<Figure size 432x288 with 1 Axes>"
      ]
     },
     "metadata": {
      "needs_background": "light"
     },
     "output_type": "display_data"
    }
   ],
   "source": [
    "sns.countplot(x='note', data=df_test);"
   ]
  },
  {
   "cell_type": "code",
   "execution_count": 13,
   "id": "f13e334a",
   "metadata": {},
   "outputs": [],
   "source": [
    "# séparation de la variable cible et des variables explicatives\n",
    "X = df['commentaire_filtre']\n",
    "y = df['note'].values"
   ]
  },
  {
   "cell_type": "code",
   "execution_count": 14,
   "id": "6269af3d",
   "metadata": {},
   "outputs": [],
   "source": [
    "# séparation du jeu de données en un dataset d'entrainement et un dataset de test\n",
    "from sklearn.model_selection import train_test_split\n",
    "X_train, X_test, y_train, y_test = train_test_split(X, y, test_size=0.2, shuffle=True)"
   ]
  },
  {
   "cell_type": "code",
   "execution_count": 15,
   "id": "0673da10",
   "metadata": {},
   "outputs": [
    {
     "name": "stdout",
     "output_type": "stream",
     "text": [
      "(96000,)\n",
      "(24000,)\n",
      "(100, 4)\n"
     ]
    }
   ],
   "source": [
    "print(X_train.shape)\n",
    "print(X_test.shape)\n",
    "print(df_test.shape)"
   ]
  },
  {
   "cell_type": "code",
   "execution_count": 16,
   "id": "d40a7b61",
   "metadata": {},
   "outputs": [],
   "source": [
    "from keras.preprocessing.text import Tokenizer\n",
    "from keras.preprocessing.sequence import pad_sequences"
   ]
  },
  {
   "cell_type": "code",
   "execution_count": 17,
   "id": "7709d894",
   "metadata": {},
   "outputs": [],
   "source": [
    "# tokenisation des commentaires\n",
    "num_words=2000\n",
    "tk = Tokenizer(num_words=num_words, lower=True)"
   ]
  },
  {
   "cell_type": "code",
   "execution_count": 18,
   "id": "014744b9",
   "metadata": {},
   "outputs": [],
   "source": [
    "# entrainement de la tokenisation sur le X_train\n",
    "tk.fit_on_texts(X_train)"
   ]
  },
  {
   "cell_type": "code",
   "execution_count": 19,
   "id": "5faa7d54",
   "metadata": {},
   "outputs": [
    {
     "data": {
      "text/plain": [
       "80260"
      ]
     },
     "execution_count": 19,
     "metadata": {},
     "output_type": "execute_result"
    }
   ],
   "source": [
    "# nb de ligne de la matrice\n",
    "word_index = tk.word_index\n",
    "len(tk.word_index)"
   ]
  },
  {
   "cell_type": "code",
   "execution_count": 20,
   "id": "8a275671",
   "metadata": {},
   "outputs": [
    {
     "data": {
      "text/plain": [
       "2000"
      ]
     },
     "execution_count": 20,
     "metadata": {},
     "output_type": "execute_result"
    }
   ],
   "source": [
    "# nb de colonnes dans la matrice\n",
    "vocabulary_size = tk.num_words\n",
    "vocabulary_size"
   ]
  },
  {
   "cell_type": "code",
   "execution_count": 21,
   "id": "c937c451",
   "metadata": {},
   "outputs": [],
   "source": [
    "# mise sous vecteur des commentaires\n",
    "X_seq_train = tk.texts_to_sequences(X_train)\n",
    "X_seq_test = tk.texts_to_sequences(X_test)"
   ]
  },
  {
   "cell_type": "code",
   "execution_count": 22,
   "id": "204ad175",
   "metadata": {},
   "outputs": [
    {
     "name": "stdout",
     "output_type": "stream",
     "text": [
      "[81, 30, 25, 133, 307, 12, 89, 1517, 1, 93, 28, 18]\n",
      "[60, 8, 5, 1, 60, 8, 4]\n",
      "[67, 35, 13, 406, 13, 406, 249, 220, 997, 47, 792, 359, 192, 554, 121, 47, 792, 997, 2, 1, 67, 33, 6]\n",
      "[56, 30, 25, 119, 162, 223, 1, 56, 28, 18]\n",
      "[91, 45, 5, 1720, 453, 13, 1700, 453, 13, 1700, 145, 2, 1, 103, 41, 4]\n"
     ]
    }
   ],
   "source": [
    "# affichage de la vectorisation réalisée\n",
    "for x in range(0,5):\n",
    "    print(X_seq_train[x]) "
   ]
  },
  {
   "cell_type": "code",
   "execution_count": 23,
   "id": "e647906d",
   "metadata": {},
   "outputs": [
    {
     "data": {
      "text/plain": [
       "Text(0.5, 1.0, 'commentaires sans stop_word')"
      ]
     },
     "execution_count": 23,
     "metadata": {},
     "output_type": "execute_result"
    },
    {
     "data": {
      "image/png": "[encoded data removed]",
      "text/plain": [
       "<Figure size 864x288 with 2 Axes>"
      ]
     },
     "metadata": {
      "needs_background": "light"
     },
     "output_type": "display_data"
    }
   ],
   "source": [
    "# affichage du nb de mots par commentaire pour nous aider à choisir le nb de mots dans la matrice \n",
    "df_hist = pd.read_csv('datasets/SatisfactionClients/cdiscount_retraite.csv', index_col=0)\n",
    "df_hist['split'] = df_hist['commentaire'].apply(lambda x: len(x.split(' ')))\n",
    "df_hist['filtre_split'] = df_hist['Commentaire_filtre'].apply(lambda x: len(x.split(' ')))\n",
    "\n",
    "plt.figure(figsize=(12, 4))\n",
    "plt.subplot(121)\n",
    "plt.hist(df_hist['split'])\n",
    "plt.xlim([0, 600])\n",
    "plt.title('commentaires bruts')\n",
    "plt.subplot(122)\n",
    "plt.hist(df_hist['filtre_split'])\n",
    "plt.xlim([0, 600])\n",
    "plt.title('commentaires sans stop_word')"
   ]
  },
  {
   "cell_type": "code",
   "execution_count": 24,
   "id": "aa8ad6cf",
   "metadata": {},
   "outputs": [],
   "source": [
    "# transformation en matrice de même longueur par maxlen défini ci-dessous. Avec des 0 si colonne inférieure à maxlen\n",
    "max_words = 200\n",
    "X_pad_train = pad_sequences(X_seq_train, maxlen=max_words, padding='post')\n",
    "X_pad_test= pad_sequences(X_seq_test, maxlen=max_words, padding='post')"
   ]
  },
  {
   "cell_type": "code",
   "execution_count": 25,
   "id": "e5651d36",
   "metadata": {},
   "outputs": [
    {
     "name": "stdout",
     "output_type": "stream",
     "text": [
      "(96000, 200)\n"
     ]
    },
    {
     "data": {
      "text/plain": [
       "array([[ 81,  30,  25, ...,   0,   0,   0],\n",
       "       [ 60,   8,   5, ...,   0,   0,   0],\n",
       "       [ 67,  35,  13, ...,   0,   0,   0],\n",
       "       ...,\n",
       "       [ 38,  62, 841, ...,   0,   0,   0],\n",
       "       [ 55,  30,   5, ...,   0,   0,   0],\n",
       "       [ 56,  21, 753, ...,   0,   0,   0]])"
      ]
     },
     "execution_count": 25,
     "metadata": {},
     "output_type": "execute_result"
    }
   ],
   "source": [
    "# affice de la matrice\n",
    "print(X_pad_train.shape)\n",
    "X_pad_train"
   ]
  },
  {
   "cell_type": "code",
   "execution_count": 26,
   "id": "a509121c",
   "metadata": {},
   "outputs": [
    {
     "name": "stdout",
     "output_type": "stream",
     "text": [
      "Model: \"sequential\"\n",
      "_________________________________________________________________\n",
      "Layer (type)                 Output Shape              Param #   \n",
      "=================================================================\n",
      "embedding (Embedding)        (None, 200, 50)           100000    \n",
      "_________________________________________________________________\n",
      "global_average_pooling1d (Gl (None, 50)                0         \n",
      "_________________________________________________________________\n",
      "dense (Dense)                (None, 64)                3264      \n",
      "_________________________________________________________________\n",
      "dropout (Dropout)            (None, 64)                0         \n",
      "_________________________________________________________________\n",
      "dense_1 (Dense)              (None, 6)                 390       \n",
      "=================================================================\n",
      "Total params: 103,654\n",
      "Trainable params: 103,654\n",
      "Non-trainable params: 0\n",
      "_________________________________________________________________\n"
     ]
    }
   ],
   "source": [
    "# Création des couches du modéle\n",
    "\n",
    "from tensorflow.keras.models import Sequential\n",
    "from tensorflow.keras.layers import Dense, GlobalAveragePooling1D, Input, Embedding, Dropout\n",
    "\n",
    "embedding_size = 50\n",
    "\n",
    "model_embedding_1 = Sequential()\n",
    "model_embedding_1.add(Embedding(input_dim=vocabulary_size, output_dim=embedding_size, input_length=max_words, embeddings_initializer='uniform'))  # On reprend le nb de mot choisi dans la tokenisation\n",
    "model_embedding_1.add(GlobalAveragePooling1D())\n",
    "model_embedding_1.add(Dense(units=64, activation='relu'))\n",
    "model_embedding_1.add(Dropout(rate=0.3))\n",
    "model_embedding_1.add(Dense(units=6, activation='softmax')) # En sortie le nb de units devra correspondre aux nb de variables cibles\n",
    "\n",
    "model_embedding_1.summary()"
   ]
  },
  {
   "cell_type": "code",
   "execution_count": 27,
   "id": "36bca453",
   "metadata": {},
   "outputs": [],
   "source": [
    "# timer pour mesurer le temps écoulé entre les epochs de début et de fin de callback\n",
    "from tensorflow.keras.callbacks import Callback\n",
    "from timeit import default_timer as timer\n",
    "\n",
    "class TimingCallback(Callback):\n",
    "    def __init__(self, logs={}):\n",
    "        self.logs=[]\n",
    "    def on_epoch_begin(self, epoch, logs={}):\n",
    "        self.starttime = timer()\n",
    "    def on_epoch_end(self, epoch, logs={}):\n",
    "        self.logs.append(timer()-self.starttime)\n",
    "\n",
    "# instanciation la fonction TimingCallback()\n",
    "time_callback = TimingCallback()"
   ]
  },
  {
   "cell_type": "code",
   "execution_count": 28,
   "id": "4f9cb05f",
   "metadata": {},
   "outputs": [],
   "source": [
    "# Création des callback\n",
    "from tensorflow.keras.callbacks import EarlyStopping\n",
    "\n",
    "early_stop = EarlyStopping(monitor='val_loss',\n",
    "                          min_delta=0.01,\n",
    "                          patience=2,\n",
    "                          mode='min',\n",
    "                          restore_best_weights=True,\n",
    "                          verbose=1)"
   ]
  },
  {
   "cell_type": "code",
   "execution_count": 29,
   "id": "bbfcec82",
   "metadata": {},
   "outputs": [],
   "source": [
    "model_embedding_1.compile(loss='sparse_categorical_crossentropy', optimizer='adam', metrics=['accuracy'])"
   ]
  },
  {
   "cell_type": "code",
   "execution_count": 30,
   "id": "6a48774e",
   "metadata": {},
   "outputs": [
    {
     "name": "stdout",
     "output_type": "stream",
     "text": [
      "Epoch 1/10\n",
      "2700/2700 [==============================] - 21s 7ms/step - loss: 0.8924 - accuracy: 0.6738 - val_loss: 0.7749 - val_accuracy: 0.6980\n",
      "Epoch 2/10\n",
      "2700/2700 [==============================] - 18s 7ms/step - loss: 0.7726 - accuracy: 0.6953 - val_loss: 0.7449 - val_accuracy: 0.7039\n",
      "Epoch 3/10\n",
      "2700/2700 [==============================] - 18s 7ms/step - loss: 0.7398 - accuracy: 0.7062 - val_loss: 0.7217 - val_accuracy: 0.7104\n",
      "Epoch 4/10\n",
      "2700/2700 [==============================] - 19s 7ms/step - loss: 0.7210 - accuracy: 0.7139 - val_loss: 0.7124 - val_accuracy: 0.7152\n",
      "Epoch 5/10\n",
      "2700/2700 [==============================] - 21s 8ms/step - loss: 0.7071 - accuracy: 0.7175 - val_loss: 0.7111 - val_accuracy: 0.7173\n",
      "Epoch 6/10\n",
      "2700/2700 [==============================] - 20s 7ms/step - loss: 0.7016 - accuracy: 0.7207 - val_loss: 0.7079 - val_accuracy: 0.7179\n",
      "Epoch 7/10\n",
      "2700/2700 [==============================] - 40s 15ms/step - loss: 0.6966 - accuracy: 0.7227 - val_loss: 0.7086 - val_accuracy: 0.7178\n",
      "Restoring model weights from the end of the best epoch.\n",
      "Epoch 00007: early stopping\n"
     ]
    }
   ],
   "source": [
    "batch_size = 32\n",
    "epochs = 10\n",
    "history = model_embedding_1.fit(X_pad_train, y_train, batch_size=batch_size, epochs=epochs, validation_split=0.1,\n",
    "                               callbacks=[early_stop, time_callback])"
   ]
  },
  {
   "cell_type": "code",
   "execution_count": 31,
   "id": "9ae167f8",
   "metadata": {},
   "outputs": [
    {
     "name": "stdout",
     "output_type": "stream",
     "text": [
      "750/750 [==============================] - 4s 6ms/step - loss: 0.7071 - accuracy: 0.7209\n"
     ]
    },
    {
     "data": {
      "text/plain": [
       "[0.7071043252944946, 0.7208750247955322]"
      ]
     },
     "execution_count": 31,
     "metadata": {},
     "output_type": "execute_result"
    }
   ],
   "source": [
    "model_embedding_1.evaluate(X_pad_test, y_test, verbose=1)"
   ]
  },
  {
   "cell_type": "markdown",
   "id": "6aa031ba",
   "metadata": {},
   "source": [
    "### Calcul des prédictions sur le le de test cdiscount"
   ]
  },
  {
   "cell_type": "code",
   "execution_count": 32,
   "id": "047e9d1c",
   "metadata": {},
   "outputs": [
    {
     "name": "stdout",
     "output_type": "stream",
     "text": [
      "750/750 [==============================] - 4s 5ms/step\n"
     ]
    }
   ],
   "source": [
    "# création des prédictions du eu de test cdiscount à partir du modèle\n",
    "predict_cdiscount = model_embedding_1.predict(X_pad_test, verbose=1)"
   ]
  },
  {
   "cell_type": "code",
   "execution_count": 33,
   "id": "839cd186",
   "metadata": {},
   "outputs": [
    {
     "data": {
      "text/plain": [
       "array([5, 5, 5, ..., 1, 5, 4], dtype=int64)"
      ]
     },
     "execution_count": 33,
     "metadata": {},
     "output_type": "execute_result"
    }
   ],
   "source": [
    "predict_cdiscount_class = predict_cdiscount.argmax(axis=1)\n",
    "predict_cdiscount_class"
   ]
  },
  {
   "cell_type": "code",
   "execution_count": 34,
   "id": "c60286b3",
   "metadata": {},
   "outputs": [
    {
     "name": "stderr",
     "output_type": "stream",
     "text": [
      "C:\\Users\\t.fourtouill\\Anaconda3\\lib\\site-packages\\seaborn\\_decorators.py:36: FutureWarning: Pass the following variable as a keyword arg: x. From version 0.12, the only valid positional argument will be `data`, and passing other arguments without an explicit keyword will result in an error or misinterpretation.\n",
      "  warnings.warn(\n"
     ]
    },
    {
     "data": {
      "image/png": "[encoded data removed]",
      "text/plain": [
       "<Figure size 432x288 with 1 Axes>"
      ]
     },
     "metadata": {
      "needs_background": "light"
     },
     "output_type": "display_data"
    }
   ],
   "source": [
    "sns.countplot(predict_cdiscount_class)\n",
    "plt.show();"
   ]
  },
  {
   "cell_type": "markdown",
   "id": "33371e69",
   "metadata": {},
   "source": [
    "### Calcul des prédictions sur le jeu de test amazon"
   ]
  },
  {
   "cell_type": "code",
   "execution_count": 35,
   "id": "3196ab7a",
   "metadata": {},
   "outputs": [
    {
     "name": "stdout",
     "output_type": "stream",
     "text": [
      "le temps de calcul est de 0.28\n"
     ]
    }
   ],
   "source": [
    "# création d'une colonne commentaire_filtre par application de la fonction commentaire_filtering à la colonne commentaire\n",
    "t0 = time()\n",
    "\n",
    "df_test['commentaire_filtre'] = df_test['commentaire'].apply(lambda x : commentaire_filtering(str(x), stop_words))\n",
    "\n",
    "print('le temps de calcul est de {:.2f}'.format(time()-t0))"
   ]
  },
  {
   "cell_type": "code",
   "execution_count": 36,
   "id": "fa5e08ab",
   "metadata": {},
   "outputs": [
    {
     "data": {
      "text/html": [
       "<div>\n",
       "<style scoped>\n",
       "    .dataframe tbody tr th:only-of-type {\n",
       "        vertical-align: middle;\n",
       "    }\n",
       "\n",
       "    .dataframe tbody tr th {\n",
       "        vertical-align: top;\n",
       "    }\n",
       "\n",
       "    .dataframe thead th {\n",
       "        text-align: right;\n",
       "    }\n",
       "</style>\n",
       "<table border=\"1\" class=\"dataframe\">\n",
       "  <thead>\n",
       "    <tr style=\"text-align: right;\">\n",
       "      <th></th>\n",
       "      <th>pays</th>\n",
       "      <th>note</th>\n",
       "      <th>titre</th>\n",
       "      <th>commentaire</th>\n",
       "      <th>commentaire_filtre</th>\n",
       "    </tr>\n",
       "  </thead>\n",
       "  <tbody>\n",
       "    <tr>\n",
       "      <th>0</th>\n",
       "      <td>FR</td>\n",
       "      <td>1</td>\n",
       "      <td>nage en eaux troubles</td>\n",
       "      <td>ll y a 2 joursnage en eaux troublesSystème de vérification de compte horrible, aucunes indications, quand on fournit les pièces demandées ça ne va pas et on nous redemande les mêmes choses par la suite, service client horrible, attente interminable, me voilà bloqué depuis 3 jours et  cela n'est toujours pas résolu; aucunes informations sur la suite des démarche, ma pire expérience en matière de résolution des soucis liés à un compteDate de l'expérience: 26 novembre 2022</td>\n",
       "      <td>2 joursnage eaux troublessystème vérification compte horrible , aucunes indications , quand fournit pièces demandées ça va redemande mêmes choses suite , service client horrible , attente interminable , voilà bloqué depuis 3 jours cela n'est toujours résolu ; aucunes informations suite démarche , pire expérience matière résolution soucis liés comptedate l'expérience : 26 novembre 2022</td>\n",
       "    </tr>\n",
       "    <tr>\n",
       "      <th>1</th>\n",
       "      <td>FR</td>\n",
       "      <td>1</td>\n",
       "      <td>Colis qui fait le tour du monde</td>\n",
       "      <td>ll y a 2 joursColis qui fait le tour du mondeJe ne suis pas adepte cette enseigne mais j'avoue que je n'ai trouvé ce produit nulle part ailleurs mon expérience pour le paiement XXL par contre pour le suivi et la livraison nul archi nul aucun suivi de commande disponible je ne sais d'où vient mon produit c'est mon ultime commande et la deuxième seulement auprès de cette enseigneDate de l'expérience: 26 novembre 2022</td>\n",
       "      <td>2 jourscolis fait tour mondeje adepte cette enseigne j'avoue n'ai trouvé produit nulle part ailleurs expérience paiement xxl contre suivi livraison nul archi nul aucun suivi commande disponible sais d'où vient produit c'est ultime commande deuxième seulement auprès cette enseignedate l'expérience : 26 novembre 2022</td>\n",
       "    </tr>\n",
       "  </tbody>\n",
       "</table>\n",
       "</div>"
      ],
      "text/plain": [
       "  pays  note                            titre  \\\n",
       "0   FR     1            nage en eaux troubles   \n",
       "1   FR     1  Colis qui fait le tour du monde   \n",
       "\n",
       "                                                                                                                                                                                                                                                                                                                                                                                                                                                                                  commentaire  \\\n",
       "0  ll y a 2 joursnage en eaux troublesSystème de vérification de compte horrible, aucunes indications, quand on fournit les pièces demandées ça ne va pas et on nous redemande les mêmes choses par la suite, service client horrible, attente interminable, me voilà bloqué depuis 3 jours et  cela n'est toujours pas résolu; aucunes informations sur la suite des démarche, ma pire expérience en matière de résolution des soucis liés à un compteDate de l'expérience: 26 novembre 2022   \n",
       "1                                                          ll y a 2 joursColis qui fait le tour du mondeJe ne suis pas adepte cette enseigne mais j'avoue que je n'ai trouvé ce produit nulle part ailleurs mon expérience pour le paiement XXL par contre pour le suivi et la livraison nul archi nul aucun suivi de commande disponible je ne sais d'où vient mon produit c'est mon ultime commande et la deuxième seulement auprès de cette enseigneDate de l'expérience: 26 novembre 2022   \n",
       "\n",
       "                                                                                                                                                                                                                                                                                                                                                                                    commentaire_filtre  \n",
       "0  2 joursnage eaux troublessystème vérification compte horrible , aucunes indications , quand fournit pièces demandées ça va redemande mêmes choses suite , service client horrible , attente interminable , voilà bloqué depuis 3 jours cela n'est toujours résolu ; aucunes informations suite démarche , pire expérience matière résolution soucis liés comptedate l'expérience : 26 novembre 2022  \n",
       "1                                                                         2 jourscolis fait tour mondeje adepte cette enseigne j'avoue n'ai trouvé produit nulle part ailleurs expérience paiement xxl contre suivi livraison nul archi nul aucun suivi commande disponible sais d'où vient produit c'est ultime commande deuxième seulement auprès cette enseignedate l'expérience : 26 novembre 2022  "
      ]
     },
     "execution_count": 36,
     "metadata": {},
     "output_type": "execute_result"
    }
   ],
   "source": [
    "df_test.head(2)"
   ]
  },
  {
   "cell_type": "code",
   "execution_count": 37,
   "id": "11489f4b",
   "metadata": {},
   "outputs": [],
   "source": [
    "# séparation de la variable cible et des variables explicatives\n",
    "check_set = df_test['commentaire_filtre'].values"
   ]
  },
  {
   "cell_type": "code",
   "execution_count": 38,
   "id": "10065e99",
   "metadata": {},
   "outputs": [],
   "source": [
    "# vectorisation des token\n",
    "check_seq = tk.texts_to_sequences(check_set)"
   ]
  },
  {
   "cell_type": "code",
   "execution_count": 39,
   "id": "5197708f",
   "metadata": {},
   "outputs": [],
   "source": [
    "# mise sous matrice numpy\n",
    "check_pad = pad_sequences(check_seq, maxlen=max_words, padding='post')"
   ]
  },
  {
   "cell_type": "code",
   "execution_count": 40,
   "id": "1061496c",
   "metadata": {},
   "outputs": [
    {
     "data": {
      "text/plain": [
       "array([[  68,  173,  131, ...,    0,    0,    0],\n",
       "       [  68,   84,  141, ...,    0,    0,    0],\n",
       "       [  68,   36,  456, ...,    0,    0,    0],\n",
       "       ...,\n",
       "       [  52,   34, 1035, ...,    0,    0,    0],\n",
       "       [  91,   17, 1409, ...,    0,    0,    0],\n",
       "       [  55,   34,   36, ...,    0,    0,    0]])"
      ]
     },
     "execution_count": 40,
     "metadata": {},
     "output_type": "execute_result"
    }
   ],
   "source": [
    "check_pad"
   ]
  },
  {
   "cell_type": "code",
   "execution_count": 41,
   "id": "bff87635",
   "metadata": {},
   "outputs": [
    {
     "name": "stdout",
     "output_type": "stream",
     "text": [
      "4/4 [==============================] - 0s 7ms/step\n"
     ]
    }
   ],
   "source": [
    "# création des prédictions du jeu de test amazon à partir du modèle\n",
    "check_predict = model_embedding_1.predict(check_pad, verbose=1)"
   ]
  },
  {
   "cell_type": "code",
   "execution_count": 42,
   "id": "3690b8c8",
   "metadata": {},
   "outputs": [
    {
     "name": "stdout",
     "output_type": "stream",
     "text": [
      "[[3.91958332e-09 7.40056336e-01 1.34172037e-01 9.27961096e-02\n",
      "  2.45703720e-02 8.40510428e-03]\n",
      " [1.80975839e-08 7.47254968e-01 1.26135543e-01 8.81611630e-02\n",
      "  2.54017487e-02 1.30465897e-02]\n",
      " [1.11118137e-08 6.97020888e-01 1.54562220e-01 1.08374253e-01\n",
      "  2.81875543e-02 1.18550956e-02]\n",
      " [1.00952345e-11 8.36622596e-01 1.04842357e-01 4.96346615e-02\n",
      "  7.36650964e-03 1.53399084e-03]\n",
      " [6.58828374e-12 9.01147306e-01 6.64962456e-02 2.70996802e-02\n",
      "  3.98934772e-03 1.26739196e-03]\n",
      " [3.59488143e-23 9.97242689e-01 2.63016322e-03 1.25083912e-04\n",
      "  1.67901783e-06 4.70343508e-07]\n",
      " [3.11228767e-15 9.01663005e-01 7.36813918e-02 2.27652434e-02\n",
      "  1.74563867e-03 1.44682228e-04]\n",
      " [7.55519630e-22 9.76353884e-01 2.07927059e-02 2.78014806e-03\n",
      "  7.19612653e-05 1.34044978e-06]\n",
      " [5.59906257e-28 9.96073961e-01 3.75348888e-03 1.71254738e-04\n",
      "  1.25107692e-06 1.59783831e-08]\n",
      " [1.01281212e-14 9.71691966e-01 2.27822047e-02 4.93017584e-03\n",
      "  4.09810600e-04 1.85821627e-04]\n",
      " [3.77126376e-14 8.94570053e-01 7.44299665e-02 2.77325995e-02\n",
      "  2.98194983e-03 2.85443180e-04]\n",
      " [8.44808219e-13 9.43522215e-01 4.14178707e-02 1.29284915e-02\n",
      "  1.49064104e-03 6.40808896e-04]\n",
      " [4.70562481e-05 4.48400289e-01 1.59030616e-01 1.79127902e-01\n",
      "  9.69529748e-02 1.16441227e-01]\n",
      " [4.32887137e-19 9.89424467e-01 9.40266065e-03 1.12252031e-03\n",
      "  4.20657780e-05 8.25316783e-06]\n",
      " [4.48310243e-11 9.42085266e-01 4.04834524e-02 1.28914919e-02\n",
      "  1.95595832e-03 2.58379849e-03]\n",
      " [7.72731725e-15 9.52003539e-01 3.68348882e-02 1.01222163e-02\n",
      "  8.83890549e-04 1.55444912e-04]\n",
      " [3.47466153e-12 8.10502112e-01 1.17664352e-01 6.09152727e-02\n",
      "  9.71640088e-03 1.20188307e-03]\n",
      " [4.76122787e-12 8.37390840e-01 1.06428877e-01 4.81048301e-02\n",
      "  6.76371297e-03 1.31168088e-03]\n",
      " [2.87916372e-16 9.77414250e-01 1.87910162e-02 3.52238584e-03\n",
      "  2.16172790e-04 5.61848319e-05]\n",
      " [1.22263090e-23 9.95878458e-01 3.88431898e-03 2.33689643e-04\n",
      "  3.23792165e-06 2.93162628e-07]\n",
      " [2.05389455e-07 6.82673097e-01 1.40464038e-01 1.12490326e-01\n",
      "  3.88080738e-02 2.55642980e-02]\n",
      " [1.71200402e-12 9.02996361e-01 6.84313551e-02 2.47606281e-02\n",
      "  2.92219874e-03 8.89377377e-04]\n",
      " [4.51144461e-19 9.87107217e-01 1.13954442e-02 1.43924821e-03\n",
      "  5.06139186e-05 7.52687629e-06]\n",
      " [3.14810525e-27 9.89155114e-01 1.02216434e-02 6.18231366e-04\n",
      "  5.06322931e-06 3.61797809e-08]\n",
      " [8.07498168e-07 7.56397903e-01 9.48077887e-02 6.22478165e-02\n",
      "  2.50963736e-02 6.14492632e-02]\n",
      " [1.30336074e-12 7.79260337e-01 1.36238754e-01 7.24614561e-02\n",
      "  1.10297967e-02 1.00957754e-03]\n",
      " [3.59907828e-12 7.11538374e-01 1.64810553e-01 1.03167020e-01\n",
      "  1.89815816e-02 1.50241284e-03]\n",
      " [5.66115405e-13 5.37860572e-01 2.43394986e-01 1.80337176e-01\n",
      "  3.69680598e-02 1.43921236e-03]\n",
      " [6.43564053e-18 6.89367771e-01 2.01904356e-01 9.86893326e-02\n",
      "  9.96413268e-03 7.44667996e-05]\n",
      " [4.36804726e-07 6.75392866e-01 9.04598534e-02 7.94940963e-02\n",
      "  4.64642495e-02 1.08188488e-01]\n",
      " [9.59652500e-15 1.79344743e-01 3.04402381e-01 3.72670144e-01\n",
      "  1.42430067e-01 1.15265639e-03]\n",
      " [1.92299885e-05 4.76132542e-01 1.51336491e-01 1.75887838e-01\n",
      "  9.50690061e-02 1.01554886e-01]\n",
      " [3.39858489e-11 8.96743834e-01 6.59428984e-02 3.00917476e-02\n",
      "  5.31021459e-03 1.91131642e-03]\n",
      " [4.17342534e-07 6.07105434e-01 1.59756050e-01 1.45532325e-01\n",
      "  5.66767938e-02 3.09289750e-02]\n",
      " [1.29543807e-07 6.01415038e-01 1.71131492e-01 1.51028186e-01\n",
      "  5.35976700e-02 2.28274427e-02]\n",
      " [3.95133058e-12 9.38384056e-01 4.38391306e-02 1.47671830e-02\n",
      "  1.95958652e-03 1.05016527e-03]\n",
      " [9.71352252e-12 6.57910764e-01 1.93594545e-01 1.23795912e-01\n",
      "  2.25830637e-02 2.11574021e-03]\n",
      " [1.45586959e-10 8.42285216e-01 9.59898084e-02 4.94010113e-02\n",
      "  9.14232619e-03 3.18161095e-03]\n",
      " [1.90314509e-07 1.48248792e-01 1.95084170e-01 3.53277981e-01\n",
      "  2.67063051e-01 3.63258421e-02]\n",
      " [7.05792629e-12 8.61106098e-01 9.12626907e-02 4.04130444e-02\n",
      "  5.83506515e-03 1.38305791e-03]\n",
      " [1.15873581e-05 3.64215046e-01 1.32166892e-01 2.10837379e-01\n",
      "  1.51520044e-01 1.41249076e-01]\n",
      " [8.09232570e-10 4.04320925e-01 2.39013061e-01 2.56280929e-01\n",
      "  9.17792246e-02 8.60591233e-03]\n",
      " [2.32579823e-05 4.11973268e-01 1.48151860e-01 1.98737949e-01\n",
      "  1.21005528e-01 1.20108098e-01]\n",
      " [3.83610288e-12 4.60140049e-01 2.48321280e-01 2.25549132e-01\n",
      "  6.34689629e-02 2.52058380e-03]\n",
      " [2.12493887e-07 6.37471139e-01 1.51143864e-01 1.34853512e-01\n",
      "  5.08625433e-02 2.56687682e-02]\n",
      " [4.67800504e-07 3.50356251e-02 1.28428295e-01 3.49719167e-01\n",
      "  4.32501644e-01 5.43148071e-02]\n",
      " [6.03984688e-07 1.72481798e-02 6.46289736e-02 2.88367212e-01\n",
      "  5.32543719e-01 9.72113684e-02]\n",
      " [4.26520683e-06 3.05851400e-02 8.32568109e-02 3.00981969e-01\n",
      "  4.69603270e-01 1.15568481e-01]\n",
      " [5.44956361e-04 5.28065376e-02 1.00732647e-01 2.63390243e-01\n",
      "  3.31985176e-01 2.50540376e-01]\n",
      " [3.47630203e-06 5.01849234e-01 1.65138707e-01 1.85004711e-01\n",
      "  9.08634439e-02 5.71403988e-02]\n",
      " [7.40928846e-12 5.48649542e-02 1.93669990e-01 4.12747025e-01\n",
      "  3.33061516e-01 5.65652177e-03]\n",
      " [1.13009250e-07 5.92298508e-01 1.73537716e-01 1.55815184e-01\n",
      "  5.59845828e-02 2.23638788e-02]\n",
      " [5.89424731e-10 8.34495127e-01 9.46283415e-02 5.38427532e-02\n",
      "  1.22848153e-02 4.74897958e-03]\n",
      " [2.54005816e-10 7.39999831e-01 1.41457289e-01 9.34326723e-02\n",
      "  2.10694484e-02 4.04075300e-03]\n",
      " [1.05740992e-06 9.93361846e-02 1.54032409e-01 3.49785268e-01\n",
      "  3.38547766e-01 5.82973063e-02]\n",
      " [9.50590256e-05 7.76334256e-02 1.33125007e-01 3.12840909e-01\n",
      "  3.38347912e-01 1.37957647e-01]\n",
      " [9.43558898e-10 9.93539952e-03 9.15429890e-02 3.33875954e-01\n",
      "  5.46970248e-01 1.76753383e-02]\n",
      " [3.42581605e-12 8.55061293e-01 9.42916423e-02 4.32656780e-02\n",
      "  6.29352359e-03 1.08790712e-03]\n",
      " [4.14062788e-06 3.10095221e-01 1.96146697e-01 2.75382519e-01\n",
      "  1.58205837e-01 6.01655543e-02]\n",
      " [4.24409086e-09 8.54619920e-01 8.17826539e-02 4.44941409e-02\n",
      "  1.06864478e-02 8.41683988e-03]\n",
      " [8.94266261e-09 7.16925979e-01 1.39836192e-01 1.03204101e-01\n",
      "  2.96179466e-02 1.04157478e-02]\n",
      " [4.78774818e-05 4.30220902e-01 1.31967947e-01 1.65251359e-01\n",
      "  1.04851209e-01 1.67660698e-01]\n",
      " [6.10601955e-06 1.07645564e-01 1.54835567e-01 3.38484466e-01\n",
      "  3.19245905e-01 7.97823220e-02]\n",
      " [5.45504508e-06 4.88356836e-02 1.75207742e-02 4.79674041e-02\n",
      "  1.71389088e-01 7.14281619e-01]\n",
      " [1.68876650e-05 4.72932830e-02 5.97489700e-02 2.35262781e-01\n",
      "  4.30001467e-01 2.27676526e-01]\n",
      " [6.82688537e-08 7.13075340e-01 1.35470584e-01 1.00877263e-01\n",
      "  3.14848386e-02 1.90918539e-02]\n",
      " [6.78428307e-07 5.09023964e-01 1.88961029e-01 1.89287305e-01\n",
      "  7.64533132e-02 3.62737663e-02]\n",
      " [3.14478749e-13 3.76294516e-02 1.84642091e-01 4.17718053e-01\n",
      "  3.56834680e-01 3.17569822e-03]\n",
      " [2.95711779e-05 1.89247236e-01 1.71062827e-01 3.06025088e-01\n",
      "  2.33559221e-01 1.00076064e-01]\n",
      " [3.75134005e-05 6.52657822e-02 8.34404752e-02 2.71418124e-01\n",
      "  3.85901004e-01 1.93937063e-01]\n",
      " [1.55824673e-05 1.46416798e-01 5.43726012e-02 1.23174056e-01\n",
      "  2.11044148e-01 4.64976847e-01]\n",
      " [1.39039767e-04 9.54746008e-02 1.23416431e-01 2.96742648e-01\n",
      "  3.19542855e-01 1.64684430e-01]\n",
      " [2.48779514e-07 5.13934076e-01 1.93625957e-01 1.91245466e-01\n",
      "  7.30718747e-02 2.81223394e-02]\n",
      " [1.84798967e-06 4.56859209e-02 1.33105153e-02 3.26723568e-02\n",
      "  1.34784773e-01 7.73544550e-01]\n",
      " [9.10843179e-10 1.68251067e-01 2.35073581e-01 3.68002266e-01\n",
      "  2.16308981e-01 1.23641426e-02]\n",
      " [6.88511989e-07 7.42192805e-01 1.11457251e-01 8.01070333e-02\n",
      "  2.79797986e-02 3.82624567e-02]\n",
      " [3.04604532e-06 2.40984112e-02 5.39581701e-02 2.48567715e-01\n",
      "  5.07863164e-01 1.65509507e-01]\n",
      " [1.01111827e-05 1.15501899e-02 1.76436510e-02 9.66880396e-02\n",
      "  3.96619022e-01 4.77488965e-01]\n",
      " [1.14118347e-06 1.03522446e-02 3.96966636e-02 2.23440528e-01\n",
      "  5.51876664e-01 1.74632773e-01]\n",
      " [1.66448658e-07 6.16510391e-01 1.58392668e-01 1.45242617e-01\n",
      "  5.55379204e-02 2.43162364e-02]\n",
      " [5.10043583e-06 6.15666509e-01 1.35130659e-01 1.24283798e-01\n",
      "  5.50834574e-02 6.98304847e-02]\n",
      " [2.95410640e-11 2.67534979e-05 2.33041264e-05 4.75284731e-04\n",
      "  9.75689068e-02 9.01905715e-01]\n",
      " [3.17505851e-07 2.80594695e-02 7.46025471e-03 1.96841527e-02\n",
      "  1.16620176e-01 8.28175664e-01]\n",
      " [7.40590167e-07 5.62699884e-03 3.20146815e-03 1.73535142e-02\n",
      "  1.78975910e-01 7.94841349e-01]\n",
      " [3.31847189e-10 2.37991080e-01 2.72397608e-01 3.38577807e-01\n",
      "  1.41777605e-01 9.25591495e-03]\n",
      " [9.14024745e-10 5.33571525e-04 2.05803633e-04 1.40944030e-03\n",
      "  7.34783933e-02 9.24372852e-01]\n",
      " [8.81364613e-05 5.79146706e-02 3.49446684e-02 1.06744088e-01\n",
      "  2.43400812e-01 5.56907654e-01]\n",
      " [8.07287535e-08 1.75356108e-03 1.01878704e-03 6.29717484e-03\n",
      "  1.36394411e-01 8.54536057e-01]\n",
      " [5.69840722e-06 1.51642840e-02 1.01767927e-02 4.84532565e-02\n",
      "  2.59120464e-01 6.67079508e-01]\n",
      " [2.55009659e-11 3.82784274e-05 2.35502248e-05 3.94023402e-04\n",
      "  7.54687861e-02 9.24075305e-01]\n",
      " [8.66905268e-08 6.31462574e-01 1.61306486e-01 1.39399812e-01\n",
      "  4.81177717e-02 1.97133049e-02]\n",
      " [1.68978713e-05 3.21458697e-01 7.11921304e-02 9.49954242e-02\n",
      "  1.07304782e-01 4.05032009e-01]\n",
      " [1.91582949e-04 6.62628114e-02 1.25760213e-01 3.02321345e-01\n",
      "  3.46516788e-01 1.58947274e-01]\n",
      " [3.15076113e-06 1.30687254e-02 1.22191533e-02 7.19026923e-02\n",
      "  3.75959307e-01 5.26847005e-01]\n",
      " [6.09035965e-07 1.07058875e-01 1.89890210e-02 2.96518411e-02\n",
      "  9.16714370e-02 7.52628207e-01]\n",
      " [9.58498276e-07 7.63010932e-03 3.82829201e-03 1.85952280e-02\n",
      "  1.72161266e-01 7.97784150e-01]\n",
      " [3.18077218e-06 1.47123739e-01 3.48924510e-02 6.33121505e-02\n",
      "  1.37073040e-01 6.17595494e-01]\n",
      " [9.06236253e-10 1.19713373e-01 1.00148739e-02 1.27182724e-02\n",
      "  5.89789189e-02 7.98574567e-01]\n",
      " [1.80780971e-05 1.97353616e-01 1.90666988e-01 3.05824578e-01\n",
      "  2.17325985e-01 8.88107568e-02]\n",
      " [1.53036262e-06 6.12365544e-01 1.50041729e-01 1.35767967e-01\n",
      "  5.54530583e-02 4.63701822e-02]]\n"
     ]
    }
   ],
   "source": [
    "print(check_predict)"
   ]
  },
  {
   "cell_type": "code",
   "execution_count": 43,
   "id": "918f024f",
   "metadata": {},
   "outputs": [
    {
     "data": {
      "text/plain": [
       "array([1, 1, 1, 1, 1, 1, 1, 1, 1, 1, 1, 1, 1, 1, 1, 1, 1, 1, 1, 1, 1, 1,\n",
       "       1, 1, 1, 1, 1, 1, 1, 1, 3, 1, 1, 1, 1, 1, 1, 1, 3, 1, 1, 1, 1, 1,\n",
       "       1, 4, 4, 4, 4, 1, 3, 1, 1, 1, 3, 4, 4, 1, 1, 1, 1, 1, 3, 5, 4, 1,\n",
       "       1, 3, 3, 4, 5, 4, 1, 5, 3, 1, 4, 5, 4, 1, 1, 5, 5, 5, 3, 5, 5, 5,\n",
       "       5, 5, 1, 5, 4, 5, 5, 5, 5, 5, 3, 1], dtype=int64)"
      ]
     },
     "execution_count": 43,
     "metadata": {},
     "output_type": "execute_result"
    }
   ],
   "source": [
    "check_predict_class = check_predict.argmax(axis=1)\n",
    "check_predict_class"
   ]
  },
  {
   "cell_type": "code",
   "execution_count": 44,
   "id": "819395e0",
   "metadata": {},
   "outputs": [
    {
     "name": "stderr",
     "output_type": "stream",
     "text": [
      "C:\\Users\\t.fourtouill\\Anaconda3\\lib\\site-packages\\seaborn\\_decorators.py:36: FutureWarning: Pass the following variable as a keyword arg: x. From version 0.12, the only valid positional argument will be `data`, and passing other arguments without an explicit keyword will result in an error or misinterpretation.\n",
      "  warnings.warn(\n"
     ]
    },
    {
     "data": {
      "image/png": "[encoded data removed]",
      "text/plain": [
       "<Figure size 432x288 with 1 Axes>"
      ]
     },
     "metadata": {
      "needs_background": "light"
     },
     "output_type": "display_data"
    }
   ],
   "source": [
    "sns.countplot(check_predict_class);"
   ]
  },
  {
   "cell_type": "code",
   "execution_count": 45,
   "id": "438bcba6",
   "metadata": {},
   "outputs": [
    {
     "data": {
      "text/html": [
       "<div>\n",
       "<style scoped>\n",
       "    .dataframe tbody tr th:only-of-type {\n",
       "        vertical-align: middle;\n",
       "    }\n",
       "\n",
       "    .dataframe tbody tr th {\n",
       "        vertical-align: top;\n",
       "    }\n",
       "\n",
       "    .dataframe thead th {\n",
       "        text-align: right;\n",
       "    }\n",
       "</style>\n",
       "<table border=\"1\" class=\"dataframe\">\n",
       "  <thead>\n",
       "    <tr style=\"text-align: right;\">\n",
       "      <th></th>\n",
       "      <th>commentaire</th>\n",
       "      <th>note</th>\n",
       "      <th>prediction</th>\n",
       "    </tr>\n",
       "  </thead>\n",
       "  <tbody>\n",
       "    <tr>\n",
       "      <th>0</th>\n",
       "      <td>ll y a 2 joursnage en eaux troublesSystème de vérification de compte horrible, aucunes indications, quand on fournit les pièces demandées ça ne va pas et on nous redemande les mêmes choses par la suite, service client horrible, attente interminable, me voilà bloqué depuis 3 jours et  cela n'est toujours pas résolu; aucunes informations sur la suite des démarche, ma pire expérience en matière de résolution des soucis liés à un compteDate de l'expérience: 26 novembre 2022</td>\n",
       "      <td>1</td>\n",
       "      <td>1</td>\n",
       "    </tr>\n",
       "    <tr>\n",
       "      <th>1</th>\n",
       "      <td>ll y a 2 joursColis qui fait le tour du mondeJe ne suis pas adepte cette enseigne mais j'avoue que je n'ai trouvé ce produit nulle part ailleurs mon expérience pour le paiement XXL par contre pour le suivi et la livraison nul archi nul aucun suivi de commande disponible je ne sais d'où vient mon produit c'est mon ultime commande et la deuxième seulement auprès de cette enseigneDate de l'expérience: 26 novembre 2022</td>\n",
       "      <td>1</td>\n",
       "      <td>1</td>\n",
       "    </tr>\n",
       "    <tr>\n",
       "      <th>2</th>\n",
       "      <td>ll y a 2 joursPromotion mensongèreHier j’ai voulu commandé un jouet avec la promotion affichée « 3 jouets pour 2 ». Il était bien indiqué que la promotion fonctionnait sur le jouet en question. Arrivé au paiement, pas de déduction pour le 3è jouet, je ne commande donc pas et envoie un mail à Amazon avec print écran à l’appui de la promo sur le jouet. L’interlocutrice n’a rien voulu savoir, la promo a été retirée depuis sur le jouet, honteux !! Non seulement les prix varient sans arrêt et en plus ils ne respectent pas les promotions qu’ils mettent en place. J’ai trouvé mon bonheur chez cdiscount, vendeur bien plus sérieuxDate de l'expérience: 24 novembre 2022</td>\n",
       "      <td>1</td>\n",
       "      <td>1</td>\n",
       "    </tr>\n",
       "    <tr>\n",
       "      <th>3</th>\n",
       "      <td>ll y a 3 joursJ’ai commandé un article cadeau sur…J’ai commandé un article cadeau sur Amazon, le fournisseur n’apparaît plus sur le site d’Amazon, je n’ai aucun retour de la part d’Amazon. Ce n’est que 28€ mais de trop si pas de remboursement. Il me paraît impossible d’entrer en contact avec le service « commercial » après plusieurs tentatives, avez-vous un numéro ou une adresse ? Merci de votre aideDate de l'expérience: 23 novembre 2022</td>\n",
       "      <td>1</td>\n",
       "      <td>1</td>\n",
       "    </tr>\n",
       "    <tr>\n",
       "      <th>4</th>\n",
       "      <td>ll y a 3 joursJ'ai commandé un téléphone portable sur…J'ai commandé un téléphone portable sur le site, reçu mais après lecture de la documentation technique, ce téléphone n'avait pas les fonctions indiquées sur l'annonce, bon l'erreur est humaine, je renvois le matériel avec l'autorisation d'Amazon le 8 novembre, malgré les divers contacts et relances, aucun remboursement ce jour soit le 25 novembre, depuis j'ai acheté un autre téléphone, je me suis fais escroqué de 140 euros, voilà c'est Amazon, ca à bien changé, faites attention.Date de l'expérience: 08 novembre 2022</td>\n",
       "      <td>1</td>\n",
       "      <td>1</td>\n",
       "    </tr>\n",
       "  </tbody>\n",
       "</table>\n",
       "</div>"
      ],
      "text/plain": [
       "                                                                                                                                                                                                                                                                                                                                                                                                                                                                                                                                                                                                                                                                                  commentaire  \\\n",
       "0                                                                                                                                                                                                  ll y a 2 joursnage en eaux troublesSystème de vérification de compte horrible, aucunes indications, quand on fournit les pièces demandées ça ne va pas et on nous redemande les mêmes choses par la suite, service client horrible, attente interminable, me voilà bloqué depuis 3 jours et  cela n'est toujours pas résolu; aucunes informations sur la suite des démarche, ma pire expérience en matière de résolution des soucis liés à un compteDate de l'expérience: 26 novembre 2022   \n",
       "1                                                                                                                                                                                                                                                          ll y a 2 joursColis qui fait le tour du mondeJe ne suis pas adepte cette enseigne mais j'avoue que je n'ai trouvé ce produit nulle part ailleurs mon expérience pour le paiement XXL par contre pour le suivi et la livraison nul archi nul aucun suivi de commande disponible je ne sais d'où vient mon produit c'est mon ultime commande et la deuxième seulement auprès de cette enseigneDate de l'expérience: 26 novembre 2022   \n",
       "2  ll y a 2 joursPromotion mensongèreHier j’ai voulu commandé un jouet avec la promotion affichée « 3 jouets pour 2 ». Il était bien indiqué que la promotion fonctionnait sur le jouet en question. Arrivé au paiement, pas de déduction pour le 3è jouet, je ne commande donc pas et envoie un mail à Amazon avec print écran à l’appui de la promo sur le jouet. L’interlocutrice n’a rien voulu savoir, la promo a été retirée depuis sur le jouet, honteux !! Non seulement les prix varient sans arrêt et en plus ils ne respectent pas les promotions qu’ils mettent en place. J’ai trouvé mon bonheur chez cdiscount, vendeur bien plus sérieuxDate de l'expérience: 24 novembre 2022   \n",
       "3                                                                                                                                                                                                                                   ll y a 3 joursJ’ai commandé un article cadeau sur…J’ai commandé un article cadeau sur Amazon, le fournisseur n’apparaît plus sur le site d’Amazon, je n’ai aucun retour de la part d’Amazon. Ce n’est que 28€ mais de trop si pas de remboursement. Il me paraît impossible d’entrer en contact avec le service « commercial » après plusieurs tentatives, avez-vous un numéro ou une adresse ? Merci de votre aideDate de l'expérience: 23 novembre 2022   \n",
       "4                                                                                             ll y a 3 joursJ'ai commandé un téléphone portable sur…J'ai commandé un téléphone portable sur le site, reçu mais après lecture de la documentation technique, ce téléphone n'avait pas les fonctions indiquées sur l'annonce, bon l'erreur est humaine, je renvois le matériel avec l'autorisation d'Amazon le 8 novembre, malgré les divers contacts et relances, aucun remboursement ce jour soit le 25 novembre, depuis j'ai acheté un autre téléphone, je me suis fais escroqué de 140 euros, voilà c'est Amazon, ca à bien changé, faites attention.Date de l'expérience: 08 novembre 2022   \n",
       "\n",
       "   note  prediction  \n",
       "0     1           1  \n",
       "1     1           1  \n",
       "2     1           1  \n",
       "3     1           1  \n",
       "4     1           1  "
      ]
     },
     "execution_count": 45,
     "metadata": {},
     "output_type": "execute_result"
    }
   ],
   "source": [
    "# comparaison des prédictions et des notes du jeu de test\n",
    "check_df = pd.DataFrame(list(zip(df_test.commentaire, df_test.note, check_predict_class)), columns=['commentaire', 'note', 'prediction'])\n",
    "check_df.head()"
   ]
  },
  {
   "cell_type": "code",
   "execution_count": 46,
   "id": "11ec7bbb",
   "metadata": {},
   "outputs": [
    {
     "name": "stdout",
     "output_type": "stream",
     "text": [
      "              precision    recall  f1-score   support\n",
      "\n",
      "           1       0.66      0.84      0.74      2096\n",
      "           2       0.25      0.00      0.00       550\n",
      "           3       0.38      0.21      0.27      1441\n",
      "           4       0.49      0.19      0.27      4923\n",
      "           5       0.77      0.96      0.85     14990\n",
      "\n",
      "    accuracy                           0.72     24000\n",
      "   macro avg       0.51      0.44      0.43     24000\n",
      "weighted avg       0.67      0.72      0.67     24000\n",
      "\n"
     ]
    },
    {
     "data": {
      "text/html": [
       "<div>\n",
       "<style scoped>\n",
       "    .dataframe tbody tr th:only-of-type {\n",
       "        vertical-align: middle;\n",
       "    }\n",
       "\n",
       "    .dataframe tbody tr th {\n",
       "        vertical-align: top;\n",
       "    }\n",
       "\n",
       "    .dataframe thead th {\n",
       "        text-align: right;\n",
       "    }\n",
       "</style>\n",
       "<table border=\"1\" class=\"dataframe\">\n",
       "  <thead>\n",
       "    <tr style=\"text-align: right;\">\n",
       "      <th>predictions</th>\n",
       "      <th>1</th>\n",
       "      <th>2</th>\n",
       "      <th>3</th>\n",
       "      <th>4</th>\n",
       "      <th>5</th>\n",
       "    </tr>\n",
       "    <tr>\n",
       "      <th>données réelles</th>\n",
       "      <th></th>\n",
       "      <th></th>\n",
       "      <th></th>\n",
       "      <th></th>\n",
       "      <th></th>\n",
       "    </tr>\n",
       "  </thead>\n",
       "  <tbody>\n",
       "    <tr>\n",
       "      <th>1</th>\n",
       "      <td>1758</td>\n",
       "      <td>3</td>\n",
       "      <td>123</td>\n",
       "      <td>46</td>\n",
       "      <td>166</td>\n",
       "    </tr>\n",
       "    <tr>\n",
       "      <th>2</th>\n",
       "      <td>277</td>\n",
       "      <td>1</td>\n",
       "      <td>109</td>\n",
       "      <td>68</td>\n",
       "      <td>95</td>\n",
       "    </tr>\n",
       "    <tr>\n",
       "      <th>3</th>\n",
       "      <td>337</td>\n",
       "      <td>0</td>\n",
       "      <td>300</td>\n",
       "      <td>354</td>\n",
       "      <td>450</td>\n",
       "    </tr>\n",
       "    <tr>\n",
       "      <th>4</th>\n",
       "      <td>167</td>\n",
       "      <td>0</td>\n",
       "      <td>195</td>\n",
       "      <td>926</td>\n",
       "      <td>3635</td>\n",
       "    </tr>\n",
       "    <tr>\n",
       "      <th>5</th>\n",
       "      <td>119</td>\n",
       "      <td>0</td>\n",
       "      <td>73</td>\n",
       "      <td>482</td>\n",
       "      <td>14316</td>\n",
       "    </tr>\n",
       "  </tbody>\n",
       "</table>\n",
       "</div>"
      ],
      "text/plain": [
       "predictions         1  2    3    4      5\n",
       "données réelles                          \n",
       "1                1758  3  123   46    166\n",
       "2                 277  1  109   68     95\n",
       "3                 337  0  300  354    450\n",
       "4                 167  0  195  926   3635\n",
       "5                 119  0   73  482  14316"
      ]
     },
     "metadata": {},
     "output_type": "display_data"
    },
    {
     "name": "stdout",
     "output_type": "stream",
     "text": [
      "              precision    recall  f1-score   support\n",
      "\n",
      "           1       0.33      1.00      0.50        20\n",
      "           2       0.00      0.00      0.00        20\n",
      "           3       0.20      0.10      0.13        20\n",
      "           4       0.42      0.25      0.31        20\n",
      "           5       0.78      0.70      0.74        20\n",
      "\n",
      "    accuracy                           0.41       100\n",
      "   macro avg       0.35      0.41      0.34       100\n",
      "weighted avg       0.35      0.41      0.34       100\n",
      "\n"
     ]
    },
    {
     "name": "stderr",
     "output_type": "stream",
     "text": [
      "C:\\Users\\t.fourtouill\\Anaconda3\\lib\\site-packages\\sklearn\\metrics\\_classification.py:1327: UndefinedMetricWarning: Precision and F-score are ill-defined and being set to 0.0 in labels with no predicted samples. Use `zero_division` parameter to control this behavior.\n",
      "  _warn_prf(average, modifier, msg_start, len(result))\n",
      "C:\\Users\\t.fourtouill\\Anaconda3\\lib\\site-packages\\sklearn\\metrics\\_classification.py:1327: UndefinedMetricWarning: Precision and F-score are ill-defined and being set to 0.0 in labels with no predicted samples. Use `zero_division` parameter to control this behavior.\n",
      "  _warn_prf(average, modifier, msg_start, len(result))\n",
      "C:\\Users\\t.fourtouill\\Anaconda3\\lib\\site-packages\\sklearn\\metrics\\_classification.py:1327: UndefinedMetricWarning: Precision and F-score are ill-defined and being set to 0.0 in labels with no predicted samples. Use `zero_division` parameter to control this behavior.\n",
      "  _warn_prf(average, modifier, msg_start, len(result))\n"
     ]
    },
    {
     "data": {
      "text/html": [
       "<div>\n",
       "<style scoped>\n",
       "    .dataframe tbody tr th:only-of-type {\n",
       "        vertical-align: middle;\n",
       "    }\n",
       "\n",
       "    .dataframe tbody tr th {\n",
       "        vertical-align: top;\n",
       "    }\n",
       "\n",
       "    .dataframe thead th {\n",
       "        text-align: right;\n",
       "    }\n",
       "</style>\n",
       "<table border=\"1\" class=\"dataframe\">\n",
       "  <thead>\n",
       "    <tr style=\"text-align: right;\">\n",
       "      <th>predictions</th>\n",
       "      <th>1</th>\n",
       "      <th>3</th>\n",
       "      <th>4</th>\n",
       "      <th>5</th>\n",
       "    </tr>\n",
       "    <tr>\n",
       "      <th>données réelles</th>\n",
       "      <th></th>\n",
       "      <th></th>\n",
       "      <th></th>\n",
       "      <th></th>\n",
       "    </tr>\n",
       "  </thead>\n",
       "  <tbody>\n",
       "    <tr>\n",
       "      <th>1</th>\n",
       "      <td>20</td>\n",
       "      <td>0</td>\n",
       "      <td>0</td>\n",
       "      <td>0</td>\n",
       "    </tr>\n",
       "    <tr>\n",
       "      <th>2</th>\n",
       "      <td>18</td>\n",
       "      <td>2</td>\n",
       "      <td>0</td>\n",
       "      <td>0</td>\n",
       "    </tr>\n",
       "    <tr>\n",
       "      <th>3</th>\n",
       "      <td>12</td>\n",
       "      <td>2</td>\n",
       "      <td>6</td>\n",
       "      <td>0</td>\n",
       "    </tr>\n",
       "    <tr>\n",
       "      <th>4</th>\n",
       "      <td>7</td>\n",
       "      <td>4</td>\n",
       "      <td>5</td>\n",
       "      <td>4</td>\n",
       "    </tr>\n",
       "    <tr>\n",
       "      <th>5</th>\n",
       "      <td>3</td>\n",
       "      <td>2</td>\n",
       "      <td>1</td>\n",
       "      <td>14</td>\n",
       "    </tr>\n",
       "  </tbody>\n",
       "</table>\n",
       "</div>"
      ],
      "text/plain": [
       "predictions       1  3  4   5\n",
       "données réelles              \n",
       "1                20  0  0   0\n",
       "2                18  2  0   0\n",
       "3                12  2  6   0\n",
       "4                 7  4  5   4\n",
       "5                 3  2  1  14"
      ]
     },
     "metadata": {},
     "output_type": "display_data"
    },
    {
     "data": {
      "text/html": [
       "<div>\n",
       "<style scoped>\n",
       "    .dataframe tbody tr th:only-of-type {\n",
       "        vertical-align: middle;\n",
       "    }\n",
       "\n",
       "    .dataframe tbody tr th {\n",
       "        vertical-align: top;\n",
       "    }\n",
       "\n",
       "    .dataframe thead th {\n",
       "        text-align: right;\n",
       "    }\n",
       "</style>\n",
       "<table border=\"1\" class=\"dataframe\">\n",
       "  <thead>\n",
       "    <tr style=\"text-align: right;\">\n",
       "      <th>predictions</th>\n",
       "      <th>1</th>\n",
       "      <th>3</th>\n",
       "      <th>4</th>\n",
       "      <th>5</th>\n",
       "    </tr>\n",
       "    <tr>\n",
       "      <th>données réelles</th>\n",
       "      <th></th>\n",
       "      <th></th>\n",
       "      <th></th>\n",
       "      <th></th>\n",
       "    </tr>\n",
       "  </thead>\n",
       "  <tbody>\n",
       "    <tr>\n",
       "      <th>1</th>\n",
       "      <td>1.00</td>\n",
       "      <td>0.0</td>\n",
       "      <td>0.00</td>\n",
       "      <td>0.0</td>\n",
       "    </tr>\n",
       "    <tr>\n",
       "      <th>2</th>\n",
       "      <td>0.90</td>\n",
       "      <td>0.1</td>\n",
       "      <td>0.00</td>\n",
       "      <td>0.0</td>\n",
       "    </tr>\n",
       "    <tr>\n",
       "      <th>3</th>\n",
       "      <td>0.60</td>\n",
       "      <td>0.1</td>\n",
       "      <td>0.30</td>\n",
       "      <td>0.0</td>\n",
       "    </tr>\n",
       "    <tr>\n",
       "      <th>4</th>\n",
       "      <td>0.35</td>\n",
       "      <td>0.2</td>\n",
       "      <td>0.25</td>\n",
       "      <td>0.2</td>\n",
       "    </tr>\n",
       "    <tr>\n",
       "      <th>5</th>\n",
       "      <td>0.15</td>\n",
       "      <td>0.1</td>\n",
       "      <td>0.05</td>\n",
       "      <td>0.7</td>\n",
       "    </tr>\n",
       "  </tbody>\n",
       "</table>\n",
       "</div>"
      ],
      "text/plain": [
       "predictions         1    3     4    5\n",
       "données réelles                      \n",
       "1                1.00  0.0  0.00  0.0\n",
       "2                0.90  0.1  0.00  0.0\n",
       "3                0.60  0.1  0.30  0.0\n",
       "4                0.35  0.2  0.25  0.2\n",
       "5                0.15  0.1  0.05  0.7"
      ]
     },
     "metadata": {},
     "output_type": "display_data"
    },
    {
     "name": "stdout",
     "output_type": "stream",
     "text": [
      "les prédictions correctes sont supérieures à 50% pour 1 étoile(s) avec 100%\n",
      "les prédictions correctes sont supérieures à 50% pour 5 étoile(s) avec 70%\n"
     ]
    }
   ],
   "source": [
    "from sklearn.metrics import classification_report\n",
    "\n",
    "cr = classification_report(y_test, predict_cdiscount_class)\n",
    "print(cr)\n",
    "\n",
    "cm = pd.crosstab(y_test, predict_cdiscount_class, rownames=['données réelles'], colnames=['predictions'])\n",
    "display(cm)\n",
    "\n",
    "# vérification des résultats sur un jeu de test externe (100 commentaires amazon également répartis entre les étoiles)\n",
    "\n",
    "cm_test = classification_report(df_test.note, check_predict_class)\n",
    "print(cm_test)\n",
    "\n",
    "cm_test2 = pd.crosstab(df_test.note, check_predict_class, rownames=['données réelles'], colnames=['predictions'])\n",
    "display(cm_test2)\n",
    "\n",
    "cm_test3 = pd.crosstab(df_test.note, check_predict_class, rownames=['données réelles'], colnames=['predictions'], normalize=0)\n",
    "display(cm_test3)\n",
    "\n",
    "for i in cm_test3.index:\n",
    "    for j in cm_test3.columns :\n",
    "        if (i==j and cm_test3.loc[i, j] > 0.5) :\n",
    "            print(\"les prédictions correctes sont supérieures à 50% pour {} étoile(s) avec {:0.0%}\".format(i, cm_test3.loc[i, j]))"
   ]
  },
  {
   "cell_type": "code",
   "execution_count": 47,
   "id": "8b6366a5",
   "metadata": {},
   "outputs": [
    {
     "name": "stdout",
     "output_type": "stream",
     "text": [
      "INFO:tensorflow:Assets written to: datasets/SatisfactionClients/model_embedding3\\assets\n"
     ]
    }
   ],
   "source": [
    "import os\n",
    "path = \"/Users/t.fourtouill/Downloads/SatisfactionClients\"\n",
    "os.makedirs(path, exist_ok=True)\n",
    "model_embedding_1.save('datasets/SatisfactionClients/model_embedding3')"
   ]
  }
 ],
 "metadata": {
  "kernelspec": {
   "display_name": "Python 3 (ipykernel)",
   "language": "python",
   "name": "python3"
  },
  "language_info": {
   "codemirror_mode": {
    "name": "ipython",
    "version": 3
   },
   "file_extension": ".py",
   "mimetype": "text/x-python",
   "name": "python",
   "nbconvert_exporter": "python",
   "pygments_lexer": "ipython3",
   "version": "3.9.7"
  }
 },
 "nbformat": 4,
 "nbformat_minor": 5
}
