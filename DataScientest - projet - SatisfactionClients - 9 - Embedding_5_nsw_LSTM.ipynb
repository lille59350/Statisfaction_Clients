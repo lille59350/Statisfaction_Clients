{
 "cells": [
  {
   "cell_type": "code",
   "execution_count": 2,
   "id": "196d79a4",
   "metadata": {},
   "outputs": [],
   "source": [
    "import pandas as pd\n",
    "import numpy as np\n",
    "import matplotlib.pyplot as plt\n",
    "import seaborn as sns\n",
    "from time import time\n",
    "import itertools"
   ]
  },
  {
   "cell_type": "code",
   "execution_count": 3,
   "id": "6b85a034",
   "metadata": {},
   "outputs": [],
   "source": [
    "pd.options.display.max_colwidth=800\n",
    "pd.set_option('display.max_rows', 500)\n",
    "pd.set_option('display.max_columns', 500)"
   ]
  },
  {
   "cell_type": "code",
   "execution_count": 4,
   "id": "119a889d",
   "metadata": {},
   "outputs": [
    {
     "data": {
      "text/html": [
       "<div>\n",
       "<style scoped>\n",
       "    .dataframe tbody tr th:only-of-type {\n",
       "        vertical-align: middle;\n",
       "    }\n",
       "\n",
       "    .dataframe tbody tr th {\n",
       "        vertical-align: top;\n",
       "    }\n",
       "\n",
       "    .dataframe thead th {\n",
       "        text-align: right;\n",
       "    }\n",
       "</style>\n",
       "<table border=\"1\" class=\"dataframe\">\n",
       "  <thead>\n",
       "    <tr style=\"text-align: right;\">\n",
       "      <th></th>\n",
       "      <th>pays</th>\n",
       "      <th>note</th>\n",
       "      <th>titre</th>\n",
       "      <th>commentaire</th>\n",
       "    </tr>\n",
       "  </thead>\n",
       "  <tbody>\n",
       "    <tr>\n",
       "      <th>0</th>\n",
       "      <td>FR</td>\n",
       "      <td>1</td>\n",
       "      <td>Les As du prélèvement illicite</td>\n",
       "      <td>Il y a un jourLes As du prélèvement illicitePratiques à la limite de légal.J' ai pris un paiement en 4x dont il restait deux mois , pendant 1 semaine je ne retrouve pas ma carte , je la bloque temporairement.Le prelevement 3 ne passe pas Cdiscount m' informe qu' il faut régulariser, je retrouve ma carte et........boum deux prelevements simultanés des deux mensualités, celle du et l' autre prévue pour décembre.Cela me servira de leçon mais les vautours c 'est fini pour moi.Date de l'expérience: 14 novembre 2022</td>\n",
       "    </tr>\n",
       "    <tr>\n",
       "      <th>1</th>\n",
       "      <td>FR</td>\n",
       "      <td>1</td>\n",
       "      <td>Commande une télévision avec rendez…</td>\n",
       "      <td>Il y a 13 heuresCommande une télévision avec rendez…Commande une télévision avec rendez vous du livreur. Je prend une journée de congé et le livreur ne vient pas. Je demande le renvoie de la télé chez Cdiscount. Cdiscount me rembourse la télé mes pas les 29 euros de livraison. Donc une journée de congé pour rien et un cadeau de 29 euros a Cdiscount. Plus jamais de commande sur Cdiscount.Date de l'expérience: 02 novembre 2022</td>\n",
       "    </tr>\n",
       "  </tbody>\n",
       "</table>\n",
       "</div>"
      ],
      "text/plain": [
       "  pays  note                                 titre  \\\n",
       "0   FR     1        Les As du prélèvement illicite   \n",
       "1   FR     1  Commande une télévision avec rendez…   \n",
       "\n",
       "                                                                                                                                                                                                                                                                                                                                                                                                                                                                                                                           commentaire  \n",
       "0  Il y a un jourLes As du prélèvement illicitePratiques à la limite de légal.J' ai pris un paiement en 4x dont il restait deux mois , pendant 1 semaine je ne retrouve pas ma carte , je la bloque temporairement.Le prelevement 3 ne passe pas Cdiscount m' informe qu' il faut régulariser, je retrouve ma carte et........boum deux prelevements simultanés des deux mensualités, celle du et l' autre prévue pour décembre.Cela me servira de leçon mais les vautours c 'est fini pour moi.Date de l'expérience: 14 novembre 2022  \n",
       "1                                                                                         Il y a 13 heuresCommande une télévision avec rendez…Commande une télévision avec rendez vous du livreur. Je prend une journée de congé et le livreur ne vient pas. Je demande le renvoie de la télé chez Cdiscount. Cdiscount me rembourse la télé mes pas les 29 euros de livraison. Donc une journée de congé pour rien et un cadeau de 29 euros a Cdiscount. Plus jamais de commande sur Cdiscount.Date de l'expérience: 02 novembre 2022  "
      ]
     },
     "execution_count": 4,
     "metadata": {},
     "output_type": "execute_result"
    }
   ],
   "source": [
    "df = pd.read_csv('datasets/SatisfactionClients/cdiscount.csv', index_col=0)\n",
    "df_test = pd.read_csv('datasets/SatisfactionClients/amazon_test1.csv', index_col=0)\n",
    "df.head(2)"
   ]
  },
  {
   "cell_type": "code",
   "execution_count": 5,
   "id": "ddfd6bfc",
   "metadata": {
    "scrolled": true
   },
   "outputs": [
    {
     "data": {
      "image/png": "[encoded data removed]",
      "text/plain": [
       "<Figure size 432x288 with 1 Axes>"
      ]
     },
     "metadata": {
      "needs_background": "light"
     },
     "output_type": "display_data"
    }
   ],
   "source": [
    "sns.countplot(x='note', data=df);"
   ]
  },
  {
   "cell_type": "code",
   "execution_count": 6,
   "id": "3ded978e",
   "metadata": {},
   "outputs": [
    {
     "data": {
      "image/png": "[encoded data removed]",
      "text/plain": [
       "<Figure size 432x288 with 1 Axes>"
      ]
     },
     "metadata": {
      "needs_background": "light"
     },
     "output_type": "display_data"
    }
   ],
   "source": [
    "sns.countplot(x='note', data=df_test);"
   ]
  },
  {
   "cell_type": "code",
   "execution_count": 7,
   "id": "f13e334a",
   "metadata": {},
   "outputs": [],
   "source": [
    "# séparation de la variable cible et des variables explicatives\n",
    "X = df['commentaire']\n",
    "y = df['note'].values"
   ]
  },
  {
   "cell_type": "code",
   "execution_count": 8,
   "id": "6269af3d",
   "metadata": {},
   "outputs": [],
   "source": [
    "# séparation du jeu de données en un dataset d'entrainement et un dataset de test\n",
    "from sklearn.model_selection import train_test_split\n",
    "X_train, X_test, y_train, y_test = train_test_split(X, y, test_size=0.2, shuffle=True)"
   ]
  },
  {
   "cell_type": "code",
   "execution_count": 9,
   "id": "0673da10",
   "metadata": {},
   "outputs": [
    {
     "name": "stdout",
     "output_type": "stream",
     "text": [
      "(96000,)\n",
      "(24000,)\n",
      "(100, 4)\n"
     ]
    }
   ],
   "source": [
    "print(X_train.shape)\n",
    "print(X_test.shape)\n",
    "print(df_test.shape)"
   ]
  },
  {
   "cell_type": "code",
   "execution_count": 10,
   "id": "d40a7b61",
   "metadata": {},
   "outputs": [],
   "source": [
    "from keras.preprocessing.text import Tokenizer\n",
    "from keras.preprocessing.sequence import pad_sequences"
   ]
  },
  {
   "cell_type": "code",
   "execution_count": 11,
   "id": "7709d894",
   "metadata": {},
   "outputs": [],
   "source": [
    "# tokenisation des commentaires\n",
    "num_words=1000\n",
    "tk = Tokenizer(num_words=num_words, lower=True)"
   ]
  },
  {
   "cell_type": "code",
   "execution_count": 12,
   "id": "014744b9",
   "metadata": {},
   "outputs": [],
   "source": [
    "# entrainement de la tokenisation sur le X_train\n",
    "tk.fit_on_texts(X_train)"
   ]
  },
  {
   "cell_type": "code",
   "execution_count": 13,
   "id": "5faa7d54",
   "metadata": {},
   "outputs": [
    {
     "data": {
      "text/plain": [
       "82303"
      ]
     },
     "execution_count": 13,
     "metadata": {},
     "output_type": "execute_result"
    }
   ],
   "source": [
    "# nb de ligne de la matrice\n",
    "word_index = tk.word_index\n",
    "len(tk.word_index)"
   ]
  },
  {
   "cell_type": "code",
   "execution_count": 14,
   "id": "8a275671",
   "metadata": {},
   "outputs": [
    {
     "data": {
      "text/plain": [
       "1000"
      ]
     },
     "execution_count": 14,
     "metadata": {},
     "output_type": "execute_result"
    }
   ],
   "source": [
    "# nb de colonnes dans la matrice\n",
    "vocabulary_size = tk.num_words\n",
    "vocabulary_size"
   ]
  },
  {
   "cell_type": "code",
   "execution_count": 15,
   "id": "c937c451",
   "metadata": {},
   "outputs": [],
   "source": [
    "# mise sous vecteur des commentaires\n",
    "X_seq_train = tk.texts_to_sequences(X_train)\n",
    "X_seq_test = tk.texts_to_sequences(X_test)"
   ]
  },
  {
   "cell_type": "code",
   "execution_count": 16,
   "id": "204ad175",
   "metadata": {},
   "outputs": [
    {
     "name": "stdout",
     "output_type": "stream",
     "text": [
      "[99, 94, 9, 584, 1, 145, 3, 1, 145, 3, 1, 2, 99, 90, 8]\n",
      "[86, 25, 9, 468, 124, 124, 572, 1, 2, 86, 25, 8]\n",
      "[77, 62, 45, 106, 20, 46, 3, 1, 11, 181, 1, 106, 1, 228, 96, 10, 46, 32, 3, 35, 747, 312, 1, 28, 5, 246, 1, 2, 77, 60, 37]\n",
      "[113, 42, 9, 119, 253, 1, 2, 139, 42, 8]\n",
      "[113, 22, 194, 194, 683, 12, 304, 36, 12, 304, 537, 74, 141, 874, 40, 50, 1, 96, 11, 6, 1, 2, 139, 22, 7]\n"
     ]
    }
   ],
   "source": [
    "# affichage de la vectorisation réalisée\n",
    "for x in range(0,5):\n",
    "    print(X_seq_train[x]) "
   ]
  },
  {
   "cell_type": "code",
   "execution_count": 17,
   "id": "5634d0b8",
   "metadata": {},
   "outputs": [
    {
     "data": {
      "text/plain": [
       "Text(0.5, 1.0, 'commentaires bruts')"
      ]
     },
     "execution_count": 17,
     "metadata": {},
     "output_type": "execute_result"
    },
    {
     "data": {
      "image/png": "[encoded data removed]",
      "text/plain": [
       "<Figure size 864x288 with 1 Axes>"
      ]
     },
     "metadata": {
      "needs_background": "light"
     },
     "output_type": "display_data"
    }
   ],
   "source": [
    "# affichage du nb de mots par commentaire pour nous aider à choisir le nb de mots dans la matrice \n",
    "df_hist = pd.read_csv('datasets/SatisfactionClients/cdiscount_retraite.csv', index_col=0)\n",
    "df_hist['split'] = df_hist['commentaire'].apply(lambda x: len(x.split(' ')))\n",
    "\n",
    "plt.figure(figsize=(12, 4))\n",
    "plt.hist(df_hist['split'])\n",
    "plt.xlim([0, 600])\n",
    "plt.title('commentaires bruts')"
   ]
  },
  {
   "cell_type": "code",
   "execution_count": 18,
   "id": "aa8ad6cf",
   "metadata": {},
   "outputs": [],
   "source": [
    "# transformation en matrice de même longueur par maxlen défini ci-dessous. Avec des 0 si colonne inférieure à maxlen\n",
    "max_words = 100\n",
    "X_pad_train = pad_sequences(X_seq_train, maxlen=max_words, padding='post')\n",
    "X_pad_test= pad_sequences(X_seq_test, maxlen=max_words, padding='post')"
   ]
  },
  {
   "cell_type": "code",
   "execution_count": 19,
   "id": "e5651d36",
   "metadata": {},
   "outputs": [
    {
     "name": "stdout",
     "output_type": "stream",
     "text": [
      "(96000, 100)\n"
     ]
    },
    {
     "data": {
      "text/plain": [
       "array([[ 99,  94,   9, ...,   0,   0,   0],\n",
       "       [ 86,  25,   9, ...,   0,   0,   0],\n",
       "       [ 77,  62,  45, ...,   0,   0,   0],\n",
       "       ...,\n",
       "       [127,  41,  35, ...,   0,   0,   0],\n",
       "       [ 86,  34,   1, ...,   0,   0,   0],\n",
       "       [ 51,  51, 339, ...,  81,  48,   8]])"
      ]
     },
     "execution_count": 19,
     "metadata": {},
     "output_type": "execute_result"
    }
   ],
   "source": [
    "# affice de la matrice\n",
    "print(X_pad_train.shape)\n",
    "X_pad_train"
   ]
  },
  {
   "cell_type": "code",
   "execution_count": 20,
   "id": "a509121c",
   "metadata": {},
   "outputs": [
    {
     "name": "stdout",
     "output_type": "stream",
     "text": [
      "Model: \"sequential\"\n",
      "_________________________________________________________________\n",
      "Layer (type)                 Output Shape              Param #   \n",
      "=================================================================\n",
      "embedding (Embedding)        (None, 100, 32)           32000     \n",
      "_________________________________________________________________\n",
      "lstm (LSTM)                  (None, 200)               186400    \n",
      "_________________________________________________________________\n",
      "dense (Dense)                (None, 6)                 1206      \n",
      "=================================================================\n",
      "Total params: 219,606\n",
      "Trainable params: 219,606\n",
      "Non-trainable params: 0\n",
      "_________________________________________________________________\n"
     ]
    }
   ],
   "source": [
    "# Création des couches du modéle\n",
    "\n",
    "from tensorflow.keras.models import Sequential\n",
    "from tensorflow.keras.layers import Dense, GlobalAveragePooling1D, Input, Embedding, Dropout, LSTM\n",
    "\n",
    "embedding_size = 32\n",
    "\n",
    "model_embedding_1 = Sequential()\n",
    "model_embedding_1.add(Embedding(input_dim=vocabulary_size, output_dim=embedding_size, input_length=max_words, embeddings_initializer='uniform'))  # On reprend le nb de mot choisi dans la tokenisation\n",
    "model_embedding_1.add(LSTM(200)) \n",
    "model_embedding_1.add(Dense(units=6, activation='softmax')) # En sortie le nb de units devra correspondre aux nb de variables cibles\n",
    "\n",
    "model_embedding_1.summary()"
   ]
  },
  {
   "cell_type": "code",
   "execution_count": 21,
   "id": "26c03ca0",
   "metadata": {},
   "outputs": [],
   "source": [
    "# timer pour mesurer le temps écoulé entre les epochs de début et de fin de callback\n",
    "from tensorflow.keras.callbacks import Callback\n",
    "from timeit import default_timer as timer\n",
    "\n",
    "class TimingCallback(Callback):\n",
    "    def __init__(self, logs={}):\n",
    "        self.logs=[]\n",
    "    def on_epoch_begin(self, epoch, logs={}):\n",
    "        self.starttime = timer()\n",
    "    def on_epoch_end(self, epoch, logs={}):\n",
    "        self.logs.append(timer()-self.starttime)\n",
    "\n",
    "# instanciation la fonction TimingCallback()\n",
    "time_callback = TimingCallback()"
   ]
  },
  {
   "cell_type": "code",
   "execution_count": 22,
   "id": "15291c4d",
   "metadata": {},
   "outputs": [],
   "source": [
    "# Création des callback\n",
    "from tensorflow.keras.callbacks import EarlyStopping\n",
    "\n",
    "early_stop = EarlyStopping(monitor='val_loss',\n",
    "                          min_delta=0.01,\n",
    "                          patience=2,\n",
    "                          mode='min',\n",
    "                          restore_best_weights=True,\n",
    "                          verbose=1)"
   ]
  },
  {
   "cell_type": "code",
   "execution_count": 23,
   "id": "bbfcec82",
   "metadata": {},
   "outputs": [],
   "source": [
    "model_embedding_1.compile(loss='sparse_categorical_crossentropy', optimizer='adam', metrics=['accuracy'])"
   ]
  },
  {
   "cell_type": "code",
   "execution_count": 24,
   "id": "6a48774e",
   "metadata": {},
   "outputs": [
    {
     "name": "stdout",
     "output_type": "stream",
     "text": [
      "Epoch 1/5\n",
      "2700/2700 [==============================] - 309s 114ms/step - loss: 0.9576 - accuracy: 0.6591 - val_loss: 0.9173 - val_accuracy: 0.6696\n",
      "Epoch 2/5\n",
      "2700/2700 [==============================] - 388s 144ms/step - loss: 0.8011 - accuracy: 0.6883 - val_loss: 0.7822 - val_accuracy: 0.6885\n",
      "Epoch 3/5\n",
      "2700/2700 [==============================] - 403s 149ms/step - loss: 0.7658 - accuracy: 0.6936 - val_loss: 0.7723 - val_accuracy: 0.6906\n",
      "Epoch 4/5\n",
      "2700/2700 [==============================] - 388s 144ms/step - loss: 0.7454 - accuracy: 0.7005 - val_loss: 0.7588 - val_accuracy: 0.7021\n",
      "Epoch 5/5\n",
      "2700/2700 [==============================] - 417s 155ms/step - loss: 0.7192 - accuracy: 0.7159 - val_loss: 0.7270 - val_accuracy: 0.7113\n"
     ]
    }
   ],
   "source": [
    "batch_size = 32\n",
    "epochs = 5\n",
    "history = model_embedding_1.fit(X_pad_train, y_train, batch_size=batch_size, epochs=epochs, validation_split=0.1,\n",
    "                               callbacks=[early_stop, time_callback])"
   ]
  },
  {
   "cell_type": "code",
   "execution_count": 25,
   "id": "9ae167f8",
   "metadata": {},
   "outputs": [
    {
     "name": "stdout",
     "output_type": "stream",
     "text": [
      "750/750 [==============================] - 36s 47ms/step - loss: 0.7186 - accuracy: 0.7147\n"
     ]
    },
    {
     "data": {
      "text/plain": [
       "[0.7185971736907959, 0.7147083282470703]"
      ]
     },
     "execution_count": 25,
     "metadata": {},
     "output_type": "execute_result"
    }
   ],
   "source": [
    "model_embedding_1.evaluate(X_pad_test, y_test, verbose=1)"
   ]
  },
  {
   "cell_type": "markdown",
   "id": "6aa031ba",
   "metadata": {},
   "source": [
    "### Calcul des prédictions sur le le de test cdiscount"
   ]
  },
  {
   "cell_type": "code",
   "execution_count": 26,
   "id": "047e9d1c",
   "metadata": {},
   "outputs": [
    {
     "name": "stdout",
     "output_type": "stream",
     "text": [
      "750/750 [==============================] - 34s 45ms/step\n"
     ]
    }
   ],
   "source": [
    "# création des prédictions du eu de test cdiscount à partir du modèle\n",
    "predict_cdiscount = model_embedding_1.predict(X_pad_test, verbose=1)"
   ]
  },
  {
   "cell_type": "code",
   "execution_count": 27,
   "id": "839cd186",
   "metadata": {},
   "outputs": [
    {
     "data": {
      "text/plain": [
       "array([5, 4, 5, ..., 5, 5, 5], dtype=int64)"
      ]
     },
     "execution_count": 27,
     "metadata": {},
     "output_type": "execute_result"
    }
   ],
   "source": [
    "predict_cdiscount_class = predict_cdiscount.argmax(axis=1)\n",
    "predict_cdiscount_class"
   ]
  },
  {
   "cell_type": "code",
   "execution_count": 28,
   "id": "c60286b3",
   "metadata": {},
   "outputs": [
    {
     "name": "stderr",
     "output_type": "stream",
     "text": [
      "C:\\Users\\t.fourtouill\\Anaconda3\\lib\\site-packages\\seaborn\\_decorators.py:36: FutureWarning: Pass the following variable as a keyword arg: x. From version 0.12, the only valid positional argument will be `data`, and passing other arguments without an explicit keyword will result in an error or misinterpretation.\n",
      "  warnings.warn(\n"
     ]
    },
    {
     "data": {
      "image/png": "[encoded data removed]",
      "text/plain": [
       "<Figure size 432x288 with 1 Axes>"
      ]
     },
     "metadata": {
      "needs_background": "light"
     },
     "output_type": "display_data"
    }
   ],
   "source": [
    "sns.countplot(predict_cdiscount_class)\n",
    "plt.show();"
   ]
  },
  {
   "cell_type": "markdown",
   "id": "33371e69",
   "metadata": {},
   "source": [
    "### Calcul des prédictions sur le jeu de test amazon"
   ]
  },
  {
   "cell_type": "code",
   "execution_count": 29,
   "id": "fa5e08ab",
   "metadata": {
    "scrolled": true
   },
   "outputs": [
    {
     "data": {
      "text/html": [
       "<div>\n",
       "<style scoped>\n",
       "    .dataframe tbody tr th:only-of-type {\n",
       "        vertical-align: middle;\n",
       "    }\n",
       "\n",
       "    .dataframe tbody tr th {\n",
       "        vertical-align: top;\n",
       "    }\n",
       "\n",
       "    .dataframe thead th {\n",
       "        text-align: right;\n",
       "    }\n",
       "</style>\n",
       "<table border=\"1\" class=\"dataframe\">\n",
       "  <thead>\n",
       "    <tr style=\"text-align: right;\">\n",
       "      <th></th>\n",
       "      <th>pays</th>\n",
       "      <th>note</th>\n",
       "      <th>titre</th>\n",
       "      <th>commentaire</th>\n",
       "    </tr>\n",
       "  </thead>\n",
       "  <tbody>\n",
       "    <tr>\n",
       "      <th>0</th>\n",
       "      <td>FR</td>\n",
       "      <td>1</td>\n",
       "      <td>nage en eaux troubles</td>\n",
       "      <td>ll y a 2 joursnage en eaux troublesSystème de vérification de compte horrible, aucunes indications, quand on fournit les pièces demandées ça ne va pas et on nous redemande les mêmes choses par la suite, service client horrible, attente interminable, me voilà bloqué depuis 3 jours et  cela n'est toujours pas résolu; aucunes informations sur la suite des démarche, ma pire expérience en matière de résolution des soucis liés à un compteDate de l'expérience: 26 novembre 2022</td>\n",
       "    </tr>\n",
       "    <tr>\n",
       "      <th>1</th>\n",
       "      <td>FR</td>\n",
       "      <td>1</td>\n",
       "      <td>Colis qui fait le tour du monde</td>\n",
       "      <td>ll y a 2 joursColis qui fait le tour du mondeJe ne suis pas adepte cette enseigne mais j'avoue que je n'ai trouvé ce produit nulle part ailleurs mon expérience pour le paiement XXL par contre pour le suivi et la livraison nul archi nul aucun suivi de commande disponible je ne sais d'où vient mon produit c'est mon ultime commande et la deuxième seulement auprès de cette enseigneDate de l'expérience: 26 novembre 2022</td>\n",
       "    </tr>\n",
       "  </tbody>\n",
       "</table>\n",
       "</div>"
      ],
      "text/plain": [
       "  pays  note                            titre  \\\n",
       "0   FR     1            nage en eaux troubles   \n",
       "1   FR     1  Colis qui fait le tour du monde   \n",
       "\n",
       "                                                                                                                                                                                                                                                                                                                                                                                                                                                                                  commentaire  \n",
       "0  ll y a 2 joursnage en eaux troublesSystème de vérification de compte horrible, aucunes indications, quand on fournit les pièces demandées ça ne va pas et on nous redemande les mêmes choses par la suite, service client horrible, attente interminable, me voilà bloqué depuis 3 jours et  cela n'est toujours pas résolu; aucunes informations sur la suite des démarche, ma pire expérience en matière de résolution des soucis liés à un compteDate de l'expérience: 26 novembre 2022  \n",
       "1                                                          ll y a 2 joursColis qui fait le tour du mondeJe ne suis pas adepte cette enseigne mais j'avoue que je n'ai trouvé ce produit nulle part ailleurs mon expérience pour le paiement XXL par contre pour le suivi et la livraison nul archi nul aucun suivi de commande disponible je ne sais d'où vient mon produit c'est mon ultime commande et la deuxième seulement auprès de cette enseigneDate de l'expérience: 26 novembre 2022  "
      ]
     },
     "execution_count": 29,
     "metadata": {},
     "output_type": "execute_result"
    }
   ],
   "source": [
    "df_test.head(2)"
   ]
  },
  {
   "cell_type": "code",
   "execution_count": 30,
   "id": "11489f4b",
   "metadata": {},
   "outputs": [],
   "source": [
    "# séparation de la variable cible et des variables explicatives\n",
    "check_set = df_test['commentaire'].values"
   ]
  },
  {
   "cell_type": "code",
   "execution_count": 31,
   "id": "10065e99",
   "metadata": {},
   "outputs": [],
   "source": [
    "# vectorisation des token\n",
    "check_seq = tk.texts_to_sequences(check_set)"
   ]
  },
  {
   "cell_type": "code",
   "execution_count": 32,
   "id": "5197708f",
   "metadata": {},
   "outputs": [],
   "source": [
    "# mise sous matrice numpy\n",
    "check_pad = pad_sequences(check_seq, maxlen=max_words, padding='post')"
   ]
  },
  {
   "cell_type": "code",
   "execution_count": 33,
   "id": "1061496c",
   "metadata": {},
   "outputs": [
    {
     "data": {
      "text/plain": [
       "array([[162,  18, 100, ...,   0,   0,   0],\n",
       "       [162,  18, 100, ...,   0,   0,   0],\n",
       "       [162,  18, 100, ...,   0,   0,   0],\n",
       "       ...,\n",
       "       [ 83,  61,  19, ...,   0,   0,   0],\n",
       "       [  1, 856, 150, ..., 132,  33,  37],\n",
       "       [ 86,  61,  53, ...,   0,   0,   0]])"
      ]
     },
     "execution_count": 33,
     "metadata": {},
     "output_type": "execute_result"
    }
   ],
   "source": [
    "check_pad"
   ]
  },
  {
   "cell_type": "code",
   "execution_count": 34,
   "id": "bff87635",
   "metadata": {},
   "outputs": [
    {
     "name": "stdout",
     "output_type": "stream",
     "text": [
      "4/4 [==============================] - 1s 37ms/step\n"
     ]
    }
   ],
   "source": [
    "# création des prédictions du jeu de test amazon à partir du modèle\n",
    "check_predict = model_embedding_1.predict(check_pad, verbose=1)"
   ]
  },
  {
   "cell_type": "code",
   "execution_count": 35,
   "id": "3690b8c8",
   "metadata": {},
   "outputs": [
    {
     "name": "stdout",
     "output_type": "stream",
     "text": [
      "[[5.47625007e-07 7.30004907e-01 1.25084564e-01 8.36540982e-02\n",
      "  2.71426514e-02 3.41132879e-02]\n",
      " [3.31218615e-07 5.71105421e-01 1.59517452e-01 1.64456278e-01\n",
      "  6.35549948e-02 4.13655601e-02]\n",
      " [6.60029912e-07 7.24810660e-01 1.39466792e-01 9.06927064e-02\n",
      "  2.64000315e-02 1.86290536e-02]\n",
      " [6.06775984e-07 8.21213067e-01 1.06169961e-01 5.27484939e-02\n",
      "  1.20602511e-02 7.80763384e-03]\n",
      " [6.32294075e-07 8.62799227e-01 8.77289474e-02 3.48753445e-02\n",
      "  7.51757063e-03 7.07831327e-03]\n",
      " [1.17542766e-06 9.33388412e-01 4.50872071e-02 1.58331208e-02\n",
      "  2.16817181e-03 3.52201820e-03]\n",
      " [4.66446295e-07 8.81660759e-01 7.87628144e-02 2.93910950e-02\n",
      "  5.87533088e-03 4.30954155e-03]\n",
      " [3.95502326e-07 8.98594439e-01 6.42056242e-02 2.77993716e-02\n",
      "  5.02234697e-03 4.37787082e-03]\n",
      " [7.41352210e-07 9.57351327e-01 2.93548387e-02 1.02136694e-02\n",
      "  9.76298470e-04 2.10317806e-03]\n",
      " [5.62553396e-07 9.00486887e-01 6.83012158e-02 2.07482595e-02\n",
      "  4.37094178e-03 6.09208085e-03]\n",
      " [4.19591601e-07 8.95005941e-01 7.13626444e-02 2.51302235e-02\n",
      "  4.81825694e-03 3.68248089e-03]\n",
      " [7.28204498e-07 8.09174538e-01 1.12977438e-01 5.70749007e-02\n",
      "  1.26191936e-02 8.15324951e-03]\n",
      " [5.74256603e-07 3.30681175e-01 9.99603197e-02 1.35465100e-01\n",
      "  1.26767531e-01 3.07125330e-01]\n",
      " [3.74592673e-07 8.99095058e-01 6.71457425e-02 2.52321251e-02\n",
      "  4.57887352e-03 3.94787733e-03]\n",
      " [6.83161943e-07 8.18205833e-01 9.30585936e-02 4.51966710e-02\n",
      "  1.39625333e-02 2.95756850e-02]\n",
      " [4.58783120e-07 8.90260339e-01 7.45855942e-02 2.63634082e-02\n",
      "  5.12360223e-03 3.66655481e-03]\n",
      " [4.97703979e-07 8.71667862e-01 8.40232521e-02 3.28272097e-02\n",
      "  6.75170543e-03 4.72948235e-03]\n",
      " [1.06126772e-05 8.22435021e-01 1.03666954e-01 4.55017015e-02\n",
      "  1.36685120e-02 1.47171319e-02]\n",
      " [8.43950090e-07 8.88633966e-01 6.86978549e-02 2.03902721e-02\n",
      "  5.57458587e-03 1.67024750e-02]\n",
      " [8.20185278e-07 9.50716078e-01 3.32080871e-02 1.21519547e-02\n",
      "  1.26786856e-03 2.65516504e-03]\n",
      " [4.89840033e-07 6.73614383e-01 1.43934473e-01 1.22493155e-01\n",
      "  3.67885232e-02 2.31690183e-02]\n",
      " [5.54063661e-07 8.58819604e-01 8.69222358e-02 3.89578864e-02\n",
      "  8.53929576e-03 6.76048175e-03]\n",
      " [3.69307259e-07 8.94215345e-01 6.97291493e-02 2.67340057e-02\n",
      "  5.03034005e-03 4.29077446e-03]\n",
      " [9.17311809e-07 9.44432497e-01 3.75250354e-02 1.36442240e-02\n",
      "  1.53956981e-03 2.85781850e-03]\n",
      " [3.08860706e-07 9.73095298e-02 3.46200801e-02 7.19897002e-02\n",
      "  1.79173917e-01 6.16906464e-01]\n",
      " [6.39462087e-07 8.66781235e-01 8.52245092e-02 3.31610031e-02\n",
      "  7.30720581e-03 7.52542727e-03]\n",
      " [5.38740551e-07 8.47653329e-01 9.51408073e-02 4.17524017e-02\n",
      "  9.18229856e-03 6.27058651e-03]\n",
      " [6.62565981e-07 6.72817707e-01 1.57869369e-01 1.14052169e-01\n",
      "  3.32701616e-02 2.19899621e-02]\n",
      " [5.28437965e-07 8.18955123e-01 1.07627854e-01 5.21206595e-02\n",
      "  1.26865963e-02 8.60929210e-03]\n",
      " [4.02482016e-07 2.07630426e-01 5.98021634e-02 9.33388621e-02\n",
      "  1.50344312e-01 4.88883823e-01]\n",
      " [1.39616723e-05 7.67853260e-01 1.26328021e-01 6.18990064e-02\n",
      "  2.16915961e-02 2.22141575e-02]\n",
      " [5.29884517e-07 4.39732403e-01 1.22951746e-01 1.34150222e-01\n",
      "  8.94184113e-02 2.13746622e-01]\n",
      " [5.60540116e-07 8.44671309e-01 8.93512145e-02 4.09203470e-02\n",
      "  1.04656955e-02 1.45908883e-02]\n",
      " [5.89449428e-07 6.27795577e-01 1.33893222e-01 1.13651529e-01\n",
      "  4.92782816e-02 7.53808692e-02]\n",
      " [3.59514615e-07 4.28436041e-01 1.63605809e-01 2.18426615e-01\n",
      "  1.12646274e-01 7.68849030e-02]\n",
      " [7.45588522e-07 8.30503225e-01 8.41319710e-02 3.68986800e-02\n",
      "  1.23090139e-02 3.61564048e-02]\n",
      " [2.71888530e-06 9.10843790e-01 5.27217910e-02 2.33824775e-02\n",
      "  4.11614217e-03 8.93317629e-03]\n",
      " [4.75142485e-07 8.86451483e-01 7.64605030e-02 2.77286414e-02\n",
      "  5.44381281e-03 3.91517021e-03]\n",
      " [4.58202805e-07 3.79997581e-01 1.54190600e-01 2.11143568e-01\n",
      "  1.20870665e-01 1.33797064e-01]\n",
      " [7.13812199e-07 8.12899053e-01 1.11808591e-01 5.55468239e-02\n",
      "  1.20649962e-02 7.67978420e-03]\n",
      " [3.90880615e-07 1.73082143e-01 1.54530764e-01 3.71487498e-01\n",
      "  2.12592497e-01 8.83067101e-02]\n",
      " [3.95288026e-07 3.96910906e-01 1.73108712e-01 2.46489778e-01\n",
      "  1.13648236e-01 6.98420033e-02]\n",
      " [5.06468950e-07 9.13356021e-02 1.03402644e-01 3.39291900e-01\n",
      "  3.25349003e-01 1.40620351e-01]\n",
      " [4.87039188e-07 8.73055518e-01 8.29673409e-02 3.25664096e-02\n",
      "  6.70520309e-03 4.70499089e-03]\n",
      " [5.07602010e-07 4.80855286e-01 1.78269923e-01 2.23669201e-01\n",
      "  7.87234753e-02 3.84815931e-02]\n",
      " [5.23083997e-07 2.08864167e-01 1.26901820e-01 2.78963536e-01\n",
      "  2.58007079e-01 1.27262846e-01]\n",
      " [5.99650832e-07 8.97077620e-02 7.71361589e-02 2.55873561e-01\n",
      "  3.83534700e-01 1.93747252e-01]\n",
      " [5.35818856e-07 7.19485506e-02 5.64815104e-02 1.95860907e-01\n",
      "  4.05399203e-01 2.70309299e-01]\n",
      " [1.43740457e-04 5.10803342e-01 7.07397610e-02 8.97560269e-02\n",
      "  8.78440142e-02 2.40713105e-01]\n",
      " [4.35775547e-07 1.54203296e-01 6.12477325e-02 1.19568653e-01\n",
      "  1.97914138e-01 4.67065781e-01]\n",
      " [5.48672915e-07 7.34673962e-02 7.71850571e-02 2.85462141e-01\n",
      "  3.94769460e-01 1.69115275e-01]\n",
      " [5.00834346e-07 6.88638806e-01 1.14420027e-01 7.98541754e-02\n",
      "  3.55742574e-02 8.15122724e-02]\n",
      " [2.81304040e-07 5.38783967e-01 1.59802824e-01 1.75768197e-01\n",
      "  7.67086595e-02 4.89360355e-02]\n",
      " [5.86563942e-07 8.20911109e-01 9.50210616e-02 4.74030413e-02\n",
      "  1.36807226e-02 2.29835548e-02]\n",
      " [3.83036507e-07 2.11337447e-01 1.56764850e-01 3.40101302e-01\n",
      "  2.02415317e-01 8.93806294e-02]\n",
      " [6.76380466e-07 9.55685899e-02 6.30894527e-02 1.86532915e-01\n",
      "  3.40025097e-01 3.14783365e-01]\n",
      " [6.19739751e-07 3.64918470e-01 1.87255144e-01 2.57119268e-01\n",
      "  1.23635709e-01 6.70708343e-02]\n",
      " [5.23791186e-07 8.87499034e-01 7.59396181e-02 2.65206322e-02\n",
      "  5.33984322e-03 4.70039574e-03]\n",
      " [5.08464382e-07 2.94195861e-01 1.60443082e-01 2.69198209e-01\n",
      "  1.51690215e-01 1.24472186e-01]\n",
      " [4.55609950e-07 8.57897043e-01 8.80966932e-02 4.01066653e-02\n",
      "  8.40442535e-03 5.49482787e-03]\n",
      " [3.34905195e-07 4.26696271e-01 1.73299536e-01 2.41633862e-01\n",
      "  1.05448514e-01 5.29214814e-02]\n",
      " [4.43464558e-07 2.42431387e-01 8.42881575e-02 1.28039047e-01\n",
      "  1.43539354e-01 4.01701629e-01]\n",
      " [4.24300367e-07 1.63889408e-01 1.56422675e-01 3.85047704e-01\n",
      "  2.08199173e-01 8.64406154e-02]\n",
      " [2.51556429e-07 7.44615030e-03 3.31687718e-03 1.13024907e-02\n",
      "  1.41977265e-01 8.35956991e-01]\n",
      " [3.90734073e-07 7.86874071e-02 4.33439426e-02 1.19219311e-01\n",
      "  2.78559208e-01 4.80189711e-01]\n",
      " [5.00619080e-07 1.74892277e-01 8.12435821e-02 1.60444945e-01\n",
      "  2.11975500e-01 3.71443272e-01]\n",
      " [5.25542305e-07 2.89890945e-01 7.07997903e-02 9.46572125e-02\n",
      "  1.30222335e-01 4.14429158e-01]\n",
      " [4.31750152e-07 4.75053459e-01 1.78788364e-01 1.93112239e-01\n",
      "  9.16866511e-02 6.13588840e-02]\n",
      " [4.12689531e-07 1.90291196e-01 1.56020492e-01 3.54052454e-01\n",
      "  2.05031574e-01 9.46039185e-02]\n",
      " [4.23768512e-07 7.23420233e-02 4.31452468e-02 1.25979826e-01\n",
      "  2.97622621e-01 4.60909843e-01]\n",
      " [3.73199583e-07 1.36499241e-01 4.95559685e-02 9.33645591e-02\n",
      "  1.71956554e-01 5.48623383e-01]\n",
      " [4.47643998e-07 2.60689050e-01 1.46200418e-01 2.73260415e-01\n",
      "  1.99344918e-01 1.20504759e-01]\n",
      " [5.36191749e-07 4.31368083e-01 1.11677453e-01 1.23720981e-01\n",
      "  9.37725976e-02 2.39460409e-01]\n",
      " [2.90564913e-07 8.06299150e-02 2.65029520e-02 5.62373810e-02\n",
      "  1.74943000e-01 6.61686480e-01]\n",
      " [2.99101430e-07 4.40052122e-01 1.67983040e-01 2.19887853e-01\n",
      "  1.05589971e-01 6.64867684e-02]\n",
      " [5.29659872e-07 8.08957815e-01 1.00521840e-01 5.35927825e-02\n",
      "  1.53032299e-02 2.16237623e-02]\n",
      " [2.32576525e-07 1.25031751e-02 6.51611527e-03 2.33101882e-02\n",
      "  1.99964970e-01 7.57705331e-01]\n",
      " [5.41982558e-07 1.79579541e-01 9.18261856e-02 1.87875971e-01\n",
      "  2.26483271e-01 3.14234495e-01]\n",
      " [3.63250678e-07 2.22008899e-02 2.34634522e-02 1.21740140e-01\n",
      "  5.10286510e-01 3.22308660e-01]\n",
      " [6.70964255e-07 6.15931749e-01 1.54839247e-01 1.38492569e-01\n",
      "  4.60534617e-02 4.46822681e-02]\n",
      " [5.79573395e-07 3.85272592e-01 1.32907361e-01 1.65821254e-01\n",
      "  1.07922301e-01 2.08075866e-01]\n",
      " [4.01948995e-07 1.23700732e-03 7.52995664e-04 3.35816992e-03\n",
      "  9.43802223e-02 9.00271297e-01]\n",
      " [2.63882697e-07 1.11630866e-02 4.65445453e-03 1.43953338e-02\n",
      "  1.42776743e-01 8.27010095e-01]\n",
      " [2.67616002e-07 5.80141507e-03 2.73171836e-03 9.83999856e-03\n",
      "  1.45372286e-01 8.36254299e-01]\n",
      " [1.29697810e-05 8.05732727e-01 1.05594002e-01 5.64088076e-02\n",
      "  1.45737678e-02 1.76777095e-02]\n",
      " [3.09679535e-07 1.79989189e-02 6.73322799e-03 1.86098460e-02\n",
      "  1.51889473e-01 8.04768264e-01]\n",
      " [2.26742515e-07 2.61173658e-02 1.13744680e-02 3.38847786e-02\n",
      "  1.92665875e-01 7.35957205e-01]\n",
      " [2.36886521e-07 2.46725120e-02 1.17874052e-02 3.69570740e-02\n",
      "  2.08228424e-01 7.18354404e-01]\n",
      " [2.77043540e-07 7.61739016e-02 2.66709868e-02 5.92693686e-02\n",
      "  1.82922348e-01 6.54963136e-01]\n",
      " [2.37197398e-07 2.49867737e-02 1.00706760e-02 2.87502632e-02\n",
      "  1.76196203e-01 7.59995878e-01]\n",
      " [5.33358730e-07 7.66579881e-02 8.51096734e-02 3.03719282e-01\n",
      "  3.71453524e-01 1.63058951e-01]\n",
      " [4.48883355e-07 2.73667663e-01 9.37620103e-02 1.35220692e-01\n",
      "  1.35020405e-01 3.62328708e-01]\n",
      " [4.62378381e-07 3.96330327e-01 1.47558346e-01 2.02573687e-01\n",
      "  1.30869433e-01 1.22667715e-01]\n",
      " [2.26603248e-07 1.21345222e-02 1.20531768e-02 6.76421225e-02\n",
      "  4.28987652e-01 4.79182392e-01]\n",
      " [3.66918016e-07 2.43519843e-02 8.29727016e-03 2.07736809e-02\n",
      "  1.48851395e-01 7.97725320e-01]\n",
      " [2.23285326e-07 1.34126721e-02 6.30254671e-03 2.09903158e-02\n",
      "  1.71502560e-01 7.87791729e-01]\n",
      " [4.10882507e-07 2.04043254e-01 6.39853105e-02 1.01453766e-01\n",
      "  1.50603369e-01 4.79913890e-01]\n",
      " [2.62070557e-07 2.46021971e-02 9.21092462e-03 2.48515867e-02\n",
      "  1.57821164e-01 7.83513844e-01]\n",
      " [4.26229126e-05 6.58894956e-01 1.29346967e-01 9.83024612e-02\n",
      "  4.53559421e-02 6.80570602e-02]\n",
      " [5.00247211e-07 6.23425782e-01 1.22120731e-01 9.78601575e-02\n",
      "  4.85253558e-02 1.08067527e-01]]\n"
     ]
    }
   ],
   "source": [
    "print(check_predict)"
   ]
  },
  {
   "cell_type": "code",
   "execution_count": 36,
   "id": "918f024f",
   "metadata": {},
   "outputs": [
    {
     "data": {
      "text/plain": [
       "array([1, 1, 1, 1, 1, 1, 1, 1, 1, 1, 1, 1, 1, 1, 1, 1, 1, 1, 1, 1, 1, 1,\n",
       "       1, 1, 5, 1, 1, 1, 1, 5, 1, 1, 1, 1, 1, 1, 1, 1, 1, 1, 3, 1, 3, 1,\n",
       "       1, 3, 4, 4, 1, 5, 4, 1, 1, 1, 3, 4, 1, 1, 1, 1, 1, 5, 3, 5, 5, 5,\n",
       "       5, 1, 3, 5, 5, 3, 1, 5, 1, 1, 5, 5, 4, 1, 1, 5, 5, 5, 1, 5, 5, 5,\n",
       "       5, 5, 4, 5, 1, 5, 5, 5, 5, 5, 1, 1], dtype=int64)"
      ]
     },
     "execution_count": 36,
     "metadata": {},
     "output_type": "execute_result"
    }
   ],
   "source": [
    "check_predict_class = check_predict.argmax(axis=1)\n",
    "check_predict_class"
   ]
  },
  {
   "cell_type": "code",
   "execution_count": 37,
   "id": "819395e0",
   "metadata": {},
   "outputs": [
    {
     "name": "stderr",
     "output_type": "stream",
     "text": [
      "C:\\Users\\t.fourtouill\\Anaconda3\\lib\\site-packages\\seaborn\\_decorators.py:36: FutureWarning: Pass the following variable as a keyword arg: x. From version 0.12, the only valid positional argument will be `data`, and passing other arguments without an explicit keyword will result in an error or misinterpretation.\n",
      "  warnings.warn(\n"
     ]
    },
    {
     "data": {
      "image/png": "[encoded data removed]",
      "text/plain": [
       "<Figure size 432x288 with 1 Axes>"
      ]
     },
     "metadata": {
      "needs_background": "light"
     },
     "output_type": "display_data"
    }
   ],
   "source": [
    "sns.countplot(check_predict_class);"
   ]
  },
  {
   "cell_type": "code",
   "execution_count": 38,
   "id": "438bcba6",
   "metadata": {},
   "outputs": [
    {
     "data": {
      "text/html": [
       "<div>\n",
       "<style scoped>\n",
       "    .dataframe tbody tr th:only-of-type {\n",
       "        vertical-align: middle;\n",
       "    }\n",
       "\n",
       "    .dataframe tbody tr th {\n",
       "        vertical-align: top;\n",
       "    }\n",
       "\n",
       "    .dataframe thead th {\n",
       "        text-align: right;\n",
       "    }\n",
       "</style>\n",
       "<table border=\"1\" class=\"dataframe\">\n",
       "  <thead>\n",
       "    <tr style=\"text-align: right;\">\n",
       "      <th></th>\n",
       "      <th>commentaire</th>\n",
       "      <th>note</th>\n",
       "      <th>prediction</th>\n",
       "    </tr>\n",
       "  </thead>\n",
       "  <tbody>\n",
       "    <tr>\n",
       "      <th>0</th>\n",
       "      <td>ll y a 2 joursnage en eaux troublesSystème de vérification de compte horrible, aucunes indications, quand on fournit les pièces demandées ça ne va pas et on nous redemande les mêmes choses par la suite, service client horrible, attente interminable, me voilà bloqué depuis 3 jours et  cela n'est toujours pas résolu; aucunes informations sur la suite des démarche, ma pire expérience en matière de résolution des soucis liés à un compteDate de l'expérience: 26 novembre 2022</td>\n",
       "      <td>1</td>\n",
       "      <td>1</td>\n",
       "    </tr>\n",
       "    <tr>\n",
       "      <th>1</th>\n",
       "      <td>ll y a 2 joursColis qui fait le tour du mondeJe ne suis pas adepte cette enseigne mais j'avoue que je n'ai trouvé ce produit nulle part ailleurs mon expérience pour le paiement XXL par contre pour le suivi et la livraison nul archi nul aucun suivi de commande disponible je ne sais d'où vient mon produit c'est mon ultime commande et la deuxième seulement auprès de cette enseigneDate de l'expérience: 26 novembre 2022</td>\n",
       "      <td>1</td>\n",
       "      <td>1</td>\n",
       "    </tr>\n",
       "    <tr>\n",
       "      <th>2</th>\n",
       "      <td>ll y a 2 joursPromotion mensongèreHier j’ai voulu commandé un jouet avec la promotion affichée « 3 jouets pour 2 ». Il était bien indiqué que la promotion fonctionnait sur le jouet en question. Arrivé au paiement, pas de déduction pour le 3è jouet, je ne commande donc pas et envoie un mail à Amazon avec print écran à l’appui de la promo sur le jouet. L’interlocutrice n’a rien voulu savoir, la promo a été retirée depuis sur le jouet, honteux !! Non seulement les prix varient sans arrêt et en plus ils ne respectent pas les promotions qu’ils mettent en place. J’ai trouvé mon bonheur chez cdiscount, vendeur bien plus sérieuxDate de l'expérience: 24 novembre 2022</td>\n",
       "      <td>1</td>\n",
       "      <td>1</td>\n",
       "    </tr>\n",
       "    <tr>\n",
       "      <th>3</th>\n",
       "      <td>ll y a 3 joursJ’ai commandé un article cadeau sur…J’ai commandé un article cadeau sur Amazon, le fournisseur n’apparaît plus sur le site d’Amazon, je n’ai aucun retour de la part d’Amazon. Ce n’est que 28€ mais de trop si pas de remboursement. Il me paraît impossible d’entrer en contact avec le service « commercial » après plusieurs tentatives, avez-vous un numéro ou une adresse ? Merci de votre aideDate de l'expérience: 23 novembre 2022</td>\n",
       "      <td>1</td>\n",
       "      <td>1</td>\n",
       "    </tr>\n",
       "    <tr>\n",
       "      <th>4</th>\n",
       "      <td>ll y a 3 joursJ'ai commandé un téléphone portable sur…J'ai commandé un téléphone portable sur le site, reçu mais après lecture de la documentation technique, ce téléphone n'avait pas les fonctions indiquées sur l'annonce, bon l'erreur est humaine, je renvois le matériel avec l'autorisation d'Amazon le 8 novembre, malgré les divers contacts et relances, aucun remboursement ce jour soit le 25 novembre, depuis j'ai acheté un autre téléphone, je me suis fais escroqué de 140 euros, voilà c'est Amazon, ca à bien changé, faites attention.Date de l'expérience: 08 novembre 2022</td>\n",
       "      <td>1</td>\n",
       "      <td>1</td>\n",
       "    </tr>\n",
       "  </tbody>\n",
       "</table>\n",
       "</div>"
      ],
      "text/plain": [
       "                                                                                                                                                                                                                                                                                                                                                                                                                                                                                                                                                                                                                                                                                  commentaire  \\\n",
       "0                                                                                                                                                                                                  ll y a 2 joursnage en eaux troublesSystème de vérification de compte horrible, aucunes indications, quand on fournit les pièces demandées ça ne va pas et on nous redemande les mêmes choses par la suite, service client horrible, attente interminable, me voilà bloqué depuis 3 jours et  cela n'est toujours pas résolu; aucunes informations sur la suite des démarche, ma pire expérience en matière de résolution des soucis liés à un compteDate de l'expérience: 26 novembre 2022   \n",
       "1                                                                                                                                                                                                                                                          ll y a 2 joursColis qui fait le tour du mondeJe ne suis pas adepte cette enseigne mais j'avoue que je n'ai trouvé ce produit nulle part ailleurs mon expérience pour le paiement XXL par contre pour le suivi et la livraison nul archi nul aucun suivi de commande disponible je ne sais d'où vient mon produit c'est mon ultime commande et la deuxième seulement auprès de cette enseigneDate de l'expérience: 26 novembre 2022   \n",
       "2  ll y a 2 joursPromotion mensongèreHier j’ai voulu commandé un jouet avec la promotion affichée « 3 jouets pour 2 ». Il était bien indiqué que la promotion fonctionnait sur le jouet en question. Arrivé au paiement, pas de déduction pour le 3è jouet, je ne commande donc pas et envoie un mail à Amazon avec print écran à l’appui de la promo sur le jouet. L’interlocutrice n’a rien voulu savoir, la promo a été retirée depuis sur le jouet, honteux !! Non seulement les prix varient sans arrêt et en plus ils ne respectent pas les promotions qu’ils mettent en place. J’ai trouvé mon bonheur chez cdiscount, vendeur bien plus sérieuxDate de l'expérience: 24 novembre 2022   \n",
       "3                                                                                                                                                                                                                                   ll y a 3 joursJ’ai commandé un article cadeau sur…J’ai commandé un article cadeau sur Amazon, le fournisseur n’apparaît plus sur le site d’Amazon, je n’ai aucun retour de la part d’Amazon. Ce n’est que 28€ mais de trop si pas de remboursement. Il me paraît impossible d’entrer en contact avec le service « commercial » après plusieurs tentatives, avez-vous un numéro ou une adresse ? Merci de votre aideDate de l'expérience: 23 novembre 2022   \n",
       "4                                                                                             ll y a 3 joursJ'ai commandé un téléphone portable sur…J'ai commandé un téléphone portable sur le site, reçu mais après lecture de la documentation technique, ce téléphone n'avait pas les fonctions indiquées sur l'annonce, bon l'erreur est humaine, je renvois le matériel avec l'autorisation d'Amazon le 8 novembre, malgré les divers contacts et relances, aucun remboursement ce jour soit le 25 novembre, depuis j'ai acheté un autre téléphone, je me suis fais escroqué de 140 euros, voilà c'est Amazon, ca à bien changé, faites attention.Date de l'expérience: 08 novembre 2022   \n",
       "\n",
       "   note  prediction  \n",
       "0     1           1  \n",
       "1     1           1  \n",
       "2     1           1  \n",
       "3     1           1  \n",
       "4     1           1  "
      ]
     },
     "execution_count": 38,
     "metadata": {},
     "output_type": "execute_result"
    }
   ],
   "source": [
    "# comparaison des prédictions et des notes du jeu de test\n",
    "check_df = pd.DataFrame(list(zip(df_test.commentaire, df_test.note, check_predict_class)), columns=['commentaire', 'note', 'prediction'])\n",
    "check_df.head()"
   ]
  },
  {
   "cell_type": "code",
   "execution_count": 39,
   "id": "11ec7bbb",
   "metadata": {},
   "outputs": [
    {
     "name": "stdout",
     "output_type": "stream",
     "text": [
      "              precision    recall  f1-score   support\n",
      "\n",
      "           1       0.75      0.76      0.76      2056\n",
      "           2       0.00      0.00      0.00       534\n",
      "           3       0.35      0.26      0.30      1393\n",
      "           4       0.50      0.18      0.27      5058\n",
      "           5       0.75      0.96      0.84     14959\n",
      "\n",
      "    accuracy                           0.71     24000\n",
      "   macro avg       0.47      0.43      0.43     24000\n",
      "weighted avg       0.66      0.71      0.66     24000\n",
      "\n"
     ]
    },
    {
     "name": "stderr",
     "output_type": "stream",
     "text": [
      "C:\\Users\\t.fourtouill\\Anaconda3\\lib\\site-packages\\sklearn\\metrics\\_classification.py:1327: UndefinedMetricWarning: Precision and F-score are ill-defined and being set to 0.0 in labels with no predicted samples. Use `zero_division` parameter to control this behavior.\n",
      "  _warn_prf(average, modifier, msg_start, len(result))\n",
      "C:\\Users\\t.fourtouill\\Anaconda3\\lib\\site-packages\\sklearn\\metrics\\_classification.py:1327: UndefinedMetricWarning: Precision and F-score are ill-defined and being set to 0.0 in labels with no predicted samples. Use `zero_division` parameter to control this behavior.\n",
      "  _warn_prf(average, modifier, msg_start, len(result))\n",
      "C:\\Users\\t.fourtouill\\Anaconda3\\lib\\site-packages\\sklearn\\metrics\\_classification.py:1327: UndefinedMetricWarning: Precision and F-score are ill-defined and being set to 0.0 in labels with no predicted samples. Use `zero_division` parameter to control this behavior.\n",
      "  _warn_prf(average, modifier, msg_start, len(result))\n"
     ]
    },
    {
     "data": {
      "text/html": [
       "<div>\n",
       "<style scoped>\n",
       "    .dataframe tbody tr th:only-of-type {\n",
       "        vertical-align: middle;\n",
       "    }\n",
       "\n",
       "    .dataframe tbody tr th {\n",
       "        vertical-align: top;\n",
       "    }\n",
       "\n",
       "    .dataframe thead th {\n",
       "        text-align: right;\n",
       "    }\n",
       "</style>\n",
       "<table border=\"1\" class=\"dataframe\">\n",
       "  <thead>\n",
       "    <tr style=\"text-align: right;\">\n",
       "      <th>predictions</th>\n",
       "      <th>1</th>\n",
       "      <th>3</th>\n",
       "      <th>4</th>\n",
       "      <th>5</th>\n",
       "    </tr>\n",
       "    <tr>\n",
       "      <th>données réelles</th>\n",
       "      <th></th>\n",
       "      <th></th>\n",
       "      <th></th>\n",
       "      <th></th>\n",
       "    </tr>\n",
       "  </thead>\n",
       "  <tbody>\n",
       "    <tr>\n",
       "      <th>1</th>\n",
       "      <td>1570</td>\n",
       "      <td>204</td>\n",
       "      <td>47</td>\n",
       "      <td>235</td>\n",
       "    </tr>\n",
       "    <tr>\n",
       "      <th>2</th>\n",
       "      <td>189</td>\n",
       "      <td>146</td>\n",
       "      <td>54</td>\n",
       "      <td>145</td>\n",
       "    </tr>\n",
       "    <tr>\n",
       "      <th>3</th>\n",
       "      <td>193</td>\n",
       "      <td>369</td>\n",
       "      <td>297</td>\n",
       "      <td>534</td>\n",
       "    </tr>\n",
       "    <tr>\n",
       "      <th>4</th>\n",
       "      <td>94</td>\n",
       "      <td>245</td>\n",
       "      <td>924</td>\n",
       "      <td>3795</td>\n",
       "    </tr>\n",
       "    <tr>\n",
       "      <th>5</th>\n",
       "      <td>55</td>\n",
       "      <td>92</td>\n",
       "      <td>522</td>\n",
       "      <td>14290</td>\n",
       "    </tr>\n",
       "  </tbody>\n",
       "</table>\n",
       "</div>"
      ],
      "text/plain": [
       "predictions         1    3    4      5\n",
       "données réelles                       \n",
       "1                1570  204   47    235\n",
       "2                 189  146   54    145\n",
       "3                 193  369  297    534\n",
       "4                  94  245  924   3795\n",
       "5                  55   92  522  14290"
      ]
     },
     "metadata": {},
     "output_type": "display_data"
    },
    {
     "name": "stdout",
     "output_type": "stream",
     "text": [
      "              precision    recall  f1-score   support\n",
      "\n",
      "           1       0.33      1.00      0.50        20\n",
      "           2       0.00      0.00      0.00        20\n",
      "           3       0.57      0.20      0.30        20\n",
      "           4       0.17      0.05      0.08        20\n",
      "           5       0.52      0.70      0.60        20\n",
      "\n",
      "    accuracy                           0.39       100\n",
      "   macro avg       0.32      0.39      0.29       100\n",
      "weighted avg       0.32      0.39      0.29       100\n",
      "\n"
     ]
    },
    {
     "name": "stderr",
     "output_type": "stream",
     "text": [
      "C:\\Users\\t.fourtouill\\Anaconda3\\lib\\site-packages\\sklearn\\metrics\\_classification.py:1327: UndefinedMetricWarning: Precision and F-score are ill-defined and being set to 0.0 in labels with no predicted samples. Use `zero_division` parameter to control this behavior.\n",
      "  _warn_prf(average, modifier, msg_start, len(result))\n",
      "C:\\Users\\t.fourtouill\\Anaconda3\\lib\\site-packages\\sklearn\\metrics\\_classification.py:1327: UndefinedMetricWarning: Precision and F-score are ill-defined and being set to 0.0 in labels with no predicted samples. Use `zero_division` parameter to control this behavior.\n",
      "  _warn_prf(average, modifier, msg_start, len(result))\n",
      "C:\\Users\\t.fourtouill\\Anaconda3\\lib\\site-packages\\sklearn\\metrics\\_classification.py:1327: UndefinedMetricWarning: Precision and F-score are ill-defined and being set to 0.0 in labels with no predicted samples. Use `zero_division` parameter to control this behavior.\n",
      "  _warn_prf(average, modifier, msg_start, len(result))\n"
     ]
    },
    {
     "data": {
      "text/html": [
       "<div>\n",
       "<style scoped>\n",
       "    .dataframe tbody tr th:only-of-type {\n",
       "        vertical-align: middle;\n",
       "    }\n",
       "\n",
       "    .dataframe tbody tr th {\n",
       "        vertical-align: top;\n",
       "    }\n",
       "\n",
       "    .dataframe thead th {\n",
       "        text-align: right;\n",
       "    }\n",
       "</style>\n",
       "<table border=\"1\" class=\"dataframe\">\n",
       "  <thead>\n",
       "    <tr style=\"text-align: right;\">\n",
       "      <th>predictions</th>\n",
       "      <th>1</th>\n",
       "      <th>3</th>\n",
       "      <th>4</th>\n",
       "      <th>5</th>\n",
       "    </tr>\n",
       "    <tr>\n",
       "      <th>données réelles</th>\n",
       "      <th></th>\n",
       "      <th></th>\n",
       "      <th></th>\n",
       "      <th></th>\n",
       "    </tr>\n",
       "  </thead>\n",
       "  <tbody>\n",
       "    <tr>\n",
       "      <th>1</th>\n",
       "      <td>20</td>\n",
       "      <td>0</td>\n",
       "      <td>0</td>\n",
       "      <td>0</td>\n",
       "    </tr>\n",
       "    <tr>\n",
       "      <th>2</th>\n",
       "      <td>18</td>\n",
       "      <td>0</td>\n",
       "      <td>0</td>\n",
       "      <td>2</td>\n",
       "    </tr>\n",
       "    <tr>\n",
       "      <th>3</th>\n",
       "      <td>11</td>\n",
       "      <td>4</td>\n",
       "      <td>4</td>\n",
       "      <td>1</td>\n",
       "    </tr>\n",
       "    <tr>\n",
       "      <th>4</th>\n",
       "      <td>6</td>\n",
       "      <td>3</td>\n",
       "      <td>1</td>\n",
       "      <td>10</td>\n",
       "    </tr>\n",
       "    <tr>\n",
       "      <th>5</th>\n",
       "      <td>5</td>\n",
       "      <td>0</td>\n",
       "      <td>1</td>\n",
       "      <td>14</td>\n",
       "    </tr>\n",
       "  </tbody>\n",
       "</table>\n",
       "</div>"
      ],
      "text/plain": [
       "predictions       1  3  4   5\n",
       "données réelles              \n",
       "1                20  0  0   0\n",
       "2                18  0  0   2\n",
       "3                11  4  4   1\n",
       "4                 6  3  1  10\n",
       "5                 5  0  1  14"
      ]
     },
     "metadata": {},
     "output_type": "display_data"
    },
    {
     "data": {
      "text/html": [
       "<div>\n",
       "<style scoped>\n",
       "    .dataframe tbody tr th:only-of-type {\n",
       "        vertical-align: middle;\n",
       "    }\n",
       "\n",
       "    .dataframe tbody tr th {\n",
       "        vertical-align: top;\n",
       "    }\n",
       "\n",
       "    .dataframe thead th {\n",
       "        text-align: right;\n",
       "    }\n",
       "</style>\n",
       "<table border=\"1\" class=\"dataframe\">\n",
       "  <thead>\n",
       "    <tr style=\"text-align: right;\">\n",
       "      <th>predictions</th>\n",
       "      <th>1</th>\n",
       "      <th>3</th>\n",
       "      <th>4</th>\n",
       "      <th>5</th>\n",
       "    </tr>\n",
       "    <tr>\n",
       "      <th>données réelles</th>\n",
       "      <th></th>\n",
       "      <th></th>\n",
       "      <th></th>\n",
       "      <th></th>\n",
       "    </tr>\n",
       "  </thead>\n",
       "  <tbody>\n",
       "    <tr>\n",
       "      <th>1</th>\n",
       "      <td>1.00</td>\n",
       "      <td>0.00</td>\n",
       "      <td>0.00</td>\n",
       "      <td>0.00</td>\n",
       "    </tr>\n",
       "    <tr>\n",
       "      <th>2</th>\n",
       "      <td>0.90</td>\n",
       "      <td>0.00</td>\n",
       "      <td>0.00</td>\n",
       "      <td>0.10</td>\n",
       "    </tr>\n",
       "    <tr>\n",
       "      <th>3</th>\n",
       "      <td>0.55</td>\n",
       "      <td>0.20</td>\n",
       "      <td>0.20</td>\n",
       "      <td>0.05</td>\n",
       "    </tr>\n",
       "    <tr>\n",
       "      <th>4</th>\n",
       "      <td>0.30</td>\n",
       "      <td>0.15</td>\n",
       "      <td>0.05</td>\n",
       "      <td>0.50</td>\n",
       "    </tr>\n",
       "    <tr>\n",
       "      <th>5</th>\n",
       "      <td>0.25</td>\n",
       "      <td>0.00</td>\n",
       "      <td>0.05</td>\n",
       "      <td>0.70</td>\n",
       "    </tr>\n",
       "  </tbody>\n",
       "</table>\n",
       "</div>"
      ],
      "text/plain": [
       "predictions         1     3     4     5\n",
       "données réelles                        \n",
       "1                1.00  0.00  0.00  0.00\n",
       "2                0.90  0.00  0.00  0.10\n",
       "3                0.55  0.20  0.20  0.05\n",
       "4                0.30  0.15  0.05  0.50\n",
       "5                0.25  0.00  0.05  0.70"
      ]
     },
     "metadata": {},
     "output_type": "display_data"
    },
    {
     "name": "stdout",
     "output_type": "stream",
     "text": [
      "les prédictions correctes sont supérieures à 50% pour 1 étoile(s) avec 100%\n",
      "les prédictions correctes sont supérieures à 50% pour 5 étoile(s) avec 70%\n"
     ]
    }
   ],
   "source": [
    "from sklearn.metrics import classification_report\n",
    "\n",
    "cr = classification_report(y_test, predict_cdiscount_class)\n",
    "print(cr)\n",
    "\n",
    "cm = pd.crosstab(y_test, predict_cdiscount_class, rownames=['données réelles'], colnames=['predictions'])\n",
    "display(cm)\n",
    "\n",
    "# vérification des résultats sur un jeu de test externe (100 commentaires amazon également répartis entre les étoiles)\n",
    "\n",
    "cm_test = classification_report(df_test.note, check_predict_class)\n",
    "print(cm_test)\n",
    "\n",
    "cm_test2 = pd.crosstab(df_test.note, check_predict_class, rownames=['données réelles'], colnames=['predictions'])\n",
    "display(cm_test2)\n",
    "\n",
    "cm_test3 = pd.crosstab(df_test.note, check_predict_class, rownames=['données réelles'], colnames=['predictions'], normalize=0)\n",
    "display(cm_test3)\n",
    "\n",
    "for i in cm_test3.index:\n",
    "    for j in cm_test3.columns :\n",
    "        if (i==j and cm_test3.loc[i, j] > 0.5) :\n",
    "            print(\"les prédictions correctes sont supérieures à 50% pour {} étoile(s) avec {:0.0%}\".format(i, cm_test3.loc[i, j]))"
   ]
  },
  {
   "cell_type": "code",
   "execution_count": 40,
   "id": "8b6366a5",
   "metadata": {},
   "outputs": [
    {
     "name": "stderr",
     "output_type": "stream",
     "text": [
      "WARNING:absl:Found untraced functions such as lstm_cell_layer_call_and_return_conditional_losses, lstm_cell_layer_call_fn, lstm_cell_layer_call_fn, lstm_cell_layer_call_and_return_conditional_losses, lstm_cell_layer_call_and_return_conditional_losses while saving (showing 5 of 5). These functions will not be directly callable after loading.\n"
     ]
    },
    {
     "name": "stdout",
     "output_type": "stream",
     "text": [
      "INFO:tensorflow:Assets written to: datasets/SatisfactionClients/model_embedding5\\assets\n"
     ]
    },
    {
     "name": "stderr",
     "output_type": "stream",
     "text": [
      "INFO:tensorflow:Assets written to: datasets/SatisfactionClients/model_embedding5\\assets\n"
     ]
    }
   ],
   "source": [
    "import os\n",
    "path = \"/Users/t.fourtouill/Downloads/SatisfactionClients\"\n",
    "os.makedirs(path, exist_ok=True)\n",
    "model_embedding_1.save('datasets/SatisfactionClients/model_embedding5')"
   ]
  }
 ],
 "metadata": {
  "kernelspec": {
   "display_name": "Python 3 (ipykernel)",
   "language": "python",
   "name": "python3"
  },
  "language_info": {
   "codemirror_mode": {
    "name": "ipython",
    "version": 3
   },
   "file_extension": ".py",
   "mimetype": "text/x-python",
   "name": "python",
   "nbconvert_exporter": "python",
   "pygments_lexer": "ipython3",
   "version": "3.9.7"
  }
 },
 "nbformat": 4,
 "nbformat_minor": 5
}
