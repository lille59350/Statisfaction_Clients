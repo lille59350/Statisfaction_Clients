{
 "cells": [
  {
   "cell_type": "code",
   "execution_count": 1,
   "id": "196d79a4",
   "metadata": {},
   "outputs": [],
   "source": [
    "import pandas as pd\n",
    "import numpy as np\n",
    "import matplotlib.pyplot as plt\n",
    "import seaborn as sns\n",
    "from time import time\n",
    "import itertools"
   ]
  },
  {
   "cell_type": "code",
   "execution_count": 2,
   "id": "6b85a034",
   "metadata": {},
   "outputs": [],
   "source": [
    "pd.options.display.max_colwidth=800\n",
    "pd.set_option('display.max_rows', 500)\n",
    "pd.set_option('display.max_columns', 500)"
   ]
  },
  {
   "cell_type": "code",
   "execution_count": 3,
   "id": "119a889d",
   "metadata": {},
   "outputs": [
    {
     "data": {
      "text/html": [
       "<div>\n",
       "<style scoped>\n",
       "    .dataframe tbody tr th:only-of-type {\n",
       "        vertical-align: middle;\n",
       "    }\n",
       "\n",
       "    .dataframe tbody tr th {\n",
       "        vertical-align: top;\n",
       "    }\n",
       "\n",
       "    .dataframe thead th {\n",
       "        text-align: right;\n",
       "    }\n",
       "</style>\n",
       "<table border=\"1\" class=\"dataframe\">\n",
       "  <thead>\n",
       "    <tr style=\"text-align: right;\">\n",
       "      <th></th>\n",
       "      <th>pays</th>\n",
       "      <th>note</th>\n",
       "      <th>titre</th>\n",
       "      <th>commentaire</th>\n",
       "    </tr>\n",
       "  </thead>\n",
       "  <tbody>\n",
       "    <tr>\n",
       "      <th>0</th>\n",
       "      <td>FR</td>\n",
       "      <td>1</td>\n",
       "      <td>Les As du prélèvement illicite</td>\n",
       "      <td>Il y a un jourLes As du prélèvement illicitePratiques à la limite de légal.J' ai pris un paiement en 4x dont il restait deux mois , pendant 1 semaine je ne retrouve pas ma carte , je la bloque temporairement.Le prelevement 3 ne passe pas Cdiscount m' informe qu' il faut régulariser, je retrouve ma carte et........boum deux prelevements simultanés des deux mensualités, celle du et l' autre prévue pour décembre.Cela me servira de leçon mais les vautours c 'est fini pour moi.Date de l'expérience: 14 novembre 2022</td>\n",
       "    </tr>\n",
       "    <tr>\n",
       "      <th>1</th>\n",
       "      <td>FR</td>\n",
       "      <td>1</td>\n",
       "      <td>Commande une télévision avec rendez…</td>\n",
       "      <td>Il y a 13 heuresCommande une télévision avec rendez…Commande une télévision avec rendez vous du livreur. Je prend une journée de congé et le livreur ne vient pas. Je demande le renvoie de la télé chez Cdiscount. Cdiscount me rembourse la télé mes pas les 29 euros de livraison. Donc une journée de congé pour rien et un cadeau de 29 euros a Cdiscount. Plus jamais de commande sur Cdiscount.Date de l'expérience: 02 novembre 2022</td>\n",
       "    </tr>\n",
       "  </tbody>\n",
       "</table>\n",
       "</div>"
      ],
      "text/plain": [
       "  pays  note                                 titre  \\\n",
       "0   FR     1        Les As du prélèvement illicite   \n",
       "1   FR     1  Commande une télévision avec rendez…   \n",
       "\n",
       "                                                                                                                                                                                                                                                                                                                                                                                                                                                                                                                           commentaire  \n",
       "0  Il y a un jourLes As du prélèvement illicitePratiques à la limite de légal.J' ai pris un paiement en 4x dont il restait deux mois , pendant 1 semaine je ne retrouve pas ma carte , je la bloque temporairement.Le prelevement 3 ne passe pas Cdiscount m' informe qu' il faut régulariser, je retrouve ma carte et........boum deux prelevements simultanés des deux mensualités, celle du et l' autre prévue pour décembre.Cela me servira de leçon mais les vautours c 'est fini pour moi.Date de l'expérience: 14 novembre 2022  \n",
       "1                                                                                         Il y a 13 heuresCommande une télévision avec rendez…Commande une télévision avec rendez vous du livreur. Je prend une journée de congé et le livreur ne vient pas. Je demande le renvoie de la télé chez Cdiscount. Cdiscount me rembourse la télé mes pas les 29 euros de livraison. Donc une journée de congé pour rien et un cadeau de 29 euros a Cdiscount. Plus jamais de commande sur Cdiscount.Date de l'expérience: 02 novembre 2022  "
      ]
     },
     "execution_count": 3,
     "metadata": {},
     "output_type": "execute_result"
    }
   ],
   "source": [
    "df = pd.read_csv('datasets/SatisfactionClients/cdiscount.csv', index_col=0)\n",
    "df_test = pd.read_csv('datasets/SatisfactionClients/amazon_test1.csv', index_col=0)\n",
    "df.head(2)"
   ]
  },
  {
   "cell_type": "code",
   "execution_count": 4,
   "id": "ddfd6bfc",
   "metadata": {
    "scrolled": true
   },
   "outputs": [
    {
     "data": {
      "image/png": "[encoded data removed]",
      "text/plain": [
       "<Figure size 432x288 with 1 Axes>"
      ]
     },
     "metadata": {
      "needs_background": "light"
     },
     "output_type": "display_data"
    }
   ],
   "source": [
    "sns.countplot(x='note', data=df);"
   ]
  },
  {
   "cell_type": "code",
   "execution_count": 5,
   "id": "3ded978e",
   "metadata": {},
   "outputs": [
    {
     "data": {
      "image/png": "[encoded data removed]",
      "text/plain": [
       "<Figure size 432x288 with 1 Axes>"
      ]
     },
     "metadata": {
      "needs_background": "light"
     },
     "output_type": "display_data"
    }
   ],
   "source": [
    "sns.countplot(x='note', data=df_test);"
   ]
  },
  {
   "cell_type": "code",
   "execution_count": 6,
   "id": "f13e334a",
   "metadata": {},
   "outputs": [],
   "source": [
    "# séparation de la variable cible et des variables explicatives\n",
    "X = df['commentaire']\n",
    "y = df['note'].values"
   ]
  },
  {
   "cell_type": "code",
   "execution_count": 7,
   "id": "6269af3d",
   "metadata": {},
   "outputs": [],
   "source": [
    "# séparation du jeu de données en un dataset d'entrainement et un dataset de test\n",
    "from sklearn.model_selection import train_test_split\n",
    "X_train, X_test, y_train, y_test = train_test_split(X, y, test_size=0.2, shuffle=True)"
   ]
  },
  {
   "cell_type": "code",
   "execution_count": 8,
   "id": "0673da10",
   "metadata": {},
   "outputs": [
    {
     "name": "stdout",
     "output_type": "stream",
     "text": [
      "(96000,)\n",
      "(24000,)\n",
      "(100, 4)\n"
     ]
    }
   ],
   "source": [
    "print(X_train.shape)\n",
    "print(X_test.shape)\n",
    "print(df_test.shape)"
   ]
  },
  {
   "cell_type": "code",
   "execution_count": 9,
   "id": "d40a7b61",
   "metadata": {},
   "outputs": [],
   "source": [
    "from keras.preprocessing.text import Tokenizer\n",
    "from keras.preprocessing.sequence import pad_sequences"
   ]
  },
  {
   "cell_type": "code",
   "execution_count": 10,
   "id": "7709d894",
   "metadata": {},
   "outputs": [],
   "source": [
    "# tokenisation des commentaires\n",
    "num_words=4000\n",
    "tk = Tokenizer(num_words=num_words, lower=True)"
   ]
  },
  {
   "cell_type": "code",
   "execution_count": 11,
   "id": "014744b9",
   "metadata": {},
   "outputs": [],
   "source": [
    "# entrainement de la tokenisation sur le X_train\n",
    "tk.fit_on_texts(X_train)"
   ]
  },
  {
   "cell_type": "code",
   "execution_count": 12,
   "id": "5faa7d54",
   "metadata": {},
   "outputs": [
    {
     "data": {
      "text/plain": [
       "82187"
      ]
     },
     "execution_count": 12,
     "metadata": {},
     "output_type": "execute_result"
    }
   ],
   "source": [
    "# nb de ligne de la matrice\n",
    "word_index = tk.word_index\n",
    "len(tk.word_index)"
   ]
  },
  {
   "cell_type": "code",
   "execution_count": 13,
   "id": "8a275671",
   "metadata": {},
   "outputs": [
    {
     "data": {
      "text/plain": [
       "4000"
      ]
     },
     "execution_count": 13,
     "metadata": {},
     "output_type": "execute_result"
    }
   ],
   "source": [
    "# nb de colonnes dans la matrice\n",
    "vocabulary_size = tk.num_words\n",
    "vocabulary_size"
   ]
  },
  {
   "cell_type": "code",
   "execution_count": 14,
   "id": "c937c451",
   "metadata": {},
   "outputs": [],
   "source": [
    "# mise sous vecteur des commentaires\n",
    "X_seq_train = tk.texts_to_sequences(X_train)\n",
    "X_seq_test = tk.texts_to_sequences(X_test)"
   ]
  },
  {
   "cell_type": "code",
   "execution_count": 15,
   "id": "204ad175",
   "metadata": {},
   "outputs": [
    {
     "name": "stdout",
     "output_type": "stream",
     "text": [
      "[113, 41, 43, 286, 69, 3, 2947, 69, 3, 432, 1276, 1, 112, 32, 546, 165, 1, 28, 473, 82, 14, 129, 315, 193, 17, 350, 3, 40, 6, 1, 2, 142, 38, 7]\n",
      "[84, 42, 9, 671, 2342, 168, 1, 2, 84, 42, 8]\n",
      "[84, 34, 962, 783, 124, 2343, 1, 2, 84, 33, 44]\n",
      "[92, 94, 884, 161, 1, 145, 616, 1, 2, 92, 91, 15]\n",
      "[66, 41, 43, 846, 140, 287, 19, 45, 163, 18, 4, 140, 287, 19, 45, 163, 18, 4, 108, 28, 20, 110, 16, 226, 3227, 150, 17, 18, 16, 303, 1, 1, 2, 66, 38, 7]\n"
     ]
    }
   ],
   "source": [
    "# affichage de la vectorisation réalisée\n",
    "for x in range(0,5):\n",
    "    print(X_seq_train[x])"
   ]
  },
  {
   "cell_type": "code",
   "execution_count": null,
   "id": "ac77844a",
   "metadata": {},
   "outputs": [],
   "source": [
    "# affichage du nb de mots par commentaire pour nous aider à choisir le nb de mots dans la matrice \n",
    "df_hist = pd.read_csv('datasets/SatisfactionClients/cdiscount_retraite.csv', index_col=0)\n",
    "df_hist['split'] = df_hist['commentaire'].apply(lambda x: len(x.split(' ')))\n",
    "\n",
    "plt.figure(figsize=(12, 4))\n",
    "plt.hist(df_hist['split'])\n",
    "plt.xlim([0, 600])\n",
    "plt.title('commentaires bruts')"
   ]
  },
  {
   "cell_type": "code",
   "execution_count": 16,
   "id": "aa8ad6cf",
   "metadata": {},
   "outputs": [],
   "source": [
    "# transformation en matrice de même longueur par maxlen défini ci-dessous. Avec des 0 si colonne inférieure à maxlen\n",
    "max_words = 200\n",
    "X_pad_train = pad_sequences(X_seq_train, maxlen=max_words, padding='post')\n",
    "X_pad_test= pad_sequences(X_seq_test, maxlen=max_words, padding='post')"
   ]
  },
  {
   "cell_type": "code",
   "execution_count": 17,
   "id": "e5651d36",
   "metadata": {},
   "outputs": [
    {
     "name": "stdout",
     "output_type": "stream",
     "text": [
      "(96000, 200)\n"
     ]
    },
    {
     "data": {
      "text/plain": [
       "array([[ 113,   41,   43, ...,    0,    0,    0],\n",
       "       [  84,   42,    9, ...,    0,    0,    0],\n",
       "       [  84,   34,  962, ...,    0,    0,    0],\n",
       "       ...,\n",
       "       [  66,   34,  719, ...,    0,    0,    0],\n",
       "       [  80,   34, 2142, ...,    0,    0,    0],\n",
       "       [  98,   41,  434, ...,    0,    0,    0]])"
      ]
     },
     "execution_count": 17,
     "metadata": {},
     "output_type": "execute_result"
    }
   ],
   "source": [
    "# affice de la matrice\n",
    "print(X_pad_train.shape)\n",
    "X_pad_train"
   ]
  },
  {
   "cell_type": "code",
   "execution_count": 18,
   "id": "a509121c",
   "metadata": {},
   "outputs": [
    {
     "name": "stdout",
     "output_type": "stream",
     "text": [
      "Model: \"sequential\"\n",
      "_________________________________________________________________\n",
      "Layer (type)                 Output Shape              Param #   \n",
      "=================================================================\n",
      "embedding (Embedding)        (None, 200, 100)          400000    \n",
      "_________________________________________________________________\n",
      "global_average_pooling1d (Gl (None, 100)               0         \n",
      "_________________________________________________________________\n",
      "dense (Dense)                (None, 256)               25856     \n",
      "_________________________________________________________________\n",
      "dropout (Dropout)            (None, 256)               0         \n",
      "_________________________________________________________________\n",
      "dense_1 (Dense)              (None, 32)                8224      \n",
      "_________________________________________________________________\n",
      "dropout_1 (Dropout)          (None, 32)                0         \n",
      "_________________________________________________________________\n",
      "dense_2 (Dense)              (None, 6)                 198       \n",
      "=================================================================\n",
      "Total params: 434,278\n",
      "Trainable params: 434,278\n",
      "Non-trainable params: 0\n",
      "_________________________________________________________________\n"
     ]
    }
   ],
   "source": [
    "# Création des couches du modèle\n",
    "\n",
    "from tensorflow.keras.models import Sequential\n",
    "from tensorflow.keras.layers import Dense, GlobalAveragePooling1D, Input, Embedding, Dropout\n",
    "\n",
    "embedding_size = 100\n",
    "\n",
    "model_embedding_1 = Sequential()\n",
    "model_embedding_1.add(Embedding(input_dim=vocabulary_size, output_dim=embedding_size, input_length=max_words, embeddings_initializer='uniform'))  # On reprend le nb de mot choisi dans la tokenisation\n",
    "model_embedding_1.add(GlobalAveragePooling1D())\n",
    "model_embedding_1.add(Dense(units=256, activation='relu'))\n",
    "model_embedding_1.add(Dropout(rate=0.3))\n",
    "model_embedding_1.add(Dense(units=32, activation='relu'))\n",
    "model_embedding_1.add(Dropout(rate=0.2))\n",
    "model_embedding_1.add(Dense(units=6, activation='softmax')) # En sortie le nb de units devra correspondre aux nb de variables cibles\n",
    "\n",
    "model_embedding_1.summary()"
   ]
  },
  {
   "cell_type": "code",
   "execution_count": null,
   "id": "0e109ea6",
   "metadata": {},
   "outputs": [],
   "source": [
    "# timer pour mesurer le temps écoulé entre les epochs de début et de fin de callback\n",
    "from tensorflow.keras.callbacks import Callback\n",
    "from timeit import default_timer as timer\n",
    "\n",
    "class TimingCallback(Callback):\n",
    "    def __init__(self, logs={}):\n",
    "        self.logs=[]\n",
    "    def on_epoch_begin(self, epoch, logs={}):\n",
    "        self.starttime = timer()\n",
    "    def on_epoch_end(self, epoch, logs={}):\n",
    "        self.logs.append(timer()-self.starttime)\n",
    "\n",
    "# instanciation la fonction TimingCallback()\n",
    "time_callback = TimingCallback()"
   ]
  },
  {
   "cell_type": "code",
   "execution_count": null,
   "id": "841af56a",
   "metadata": {},
   "outputs": [],
   "source": [
    "# Création des callback\n",
    "from tensorflow.keras.callbacks import EarlyStopping\n",
    "\n",
    "early_stop = EarlyStopping(monitor='val_loss',\n",
    "                          min_delta=0.01,\n",
    "                          patience=2,\n",
    "                          mode='min',\n",
    "                          restore_best_weights=True,\n",
    "                          verbose=1)"
   ]
  },
  {
   "cell_type": "code",
   "execution_count": 19,
   "id": "bbfcec82",
   "metadata": {},
   "outputs": [],
   "source": [
    "model_embedding_1.compile(loss='sparse_categorical_crossentropy', optimizer='adam', metrics=['accuracy'])"
   ]
  },
  {
   "cell_type": "code",
   "execution_count": 20,
   "id": "6a48774e",
   "metadata": {},
   "outputs": [
    {
     "name": "stdout",
     "output_type": "stream",
     "text": [
      "Epoch 1/10\n",
      "2700/2700 [==============================] - 27s 10ms/step - loss: 0.8143 - accuracy: 0.6890 - val_loss: 0.7384 - val_accuracy: 0.7053\n",
      "Epoch 2/10\n",
      "2700/2700 [==============================] - 25s 9ms/step - loss: 0.7283 - accuracy: 0.7096 - val_loss: 0.7079 - val_accuracy: 0.7185\n",
      "Epoch 3/10\n",
      "2700/2700 [==============================] - 25s 9ms/step - loss: 0.6975 - accuracy: 0.7222 - val_loss: 0.7092 - val_accuracy: 0.7218\n",
      "Epoch 4/10\n",
      "2700/2700 [==============================] - 25s 9ms/step - loss: 0.6821 - accuracy: 0.7276 - val_loss: 0.7234 - val_accuracy: 0.7046\n",
      "Epoch 5/10\n",
      "2700/2700 [==============================] - 26s 10ms/step - loss: 0.6721 - accuracy: 0.7315 - val_loss: 0.7184 - val_accuracy: 0.7228\n",
      "Epoch 6/10\n",
      "2700/2700 [==============================] - 25s 9ms/step - loss: 0.6618 - accuracy: 0.7359 - val_loss: 0.7041 - val_accuracy: 0.7257\n",
      "Epoch 7/10\n",
      "2700/2700 [==============================] - 24s 9ms/step - loss: 0.6543 - accuracy: 0.7382 - val_loss: 0.7009 - val_accuracy: 0.7252\n",
      "Epoch 8/10\n",
      "2700/2700 [==============================] - 25s 9ms/step - loss: 0.6468 - accuracy: 0.7398 - val_loss: 0.7229 - val_accuracy: 0.7164\n",
      "Epoch 9/10\n",
      "2700/2700 [==============================] - 24s 9ms/step - loss: 0.6403 - accuracy: 0.7420 - val_loss: 0.7184 - val_accuracy: 0.7200\n",
      "Epoch 10/10\n",
      "2700/2700 [==============================] - 25s 9ms/step - loss: 0.6351 - accuracy: 0.7437 - val_loss: 0.7154 - val_accuracy: 0.7174\n"
     ]
    }
   ],
   "source": [
    "batch_size = 32\n",
    "epochs = 10\n",
    "history = model_embedding_1.fit(X_pad_train, y_train, batch_size=batch_size, epochs=epochs, validation_split=0.1,\n",
    "                               callbacks=[early_stop, time_callback])"
   ]
  },
  {
   "cell_type": "code",
   "execution_count": 21,
   "id": "9ae167f8",
   "metadata": {},
   "outputs": [
    {
     "name": "stdout",
     "output_type": "stream",
     "text": [
      "750/750 [==============================] - 3s 3ms/step - loss: 0.7167 - accuracy: 0.7168\n"
     ]
    },
    {
     "data": {
      "text/plain": [
       "[0.7167403101921082, 0.7168333530426025]"
      ]
     },
     "execution_count": 21,
     "metadata": {},
     "output_type": "execute_result"
    }
   ],
   "source": [
    "model_embedding_1.evaluate(X_pad_test, y_test, verbose=1)"
   ]
  },
  {
   "cell_type": "markdown",
   "id": "6aa031ba",
   "metadata": {},
   "source": [
    "### Calcul des prédictions sur le le de test cdiscount"
   ]
  },
  {
   "cell_type": "code",
   "execution_count": 22,
   "id": "047e9d1c",
   "metadata": {},
   "outputs": [
    {
     "name": "stdout",
     "output_type": "stream",
     "text": [
      "750/750 [==============================] - 2s 3ms/step\n"
     ]
    }
   ],
   "source": [
    "# création des prédictions du eu de test cdiscount à partir du modèle\n",
    "predict_cdiscount = model_embedding_1.predict(X_pad_test, verbose=1)"
   ]
  },
  {
   "cell_type": "code",
   "execution_count": 23,
   "id": "839cd186",
   "metadata": {},
   "outputs": [
    {
     "data": {
      "text/plain": [
       "array([5, 5, 5, ..., 3, 5, 5], dtype=int64)"
      ]
     },
     "execution_count": 23,
     "metadata": {},
     "output_type": "execute_result"
    }
   ],
   "source": [
    "predict_cdiscount_class = predict_cdiscount.argmax(axis=1)\n",
    "predict_cdiscount_class"
   ]
  },
  {
   "cell_type": "code",
   "execution_count": 24,
   "id": "c60286b3",
   "metadata": {},
   "outputs": [
    {
     "name": "stderr",
     "output_type": "stream",
     "text": [
      "C:\\Users\\t.fourtouill\\Anaconda3\\lib\\site-packages\\seaborn\\_decorators.py:36: FutureWarning: Pass the following variable as a keyword arg: x. From version 0.12, the only valid positional argument will be `data`, and passing other arguments without an explicit keyword will result in an error or misinterpretation.\n",
      "  warnings.warn(\n"
     ]
    },
    {
     "data": {
      "image/png": "[encoded data removed]",
      "text/plain": [
       "<Figure size 432x288 with 1 Axes>"
      ]
     },
     "metadata": {
      "needs_background": "light"
     },
     "output_type": "display_data"
    }
   ],
   "source": [
    "sns.countplot(predict_cdiscount_class)\n",
    "plt.show();"
   ]
  },
  {
   "cell_type": "markdown",
   "id": "33371e69",
   "metadata": {},
   "source": [
    "### Calcul des prédictions sur le jeu de test amazon"
   ]
  },
  {
   "cell_type": "code",
   "execution_count": 25,
   "id": "fa5e08ab",
   "metadata": {
    "scrolled": true
   },
   "outputs": [
    {
     "data": {
      "text/html": [
       "<div>\n",
       "<style scoped>\n",
       "    .dataframe tbody tr th:only-of-type {\n",
       "        vertical-align: middle;\n",
       "    }\n",
       "\n",
       "    .dataframe tbody tr th {\n",
       "        vertical-align: top;\n",
       "    }\n",
       "\n",
       "    .dataframe thead th {\n",
       "        text-align: right;\n",
       "    }\n",
       "</style>\n",
       "<table border=\"1\" class=\"dataframe\">\n",
       "  <thead>\n",
       "    <tr style=\"text-align: right;\">\n",
       "      <th></th>\n",
       "      <th>pays</th>\n",
       "      <th>note</th>\n",
       "      <th>titre</th>\n",
       "      <th>commentaire</th>\n",
       "    </tr>\n",
       "  </thead>\n",
       "  <tbody>\n",
       "    <tr>\n",
       "      <th>0</th>\n",
       "      <td>FR</td>\n",
       "      <td>1</td>\n",
       "      <td>nage en eaux troubles</td>\n",
       "      <td>ll y a 2 joursnage en eaux troublesSystème de vérification de compte horrible, aucunes indications, quand on fournit les pièces demandées ça ne va pas et on nous redemande les mêmes choses par la suite, service client horrible, attente interminable, me voilà bloqué depuis 3 jours et  cela n'est toujours pas résolu; aucunes informations sur la suite des démarche, ma pire expérience en matière de résolution des soucis liés à un compteDate de l'expérience: 26 novembre 2022</td>\n",
       "    </tr>\n",
       "    <tr>\n",
       "      <th>1</th>\n",
       "      <td>FR</td>\n",
       "      <td>1</td>\n",
       "      <td>Colis qui fait le tour du monde</td>\n",
       "      <td>ll y a 2 joursColis qui fait le tour du mondeJe ne suis pas adepte cette enseigne mais j'avoue que je n'ai trouvé ce produit nulle part ailleurs mon expérience pour le paiement XXL par contre pour le suivi et la livraison nul archi nul aucun suivi de commande disponible je ne sais d'où vient mon produit c'est mon ultime commande et la deuxième seulement auprès de cette enseigneDate de l'expérience: 26 novembre 2022</td>\n",
       "    </tr>\n",
       "  </tbody>\n",
       "</table>\n",
       "</div>"
      ],
      "text/plain": [
       "  pays  note                            titre  \\\n",
       "0   FR     1            nage en eaux troubles   \n",
       "1   FR     1  Colis qui fait le tour du monde   \n",
       "\n",
       "                                                                                                                                                                                                                                                                                                                                                                                                                                                                                  commentaire  \n",
       "0  ll y a 2 joursnage en eaux troublesSystème de vérification de compte horrible, aucunes indications, quand on fournit les pièces demandées ça ne va pas et on nous redemande les mêmes choses par la suite, service client horrible, attente interminable, me voilà bloqué depuis 3 jours et  cela n'est toujours pas résolu; aucunes informations sur la suite des démarche, ma pire expérience en matière de résolution des soucis liés à un compteDate de l'expérience: 26 novembre 2022  \n",
       "1                                                          ll y a 2 joursColis qui fait le tour du mondeJe ne suis pas adepte cette enseigne mais j'avoue que je n'ai trouvé ce produit nulle part ailleurs mon expérience pour le paiement XXL par contre pour le suivi et la livraison nul archi nul aucun suivi de commande disponible je ne sais d'où vient mon produit c'est mon ultime commande et la deuxième seulement auprès de cette enseigneDate de l'expérience: 26 novembre 2022  "
      ]
     },
     "execution_count": 25,
     "metadata": {},
     "output_type": "execute_result"
    }
   ],
   "source": [
    "df_test.head(2)"
   ]
  },
  {
   "cell_type": "code",
   "execution_count": 26,
   "id": "11489f4b",
   "metadata": {},
   "outputs": [],
   "source": [
    "# séparation de la variable cible et des variables explicatives\n",
    "check_set = df_test['commentaire'].values"
   ]
  },
  {
   "cell_type": "code",
   "execution_count": 27,
   "id": "10065e99",
   "metadata": {},
   "outputs": [],
   "source": [
    "# vectorisation des token\n",
    "check_seq = tk.texts_to_sequences(check_set)"
   ]
  },
  {
   "cell_type": "code",
   "execution_count": 28,
   "id": "5197708f",
   "metadata": {},
   "outputs": [],
   "source": [
    "# mise sous matrice numpy\n",
    "check_pad = pad_sequences(check_seq, maxlen=max_words, padding='post')"
   ]
  },
  {
   "cell_type": "code",
   "execution_count": 29,
   "id": "1061496c",
   "metadata": {},
   "outputs": [
    {
     "data": {
      "text/plain": [
       "array([[1014,  163,   18, ...,    0,    0,    0],\n",
       "       [1014,  163,   18, ...,    0,    0,    0],\n",
       "       [1014,  163,   18, ...,    0,    0,    0],\n",
       "       ...,\n",
       "       [  81,   61, 2617, ...,    0,    0,    0],\n",
       "       [ 127,   34, 1366, ...,    0,    0,    0],\n",
       "       [  86,   61,   55, ...,    0,    0,    0]])"
      ]
     },
     "execution_count": 29,
     "metadata": {},
     "output_type": "execute_result"
    }
   ],
   "source": [
    "check_pad"
   ]
  },
  {
   "cell_type": "code",
   "execution_count": 30,
   "id": "bff87635",
   "metadata": {},
   "outputs": [
    {
     "name": "stdout",
     "output_type": "stream",
     "text": [
      "4/4 [==============================] - 0s 4ms/step\n"
     ]
    }
   ],
   "source": [
    "# création des prédictions du jeu de test amazon à partir du modèle\n",
    "check_predict = model_embedding_1.predict(check_pad, verbose=1)"
   ]
  },
  {
   "cell_type": "code",
   "execution_count": 31,
   "id": "3690b8c8",
   "metadata": {},
   "outputs": [
    {
     "name": "stdout",
     "output_type": "stream",
     "text": [
      "[[0.00000000e+00 9.89978909e-01 8.84264428e-03 1.13994675e-03\n",
      "  3.82414837e-05 3.22424114e-07]\n",
      " [3.59471669e-14 4.98624533e-01 2.26301044e-01 2.12458149e-01\n",
      "  5.39067350e-02 8.70944932e-03]\n",
      " [3.08551339e-36 9.51230824e-01 3.98432650e-02 8.55276082e-03\n",
      "  3.69343994e-04 3.78825689e-06]\n",
      " [1.31790460e-15 4.39319342e-01 2.61756927e-01 2.41129667e-01\n",
      "  5.25479838e-02 5.24607813e-03]\n",
      " [1.14974555e-37 9.89910543e-01 8.47279932e-03 1.49725110e-03\n",
      "  1.15015304e-04 4.43547606e-06]\n",
      " [0.00000000e+00 9.99877810e-01 1.21268917e-04 1.00342447e-06\n",
      "  1.71709058e-09 1.71718867e-13]\n",
      " [0.00000000e+00 9.96326983e-01 3.51401418e-03 1.58580675e-04\n",
      "  4.82905364e-07 3.39329502e-11]\n",
      " [0.00000000e+00 9.99532342e-01 4.55073052e-04 1.24755488e-05\n",
      "  7.84578091e-08 3.81154761e-11]\n",
      " [0.00000000e+00 9.85365868e-01 1.40919024e-02 5.41343179e-04\n",
      "  7.64680749e-07 1.38116740e-11]\n",
      " [0.00000000e+00 9.97595847e-01 2.26945034e-03 1.33068155e-04\n",
      "  1.71041870e-06 2.96953906e-09]\n",
      " [0.00000000e+00 9.39016700e-01 4.85602133e-02 1.21118622e-02\n",
      "  3.10507807e-04 6.61969182e-07]\n",
      " [0.00000000e+00 9.86509502e-01 1.15324631e-02 1.86388020e-03\n",
      "  9.26677021e-05 1.55558598e-06]\n",
      " [5.21981347e-10 2.42681094e-02 3.52700353e-02 1.77091300e-01\n",
      "  3.93570095e-01 3.69800448e-01]\n",
      " [0.00000000e+00 9.99865532e-01 1.30802495e-04 3.52082520e-06\n",
      "  1.14078318e-07 3.12919535e-09]\n",
      " [5.53425060e-38 9.97310281e-01 2.29381351e-03 3.11189156e-04\n",
      "  6.01493157e-05 2.46742366e-05]\n",
      " [2.01533596e-38 9.77319181e-01 1.90350562e-02 3.48313060e-03\n",
      "  1.60529889e-04 2.05429546e-06]\n",
      " [2.66906229e-28 7.71131217e-01 1.54605597e-01 7.01941177e-02\n",
      "  4.03077016e-03 3.82909093e-05]\n",
      " [8.71211377e-25 1.57102853e-01 3.67601305e-01 4.31743771e-01\n",
      "  4.33891267e-02 1.63030403e-04]\n",
      " [2.76083196e-37 9.59658802e-01 3.31616700e-02 6.90578436e-03\n",
      "  2.71411700e-04 2.37753034e-06]\n",
      " [0.00000000e+00 9.99777853e-01 2.19506546e-04 2.59645049e-06\n",
      "  2.14678142e-09 1.99168989e-14]\n",
      " [1.88006707e-12 3.34461421e-01 2.61068374e-01 3.01671833e-01\n",
      "  8.83877724e-02 1.44105563e-02]\n",
      " [6.68568122e-26 6.99879587e-01 2.05929548e-01 8.77366140e-02\n",
      "  6.33006170e-03 1.24238519e-04]\n",
      " [0.00000000e+00 9.93287861e-01 6.26600953e-03 4.41449025e-04\n",
      "  4.78068887e-06 5.16859222e-09]\n",
      " [0.00000000e+00 9.59732592e-01 3.73142771e-02 2.94299284e-03\n",
      "  1.02035192e-05 6.47244092e-10]\n",
      " [6.56614807e-20 8.95412087e-01 5.75847998e-02 3.06067392e-02\n",
      "  1.05607146e-02 5.83568588e-03]\n",
      " [0.00000000e+00 9.36739206e-01 5.30314744e-02 1.00597264e-02\n",
      "  1.69393286e-04 1.97751930e-07]\n",
      " [3.12947598e-16 3.88161391e-01 2.74156898e-01 2.73626417e-01\n",
      "  5.95946983e-02 4.46055783e-03]\n",
      " [2.95700503e-13 3.86478513e-01 2.47780994e-01 2.65501022e-01\n",
      "  8.49132836e-02 1.53262028e-02]\n",
      " [0.00000000e+00 8.87412727e-01 9.11514014e-02 2.10334770e-02\n",
      "  4.01947415e-04 5.22092535e-07]\n",
      " [8.03738112e-29 9.55481648e-01 3.16191278e-02 1.13305775e-02\n",
      "  1.46458345e-03 1.04121093e-04]\n",
      " [2.30754734e-21 1.29888535e-01 3.25680941e-01 4.63051260e-01\n",
      "  8.06580931e-02 7.21118588e-04]\n",
      " [5.03567423e-14 2.68114924e-01 2.62966752e-01 3.52383524e-01\n",
      "  1.06120594e-01 1.04142223e-02]\n",
      " [9.25446316e-26 9.20286536e-01 5.43107837e-02 2.20742580e-02\n",
      "  3.07765068e-03 2.50706216e-04]\n",
      " [5.24366148e-21 3.33612263e-01 3.06713611e-01 3.20405036e-01\n",
      "  3.86504792e-02 6.18518214e-04]\n",
      " [1.85465066e-26 8.49945605e-01 8.51162747e-02 5.74841648e-02\n",
      "  7.24275596e-03 2.11144987e-04]\n",
      " [5.91940892e-37 9.69913781e-01 2.48043537e-02 5.03569609e-03\n",
      "  2.42834925e-04 3.31936212e-06]\n",
      " [5.47875737e-19 3.91697645e-01 2.76947886e-01 2.77644753e-01\n",
      "  5.19209243e-02 1.78876868e-03]\n",
      " [7.39298130e-26 8.38461339e-01 1.10321976e-01 4.66187820e-02\n",
      "  4.43849154e-03 1.59377611e-04]\n",
      " [3.82879353e-16 6.79922104e-02 1.87027216e-01 5.36779642e-01\n",
      "  1.99775025e-01 8.42590816e-03]\n",
      " [7.67553179e-22 4.41089630e-01 3.02141398e-01 2.32272521e-01\n",
      "  2.40680501e-02 4.28460131e-04]\n",
      " [3.45313140e-15 1.83114946e-01 1.53989986e-01 4.39130276e-01\n",
      "  2.01072752e-01 2.26920564e-02]\n",
      " [2.12788416e-28 1.42744943e-01 3.61536264e-01 4.66717362e-01\n",
      "  2.89614145e-02 3.99607488e-05]\n",
      " [2.80158758e-08 2.55488902e-01 2.08462715e-01 3.12490106e-01\n",
      "  1.54950723e-01 6.86075017e-02]\n",
      " [3.19479221e-20 7.04484046e-01 1.57897279e-01 1.17451578e-01\n",
      "  1.89939868e-02 1.17307552e-03]\n",
      " [7.47572626e-28 7.80343294e-01 1.44577742e-01 7.02714846e-02\n",
      "  4.75107413e-03 5.64012516e-05]\n",
      " [8.20252171e-06 1.01600111e-01 1.07412986e-01 2.49239534e-01\n",
      "  2.44693026e-01 2.97046065e-01]\n",
      " [2.04846698e-23 1.95137764e-04 2.44313315e-03 1.38916120e-01\n",
      "  7.79830456e-01 7.86152482e-02]\n",
      " [7.34344319e-09 2.89860517e-02 4.55603413e-02 2.05586150e-01\n",
      "  3.66701037e-01 3.53166401e-01]\n",
      " [2.92941900e-06 2.30505720e-01 1.55590937e-01 2.52979726e-01\n",
      "  1.80660903e-01 1.80259839e-01]\n",
      " [3.86501473e-15 5.78417122e-01 1.96231872e-01 1.74602687e-01\n",
      "  4.36126925e-02 7.13557005e-03]\n",
      " [1.32911794e-17 1.96005926e-01 3.08151811e-01 4.14474517e-01\n",
      "  7.91553035e-02 2.21234420e-03]\n",
      " [1.19566805e-13 4.35658097e-01 2.50623792e-01 2.38424137e-01\n",
      "  6.41455278e-02 1.11484649e-02]\n",
      " [6.65890895e-27 9.69211042e-01 2.22488977e-02 6.90077618e-03\n",
      "  1.33174914e-03 3.07539100e-04]\n",
      " [8.79538480e-14 4.90691811e-01 2.34815508e-01 2.05514356e-01\n",
      "  5.67187443e-02 1.22596119e-02]\n",
      " [9.25376080e-05 1.41306564e-01 1.25651494e-01 2.41009951e-01\n",
      "  2.12192252e-01 2.79747248e-01]\n",
      " [7.86296732e-05 8.11719075e-02 7.32108355e-02 1.73157811e-01\n",
      "  2.15300292e-01 4.57080543e-01]\n",
      " [3.70832745e-16 5.22243045e-03 2.89767794e-02 3.42789739e-01\n",
      "  5.30591905e-01 9.24192145e-02]\n",
      " [1.22654682e-25 7.81603992e-01 1.42976880e-01 6.94364607e-02\n",
      "  5.85330650e-03 1.29303677e-04]\n",
      " [8.73217763e-18 1.21201426e-01 2.41501480e-01 5.15355766e-01\n",
      "  1.18800513e-01 3.14072217e-03]\n",
      " [1.39939331e-34 9.62289095e-01 3.02346814e-02 7.05436384e-03\n",
      "  4.13832720e-04 8.02765589e-06]\n",
      " [2.26984807e-28 9.28389192e-01 5.01183383e-02 1.93616915e-02\n",
      "  2.04819092e-03 8.25405150e-05]\n",
      " [8.76974371e-17 3.76117229e-01 1.78148821e-02 1.99817382e-02\n",
      "  5.72472624e-02 5.28838873e-01]\n",
      " [6.78776311e-16 7.49282539e-02 1.79878876e-01 5.37480891e-01\n",
      "  1.98367074e-01 9.34493076e-03]\n",
      " [4.17586317e-17 5.35043655e-03 1.38091401e-03 7.25987740e-03\n",
      "  1.04271658e-01 8.81737113e-01]\n",
      " [7.09901669e-21 1.45309896e-04 6.10713090e-04 3.26111168e-02\n",
      "  5.91203868e-01 3.75429004e-01]\n",
      " [5.92015659e-10 4.20400053e-01 2.07735717e-01 2.30796009e-01\n",
      "  9.59131047e-02 4.51550931e-02]\n",
      " [2.64668808e-11 5.99250853e-01 1.43842831e-01 1.41398326e-01\n",
      "  6.73665553e-02 4.81414013e-02]\n",
      " [8.51293882e-24 6.60655962e-04 1.25238309e-02 3.62701625e-01\n",
      "  6.05357409e-01 1.87564995e-02]\n",
      " [4.53932204e-11 3.92022096e-02 8.86956751e-02 3.81621808e-01\n",
      "  3.70033026e-01 1.20447330e-01]\n",
      " [2.74838953e-19 4.80886200e-04 2.92078767e-04 4.90083313e-03\n",
      "  1.95311919e-01 7.99014330e-01]\n",
      " [2.56712349e-13 4.51306254e-02 8.65515880e-03 2.20974274e-02\n",
      "  1.06465243e-01 8.17651510e-01]\n",
      " [1.47820137e-05 2.16779068e-01 1.64332822e-01 2.60111243e-01\n",
      "  1.81632444e-01 1.77129731e-01]\n",
      " [2.02268965e-11 5.09570777e-01 1.93282709e-01 1.90645188e-01\n",
      "  7.36445040e-02 3.28567922e-02]\n",
      " [6.25329610e-22 1.54509186e-03 2.31990547e-04 1.60998653e-03\n",
      "  5.16131558e-02 9.44999874e-01]\n",
      " [8.30801095e-10 3.18167210e-01 2.16340929e-01 2.94127494e-01\n",
      "  1.26922265e-01 4.44421507e-02]\n",
      " [8.33460450e-35 9.68191206e-01 2.50067133e-02 6.38120389e-03\n",
      "  4.13178961e-04 7.74660293e-06]\n",
      " [7.64115414e-30 1.54427544e-05 3.78815428e-04 6.33416250e-02\n",
      "  8.87610495e-01 4.86535802e-02]\n",
      " [4.71437005e-07 4.13690023e-02 4.32978608e-02 1.45096034e-01\n",
      "  2.80094892e-01 4.90141720e-01]\n",
      " [1.87594384e-09 2.16921009e-02 3.88530120e-02 2.04390392e-01\n",
      "  3.67918164e-01 3.67146313e-01]\n",
      " [2.09710561e-16 3.44267070e-01 2.81366706e-01 3.09525281e-01\n",
      "  6.12977184e-02 3.54314293e-03]\n",
      " [4.36038796e-08 3.83295655e-01 1.32138729e-01 1.74536169e-01\n",
      "  1.30242854e-01 1.79786518e-01]\n",
      " [3.77371302e-38 4.05163320e-07 9.88411628e-08 1.09575840e-05\n",
      "  2.49632727e-02 9.75025237e-01]\n",
      " [2.48627879e-23 1.87089303e-04 5.96035788e-05 9.69314249e-04\n",
      "  7.31853545e-02 9.25598562e-01]\n",
      " [2.32599259e-36 3.55237376e-07 1.52957426e-07 2.08680176e-05\n",
      "  4.12738249e-02 9.58704829e-01]\n",
      " [1.23043988e-11 2.62378454e-01 2.46779665e-01 3.40561002e-01\n",
      "  1.28593385e-01 2.16874722e-02]\n",
      " [0.00000000e+00 8.56922640e-08 1.03329461e-08 1.47873936e-06\n",
      "  9.38825496e-03 9.90610182e-01]\n",
      " [5.76272493e-12 6.08540745e-03 8.41793139e-03 7.26661533e-02\n",
      "  3.76970857e-01 5.35859704e-01]\n",
      " [1.28457706e-18 3.07415350e-04 2.49186269e-04 4.43424471e-03\n",
      "  1.77761227e-01 8.17247927e-01]\n",
      " [2.02548712e-20 1.02945560e-04 2.67603871e-04 1.14985937e-02\n",
      "  3.95563245e-01 5.92567623e-01]\n",
      " [4.68214932e-16 9.11170675e-04 8.09881196e-04 1.06696086e-02\n",
      "  2.23309904e-01 7.64299393e-01]\n",
      " [7.88507041e-22 2.00637341e-01 3.23754907e-01 4.25584823e-01\n",
      "  4.95726205e-02 4.50222316e-04]\n",
      " [8.08525122e-13 5.75257123e-01 8.61448646e-02 9.66631472e-02\n",
      "  9.09174457e-02 1.51017338e-01]\n",
      " [7.57883534e-09 4.26560640e-02 4.74264696e-02 1.88205257e-01\n",
      "  3.50063801e-01 3.71648431e-01]\n",
      " [2.11833151e-09 2.09014248e-02 2.12548152e-02 1.06057659e-01\n",
      "  3.23190361e-01 5.28595805e-01]\n",
      " [1.03783604e-26 5.51032244e-05 1.56697242e-05 3.60927166e-04\n",
      "  5.11609800e-02 9.48407352e-01]\n",
      " [6.71263426e-19 4.38463467e-04 2.64769595e-04 3.90254310e-03\n",
      "  1.41511157e-01 8.53883088e-01]\n",
      " [2.19795648e-09 2.01729134e-01 4.72159460e-02 7.49266222e-02\n",
      "  1.31310493e-01 5.44817805e-01]\n",
      " [2.97697597e-27 1.14095718e-01 8.67607305e-04 1.16671459e-03\n",
      "  1.99475214e-02 8.63922417e-01]\n",
      " [2.82466328e-10 1.22780502e-02 1.38150863e-02 8.31364170e-02\n",
      "  3.29320699e-01 5.61449707e-01]\n",
      " [6.43868071e-15 7.84926891e-01 7.83980340e-02 5.62741421e-02\n",
      "  3.15568931e-02 4.88440767e-02]]\n"
     ]
    }
   ],
   "source": [
    "print(check_predict)"
   ]
  },
  {
   "cell_type": "code",
   "execution_count": 32,
   "id": "918f024f",
   "metadata": {},
   "outputs": [
    {
     "data": {
      "text/plain": [
       "array([1, 1, 1, 1, 1, 1, 1, 1, 1, 1, 1, 1, 4, 1, 1, 1, 1, 3, 1, 1, 1, 1,\n",
       "       1, 1, 1, 1, 1, 1, 1, 1, 3, 3, 1, 1, 1, 1, 1, 1, 3, 1, 3, 3, 3, 1,\n",
       "       1, 5, 4, 4, 3, 1, 3, 1, 1, 1, 5, 5, 4, 1, 3, 1, 1, 5, 3, 5, 4, 1,\n",
       "       1, 4, 3, 5, 5, 3, 1, 5, 1, 1, 4, 5, 4, 1, 1, 5, 5, 5, 3, 5, 5, 5,\n",
       "       5, 5, 3, 1, 5, 5, 5, 5, 5, 5, 5, 1], dtype=int64)"
      ]
     },
     "execution_count": 32,
     "metadata": {},
     "output_type": "execute_result"
    }
   ],
   "source": [
    "check_predict_class = check_predict.argmax(axis=1)\n",
    "check_predict_class"
   ]
  },
  {
   "cell_type": "code",
   "execution_count": 33,
   "id": "819395e0",
   "metadata": {},
   "outputs": [
    {
     "name": "stderr",
     "output_type": "stream",
     "text": [
      "C:\\Users\\t.fourtouill\\Anaconda3\\lib\\site-packages\\seaborn\\_decorators.py:36: FutureWarning: Pass the following variable as a keyword arg: x. From version 0.12, the only valid positional argument will be `data`, and passing other arguments without an explicit keyword will result in an error or misinterpretation.\n",
      "  warnings.warn(\n"
     ]
    },
    {
     "data": {
      "image/png": "[encoded data removed]",
      "text/plain": [
       "<Figure size 432x288 with 1 Axes>"
      ]
     },
     "metadata": {
      "needs_background": "light"
     },
     "output_type": "display_data"
    }
   ],
   "source": [
    "sns.countplot(check_predict_class);"
   ]
  },
  {
   "cell_type": "code",
   "execution_count": 34,
   "id": "438bcba6",
   "metadata": {},
   "outputs": [
    {
     "data": {
      "text/html": [
       "<div>\n",
       "<style scoped>\n",
       "    .dataframe tbody tr th:only-of-type {\n",
       "        vertical-align: middle;\n",
       "    }\n",
       "\n",
       "    .dataframe tbody tr th {\n",
       "        vertical-align: top;\n",
       "    }\n",
       "\n",
       "    .dataframe thead th {\n",
       "        text-align: right;\n",
       "    }\n",
       "</style>\n",
       "<table border=\"1\" class=\"dataframe\">\n",
       "  <thead>\n",
       "    <tr style=\"text-align: right;\">\n",
       "      <th></th>\n",
       "      <th>commentaire</th>\n",
       "      <th>note</th>\n",
       "      <th>prediction</th>\n",
       "    </tr>\n",
       "  </thead>\n",
       "  <tbody>\n",
       "    <tr>\n",
       "      <th>0</th>\n",
       "      <td>ll y a 2 joursnage en eaux troublesSystème de vérification de compte horrible, aucunes indications, quand on fournit les pièces demandées ça ne va pas et on nous redemande les mêmes choses par la suite, service client horrible, attente interminable, me voilà bloqué depuis 3 jours et  cela n'est toujours pas résolu; aucunes informations sur la suite des démarche, ma pire expérience en matière de résolution des soucis liés à un compteDate de l'expérience: 26 novembre 2022</td>\n",
       "      <td>1</td>\n",
       "      <td>1</td>\n",
       "    </tr>\n",
       "    <tr>\n",
       "      <th>1</th>\n",
       "      <td>ll y a 2 joursColis qui fait le tour du mondeJe ne suis pas adepte cette enseigne mais j'avoue que je n'ai trouvé ce produit nulle part ailleurs mon expérience pour le paiement XXL par contre pour le suivi et la livraison nul archi nul aucun suivi de commande disponible je ne sais d'où vient mon produit c'est mon ultime commande et la deuxième seulement auprès de cette enseigneDate de l'expérience: 26 novembre 2022</td>\n",
       "      <td>1</td>\n",
       "      <td>1</td>\n",
       "    </tr>\n",
       "    <tr>\n",
       "      <th>2</th>\n",
       "      <td>ll y a 2 joursPromotion mensongèreHier j’ai voulu commandé un jouet avec la promotion affichée « 3 jouets pour 2 ». Il était bien indiqué que la promotion fonctionnait sur le jouet en question. Arrivé au paiement, pas de déduction pour le 3è jouet, je ne commande donc pas et envoie un mail à Amazon avec print écran à l’appui de la promo sur le jouet. L’interlocutrice n’a rien voulu savoir, la promo a été retirée depuis sur le jouet, honteux !! Non seulement les prix varient sans arrêt et en plus ils ne respectent pas les promotions qu’ils mettent en place. J’ai trouvé mon bonheur chez cdiscount, vendeur bien plus sérieuxDate de l'expérience: 24 novembre 2022</td>\n",
       "      <td>1</td>\n",
       "      <td>1</td>\n",
       "    </tr>\n",
       "    <tr>\n",
       "      <th>3</th>\n",
       "      <td>ll y a 3 joursJ’ai commandé un article cadeau sur…J’ai commandé un article cadeau sur Amazon, le fournisseur n’apparaît plus sur le site d’Amazon, je n’ai aucun retour de la part d’Amazon. Ce n’est que 28€ mais de trop si pas de remboursement. Il me paraît impossible d’entrer en contact avec le service « commercial » après plusieurs tentatives, avez-vous un numéro ou une adresse ? Merci de votre aideDate de l'expérience: 23 novembre 2022</td>\n",
       "      <td>1</td>\n",
       "      <td>1</td>\n",
       "    </tr>\n",
       "    <tr>\n",
       "      <th>4</th>\n",
       "      <td>ll y a 3 joursJ'ai commandé un téléphone portable sur…J'ai commandé un téléphone portable sur le site, reçu mais après lecture de la documentation technique, ce téléphone n'avait pas les fonctions indiquées sur l'annonce, bon l'erreur est humaine, je renvois le matériel avec l'autorisation d'Amazon le 8 novembre, malgré les divers contacts et relances, aucun remboursement ce jour soit le 25 novembre, depuis j'ai acheté un autre téléphone, je me suis fais escroqué de 140 euros, voilà c'est Amazon, ca à bien changé, faites attention.Date de l'expérience: 08 novembre 2022</td>\n",
       "      <td>1</td>\n",
       "      <td>1</td>\n",
       "    </tr>\n",
       "  </tbody>\n",
       "</table>\n",
       "</div>"
      ],
      "text/plain": [
       "                                                                                                                                                                                                                                                                                                                                                                                                                                                                                                                                                                                                                                                                                  commentaire  \\\n",
       "0                                                                                                                                                                                                  ll y a 2 joursnage en eaux troublesSystème de vérification de compte horrible, aucunes indications, quand on fournit les pièces demandées ça ne va pas et on nous redemande les mêmes choses par la suite, service client horrible, attente interminable, me voilà bloqué depuis 3 jours et  cela n'est toujours pas résolu; aucunes informations sur la suite des démarche, ma pire expérience en matière de résolution des soucis liés à un compteDate de l'expérience: 26 novembre 2022   \n",
       "1                                                                                                                                                                                                                                                          ll y a 2 joursColis qui fait le tour du mondeJe ne suis pas adepte cette enseigne mais j'avoue que je n'ai trouvé ce produit nulle part ailleurs mon expérience pour le paiement XXL par contre pour le suivi et la livraison nul archi nul aucun suivi de commande disponible je ne sais d'où vient mon produit c'est mon ultime commande et la deuxième seulement auprès de cette enseigneDate de l'expérience: 26 novembre 2022   \n",
       "2  ll y a 2 joursPromotion mensongèreHier j’ai voulu commandé un jouet avec la promotion affichée « 3 jouets pour 2 ». Il était bien indiqué que la promotion fonctionnait sur le jouet en question. Arrivé au paiement, pas de déduction pour le 3è jouet, je ne commande donc pas et envoie un mail à Amazon avec print écran à l’appui de la promo sur le jouet. L’interlocutrice n’a rien voulu savoir, la promo a été retirée depuis sur le jouet, honteux !! Non seulement les prix varient sans arrêt et en plus ils ne respectent pas les promotions qu’ils mettent en place. J’ai trouvé mon bonheur chez cdiscount, vendeur bien plus sérieuxDate de l'expérience: 24 novembre 2022   \n",
       "3                                                                                                                                                                                                                                   ll y a 3 joursJ’ai commandé un article cadeau sur…J’ai commandé un article cadeau sur Amazon, le fournisseur n’apparaît plus sur le site d’Amazon, je n’ai aucun retour de la part d’Amazon. Ce n’est que 28€ mais de trop si pas de remboursement. Il me paraît impossible d’entrer en contact avec le service « commercial » après plusieurs tentatives, avez-vous un numéro ou une adresse ? Merci de votre aideDate de l'expérience: 23 novembre 2022   \n",
       "4                                                                                             ll y a 3 joursJ'ai commandé un téléphone portable sur…J'ai commandé un téléphone portable sur le site, reçu mais après lecture de la documentation technique, ce téléphone n'avait pas les fonctions indiquées sur l'annonce, bon l'erreur est humaine, je renvois le matériel avec l'autorisation d'Amazon le 8 novembre, malgré les divers contacts et relances, aucun remboursement ce jour soit le 25 novembre, depuis j'ai acheté un autre téléphone, je me suis fais escroqué de 140 euros, voilà c'est Amazon, ca à bien changé, faites attention.Date de l'expérience: 08 novembre 2022   \n",
       "\n",
       "   note  prediction  \n",
       "0     1           1  \n",
       "1     1           1  \n",
       "2     1           1  \n",
       "3     1           1  \n",
       "4     1           1  "
      ]
     },
     "execution_count": 34,
     "metadata": {},
     "output_type": "execute_result"
    }
   ],
   "source": [
    "# comparaison des prédictions et des notes du jeu de test\n",
    "check_df = pd.DataFrame(list(zip(df_test.commentaire, df_test.note, check_predict_class)), columns=['commentaire', 'note', 'prediction'])\n",
    "check_df.head()"
   ]
  },
  {
   "cell_type": "code",
   "execution_count": 35,
   "id": "11ec7bbb",
   "metadata": {},
   "outputs": [
    {
     "name": "stdout",
     "output_type": "stream",
     "text": [
      "              precision    recall  f1-score   support\n",
      "\n",
      "           1       0.73      0.76      0.75      1999\n",
      "           2       0.32      0.01      0.03       535\n",
      "           3       0.32      0.47      0.38      1375\n",
      "           4       0.57      0.15      0.23      5143\n",
      "           5       0.77      0.95      0.85     14948\n",
      "\n",
      "    accuracy                           0.72     24000\n",
      "   macro avg       0.54      0.47      0.45     24000\n",
      "weighted avg       0.69      0.72      0.67     24000\n",
      "\n"
     ]
    },
    {
     "data": {
      "text/html": [
       "<div>\n",
       "<style scoped>\n",
       "    .dataframe tbody tr th:only-of-type {\n",
       "        vertical-align: middle;\n",
       "    }\n",
       "\n",
       "    .dataframe tbody tr th {\n",
       "        vertical-align: top;\n",
       "    }\n",
       "\n",
       "    .dataframe thead th {\n",
       "        text-align: right;\n",
       "    }\n",
       "</style>\n",
       "<table border=\"1\" class=\"dataframe\">\n",
       "  <thead>\n",
       "    <tr style=\"text-align: right;\">\n",
       "      <th>predictions</th>\n",
       "      <th>1</th>\n",
       "      <th>2</th>\n",
       "      <th>3</th>\n",
       "      <th>4</th>\n",
       "      <th>5</th>\n",
       "    </tr>\n",
       "    <tr>\n",
       "      <th>données réelles</th>\n",
       "      <th></th>\n",
       "      <th></th>\n",
       "      <th></th>\n",
       "      <th></th>\n",
       "      <th></th>\n",
       "    </tr>\n",
       "  </thead>\n",
       "  <tbody>\n",
       "    <tr>\n",
       "      <th>1</th>\n",
       "      <td>1527</td>\n",
       "      <td>15</td>\n",
       "      <td>308</td>\n",
       "      <td>17</td>\n",
       "      <td>132</td>\n",
       "    </tr>\n",
       "    <tr>\n",
       "      <th>2</th>\n",
       "      <td>197</td>\n",
       "      <td>7</td>\n",
       "      <td>244</td>\n",
       "      <td>17</td>\n",
       "      <td>70</td>\n",
       "    </tr>\n",
       "    <tr>\n",
       "      <th>3</th>\n",
       "      <td>180</td>\n",
       "      <td>0</td>\n",
       "      <td>650</td>\n",
       "      <td>180</td>\n",
       "      <td>365</td>\n",
       "    </tr>\n",
       "    <tr>\n",
       "      <th>4</th>\n",
       "      <td>105</td>\n",
       "      <td>0</td>\n",
       "      <td>572</td>\n",
       "      <td>753</td>\n",
       "      <td>3713</td>\n",
       "    </tr>\n",
       "    <tr>\n",
       "      <th>5</th>\n",
       "      <td>85</td>\n",
       "      <td>0</td>\n",
       "      <td>232</td>\n",
       "      <td>364</td>\n",
       "      <td>14267</td>\n",
       "    </tr>\n",
       "  </tbody>\n",
       "</table>\n",
       "</div>"
      ],
      "text/plain": [
       "predictions         1   2    3    4      5\n",
       "données réelles                           \n",
       "1                1527  15  308   17    132\n",
       "2                 197   7  244   17     70\n",
       "3                 180   0  650  180    365\n",
       "4                 105   0  572  753   3713\n",
       "5                  85   0  232  364  14267"
      ]
     },
     "metadata": {},
     "output_type": "display_data"
    },
    {
     "name": "stdout",
     "output_type": "stream",
     "text": [
      "              precision    recall  f1-score   support\n",
      "\n",
      "           1       0.34      0.90      0.49        20\n",
      "           2       0.00      0.00      0.00        20\n",
      "           3       0.40      0.30      0.34        20\n",
      "           4       0.50      0.20      0.29        20\n",
      "           5       0.62      0.75      0.68        20\n",
      "\n",
      "    accuracy                           0.43       100\n",
      "   macro avg       0.37      0.43      0.36       100\n",
      "weighted avg       0.37      0.43      0.36       100\n",
      "\n"
     ]
    },
    {
     "name": "stderr",
     "output_type": "stream",
     "text": [
      "C:\\Users\\t.fourtouill\\Anaconda3\\lib\\site-packages\\sklearn\\metrics\\_classification.py:1327: UndefinedMetricWarning: Precision and F-score are ill-defined and being set to 0.0 in labels with no predicted samples. Use `zero_division` parameter to control this behavior.\n",
      "  _warn_prf(average, modifier, msg_start, len(result))\n",
      "C:\\Users\\t.fourtouill\\Anaconda3\\lib\\site-packages\\sklearn\\metrics\\_classification.py:1327: UndefinedMetricWarning: Precision and F-score are ill-defined and being set to 0.0 in labels with no predicted samples. Use `zero_division` parameter to control this behavior.\n",
      "  _warn_prf(average, modifier, msg_start, len(result))\n",
      "C:\\Users\\t.fourtouill\\Anaconda3\\lib\\site-packages\\sklearn\\metrics\\_classification.py:1327: UndefinedMetricWarning: Precision and F-score are ill-defined and being set to 0.0 in labels with no predicted samples. Use `zero_division` parameter to control this behavior.\n",
      "  _warn_prf(average, modifier, msg_start, len(result))\n"
     ]
    },
    {
     "data": {
      "text/html": [
       "<div>\n",
       "<style scoped>\n",
       "    .dataframe tbody tr th:only-of-type {\n",
       "        vertical-align: middle;\n",
       "    }\n",
       "\n",
       "    .dataframe tbody tr th {\n",
       "        vertical-align: top;\n",
       "    }\n",
       "\n",
       "    .dataframe thead th {\n",
       "        text-align: right;\n",
       "    }\n",
       "</style>\n",
       "<table border=\"1\" class=\"dataframe\">\n",
       "  <thead>\n",
       "    <tr style=\"text-align: right;\">\n",
       "      <th>predictions</th>\n",
       "      <th>1</th>\n",
       "      <th>3</th>\n",
       "      <th>4</th>\n",
       "      <th>5</th>\n",
       "    </tr>\n",
       "    <tr>\n",
       "      <th>données réelles</th>\n",
       "      <th></th>\n",
       "      <th></th>\n",
       "      <th></th>\n",
       "      <th></th>\n",
       "    </tr>\n",
       "  </thead>\n",
       "  <tbody>\n",
       "    <tr>\n",
       "      <th>1</th>\n",
       "      <td>18</td>\n",
       "      <td>1</td>\n",
       "      <td>1</td>\n",
       "      <td>0</td>\n",
       "    </tr>\n",
       "    <tr>\n",
       "      <th>2</th>\n",
       "      <td>17</td>\n",
       "      <td>3</td>\n",
       "      <td>0</td>\n",
       "      <td>0</td>\n",
       "    </tr>\n",
       "    <tr>\n",
       "      <th>3</th>\n",
       "      <td>8</td>\n",
       "      <td>6</td>\n",
       "      <td>3</td>\n",
       "      <td>3</td>\n",
       "    </tr>\n",
       "    <tr>\n",
       "      <th>4</th>\n",
       "      <td>7</td>\n",
       "      <td>3</td>\n",
       "      <td>4</td>\n",
       "      <td>6</td>\n",
       "    </tr>\n",
       "    <tr>\n",
       "      <th>5</th>\n",
       "      <td>3</td>\n",
       "      <td>2</td>\n",
       "      <td>0</td>\n",
       "      <td>15</td>\n",
       "    </tr>\n",
       "  </tbody>\n",
       "</table>\n",
       "</div>"
      ],
      "text/plain": [
       "predictions       1  3  4   5\n",
       "données réelles              \n",
       "1                18  1  1   0\n",
       "2                17  3  0   0\n",
       "3                 8  6  3   3\n",
       "4                 7  3  4   6\n",
       "5                 3  2  0  15"
      ]
     },
     "metadata": {},
     "output_type": "display_data"
    },
    {
     "data": {
      "text/html": [
       "<div>\n",
       "<style scoped>\n",
       "    .dataframe tbody tr th:only-of-type {\n",
       "        vertical-align: middle;\n",
       "    }\n",
       "\n",
       "    .dataframe tbody tr th {\n",
       "        vertical-align: top;\n",
       "    }\n",
       "\n",
       "    .dataframe thead th {\n",
       "        text-align: right;\n",
       "    }\n",
       "</style>\n",
       "<table border=\"1\" class=\"dataframe\">\n",
       "  <thead>\n",
       "    <tr style=\"text-align: right;\">\n",
       "      <th>predictions</th>\n",
       "      <th>1</th>\n",
       "      <th>3</th>\n",
       "      <th>4</th>\n",
       "      <th>5</th>\n",
       "    </tr>\n",
       "    <tr>\n",
       "      <th>données réelles</th>\n",
       "      <th></th>\n",
       "      <th></th>\n",
       "      <th></th>\n",
       "      <th></th>\n",
       "    </tr>\n",
       "  </thead>\n",
       "  <tbody>\n",
       "    <tr>\n",
       "      <th>1</th>\n",
       "      <td>0.90</td>\n",
       "      <td>0.05</td>\n",
       "      <td>0.05</td>\n",
       "      <td>0.00</td>\n",
       "    </tr>\n",
       "    <tr>\n",
       "      <th>2</th>\n",
       "      <td>0.85</td>\n",
       "      <td>0.15</td>\n",
       "      <td>0.00</td>\n",
       "      <td>0.00</td>\n",
       "    </tr>\n",
       "    <tr>\n",
       "      <th>3</th>\n",
       "      <td>0.40</td>\n",
       "      <td>0.30</td>\n",
       "      <td>0.15</td>\n",
       "      <td>0.15</td>\n",
       "    </tr>\n",
       "    <tr>\n",
       "      <th>4</th>\n",
       "      <td>0.35</td>\n",
       "      <td>0.15</td>\n",
       "      <td>0.20</td>\n",
       "      <td>0.30</td>\n",
       "    </tr>\n",
       "    <tr>\n",
       "      <th>5</th>\n",
       "      <td>0.15</td>\n",
       "      <td>0.10</td>\n",
       "      <td>0.00</td>\n",
       "      <td>0.75</td>\n",
       "    </tr>\n",
       "  </tbody>\n",
       "</table>\n",
       "</div>"
      ],
      "text/plain": [
       "predictions         1     3     4     5\n",
       "données réelles                        \n",
       "1                0.90  0.05  0.05  0.00\n",
       "2                0.85  0.15  0.00  0.00\n",
       "3                0.40  0.30  0.15  0.15\n",
       "4                0.35  0.15  0.20  0.30\n",
       "5                0.15  0.10  0.00  0.75"
      ]
     },
     "metadata": {},
     "output_type": "display_data"
    },
    {
     "name": "stdout",
     "output_type": "stream",
     "text": [
      "les prédictions correctes sont supérieures à 50% pour 1 étoile(s) avec 90%\n",
      "les prédictions correctes sont supérieures à 50% pour 5 étoile(s) avec 75%\n"
     ]
    }
   ],
   "source": [
    "from sklearn.metrics import classification_report\n",
    "\n",
    "cr = classification_report(y_test, predict_cdiscount_class)\n",
    "print(cr)\n",
    "\n",
    "cm = pd.crosstab(y_test, predict_cdiscount_class, rownames=['données réelles'], colnames=['predictions'])\n",
    "display(cm)\n",
    "\n",
    "# vérification des résultats sur un jeu de test externe (100 commentaires amazon également répartis entre les étoiles)\n",
    "\n",
    "cm_test = classification_report(df_test.note, check_predict_class)\n",
    "print(cm_test)\n",
    "\n",
    "cm_test2 = pd.crosstab(df_test.note, check_predict_class, rownames=['données réelles'], colnames=['predictions'])\n",
    "display(cm_test2)\n",
    "\n",
    "cm_test3 = pd.crosstab(df_test.note, check_predict_class, rownames=['données réelles'], colnames=['predictions'], normalize=0)\n",
    "display(cm_test3)\n",
    "\n",
    "for i in cm_test3.index:\n",
    "    for j in cm_test3.columns :\n",
    "        if (i==j and cm_test3.loc[i, j] > 0.5) :\n",
    "            print(\"les prédictions correctes sont supérieures à 50% pour {} étoile(s) avec {:0.0%}\".format(i, cm_test3.loc[i, j]))"
   ]
  },
  {
   "cell_type": "code",
   "execution_count": 37,
   "id": "8b6366a5",
   "metadata": {},
   "outputs": [
    {
     "name": "stdout",
     "output_type": "stream",
     "text": [
      "INFO:tensorflow:Assets written to: datasets/SatisfactionClients/model_embedding9\\assets\n"
     ]
    }
   ],
   "source": [
    "import os\n",
    "path = \"/Users/t.fourtouill/Downloads/SatisfactionClients\"\n",
    "os.makedirs(path, exist_ok=True)\n",
    "model_embedding_1.save('datasets/SatisfactionClients/model_embedding8')"
   ]
  }
 ],
 "metadata": {
  "kernelspec": {
   "display_name": "Python 3 (ipykernel)",
   "language": "python",
   "name": "python3"
  },
  "language_info": {
   "codemirror_mode": {
    "name": "ipython",
    "version": 3
   },
   "file_extension": ".py",
   "mimetype": "text/x-python",
   "name": "python",
   "nbconvert_exporter": "python",
   "pygments_lexer": "ipython3",
   "version": "3.9.7"
  }
 },
 "nbformat": 4,
 "nbformat_minor": 5
}
