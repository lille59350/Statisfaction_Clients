{
 "cells": [
  {
   "cell_type": "code",
   "execution_count": 1,
   "id": "196d79a4",
   "metadata": {},
   "outputs": [],
   "source": [
    "import pandas as pd\n",
    "import numpy as np\n",
    "import matplotlib.pyplot as plt\n",
    "from time import time"
   ]
  },
  {
   "cell_type": "code",
   "execution_count": 2,
   "id": "6b85a034",
   "metadata": {},
   "outputs": [],
   "source": [
    "pd.options.display.max_colwidth=800\n",
    "pd.set_option('display.max_rows', 50)\n",
    "pd.set_option('display.max_columns', 100)"
   ]
  },
  {
   "cell_type": "code",
   "execution_count": 3,
   "id": "119a889d",
   "metadata": {
    "scrolled": true
   },
   "outputs": [
    {
     "data": {
      "text/html": [
       "<div>\n",
       "<style scoped>\n",
       "    .dataframe tbody tr th:only-of-type {\n",
       "        vertical-align: middle;\n",
       "    }\n",
       "\n",
       "    .dataframe tbody tr th {\n",
       "        vertical-align: top;\n",
       "    }\n",
       "\n",
       "    .dataframe thead th {\n",
       "        text-align: right;\n",
       "    }\n",
       "</style>\n",
       "<table border=\"1\" class=\"dataframe\">\n",
       "  <thead>\n",
       "    <tr style=\"text-align: right;\">\n",
       "      <th></th>\n",
       "      <th>pays</th>\n",
       "      <th>note</th>\n",
       "      <th>titre</th>\n",
       "      <th>commentaire</th>\n",
       "      <th>Commentaire_filtre</th>\n",
       "      <th>titre_filtre</th>\n",
       "    </tr>\n",
       "  </thead>\n",
       "  <tbody>\n",
       "    <tr>\n",
       "      <th>98403</th>\n",
       "      <td>FR</td>\n",
       "      <td>1</td>\n",
       "      <td>E-SHOP Pas serieux publicité mensongere…</td>\n",
       "      <td>11 mars 2019E-SHOP Pas serieux publicité mensongere…E-SHOP Pas serieux publicité mensongere et voleur! Prix exactement similaire au autre sites.J'ai acheter une friteuse en Janvier on ma envoyer a 2 reprises la mauvaise reference je demande remboursement et jusqu'a aujourdhui toujours pas rembourser (3mois)! Un service client pitoyable, qui ma literalement dit que si il etait une société a 6M€ c'etais pas grace a des gens comme moi et que pour me faire rembourser fallais que j'attende. Heureusement qu'il existe des E-Shop plus serieux comme Amazone et autreDate de l'expérience: 11 mars 2019</td>\n",
       "      <td>['mars', 'shop', 'serieux', 'publicité', 'mensongere', 'shop', 'serieux', 'publicité', 'mensongere', 'voleur', 'prix', 'exactement', 'similaire', 'autre', 'sites', 'acheter', 'friteuse', 'janvier', 'envoyer', 'reprises', 'mauvaise', 'reference', 'demande', 'remboursement', 'jusqu', 'aujourdhui', 'toujours', 'rembourser', 'mois', 'service', 'client', 'pitoyable', 'literalement', 'dit', 'etait', 'société', 'etais', 'grace', 'gens', 'comme', 'faire', 'rembourser', 'fallais', 'attende', 'heureusement', 'existe', 'shop', 'plus', 'serieux', 'comme', 'amazone', 'autredate', 'expérience', 'mars']</td>\n",
       "      <td>['shop', 'serieux', 'publicité', 'mensongere']</td>\n",
       "    </tr>\n",
       "    <tr>\n",
       "      <th>35133</th>\n",
       "      <td>FR</td>\n",
       "      <td>5</td>\n",
       "      <td>Depuis mon première achat jusque…</td>\n",
       "      <td>29 avr. 2021Sur invitationDepuis mon première achat jusque…Depuis mon première achat jusque maintenant je suis très contient de vos services.   MerciDate de l'expérience: 29 avril 2021</td>\n",
       "      <td>['avr', 'invitationdepuis', 'première', 'achat', 'jusque', 'depuis', 'première', 'achat', 'jusque', 'maintenant', 'très', 'contient', 'services', 'mercidate', 'expérience', 'avril']</td>\n",
       "      <td>['depuis', 'première', 'achat', 'jusque']</td>\n",
       "    </tr>\n",
       "    <tr>\n",
       "      <th>75118</th>\n",
       "      <td>FR</td>\n",
       "      <td>5</td>\n",
       "      <td>excellent ghislaine urier</td>\n",
       "      <td>4 avr. 2020Vérifiéexcellent ghislaine urierexcellent, j'adhereDate de l'expérience: 04 avril 2020</td>\n",
       "      <td>['avr', 'vérifiéexcellent', 'ghislaine', 'urierexcellent', 'adheredate', 'expérience', 'avril']</td>\n",
       "      <td>['excellent', 'ghislaine', 'urier']</td>\n",
       "    </tr>\n",
       "  </tbody>\n",
       "</table>\n",
       "</div>"
      ],
      "text/plain": [
       "      pays  note                                     titre  \\\n",
       "98403   FR     1  E-SHOP Pas serieux publicité mensongere…   \n",
       "35133   FR     5         Depuis mon première achat jusque…   \n",
       "75118   FR     5                 excellent ghislaine urier   \n",
       "\n",
       "                                                                                                                                                                                                                                                                                                                                                                                                                                                                                                                                                                                                                 commentaire  \\\n",
       "98403  11 mars 2019E-SHOP Pas serieux publicité mensongere…E-SHOP Pas serieux publicité mensongere et voleur! Prix exactement similaire au autre sites.J'ai acheter une friteuse en Janvier on ma envoyer a 2 reprises la mauvaise reference je demande remboursement et jusqu'a aujourdhui toujours pas rembourser (3mois)! Un service client pitoyable, qui ma literalement dit que si il etait une société a 6M€ c'etais pas grace a des gens comme moi et que pour me faire rembourser fallais que j'attende. Heureusement qu'il existe des E-Shop plus serieux comme Amazone et autreDate de l'expérience: 11 mars 2019   \n",
       "35133                                                                                                                                                                                                                                                                                                                                                                                                                               29 avr. 2021Sur invitationDepuis mon première achat jusque…Depuis mon première achat jusque maintenant je suis très contient de vos services.   MerciDate de l'expérience: 29 avril 2021   \n",
       "75118                                                                                                                                                                                                                                                                                                                                                                                                                                                                                                                      4 avr. 2020Vérifiéexcellent ghislaine urierexcellent, j'adhereDate de l'expérience: 04 avril 2020   \n",
       "\n",
       "                                                                                                                                                                                                                                                                                                                                                                                                                                                                                                                                                                                                        Commentaire_filtre  \\\n",
       "98403  ['mars', 'shop', 'serieux', 'publicité', 'mensongere', 'shop', 'serieux', 'publicité', 'mensongere', 'voleur', 'prix', 'exactement', 'similaire', 'autre', 'sites', 'acheter', 'friteuse', 'janvier', 'envoyer', 'reprises', 'mauvaise', 'reference', 'demande', 'remboursement', 'jusqu', 'aujourdhui', 'toujours', 'rembourser', 'mois', 'service', 'client', 'pitoyable', 'literalement', 'dit', 'etait', 'société', 'etais', 'grace', 'gens', 'comme', 'faire', 'rembourser', 'fallais', 'attende', 'heureusement', 'existe', 'shop', 'plus', 'serieux', 'comme', 'amazone', 'autredate', 'expérience', 'mars']   \n",
       "35133                                                                                                                                                                                                                                                                                                                                                                                                                                ['avr', 'invitationdepuis', 'première', 'achat', 'jusque', 'depuis', 'première', 'achat', 'jusque', 'maintenant', 'très', 'contient', 'services', 'mercidate', 'expérience', 'avril']   \n",
       "75118                                                                                                                                                                                                                                                                                                                                                                                                                                                                                                                      ['avr', 'vérifiéexcellent', 'ghislaine', 'urierexcellent', 'adheredate', 'expérience', 'avril']   \n",
       "\n",
       "                                         titre_filtre  \n",
       "98403  ['shop', 'serieux', 'publicité', 'mensongere']  \n",
       "35133       ['depuis', 'première', 'achat', 'jusque']  \n",
       "75118             ['excellent', 'ghislaine', 'urier']  "
      ]
     },
     "execution_count": 3,
     "metadata": {},
     "output_type": "execute_result"
    }
   ],
   "source": [
    "df = pd.read_csv('datasets/SatisfactionClients/cdiscount_retraite.csv', index_col=0)\n",
    "df.sample(3)"
   ]
  },
  {
   "cell_type": "code",
   "execution_count": 4,
   "id": "f13e334a",
   "metadata": {},
   "outputs": [],
   "source": [
    "# séparation de la variable cible et des variables explicatives\n",
    "X = df['titre_filtre']\n",
    "y = df['note']"
   ]
  },
  {
   "cell_type": "code",
   "execution_count": 5,
   "id": "ddfd6bfc",
   "metadata": {},
   "outputs": [
    {
     "data": {
      "text/plain": [
       "<AxesSubplot:xlabel='note', ylabel='count'>"
      ]
     },
     "execution_count": 5,
     "metadata": {},
     "output_type": "execute_result"
    },
    {
     "data": {
      "image/png": "[encoded data removed]",
      "text/plain": [
       "<Figure size 432x288 with 1 Axes>"
      ]
     },
     "metadata": {
      "needs_background": "light"
     },
     "output_type": "display_data"
    }
   ],
   "source": [
    "import seaborn as sns\n",
    "sns.countplot(x='note', data=df)"
   ]
  },
  {
   "cell_type": "code",
   "execution_count": 7,
   "id": "6269af3d",
   "metadata": {},
   "outputs": [],
   "source": [
    "# séparation du jeu de données en un dataset d'entrainement et un dataset de test\n",
    "from sklearn.model_selection import train_test_split\n",
    "X_train, X_test, y_train, y_test = train_test_split(X, y, test_size=0.2, shuffle=True)"
   ]
  },
  {
   "cell_type": "code",
   "execution_count": 8,
   "id": "423f0dda",
   "metadata": {},
   "outputs": [],
   "source": [
    "# conversion des chaines de caratères en tokens numériques\n",
    "from sklearn.feature_extraction.text import CountVectorizer\n",
    "vectorizer = CountVectorizer(min_df=3)\n",
    "X_train = vectorizer.fit_transform(X_train).todense()\n",
    "X_test = vectorizer.transform(X_test).todense()"
   ]
  },
  {
   "cell_type": "code",
   "execution_count": 9,
   "id": "0673da10",
   "metadata": {},
   "outputs": [
    {
     "data": {
      "text/plain": [
       "(96000, 3432)"
      ]
     },
     "execution_count": 9,
     "metadata": {},
     "output_type": "execute_result"
    }
   ],
   "source": [
    "X_train.shape"
   ]
  },
  {
   "cell_type": "code",
   "execution_count": 16,
   "id": "3830b838",
   "metadata": {
    "scrolled": true
   },
   "outputs": [
    {
     "name": "stderr",
     "output_type": "stream",
     "text": [
      "C:\\Users\\t.fourtouill\\Anaconda3\\lib\\site-packages\\sklearn\\utils\\validation.py:727: FutureWarning: np.matrix usage is deprecated in 1.0 and will raise a TypeError in 1.2. Please convert to a numpy array with np.asarray. For more information see: https://numpy.org/doc/stable/reference/generated/numpy.matrix.html\n",
      "  warnings.warn(\n",
      "C:\\Users\\t.fourtouill\\Anaconda3\\lib\\site-packages\\sklearn\\utils\\validation.py:727: FutureWarning: np.matrix usage is deprecated in 1.0 and will raise a TypeError in 1.2. Please convert to a numpy array with np.asarray. For more information see: https://numpy.org/doc/stable/reference/generated/numpy.matrix.html\n",
      "  warnings.warn(\n",
      "C:\\Users\\t.fourtouill\\Anaconda3\\lib\\site-packages\\sklearn\\utils\\validation.py:727: FutureWarning: np.matrix usage is deprecated in 1.0 and will raise a TypeError in 1.2. Please convert to a numpy array with np.asarray. For more information see: https://numpy.org/doc/stable/reference/generated/numpy.matrix.html\n",
      "  warnings.warn(\n"
     ]
    },
    {
     "name": "stdout",
     "output_type": "stream",
     "text": [
      "0.477125\n",
      "\n",
      "              precision    recall  f1-score   support\n",
      "\n",
      "           1       0.42      0.49      0.45      2010\n",
      "           2       0.05      0.48      0.09       530\n",
      "           3       0.20      0.22      0.21      1355\n",
      "           4       0.35      0.32      0.33      5150\n",
      "           5       0.82      0.55      0.66     14955\n",
      "\n",
      "    accuracy                           0.48     24000\n",
      "   macro avg       0.37      0.41      0.35     24000\n",
      "weighted avg       0.64      0.48      0.54     24000\n",
      "\n"
     ]
    },
    {
     "data": {
      "text/html": [
       "<div>\n",
       "<style scoped>\n",
       "    .dataframe tbody tr th:only-of-type {\n",
       "        vertical-align: middle;\n",
       "    }\n",
       "\n",
       "    .dataframe tbody tr th {\n",
       "        vertical-align: top;\n",
       "    }\n",
       "\n",
       "    .dataframe thead th {\n",
       "        text-align: right;\n",
       "    }\n",
       "</style>\n",
       "<table border=\"1\" class=\"dataframe\">\n",
       "  <thead>\n",
       "    <tr style=\"text-align: right;\">\n",
       "      <th>données prédites</th>\n",
       "      <th>1</th>\n",
       "      <th>2</th>\n",
       "      <th>3</th>\n",
       "      <th>4</th>\n",
       "      <th>5</th>\n",
       "    </tr>\n",
       "    <tr>\n",
       "      <th>données réelles</th>\n",
       "      <th></th>\n",
       "      <th></th>\n",
       "      <th></th>\n",
       "      <th></th>\n",
       "      <th></th>\n",
       "    </tr>\n",
       "  </thead>\n",
       "  <tbody>\n",
       "    <tr>\n",
       "      <th>1</th>\n",
       "      <td>988</td>\n",
       "      <td>737</td>\n",
       "      <td>102</td>\n",
       "      <td>60</td>\n",
       "      <td>123</td>\n",
       "    </tr>\n",
       "    <tr>\n",
       "      <th>2</th>\n",
       "      <td>111</td>\n",
       "      <td>254</td>\n",
       "      <td>98</td>\n",
       "      <td>28</td>\n",
       "      <td>39</td>\n",
       "    </tr>\n",
       "    <tr>\n",
       "      <th>3</th>\n",
       "      <td>149</td>\n",
       "      <td>627</td>\n",
       "      <td>301</td>\n",
       "      <td>151</td>\n",
       "      <td>127</td>\n",
       "    </tr>\n",
       "    <tr>\n",
       "      <th>4</th>\n",
       "      <td>328</td>\n",
       "      <td>1253</td>\n",
       "      <td>440</td>\n",
       "      <td>1639</td>\n",
       "      <td>1490</td>\n",
       "    </tr>\n",
       "    <tr>\n",
       "      <th>5</th>\n",
       "      <td>803</td>\n",
       "      <td>2507</td>\n",
       "      <td>582</td>\n",
       "      <td>2794</td>\n",
       "      <td>8269</td>\n",
       "    </tr>\n",
       "  </tbody>\n",
       "</table>\n",
       "</div>"
      ],
      "text/plain": [
       "données prédites    1     2    3     4     5\n",
       "données réelles                             \n",
       "1                 988   737  102    60   123\n",
       "2                 111   254   98    28    39\n",
       "3                 149   627  301   151   127\n",
       "4                 328  1253  440  1639  1490\n",
       "5                 803  2507  582  2794  8269"
      ]
     },
     "metadata": {},
     "output_type": "display_data"
    },
    {
     "name": "stdout",
     "output_type": "stream",
     "text": [
      "les prédictions sur le test remontent les notes suivantes :  [5 3 5 3]  Détail ci-dessous :\n",
      " satisfait et delai de livraison au top  - la note est de : 5 \n",
      " Bel article mais malheureusement trop petit  - la note est de : 3 \n",
      " Très déçu et c'est la deuxième fois ! ! ! Il n ' y avait aucun produits qui correspondaient à ma commande et en plus ils étaient cassés  - la note est de : 5 \n",
      " La veste est trop serré 42 veste Que j ’ avais déjà commander en 40 Déçu Et plus de taille au dessus du 42 dommage Pour cet article  - la note est de : 3\n"
     ]
    },
    {
     "name": "stderr",
     "output_type": "stream",
     "text": [
      "C:\\Users\\t.fourtouill\\Anaconda3\\lib\\site-packages\\sklearn\\utils\\validation.py:727: FutureWarning: np.matrix usage is deprecated in 1.0 and will raise a TypeError in 1.2. Please convert to a numpy array with np.asarray. For more information see: https://numpy.org/doc/stable/reference/generated/numpy.matrix.html\n",
      "  warnings.warn(\n"
     ]
    }
   ],
   "source": [
    "from imblearn.ensemble import BalancedRandomForestClassifier\n",
    "from sklearn.metrics import classification_report\n",
    "\n",
    "br = BalancedRandomForestClassifier(n_estimators=100, max_depth=10)\n",
    "br.fit(X_train, y_train)\n",
    "\n",
    "y_pred_br = br.predict(X_test)\n",
    "\n",
    "print(br.score(X_test, y_test), end='\\n\\n')\n",
    "\n",
    "cr_br = classification_report(y_test, y_pred_br)\n",
    "print(cr_br)\n",
    "\n",
    "# affichage de la matrice de confusion pour voir si les données se sont bien classées\n",
    "cm_br = pd.crosstab(y_test, y_pred_br, rownames=['données réelles'], colnames=['données prédites'])\n",
    "display(cm_br)\n",
    "\n",
    "# on peut tester le modèles sur de nouveaux commentaire pour voir la prédictions qui seraits faites\n",
    "new_comments = [\"satisfait et delai de livraison au top\", \"Bel article mais malheureusement trop petit\", \"Très déçu et c'est la deuxième fois ! ! ! Il n ' y avait aucun produits qui correspondaient à ma commande et en plus ils étaient cassés\", \"La veste est trop serré 42 veste Que j ’ avais déjà commander en 40 Déçu Et plus de taille au dessus du 42 dommage Pour cet article\"]\n",
    "\n",
    "# on tokenize les commentaires à partir du modèle vectorizer existant\n",
    "new_comments_token = vectorizer.transform(new_comments).todense()\n",
    "\n",
    "# on prédit les données à partir à parti du modèle clf et on regarde si c'est cohérent\n",
    "y_predict_test_br = br.predict(new_comments_token)\n",
    "print('les prédictions sur le test remontent les notes suivantes : ', y_predict_test_br, ' Détail ci-dessous :\\n', new_comments[0], ' - la note est de :', y_predict_test_br[0], '\\n', new_comments[1], ' - la note est de :',  y_predict_test_br[1], '\\n', new_comments[2], ' - la note est de :',  y_predict_test_br[2], '\\n', new_comments[3], ' - la note est de :', y_predict_test_br[3])"
   ]
  },
  {
   "cell_type": "code",
   "execution_count": 29,
   "id": "c5c45c92",
   "metadata": {},
   "outputs": [
    {
     "name": "stderr",
     "output_type": "stream",
     "text": [
      "C:\\Users\\t.fourtouill\\Anaconda3\\lib\\site-packages\\sklearn\\utils\\validation.py:727: FutureWarning: np.matrix usage is deprecated in 1.0 and will raise a TypeError in 1.2. Please convert to a numpy array with np.asarray. For more information see: https://numpy.org/doc/stable/reference/generated/numpy.matrix.html\n",
      "  warnings.warn(\n",
      "C:\\Users\\t.fourtouill\\Anaconda3\\lib\\site-packages\\sklearn\\utils\\validation.py:727: FutureWarning: np.matrix usage is deprecated in 1.0 and will raise a TypeError in 1.2. Please convert to a numpy array with np.asarray. For more information see: https://numpy.org/doc/stable/reference/generated/numpy.matrix.html\n",
      "  warnings.warn(\n",
      "C:\\Users\\t.fourtouill\\Anaconda3\\lib\\site-packages\\sklearn\\utils\\validation.py:727: FutureWarning: np.matrix usage is deprecated in 1.0 and will raise a TypeError in 1.2. Please convert to a numpy array with np.asarray. For more information see: https://numpy.org/doc/stable/reference/generated/numpy.matrix.html\n",
      "  warnings.warn(\n"
     ]
    },
    {
     "name": "stdout",
     "output_type": "stream",
     "text": [
      "0.5508333333333333\n",
      "\n",
      "              precision    recall  f1-score   support\n",
      "\n",
      "           1       0.52      0.54      0.53      2010\n",
      "           2       0.07      0.39      0.12       530\n",
      "           3       0.20      0.29      0.23      1355\n",
      "           4       0.37      0.39      0.38      5150\n",
      "           5       0.83      0.64      0.72     14955\n",
      "\n",
      "    accuracy                           0.55     24000\n",
      "   macro avg       0.40      0.45      0.40     24000\n",
      "weighted avg       0.65      0.55      0.59     24000\n",
      "\n"
     ]
    },
    {
     "data": {
      "text/html": [
       "<div>\n",
       "<style scoped>\n",
       "    .dataframe tbody tr th:only-of-type {\n",
       "        vertical-align: middle;\n",
       "    }\n",
       "\n",
       "    .dataframe tbody tr th {\n",
       "        vertical-align: top;\n",
       "    }\n",
       "\n",
       "    .dataframe thead th {\n",
       "        text-align: right;\n",
       "    }\n",
       "</style>\n",
       "<table border=\"1\" class=\"dataframe\">\n",
       "  <thead>\n",
       "    <tr style=\"text-align: right;\">\n",
       "      <th>données prédites</th>\n",
       "      <th>1</th>\n",
       "      <th>2</th>\n",
       "      <th>3</th>\n",
       "      <th>4</th>\n",
       "      <th>5</th>\n",
       "    </tr>\n",
       "    <tr>\n",
       "      <th>données réelles</th>\n",
       "      <th></th>\n",
       "      <th></th>\n",
       "      <th></th>\n",
       "      <th></th>\n",
       "      <th></th>\n",
       "    </tr>\n",
       "  </thead>\n",
       "  <tbody>\n",
       "    <tr>\n",
       "      <th>1</th>\n",
       "      <td>1088</td>\n",
       "      <td>550</td>\n",
       "      <td>213</td>\n",
       "      <td>84</td>\n",
       "      <td>75</td>\n",
       "    </tr>\n",
       "    <tr>\n",
       "      <th>2</th>\n",
       "      <td>127</td>\n",
       "      <td>206</td>\n",
       "      <td>122</td>\n",
       "      <td>42</td>\n",
       "      <td>33</td>\n",
       "    </tr>\n",
       "    <tr>\n",
       "      <th>3</th>\n",
       "      <td>171</td>\n",
       "      <td>474</td>\n",
       "      <td>388</td>\n",
       "      <td>211</td>\n",
       "      <td>111</td>\n",
       "    </tr>\n",
       "    <tr>\n",
       "      <th>4</th>\n",
       "      <td>215</td>\n",
       "      <td>668</td>\n",
       "      <td>566</td>\n",
       "      <td>2005</td>\n",
       "      <td>1696</td>\n",
       "    </tr>\n",
       "    <tr>\n",
       "      <th>5</th>\n",
       "      <td>495</td>\n",
       "      <td>1102</td>\n",
       "      <td>698</td>\n",
       "      <td>3127</td>\n",
       "      <td>9533</td>\n",
       "    </tr>\n",
       "  </tbody>\n",
       "</table>\n",
       "</div>"
      ],
      "text/plain": [
       "données prédites     1     2    3     4     5\n",
       "données réelles                              \n",
       "1                 1088   550  213    84    75\n",
       "2                  127   206  122    42    33\n",
       "3                  171   474  388   211   111\n",
       "4                  215   668  566  2005  1696\n",
       "5                  495  1102  698  3127  9533"
      ]
     },
     "metadata": {},
     "output_type": "display_data"
    },
    {
     "name": "stdout",
     "output_type": "stream",
     "text": [
      "les prédictions sur le test remontent les notes suivantes :  [4 3 2 3]  Détail ci-dessous :\n",
      " Satisfait et delai de livraison au top  - la note est de : 4 \n",
      " Bel article mais malheureusement trop petit  - la note est de : 3 \n",
      " Très déçu et c'est la deuxième fois ! ! ! Il n ' y avait aucun produits qui correspondaient à ma commande et en plus ils étaient cassés  - la note est de : 2 \n",
      " La veste est trop serré 42 veste Que j ’ avais déjà commander en 40 Déçu Et plus de taille au dessus du 42 dommage Pour cet article  - la note est de : 3\n"
     ]
    },
    {
     "name": "stderr",
     "output_type": "stream",
     "text": [
      "C:\\Users\\t.fourtouill\\Anaconda3\\lib\\site-packages\\sklearn\\utils\\validation.py:727: FutureWarning: np.matrix usage is deprecated in 1.0 and will raise a TypeError in 1.2. Please convert to a numpy array with np.asarray. For more information see: https://numpy.org/doc/stable/reference/generated/numpy.matrix.html\n",
      "  warnings.warn(\n"
     ]
    }
   ],
   "source": [
    "br2 = BalancedRandomForestClassifier()\n",
    "br2.fit(X_train, y_train)\n",
    "\n",
    "y_pred_br2 = br2.predict(X_test)\n",
    "\n",
    "print(br2.score(X_test, y_test), end='\\n\\n')\n",
    "\n",
    "cr_br2 = classification_report(y_test, y_pred_br2)\n",
    "print(cr_br2)\n",
    "\n",
    "# affichage de la matrice de confusion pour voir si les données se sont bien classées\n",
    "cm_br2 = pd.crosstab(y_test, y_pred_br2, rownames=['données réelles'], colnames=['données prédites'])\n",
    "display(cm_br2)\n",
    "\n",
    "# on peut tester le modèles sur de nouveaux commentaire pour voir la prédictions qui seraits faites\n",
    "new_comments = [\"Satisfait et delai de livraison au top\", \"Bel article mais malheureusement trop petit\", \"Très déçu et c'est la deuxième fois ! ! ! Il n ' y avait aucun produits qui correspondaient à ma commande et en plus ils étaient cassés\", \"La veste est trop serré 42 veste Que j ’ avais déjà commander en 40 Déçu Et plus de taille au dessus du 42 dommage Pour cet article\"]\n",
    "\n",
    "# on tokenize les commentaires à partir du modèle vectorizer existant\n",
    "new_comments_token = vectorizer.transform(new_comments).todense()\n",
    "\n",
    "# on prédit les données à partir à parti du modèle clf et on regarde si c'est cohérent\n",
    "y_predict_test_br = br2.predict(new_comments_token)\n",
    "print('les prédictions sur le test remontent les notes suivantes : ', y_predict_test_br, ' Détail ci-dessous :\\n', new_comments[0], ' - la note est de :', y_predict_test_br[0], '\\n', new_comments[1], ' - la note est de :',  y_predict_test_br[1], '\\n', new_comments[2], ' - la note est de :',  y_predict_test_br[2], '\\n', new_comments[3], ' - la note est de :', y_predict_test_br[3])"
   ]
  },
  {
   "cell_type": "code",
   "execution_count": 28,
   "id": "16e89a43",
   "metadata": {},
   "outputs": [
    {
     "data": {
      "text/plain": [
       "[1560,\n",
       " 1574,\n",
       " 1587,\n",
       " 1609,\n",
       " 1615,\n",
       " 1597,\n",
       " 1640,\n",
       " 1526,\n",
       " 1554,\n",
       " 1580,\n",
       " 1596,\n",
       " 1531,\n",
       " 1602,\n",
       " 1580,\n",
       " 1571,\n",
       " 1557,\n",
       " 1545,\n",
       " 1515,\n",
       " 1602,\n",
       " 1546,\n",
       " 1546,\n",
       " 1521,\n",
       " 1603,\n",
       " 1503,\n",
       " 1617,\n",
       " 1559,\n",
       " 1540,\n",
       " 1585,\n",
       " 1545,\n",
       " 1522,\n",
       " 1587,\n",
       " 1613,\n",
       " 1541,\n",
       " 1570,\n",
       " 1562,\n",
       " 1587,\n",
       " 1576,\n",
       " 1581,\n",
       " 1569,\n",
       " 1544,\n",
       " 1534,\n",
       " 1512,\n",
       " 1543,\n",
       " 1591,\n",
       " 1564,\n",
       " 1515,\n",
       " 1587,\n",
       " 1580,\n",
       " 1526,\n",
       " 1552,\n",
       " 1548,\n",
       " 1505,\n",
       " 1578,\n",
       " 1572,\n",
       " 1569,\n",
       " 1538,\n",
       " 1558,\n",
       " 1574,\n",
       " 1554,\n",
       " 1556,\n",
       " 1554,\n",
       " 1556,\n",
       " 1547,\n",
       " 1526,\n",
       " 1572,\n",
       " 1539,\n",
       " 1569,\n",
       " 1622,\n",
       " 1560,\n",
       " 1503,\n",
       " 1559,\n",
       " 1591,\n",
       " 1563,\n",
       " 1552,\n",
       " 1600,\n",
       " 1616,\n",
       " 1602,\n",
       " 1589,\n",
       " 1535,\n",
       " 1554,\n",
       " 1540,\n",
       " 1628,\n",
       " 1616,\n",
       " 1575,\n",
       " 1546,\n",
       " 1564,\n",
       " 1578,\n",
       " 1538,\n",
       " 1554,\n",
       " 1594,\n",
       " 1536,\n",
       " 1572,\n",
       " 1554,\n",
       " 1541,\n",
       " 1576,\n",
       " 1525,\n",
       " 1509,\n",
       " 1514,\n",
       " 1579,\n",
       " 1634]"
      ]
     },
     "execution_count": 28,
     "metadata": {},
     "output_type": "execute_result"
    }
   ],
   "source": [
    "[estimator.tree_.max_depth for estimator in clf.estimators_]"
   ]
  },
  {
   "cell_type": "code",
   "execution_count": 15,
   "id": "5293437b",
   "metadata": {},
   "outputs": [
    {
     "name": "stderr",
     "output_type": "stream",
     "text": [
      "C:\\Users\\t.fourtouill\\Anaconda3\\lib\\site-packages\\sklearn\\utils\\validation.py:727: FutureWarning: np.matrix usage is deprecated in 1.0 and will raise a TypeError in 1.2. Please convert to a numpy array with np.asarray. For more information see: https://numpy.org/doc/stable/reference/generated/numpy.matrix.html\n",
      "  warnings.warn(\n",
      "C:\\Users\\t.fourtouill\\Anaconda3\\lib\\site-packages\\sklearn\\utils\\validation.py:727: FutureWarning: np.matrix usage is deprecated in 1.0 and will raise a TypeError in 1.2. Please convert to a numpy array with np.asarray. For more information see: https://numpy.org/doc/stable/reference/generated/numpy.matrix.html\n",
      "  warnings.warn(\n",
      "C:\\Users\\t.fourtouill\\Anaconda3\\lib\\site-packages\\sklearn\\utils\\validation.py:727: FutureWarning: np.matrix usage is deprecated in 1.0 and will raise a TypeError in 1.2. Please convert to a numpy array with np.asarray. For more information see: https://numpy.org/doc/stable/reference/generated/numpy.matrix.html\n",
      "  warnings.warn(\n"
     ]
    },
    {
     "name": "stdout",
     "output_type": "stream",
     "text": [
      "0.669125\n",
      "\n",
      "              precision    recall  f1-score   support\n",
      "\n",
      "           1       0.61      0.59      0.60      2010\n",
      "           2       0.14      0.07      0.09       530\n",
      "           3       0.31      0.21      0.25      1355\n",
      "           4       0.41      0.24      0.30      5150\n",
      "           5       0.74      0.89      0.81     14955\n",
      "\n",
      "    accuracy                           0.67     24000\n",
      "   macro avg       0.44      0.40      0.41     24000\n",
      "weighted avg       0.62      0.67      0.64     24000\n",
      "\n"
     ]
    },
    {
     "data": {
      "text/html": [
       "<div>\n",
       "<style scoped>\n",
       "    .dataframe tbody tr th:only-of-type {\n",
       "        vertical-align: middle;\n",
       "    }\n",
       "\n",
       "    .dataframe tbody tr th {\n",
       "        vertical-align: top;\n",
       "    }\n",
       "\n",
       "    .dataframe thead th {\n",
       "        text-align: right;\n",
       "    }\n",
       "</style>\n",
       "<table border=\"1\" class=\"dataframe\">\n",
       "  <thead>\n",
       "    <tr style=\"text-align: right;\">\n",
       "      <th>données prédites</th>\n",
       "      <th>1</th>\n",
       "      <th>2</th>\n",
       "      <th>3</th>\n",
       "      <th>4</th>\n",
       "      <th>5</th>\n",
       "    </tr>\n",
       "    <tr>\n",
       "      <th>données réelles</th>\n",
       "      <th></th>\n",
       "      <th></th>\n",
       "      <th></th>\n",
       "      <th></th>\n",
       "      <th></th>\n",
       "    </tr>\n",
       "  </thead>\n",
       "  <tbody>\n",
       "    <tr>\n",
       "      <th>1</th>\n",
       "      <td>1178</td>\n",
       "      <td>74</td>\n",
       "      <td>129</td>\n",
       "      <td>133</td>\n",
       "      <td>496</td>\n",
       "    </tr>\n",
       "    <tr>\n",
       "      <th>2</th>\n",
       "      <td>164</td>\n",
       "      <td>38</td>\n",
       "      <td>91</td>\n",
       "      <td>86</td>\n",
       "      <td>151</td>\n",
       "    </tr>\n",
       "    <tr>\n",
       "      <th>3</th>\n",
       "      <td>235</td>\n",
       "      <td>65</td>\n",
       "      <td>279</td>\n",
       "      <td>318</td>\n",
       "      <td>458</td>\n",
       "    </tr>\n",
       "    <tr>\n",
       "      <th>4</th>\n",
       "      <td>151</td>\n",
       "      <td>52</td>\n",
       "      <td>250</td>\n",
       "      <td>1215</td>\n",
       "      <td>3482</td>\n",
       "    </tr>\n",
       "    <tr>\n",
       "      <th>5</th>\n",
       "      <td>210</td>\n",
       "      <td>45</td>\n",
       "      <td>154</td>\n",
       "      <td>1197</td>\n",
       "      <td>13349</td>\n",
       "    </tr>\n",
       "  </tbody>\n",
       "</table>\n",
       "</div>"
      ],
      "text/plain": [
       "données prédites     1   2    3     4      5\n",
       "données réelles                             \n",
       "1                 1178  74  129   133    496\n",
       "2                  164  38   91    86    151\n",
       "3                  235  65  279   318    458\n",
       "4                  151  52  250  1215   3482\n",
       "5                  210  45  154  1197  13349"
      ]
     },
     "metadata": {},
     "output_type": "display_data"
    },
    {
     "name": "stdout",
     "output_type": "stream",
     "text": [
      "les prédictions sur le test remontent les notes suivantes :  [5 3 5 4]  Détail ci-dessous :\n",
      " Satisfait et delai de livraison au top  - la note est de : 5 \n",
      " Bel article mais malheureusement trop petit  - la note est de : 3 \n",
      " Très déçu et c'est la deuxième fois ! ! ! Il n ' y avait aucun produits qui correspondaient à ma commande et en plus ils étaient cassés  - la note est de : 5 \n",
      " La veste est trop serré 42 veste Que j ’ avais déjà commander en 40 Déçu Et plus de taille au dessus du 42 dommage Pour cet article  - la note est de : 4\n"
     ]
    },
    {
     "name": "stderr",
     "output_type": "stream",
     "text": [
      "C:\\Users\\t.fourtouill\\Anaconda3\\lib\\site-packages\\sklearn\\utils\\validation.py:727: FutureWarning: np.matrix usage is deprecated in 1.0 and will raise a TypeError in 1.2. Please convert to a numpy array with np.asarray. For more information see: https://numpy.org/doc/stable/reference/generated/numpy.matrix.html\n",
      "  warnings.warn(\n"
     ]
    }
   ],
   "source": [
    "# application du modèle de RandomForestClassifier sur les tokens numériques et calcul des prédictions\n",
    "from sklearn.ensemble import RandomForestClassifier\n",
    "from sklearn.metrics import classification_report\n",
    "\n",
    "clf = RandomForestClassifier()\n",
    "\n",
    "clf.fit(X_train, y_train)\n",
    "\n",
    "y_pred = clf.predict(X_test)\n",
    "\n",
    "# calcul des métriques des résultats du modèle\n",
    "print(clf.score(X_test, y_test), end='\\n\\n')\n",
    "\n",
    "cr = classification_report(y_test, y_pred)\n",
    "print(cr)\n",
    "\n",
    "# affichage de la matrice de confusion pour voir si les données se sont bien classées\n",
    "cm = pd.crosstab(y_test, y_pred, rownames=['données réelles'], colnames=['données prédites'])\n",
    "display(cm)\n",
    "\n",
    "# on peut tester le modèles sur de nouveaux commentaire pour voir la prédictions qui seraits faites\n",
    "new_comments = [\"Satisfait et delai de livraison au top\", \"Bel article mais malheureusement trop petit\", \"Très déçu et c'est la deuxième fois ! ! ! Il n ' y avait aucun produits qui correspondaient à ma commande et en plus ils étaient cassés\", \"La veste est trop serré 42 veste Que j ’ avais déjà commander en 40 Déçu Et plus de taille au dessus du 42 dommage Pour cet article\"]\n",
    "\n",
    "# on tokenize les commentaires à partir du modèle vectorizer existant\n",
    "new_comments_token = vectorizer.transform(new_comments).todense()\n",
    "\n",
    "# on prédit les données à partir à parti du modèle clf et on regarde si c'est cohérent\n",
    "y_predict_test = clf.predict(new_comments_token)\n",
    "print('les prédictions sur le test remontent les notes suivantes : ', y_predict_test, ' Détail ci-dessous :\\n', new_comments[0], ' - la note est de :', y_predict_test[0], '\\n', new_comments[1], ' - la note est de :',  y_predict_test[1], '\\n', new_comments[2], ' - la note est de :',  y_predict_test[2], '\\n', new_comments[3], ' - la note est de :', y_predict_test[3])"
   ]
  },
  {
   "cell_type": "code",
   "execution_count": 17,
   "id": "58e8c222",
   "metadata": {},
   "outputs": [
    {
     "name": "stderr",
     "output_type": "stream",
     "text": [
      "C:\\Users\\t.fourtouill\\Anaconda3\\lib\\site-packages\\sklearn\\utils\\validation.py:727: FutureWarning: np.matrix usage is deprecated in 1.0 and will raise a TypeError in 1.2. Please convert to a numpy array with np.asarray. For more information see: https://numpy.org/doc/stable/reference/generated/numpy.matrix.html\n",
      "  warnings.warn(\n",
      "C:\\Users\\t.fourtouill\\Anaconda3\\lib\\site-packages\\sklearn\\utils\\validation.py:727: FutureWarning: np.matrix usage is deprecated in 1.0 and will raise a TypeError in 1.2. Please convert to a numpy array with np.asarray. For more information see: https://numpy.org/doc/stable/reference/generated/numpy.matrix.html\n",
      "  warnings.warn(\n",
      "C:\\Users\\t.fourtouill\\Anaconda3\\lib\\site-packages\\sklearn\\utils\\validation.py:727: FutureWarning: np.matrix usage is deprecated in 1.0 and will raise a TypeError in 1.2. Please convert to a numpy array with np.asarray. For more information see: https://numpy.org/doc/stable/reference/generated/numpy.matrix.html\n",
      "  warnings.warn(\n"
     ]
    },
    {
     "name": "stdout",
     "output_type": "stream",
     "text": [
      "0.623125\n",
      "\n",
      "              precision    recall  f1-score   support\n",
      "\n",
      "           1       0.00      0.00      0.00      2010\n",
      "           2       0.00      0.00      0.00       530\n",
      "           3       0.00      0.00      0.00      1355\n",
      "           4       0.00      0.00      0.00      5150\n",
      "           5       0.62      1.00      0.77     14955\n",
      "\n",
      "    accuracy                           0.62     24000\n",
      "   macro avg       0.12      0.20      0.15     24000\n",
      "weighted avg       0.39      0.62      0.48     24000\n",
      "\n"
     ]
    },
    {
     "name": "stderr",
     "output_type": "stream",
     "text": [
      "C:\\Users\\t.fourtouill\\Anaconda3\\lib\\site-packages\\sklearn\\metrics\\_classification.py:1327: UndefinedMetricWarning: Precision and F-score are ill-defined and being set to 0.0 in labels with no predicted samples. Use `zero_division` parameter to control this behavior.\n",
      "  _warn_prf(average, modifier, msg_start, len(result))\n",
      "C:\\Users\\t.fourtouill\\Anaconda3\\lib\\site-packages\\sklearn\\metrics\\_classification.py:1327: UndefinedMetricWarning: Precision and F-score are ill-defined and being set to 0.0 in labels with no predicted samples. Use `zero_division` parameter to control this behavior.\n",
      "  _warn_prf(average, modifier, msg_start, len(result))\n",
      "C:\\Users\\t.fourtouill\\Anaconda3\\lib\\site-packages\\sklearn\\metrics\\_classification.py:1327: UndefinedMetricWarning: Precision and F-score are ill-defined and being set to 0.0 in labels with no predicted samples. Use `zero_division` parameter to control this behavior.\n",
      "  _warn_prf(average, modifier, msg_start, len(result))\n"
     ]
    },
    {
     "data": {
      "text/html": [
       "<div>\n",
       "<style scoped>\n",
       "    .dataframe tbody tr th:only-of-type {\n",
       "        vertical-align: middle;\n",
       "    }\n",
       "\n",
       "    .dataframe tbody tr th {\n",
       "        vertical-align: top;\n",
       "    }\n",
       "\n",
       "    .dataframe thead th {\n",
       "        text-align: right;\n",
       "    }\n",
       "</style>\n",
       "<table border=\"1\" class=\"dataframe\">\n",
       "  <thead>\n",
       "    <tr style=\"text-align: right;\">\n",
       "      <th>données prédites</th>\n",
       "      <th>5</th>\n",
       "    </tr>\n",
       "    <tr>\n",
       "      <th>données réelles</th>\n",
       "      <th></th>\n",
       "    </tr>\n",
       "  </thead>\n",
       "  <tbody>\n",
       "    <tr>\n",
       "      <th>1</th>\n",
       "      <td>2010</td>\n",
       "    </tr>\n",
       "    <tr>\n",
       "      <th>2</th>\n",
       "      <td>530</td>\n",
       "    </tr>\n",
       "    <tr>\n",
       "      <th>3</th>\n",
       "      <td>1355</td>\n",
       "    </tr>\n",
       "    <tr>\n",
       "      <th>4</th>\n",
       "      <td>5150</td>\n",
       "    </tr>\n",
       "    <tr>\n",
       "      <th>5</th>\n",
       "      <td>14955</td>\n",
       "    </tr>\n",
       "  </tbody>\n",
       "</table>\n",
       "</div>"
      ],
      "text/plain": [
       "données prédites      5\n",
       "données réelles        \n",
       "1                  2010\n",
       "2                   530\n",
       "3                  1355\n",
       "4                  5150\n",
       "5                 14955"
      ]
     },
     "metadata": {},
     "output_type": "display_data"
    },
    {
     "name": "stdout",
     "output_type": "stream",
     "text": [
      "les prédictions sur le test remontent les notes suivantes :  [5 5 5 5]  Détail ci-dessous :\n",
      " Satisfait et delai de livraison au top  - la note est de : 5 \n",
      " Bel article mais malheureusement trop petit  - la note est de : 5 \n",
      " Très déçu et c'est la deuxième fois ! ! ! Il n ' y avait aucun produits qui correspondaient à ma commande et en plus ils étaient cassés  - la note est de : 5 \n",
      " La veste est trop serré 42 veste Que j ’ avais déjà commander en 40 Déçu Et plus de taille au dessus du 42 dommage Pour cet article  - la note est de : 5\n"
     ]
    },
    {
     "name": "stderr",
     "output_type": "stream",
     "text": [
      "C:\\Users\\t.fourtouill\\Anaconda3\\lib\\site-packages\\sklearn\\utils\\validation.py:727: FutureWarning: np.matrix usage is deprecated in 1.0 and will raise a TypeError in 1.2. Please convert to a numpy array with np.asarray. For more information see: https://numpy.org/doc/stable/reference/generated/numpy.matrix.html\n",
      "  warnings.warn(\n"
     ]
    }
   ],
   "source": [
    "clf2 = RandomForestClassifier(n_estimators=10, max_depth=1)\n",
    "\n",
    "clf2.fit(X_train, y_train)\n",
    "\n",
    "y_pred2 = clf2.predict(X_test)\n",
    "\n",
    "print(clf2.score(X_test, y_test), end='\\n\\n')\n",
    "\n",
    "cr2 = classification_report(y_test, y_pred2)\n",
    "print(cr2)\n",
    "\n",
    "# affichage de la matrice de confusion pour voir si les données se sont bien classées\n",
    "cm2 = pd.crosstab(y_test, y_pred2, rownames=['données réelles'], colnames=['données prédites'])\n",
    "display(cm2)\n",
    "\n",
    "# on peut tester le modèles sur de nouveaux commentaire pour voir la prédictions qui seraits faites\n",
    "new_comments = [\"Satisfait et delai de livraison au top\", \"Bel article mais malheureusement trop petit\", \"Très déçu et c'est la deuxième fois ! ! ! Il n ' y avait aucun produits qui correspondaient à ma commande et en plus ils étaient cassés\", \"La veste est trop serré 42 veste Que j ’ avais déjà commander en 40 Déçu Et plus de taille au dessus du 42 dommage Pour cet article\"]\n",
    "\n",
    "# on tokenize les commentaires à partir du modèle vectorizer existant\n",
    "new_comments_token = vectorizer.transform(new_comments).todense()\n",
    "\n",
    "# on prédit les données à partir à parti du modèle clf et on regarde si c'est cohérent\n",
    "y_predict_test = clf2.predict(new_comments_token)\n",
    "print('les prédictions sur le test remontent les notes suivantes : ', y_predict_test, ' Détail ci-dessous :\\n', new_comments[0], ' - la note est de :', y_predict_test[0], '\\n', new_comments[1], ' - la note est de :',  y_predict_test[1], '\\n', new_comments[2], ' - la note est de :',  y_predict_test[2], '\\n', new_comments[3], ' - la note est de :', y_predict_test[3])"
   ]
  }
 ],
 "metadata": {
  "kernelspec": {
   "display_name": "Python 3 (ipykernel)",
   "language": "python",
   "name": "python3"
  },
  "language_info": {
   "codemirror_mode": {
    "name": "ipython",
    "version": 3
   },
   "file_extension": ".py",
   "mimetype": "text/x-python",
   "name": "python",
   "nbconvert_exporter": "python",
   "pygments_lexer": "ipython3",
   "version": "3.9.7"
  }
 },
 "nbformat": 4,
 "nbformat_minor": 5
}
