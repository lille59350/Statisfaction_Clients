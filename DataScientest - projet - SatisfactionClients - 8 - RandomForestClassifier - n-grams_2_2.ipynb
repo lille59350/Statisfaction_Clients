{
 "cells": [
  {
   "cell_type": "code",
   "execution_count": 1,
   "id": "196d79a4",
   "metadata": {},
   "outputs": [],
   "source": [
    "import pandas as pd\n",
    "import numpy as np\n",
    "import matplotlib.pyplot as plt\n",
    "from time import time\n",
    "import itertools"
   ]
  },
  {
   "cell_type": "code",
   "execution_count": 2,
   "id": "6b85a034",
   "metadata": {},
   "outputs": [],
   "source": [
    "pd.options.display.max_colwidth=800\n",
    "pd.set_option('display.max_rows', 50)\n",
    "pd.set_option('display.max_columns', 100)"
   ]
  },
  {
   "cell_type": "code",
   "execution_count": 3,
   "id": "119a889d",
   "metadata": {},
   "outputs": [
    {
     "data": {
      "text/html": [
       "<div>\n",
       "<style scoped>\n",
       "    .dataframe tbody tr th:only-of-type {\n",
       "        vertical-align: middle;\n",
       "    }\n",
       "\n",
       "    .dataframe tbody tr th {\n",
       "        vertical-align: top;\n",
       "    }\n",
       "\n",
       "    .dataframe thead th {\n",
       "        text-align: right;\n",
       "    }\n",
       "</style>\n",
       "<table border=\"1\" class=\"dataframe\">\n",
       "  <thead>\n",
       "    <tr style=\"text-align: right;\">\n",
       "      <th></th>\n",
       "      <th>pays</th>\n",
       "      <th>note</th>\n",
       "      <th>titre</th>\n",
       "      <th>commentaire</th>\n",
       "      <th>Commentaire_filtre</th>\n",
       "      <th>titre_filtre</th>\n",
       "    </tr>\n",
       "  </thead>\n",
       "  <tbody>\n",
       "    <tr>\n",
       "      <th>115847</th>\n",
       "      <td>FR</td>\n",
       "      <td>5</td>\n",
       "      <td>SUPER</td>\n",
       "      <td>7 nov. 2018VérifiéSUPERSUPER BIEN CORECTEDate de l'expérience: 07 novembre 2018</td>\n",
       "      <td>['nov', 'vérifiésupersuper', 'bien', 'corectedate', 'expérience', 'novembre']</td>\n",
       "      <td>['super']</td>\n",
       "    </tr>\n",
       "    <tr>\n",
       "      <th>111566</th>\n",
       "      <td>FR</td>\n",
       "      <td>4</td>\n",
       "      <td>D'une manière général</td>\n",
       "      <td>29 nov. 2018VérifiéD'une manière généralD'une manière général, tous mes achats se sont bien passés. Une seule fois un gros colis est arrivé endommagé mais le service clients Cdiscount a tout réglé rapidement par téléphone. Rien à redireDate de l'expérience: 29 novembre 2018</td>\n",
       "      <td>['nov', 'vérifiéd', 'manière', 'générald', 'manière', 'général', 'tous', 'achats', 'bien', 'passés', 'seule', 'fois', 'gros', 'colis', 'arrivé', 'endommagé', 'service', 'clients', 'cdiscount', 'tout', 'réglé', 'rapidement', 'téléphone', 'rien', 'rediredate', 'expérience', 'novembre']</td>\n",
       "      <td>['manière', 'général']</td>\n",
       "    </tr>\n",
       "    <tr>\n",
       "      <th>5944</th>\n",
       "      <td>FR</td>\n",
       "      <td>5</td>\n",
       "      <td>tres bien sa va aller vite merci</td>\n",
       "      <td>18 juin 2022Sur invitationtres bien sa va aller vite mercije vous remercie sa va aller tres vite bientotDate de l'expérience: 18 juin 2022</td>\n",
       "      <td>['juin', 'invitationtres', 'bien', 'aller', 'vite', 'mercije', 'remercie', 'aller', 'tres', 'vite', 'bientotdate', 'expérience', 'juin']</td>\n",
       "      <td>['tres', 'bien', 'aller', 'vite', 'merci']</td>\n",
       "    </tr>\n",
       "  </tbody>\n",
       "</table>\n",
       "</div>"
      ],
      "text/plain": [
       "       pays  note                             titre  \\\n",
       "115847   FR     5                             SUPER   \n",
       "111566   FR     4             D'une manière général   \n",
       "5944     FR     5  tres bien sa va aller vite merci   \n",
       "\n",
       "                                                                                                                                                                                                                                                                               commentaire  \\\n",
       "115847                                                                                                                                                                                                     7 nov. 2018VérifiéSUPERSUPER BIEN CORECTEDate de l'expérience: 07 novembre 2018   \n",
       "111566  29 nov. 2018VérifiéD'une manière généralD'une manière général, tous mes achats se sont bien passés. Une seule fois un gros colis est arrivé endommagé mais le service clients Cdiscount a tout réglé rapidement par téléphone. Rien à redireDate de l'expérience: 29 novembre 2018   \n",
       "5944                                                                                                                                            18 juin 2022Sur invitationtres bien sa va aller vite mercije vous remercie sa va aller tres vite bientotDate de l'expérience: 18 juin 2022   \n",
       "\n",
       "                                                                                                                                                                                                                                                                                  Commentaire_filtre  \\\n",
       "115847                                                                                                                                                                                                                 ['nov', 'vérifiésupersuper', 'bien', 'corectedate', 'expérience', 'novembre']   \n",
       "111566  ['nov', 'vérifiéd', 'manière', 'générald', 'manière', 'général', 'tous', 'achats', 'bien', 'passés', 'seule', 'fois', 'gros', 'colis', 'arrivé', 'endommagé', 'service', 'clients', 'cdiscount', 'tout', 'réglé', 'rapidement', 'téléphone', 'rien', 'rediredate', 'expérience', 'novembre']   \n",
       "5944                                                                                                                                                        ['juin', 'invitationtres', 'bien', 'aller', 'vite', 'mercije', 'remercie', 'aller', 'tres', 'vite', 'bientotdate', 'expérience', 'juin']   \n",
       "\n",
       "                                      titre_filtre  \n",
       "115847                                   ['super']  \n",
       "111566                      ['manière', 'général']  \n",
       "5944    ['tres', 'bien', 'aller', 'vite', 'merci']  "
      ]
     },
     "execution_count": 3,
     "metadata": {},
     "output_type": "execute_result"
    }
   ],
   "source": [
    "df = pd.read_csv('datasets/SatisfactionClients/cdiscount_retraite.csv', index_col=0)\n",
    "df_test = pd.read_csv('datasets/SatisfactionClients/amazon_test1.csv', index_col=0)\n",
    "df.sample(3)"
   ]
  },
  {
   "cell_type": "code",
   "execution_count": 4,
   "id": "f13e334a",
   "metadata": {},
   "outputs": [],
   "source": [
    "# séparation de la variable cible et des variables explicatives\n",
    "X = df['Commentaire_filtre']\n",
    "y = df['note']"
   ]
  },
  {
   "cell_type": "code",
   "execution_count": 6,
   "id": "ddfd6bfc",
   "metadata": {},
   "outputs": [
    {
     "data": {
      "image/png": "[encoded data removed]",
      "text/plain": [
       "<Figure size 432x288 with 1 Axes>"
      ]
     },
     "metadata": {
      "needs_background": "light"
     },
     "output_type": "display_data"
    }
   ],
   "source": [
    "import seaborn as sns\n",
    "sns.countplot(x='note', data=df);"
   ]
  },
  {
   "cell_type": "code",
   "execution_count": 7,
   "id": "3ded978e",
   "metadata": {},
   "outputs": [
    {
     "data": {
      "image/png": "[encoded data removed]",
      "text/plain": [
       "<Figure size 432x288 with 1 Axes>"
      ]
     },
     "metadata": {
      "needs_background": "light"
     },
     "output_type": "display_data"
    }
   ],
   "source": [
    "sns.countplot(x='note', data=df_test);"
   ]
  },
  {
   "cell_type": "code",
   "execution_count": 8,
   "id": "6269af3d",
   "metadata": {},
   "outputs": [],
   "source": [
    "# séparation du jeu de données en un dataset d'entrainement et un dataset de test\n",
    "from sklearn.model_selection import train_test_split\n",
    "X_train, X_test, y_train, y_test = train_test_split(X, y, test_size=0.2, shuffle=True)"
   ]
  },
  {
   "cell_type": "code",
   "execution_count": 9,
   "id": "423f0dda",
   "metadata": {},
   "outputs": [],
   "source": [
    "# conversion des chaines de caratères en tokens numériques\n",
    "# on ne prendra que les éléments répétés au moins 3 fois avec min_df=3\n",
    "from sklearn.feature_extraction.text import CountVectorizer\n",
    "vectorizer = CountVectorizer(max_features=14000, ngram_range=[2, 2])\n",
    "X_train = vectorizer.fit_transform(X_train).todense()\n",
    "X_test = vectorizer.transform(X_test).todense()"
   ]
  },
  {
   "cell_type": "code",
   "execution_count": 10,
   "id": "0673da10",
   "metadata": {},
   "outputs": [
    {
     "name": "stdout",
     "output_type": "stream",
     "text": [
      "(96000, 14000)\n",
      "(24000, 14000)\n",
      "(100, 4)\n"
     ]
    }
   ],
   "source": [
    "print(X_train.shape)\n",
    "print(X_test.shape)\n",
    "print(df_test.shape)"
   ]
  },
  {
   "cell_type": "code",
   "execution_count": 11,
   "id": "7029b67c",
   "metadata": {},
   "outputs": [],
   "source": [
    "from sklearn.ensemble import RandomForestClassifier\n",
    "from sklearn.metrics import classification_report"
   ]
  },
  {
   "cell_type": "code",
   "execution_count": 12,
   "id": "11ec7bbb",
   "metadata": {},
   "outputs": [
    {
     "name": "stderr",
     "output_type": "stream",
     "text": [
      "C:\\Users\\t.fourtouill\\Anaconda3\\lib\\site-packages\\sklearn\\utils\\validation.py:727: FutureWarning: np.matrix usage is deprecated in 1.0 and will raise a TypeError in 1.2. Please convert to a numpy array with np.asarray. For more information see: https://numpy.org/doc/stable/reference/generated/numpy.matrix.html\n",
      "  warnings.warn(\n",
      "C:\\Users\\t.fourtouill\\Anaconda3\\lib\\site-packages\\sklearn\\utils\\validation.py:727: FutureWarning: np.matrix usage is deprecated in 1.0 and will raise a TypeError in 1.2. Please convert to a numpy array with np.asarray. For more information see: https://numpy.org/doc/stable/reference/generated/numpy.matrix.html\n",
      "  warnings.warn(\n",
      "C:\\Users\\t.fourtouill\\Anaconda3\\lib\\site-packages\\sklearn\\utils\\validation.py:727: FutureWarning: np.matrix usage is deprecated in 1.0 and will raise a TypeError in 1.2. Please convert to a numpy array with np.asarray. For more information see: https://numpy.org/doc/stable/reference/generated/numpy.matrix.html\n",
      "  warnings.warn(\n"
     ]
    },
    {
     "name": "stdout",
     "output_type": "stream",
     "text": [
      "0.6527083333333333\n",
      "\n",
      "              precision    recall  f1-score   support\n",
      "\n",
      "           1       0.65      0.66      0.65      1986\n",
      "           2       0.10      0.03      0.04       551\n",
      "           3       0.26      0.15      0.19      1403\n",
      "           4       0.34      0.22      0.27      5034\n",
      "           5       0.73      0.87      0.79     15026\n",
      "\n",
      "    accuracy                           0.65     24000\n",
      "   macro avg       0.42      0.39      0.39     24000\n",
      "weighted avg       0.60      0.65      0.62     24000\n",
      "\n"
     ]
    },
    {
     "data": {
      "text/html": [
       "<div>\n",
       "<style scoped>\n",
       "    .dataframe tbody tr th:only-of-type {\n",
       "        vertical-align: middle;\n",
       "    }\n",
       "\n",
       "    .dataframe tbody tr th {\n",
       "        vertical-align: top;\n",
       "    }\n",
       "\n",
       "    .dataframe thead th {\n",
       "        text-align: right;\n",
       "    }\n",
       "</style>\n",
       "<table border=\"1\" class=\"dataframe\">\n",
       "  <thead>\n",
       "    <tr style=\"text-align: right;\">\n",
       "      <th>predictions</th>\n",
       "      <th>1</th>\n",
       "      <th>2</th>\n",
       "      <th>3</th>\n",
       "      <th>4</th>\n",
       "      <th>5</th>\n",
       "    </tr>\n",
       "    <tr>\n",
       "      <th>données réelles</th>\n",
       "      <th></th>\n",
       "      <th></th>\n",
       "      <th></th>\n",
       "      <th></th>\n",
       "      <th></th>\n",
       "    </tr>\n",
       "  </thead>\n",
       "  <tbody>\n",
       "    <tr>\n",
       "      <th>1</th>\n",
       "      <td>1315</td>\n",
       "      <td>32</td>\n",
       "      <td>96</td>\n",
       "      <td>126</td>\n",
       "      <td>417</td>\n",
       "    </tr>\n",
       "    <tr>\n",
       "      <th>2</th>\n",
       "      <td>179</td>\n",
       "      <td>15</td>\n",
       "      <td>75</td>\n",
       "      <td>96</td>\n",
       "      <td>186</td>\n",
       "    </tr>\n",
       "    <tr>\n",
       "      <th>3</th>\n",
       "      <td>197</td>\n",
       "      <td>30</td>\n",
       "      <td>212</td>\n",
       "      <td>361</td>\n",
       "      <td>603</td>\n",
       "    </tr>\n",
       "    <tr>\n",
       "      <th>4</th>\n",
       "      <td>163</td>\n",
       "      <td>31</td>\n",
       "      <td>214</td>\n",
       "      <td>1121</td>\n",
       "      <td>3505</td>\n",
       "    </tr>\n",
       "    <tr>\n",
       "      <th>5</th>\n",
       "      <td>177</td>\n",
       "      <td>45</td>\n",
       "      <td>213</td>\n",
       "      <td>1589</td>\n",
       "      <td>13002</td>\n",
       "    </tr>\n",
       "  </tbody>\n",
       "</table>\n",
       "</div>"
      ],
      "text/plain": [
       "predictions         1   2    3     4      5\n",
       "données réelles                            \n",
       "1                1315  32   96   126    417\n",
       "2                 179  15   75    96    186\n",
       "3                 197  30  212   361    603\n",
       "4                 163  31  214  1121   3505\n",
       "5                 177  45  213  1589  13002"
      ]
     },
     "metadata": {},
     "output_type": "display_data"
    },
    {
     "name": "stderr",
     "output_type": "stream",
     "text": [
      "C:\\Users\\t.fourtouill\\Anaconda3\\lib\\site-packages\\sklearn\\utils\\validation.py:727: FutureWarning: np.matrix usage is deprecated in 1.0 and will raise a TypeError in 1.2. Please convert to a numpy array with np.asarray. For more information see: https://numpy.org/doc/stable/reference/generated/numpy.matrix.html\n",
      "  warnings.warn(\n"
     ]
    },
    {
     "data": {
      "text/html": [
       "<div>\n",
       "<style scoped>\n",
       "    .dataframe tbody tr th:only-of-type {\n",
       "        vertical-align: middle;\n",
       "    }\n",
       "\n",
       "    .dataframe tbody tr th {\n",
       "        vertical-align: top;\n",
       "    }\n",
       "\n",
       "    .dataframe thead th {\n",
       "        text-align: right;\n",
       "    }\n",
       "</style>\n",
       "<table border=\"1\" class=\"dataframe\">\n",
       "  <thead>\n",
       "    <tr style=\"text-align: right;\">\n",
       "      <th>predictions</th>\n",
       "      <th>1</th>\n",
       "      <th>3</th>\n",
       "      <th>4</th>\n",
       "      <th>5</th>\n",
       "    </tr>\n",
       "    <tr>\n",
       "      <th>données réelles</th>\n",
       "      <th></th>\n",
       "      <th></th>\n",
       "      <th></th>\n",
       "      <th></th>\n",
       "    </tr>\n",
       "  </thead>\n",
       "  <tbody>\n",
       "    <tr>\n",
       "      <th>1</th>\n",
       "      <td>14</td>\n",
       "      <td>1</td>\n",
       "      <td>0</td>\n",
       "      <td>5</td>\n",
       "    </tr>\n",
       "    <tr>\n",
       "      <th>2</th>\n",
       "      <td>8</td>\n",
       "      <td>1</td>\n",
       "      <td>3</td>\n",
       "      <td>8</td>\n",
       "    </tr>\n",
       "    <tr>\n",
       "      <th>3</th>\n",
       "      <td>4</td>\n",
       "      <td>0</td>\n",
       "      <td>5</td>\n",
       "      <td>11</td>\n",
       "    </tr>\n",
       "    <tr>\n",
       "      <th>4</th>\n",
       "      <td>9</td>\n",
       "      <td>0</td>\n",
       "      <td>3</td>\n",
       "      <td>8</td>\n",
       "    </tr>\n",
       "    <tr>\n",
       "      <th>5</th>\n",
       "      <td>4</td>\n",
       "      <td>0</td>\n",
       "      <td>5</td>\n",
       "      <td>11</td>\n",
       "    </tr>\n",
       "  </tbody>\n",
       "</table>\n",
       "</div>"
      ],
      "text/plain": [
       "predictions       1  3  4   5\n",
       "données réelles              \n",
       "1                14  1  0   5\n",
       "2                 8  1  3   8\n",
       "3                 4  0  5  11\n",
       "4                 9  0  3   8\n",
       "5                 4  0  5  11"
      ]
     },
     "metadata": {},
     "output_type": "display_data"
    },
    {
     "data": {
      "text/html": [
       "<div>\n",
       "<style scoped>\n",
       "    .dataframe tbody tr th:only-of-type {\n",
       "        vertical-align: middle;\n",
       "    }\n",
       "\n",
       "    .dataframe tbody tr th {\n",
       "        vertical-align: top;\n",
       "    }\n",
       "\n",
       "    .dataframe thead th {\n",
       "        text-align: right;\n",
       "    }\n",
       "</style>\n",
       "<table border=\"1\" class=\"dataframe\">\n",
       "  <thead>\n",
       "    <tr style=\"text-align: right;\">\n",
       "      <th>predictions</th>\n",
       "      <th>1</th>\n",
       "      <th>3</th>\n",
       "      <th>4</th>\n",
       "      <th>5</th>\n",
       "    </tr>\n",
       "    <tr>\n",
       "      <th>données réelles</th>\n",
       "      <th></th>\n",
       "      <th></th>\n",
       "      <th></th>\n",
       "      <th></th>\n",
       "    </tr>\n",
       "  </thead>\n",
       "  <tbody>\n",
       "    <tr>\n",
       "      <th>1</th>\n",
       "      <td>0.70</td>\n",
       "      <td>0.05</td>\n",
       "      <td>0.00</td>\n",
       "      <td>0.25</td>\n",
       "    </tr>\n",
       "    <tr>\n",
       "      <th>2</th>\n",
       "      <td>0.40</td>\n",
       "      <td>0.05</td>\n",
       "      <td>0.15</td>\n",
       "      <td>0.40</td>\n",
       "    </tr>\n",
       "    <tr>\n",
       "      <th>3</th>\n",
       "      <td>0.20</td>\n",
       "      <td>0.00</td>\n",
       "      <td>0.25</td>\n",
       "      <td>0.55</td>\n",
       "    </tr>\n",
       "    <tr>\n",
       "      <th>4</th>\n",
       "      <td>0.45</td>\n",
       "      <td>0.00</td>\n",
       "      <td>0.15</td>\n",
       "      <td>0.40</td>\n",
       "    </tr>\n",
       "    <tr>\n",
       "      <th>5</th>\n",
       "      <td>0.20</td>\n",
       "      <td>0.00</td>\n",
       "      <td>0.25</td>\n",
       "      <td>0.55</td>\n",
       "    </tr>\n",
       "  </tbody>\n",
       "</table>\n",
       "</div>"
      ],
      "text/plain": [
       "predictions         1     3     4     5\n",
       "données réelles                        \n",
       "1                0.70  0.05  0.00  0.25\n",
       "2                0.40  0.05  0.15  0.40\n",
       "3                0.20  0.00  0.25  0.55\n",
       "4                0.45  0.00  0.15  0.40\n",
       "5                0.20  0.00  0.25  0.55"
      ]
     },
     "metadata": {},
     "output_type": "display_data"
    },
    {
     "name": "stdout",
     "output_type": "stream",
     "text": [
      "les prédictions correctes sont supérieures à 50% pour 1 étoile(s) avec 70.0 %\n",
      "les prédictions correctes sont supérieures à 50% pour 5 étoile(s) avec 55.00000000000001 %\n"
     ]
    }
   ],
   "source": [
    "clf = RandomForestClassifier(n_estimators=50)\n",
    "clf.fit(X_train, y_train)\n",
    "\n",
    "y_pred = clf.predict(X_test)\n",
    "\n",
    "print(clf.score(X_test, y_test), end='\\n\\n')\n",
    "\n",
    "cr = classification_report(y_test, y_pred)\n",
    "print(cr)\n",
    "\n",
    "cm = pd.crosstab(y_test, y_pred, rownames=['données réelles'], colnames=['predictions'])\n",
    "display(cm)\n",
    "\n",
    "# vérification des résultats sur un jeu de test externe (100 commentaires amazon également répartis entre les étoiles)\n",
    "df_test_token = vectorizer.transform(df_test['commentaire']).todense()\n",
    "y_predict_test = clf.predict(df_test_token)\n",
    "\n",
    "cm_test = pd.crosstab(df_test['note'], y_predict_test, rownames=['données réelles'], colnames=['predictions'])\n",
    "display(cm_test)\n",
    "\n",
    "cm_test2 = pd.crosstab(df_test['note'], y_predict_test, rownames=['données réelles'], colnames=['predictions'], normalize=0)\n",
    "display(cm_test2)\n",
    "\n",
    "for i in cm_test2.index:\n",
    "    for j in cm_test2.columns :\n",
    "        if (i==j and cm_test2.loc[i, j] > 0.5) :\n",
    "            print(\"les prédictions correctes sont supérieures à 50% pour {} étoile(s) avec {} %\".format(i, cm_test2.loc[i, j]*100))"
   ]
  },
  {
   "cell_type": "code",
   "execution_count": 14,
   "id": "8b6366a5",
   "metadata": {},
   "outputs": [
    {
     "data": {
      "text/plain": [
       "['datasets/SatisfactionClients/model_rf_tfidf_ngrams.jolib']"
      ]
     },
     "execution_count": 14,
     "metadata": {},
     "output_type": "execute_result"
    }
   ],
   "source": [
    "from joblib import dump\n",
    "dump(clf, 'datasets/SatisfactionClients/model_rf_tfidf_ngrams.jolib')"
   ]
  }
 ],
 "metadata": {
  "kernelspec": {
   "display_name": "Python 3 (ipykernel)",
   "language": "python",
   "name": "python3"
  },
  "language_info": {
   "codemirror_mode": {
    "name": "ipython",
    "version": 3
   },
   "file_extension": ".py",
   "mimetype": "text/x-python",
   "name": "python",
   "nbconvert_exporter": "python",
   "pygments_lexer": "ipython3",
   "version": "3.9.7"
  }
 },
 "nbformat": 4,
 "nbformat_minor": 5
}
