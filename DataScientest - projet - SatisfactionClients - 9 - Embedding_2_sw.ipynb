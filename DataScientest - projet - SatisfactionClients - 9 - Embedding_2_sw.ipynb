{
 "cells": [
  {
   "cell_type": "code",
   "execution_count": 1,
   "id": "196d79a4",
   "metadata": {},
   "outputs": [],
   "source": [
    "import pandas as pd\n",
    "import numpy as np\n",
    "import matplotlib.pyplot as plt\n",
    "import seaborn as sns\n",
    "from time import time\n",
    "import itertools"
   ]
  },
  {
   "cell_type": "code",
   "execution_count": 2,
   "id": "6b85a034",
   "metadata": {},
   "outputs": [],
   "source": [
    "pd.options.display.max_colwidth=800\n",
    "pd.set_option('display.max_rows', 500)\n",
    "pd.set_option('display.max_columns', 500)"
   ]
  },
  {
   "cell_type": "code",
   "execution_count": 3,
   "id": "119a889d",
   "metadata": {},
   "outputs": [
    {
     "data": {
      "text/html": [
       "<div>\n",
       "<style scoped>\n",
       "    .dataframe tbody tr th:only-of-type {\n",
       "        vertical-align: middle;\n",
       "    }\n",
       "\n",
       "    .dataframe tbody tr th {\n",
       "        vertical-align: top;\n",
       "    }\n",
       "\n",
       "    .dataframe thead th {\n",
       "        text-align: right;\n",
       "    }\n",
       "</style>\n",
       "<table border=\"1\" class=\"dataframe\">\n",
       "  <thead>\n",
       "    <tr style=\"text-align: right;\">\n",
       "      <th></th>\n",
       "      <th>pays</th>\n",
       "      <th>note</th>\n",
       "      <th>titre</th>\n",
       "      <th>commentaire</th>\n",
       "    </tr>\n",
       "  </thead>\n",
       "  <tbody>\n",
       "    <tr>\n",
       "      <th>0</th>\n",
       "      <td>FR</td>\n",
       "      <td>1</td>\n",
       "      <td>Les As du prélèvement illicite</td>\n",
       "      <td>Il y a un jourLes As du prélèvement illicitePratiques à la limite de légal.J' ai pris un paiement en 4x dont il restait deux mois , pendant 1 semaine je ne retrouve pas ma carte , je la bloque temporairement.Le prelevement 3 ne passe pas Cdiscount m' informe qu' il faut régulariser, je retrouve ma carte et........boum deux prelevements simultanés des deux mensualités, celle du et l' autre prévue pour décembre.Cela me servira de leçon mais les vautours c 'est fini pour moi.Date de l'expérience: 14 novembre 2022</td>\n",
       "    </tr>\n",
       "    <tr>\n",
       "      <th>1</th>\n",
       "      <td>FR</td>\n",
       "      <td>1</td>\n",
       "      <td>Commande une télévision avec rendez…</td>\n",
       "      <td>Il y a 13 heuresCommande une télévision avec rendez…Commande une télévision avec rendez vous du livreur. Je prend une journée de congé et le livreur ne vient pas. Je demande le renvoie de la télé chez Cdiscount. Cdiscount me rembourse la télé mes pas les 29 euros de livraison. Donc une journée de congé pour rien et un cadeau de 29 euros a Cdiscount. Plus jamais de commande sur Cdiscount.Date de l'expérience: 02 novembre 2022</td>\n",
       "    </tr>\n",
       "  </tbody>\n",
       "</table>\n",
       "</div>"
      ],
      "text/plain": [
       "  pays  note                                 titre  \\\n",
       "0   FR     1        Les As du prélèvement illicite   \n",
       "1   FR     1  Commande une télévision avec rendez…   \n",
       "\n",
       "                                                                                                                                                                                                                                                                                                                                                                                                                                                                                                                           commentaire  \n",
       "0  Il y a un jourLes As du prélèvement illicitePratiques à la limite de légal.J' ai pris un paiement en 4x dont il restait deux mois , pendant 1 semaine je ne retrouve pas ma carte , je la bloque temporairement.Le prelevement 3 ne passe pas Cdiscount m' informe qu' il faut régulariser, je retrouve ma carte et........boum deux prelevements simultanés des deux mensualités, celle du et l' autre prévue pour décembre.Cela me servira de leçon mais les vautours c 'est fini pour moi.Date de l'expérience: 14 novembre 2022  \n",
       "1                                                                                         Il y a 13 heuresCommande une télévision avec rendez…Commande une télévision avec rendez vous du livreur. Je prend une journée de congé et le livreur ne vient pas. Je demande le renvoie de la télé chez Cdiscount. Cdiscount me rembourse la télé mes pas les 29 euros de livraison. Donc une journée de congé pour rien et un cadeau de 29 euros a Cdiscount. Plus jamais de commande sur Cdiscount.Date de l'expérience: 02 novembre 2022  "
      ]
     },
     "execution_count": 3,
     "metadata": {},
     "output_type": "execute_result"
    }
   ],
   "source": [
    "df = pd.read_csv('datasets/SatisfactionClients/cdiscount.csv', index_col=0)\n",
    "df_test = pd.read_csv('datasets/SatisfactionClients/amazon_test1.csv', index_col=0)\n",
    "df.head(2)"
   ]
  },
  {
   "cell_type": "code",
   "execution_count": 4,
   "id": "ba3cf0df",
   "metadata": {},
   "outputs": [],
   "source": [
    "# chargement de la bibliothèque de stopwords et de tokenisation\n",
    "from nltk.corpus import stopwords\n",
    "from nltk import word_tokenize\n",
    "from nltk.tokenize.regexp import RegexpTokenizer\n",
    "from nltk.tokenize import PunktSentenceTokenizer"
   ]
  },
  {
   "cell_type": "code",
   "execution_count": 5,
   "id": "afbf1a9b",
   "metadata": {},
   "outputs": [
    {
     "name": "stderr",
     "output_type": "stream",
     "text": [
      "[nltk_data] Downloading package punkt to\n",
      "[nltk_data]     C:\\Users\\t.fourtouill\\AppData\\Roaming\\nltk_data...\n",
      "[nltk_data]   Package punkt is already up-to-date!\n"
     ]
    },
    {
     "data": {
      "text/plain": [
       "True"
      ]
     },
     "execution_count": 5,
     "metadata": {},
     "output_type": "execute_result"
    }
   ],
   "source": [
    "import nltk\n",
    "nltk.download('punkt')"
   ]
  },
  {
   "cell_type": "code",
   "execution_count": 6,
   "id": "f3c03c94",
   "metadata": {},
   "outputs": [],
   "source": [
    "# chargement des listes stopwords pour les 3 langues principales \n",
    "stop_words_french = stopwords.words('french')\n",
    "stop_words_english = stopwords.words('english')\n",
    "stop_words_spanish = stopwords.words('spanish')\n",
    "\n",
    "# création d'une stopwords regroupant les 3 langues\n",
    "stop_words = stop_words_french + stop_words_english + stop_words_spanish"
   ]
  },
  {
   "cell_type": "code",
   "execution_count": 7,
   "id": "9418557a",
   "metadata": {},
   "outputs": [],
   "source": [
    "def commentaire_filtering(txt, stop_words):\n",
    "    tokenizer = RegexpTokenizer('[a-zA-Zéèëãñ]')\n",
    "    tokens = word_tokenize(txt.lower())\n",
    "    words = [word for word in tokens if word not in stop_words]\n",
    "    return ' '.join(words).strip()"
   ]
  },
  {
   "cell_type": "code",
   "execution_count": 8,
   "id": "b9fb115a",
   "metadata": {},
   "outputs": [
    {
     "name": "stdout",
     "output_type": "stream",
     "text": [
      "le temps de calcul est de 113.96  secondes\n"
     ]
    }
   ],
   "source": [
    "# création d'une colonne commentaire_filtre par application de la fonction commentaire_filtering à la colonne commentaire\n",
    "t0 = time()\n",
    "\n",
    "df['commentaire_filtre'] = df['commentaire'].apply(lambda x : commentaire_filtering(str(x), stop_words))\n",
    "\n",
    "print('le temps de calcul est de {:.2f}'.format(time()-t0), ' secondes')"
   ]
  },
  {
   "cell_type": "code",
   "execution_count": 9,
   "id": "187c073c",
   "metadata": {},
   "outputs": [
    {
     "data": {
      "text/html": [
       "<div>\n",
       "<style scoped>\n",
       "    .dataframe tbody tr th:only-of-type {\n",
       "        vertical-align: middle;\n",
       "    }\n",
       "\n",
       "    .dataframe tbody tr th {\n",
       "        vertical-align: top;\n",
       "    }\n",
       "\n",
       "    .dataframe thead th {\n",
       "        text-align: right;\n",
       "    }\n",
       "</style>\n",
       "<table border=\"1\" class=\"dataframe\">\n",
       "  <thead>\n",
       "    <tr style=\"text-align: right;\">\n",
       "      <th></th>\n",
       "      <th>pays</th>\n",
       "      <th>note</th>\n",
       "      <th>titre</th>\n",
       "      <th>commentaire</th>\n",
       "      <th>commentaire_filtre</th>\n",
       "    </tr>\n",
       "  </thead>\n",
       "  <tbody>\n",
       "    <tr>\n",
       "      <th>0</th>\n",
       "      <td>FR</td>\n",
       "      <td>1</td>\n",
       "      <td>Les As du prélèvement illicite</td>\n",
       "      <td>Il y a un jourLes As du prélèvement illicitePratiques à la limite de légal.J' ai pris un paiement en 4x dont il restait deux mois , pendant 1 semaine je ne retrouve pas ma carte , je la bloque temporairement.Le prelevement 3 ne passe pas Cdiscount m' informe qu' il faut régulariser, je retrouve ma carte et........boum deux prelevements simultanés des deux mensualités, celle du et l' autre prévue pour décembre.Cela me servira de leçon mais les vautours c 'est fini pour moi.Date de l'expérience: 14 novembre 2022</td>\n",
       "      <td>jourles prélèvement illicitepratiques limite légal.j ' pris paiement 4x dont restait deux mois , pendant 1 semaine retrouve carte , bloque temporairement.le prelevement 3 passe cdiscount ' informe ' faut régulariser , retrouve carte ........ boum deux prelevements simultanés deux mensualités , celle ' autre prévue décembre.cela servira leçon vautours 'est fini moi.date l'expérience : 14 novembre 2022</td>\n",
       "    </tr>\n",
       "    <tr>\n",
       "      <th>1</th>\n",
       "      <td>FR</td>\n",
       "      <td>1</td>\n",
       "      <td>Commande une télévision avec rendez…</td>\n",
       "      <td>Il y a 13 heuresCommande une télévision avec rendez…Commande une télévision avec rendez vous du livreur. Je prend une journée de congé et le livreur ne vient pas. Je demande le renvoie de la télé chez Cdiscount. Cdiscount me rembourse la télé mes pas les 29 euros de livraison. Donc une journée de congé pour rien et un cadeau de 29 euros a Cdiscount. Plus jamais de commande sur Cdiscount.Date de l'expérience: 02 novembre 2022</td>\n",
       "      <td>13 heurescommande télévision rendez…commande télévision rendez livreur . prend journée congé livreur vient . demande renvoie télé chez cdiscount . cdiscount rembourse télé 29 euros livraison . donc journée congé rien cadeau 29 euros cdiscount . plus jamais commande cdiscount.date l'expérience : 02 novembre 2022</td>\n",
       "    </tr>\n",
       "  </tbody>\n",
       "</table>\n",
       "</div>"
      ],
      "text/plain": [
       "  pays  note                                 titre  \\\n",
       "0   FR     1        Les As du prélèvement illicite   \n",
       "1   FR     1  Commande une télévision avec rendez…   \n",
       "\n",
       "                                                                                                                                                                                                                                                                                                                                                                                                                                                                                                                           commentaire  \\\n",
       "0  Il y a un jourLes As du prélèvement illicitePratiques à la limite de légal.J' ai pris un paiement en 4x dont il restait deux mois , pendant 1 semaine je ne retrouve pas ma carte , je la bloque temporairement.Le prelevement 3 ne passe pas Cdiscount m' informe qu' il faut régulariser, je retrouve ma carte et........boum deux prelevements simultanés des deux mensualités, celle du et l' autre prévue pour décembre.Cela me servira de leçon mais les vautours c 'est fini pour moi.Date de l'expérience: 14 novembre 2022   \n",
       "1                                                                                         Il y a 13 heuresCommande une télévision avec rendez…Commande une télévision avec rendez vous du livreur. Je prend une journée de congé et le livreur ne vient pas. Je demande le renvoie de la télé chez Cdiscount. Cdiscount me rembourse la télé mes pas les 29 euros de livraison. Donc une journée de congé pour rien et un cadeau de 29 euros a Cdiscount. Plus jamais de commande sur Cdiscount.Date de l'expérience: 02 novembre 2022   \n",
       "\n",
       "                                                                                                                                                                                                                                                                                                                                                                                                    commentaire_filtre  \n",
       "0  jourles prélèvement illicitepratiques limite légal.j ' pris paiement 4x dont restait deux mois , pendant 1 semaine retrouve carte , bloque temporairement.le prelevement 3 passe cdiscount ' informe ' faut régulariser , retrouve carte ........ boum deux prelevements simultanés deux mensualités , celle ' autre prévue décembre.cela servira leçon vautours 'est fini moi.date l'expérience : 14 novembre 2022  \n",
       "1                                                                                             13 heurescommande télévision rendez…commande télévision rendez livreur . prend journée congé livreur vient . demande renvoie télé chez cdiscount . cdiscount rembourse télé 29 euros livraison . donc journée congé rien cadeau 29 euros cdiscount . plus jamais commande cdiscount.date l'expérience : 02 novembre 2022  "
      ]
     },
     "execution_count": 9,
     "metadata": {},
     "output_type": "execute_result"
    }
   ],
   "source": [
    "df.head(2)"
   ]
  },
  {
   "cell_type": "code",
   "execution_count": 10,
   "id": "ddfd6bfc",
   "metadata": {
    "scrolled": true
   },
   "outputs": [
    {
     "data": {
      "image/png": "[encoded data removed]",
      "text/plain": [
       "<Figure size 432x288 with 1 Axes>"
      ]
     },
     "metadata": {
      "needs_background": "light"
     },
     "output_type": "display_data"
    }
   ],
   "source": [
    "sns.countplot(x='note', data=df);"
   ]
  },
  {
   "cell_type": "code",
   "execution_count": 11,
   "id": "3ded978e",
   "metadata": {},
   "outputs": [
    {
     "data": {
      "image/png": "[encoded data removed]",
      "text/plain": [
       "<Figure size 432x288 with 1 Axes>"
      ]
     },
     "metadata": {
      "needs_background": "light"
     },
     "output_type": "display_data"
    }
   ],
   "source": [
    "sns.countplot(x='note', data=df_test);"
   ]
  },
  {
   "cell_type": "code",
   "execution_count": 12,
   "id": "f13e334a",
   "metadata": {},
   "outputs": [],
   "source": [
    "# séparation de la variable cible et des variables explicatives\n",
    "X = df['commentaire_filtre']\n",
    "y = df['note'].values"
   ]
  },
  {
   "cell_type": "code",
   "execution_count": 13,
   "id": "6269af3d",
   "metadata": {},
   "outputs": [],
   "source": [
    "# séparation du jeu de données en un dataset d'entrainement et un dataset de test\n",
    "from sklearn.model_selection import train_test_split\n",
    "X_train, X_test, y_train, y_test = train_test_split(X, y, test_size=0.2, shuffle=True)"
   ]
  },
  {
   "cell_type": "code",
   "execution_count": 14,
   "id": "0673da10",
   "metadata": {},
   "outputs": [
    {
     "name": "stdout",
     "output_type": "stream",
     "text": [
      "(96000,)\n",
      "(24000,)\n",
      "(100, 4)\n"
     ]
    }
   ],
   "source": [
    "print(X_train.shape)\n",
    "print(X_test.shape)\n",
    "print(df_test.shape)"
   ]
  },
  {
   "cell_type": "code",
   "execution_count": 15,
   "id": "d40a7b61",
   "metadata": {},
   "outputs": [],
   "source": [
    "from keras.preprocessing.text import Tokenizer\n",
    "from keras.preprocessing.sequence import pad_sequences"
   ]
  },
  {
   "cell_type": "code",
   "execution_count": 16,
   "id": "7709d894",
   "metadata": {},
   "outputs": [],
   "source": [
    "# tokenisation des commentaires\n",
    "num_words=500\n",
    "tk = Tokenizer(num_words=num_words, lower=True)"
   ]
  },
  {
   "cell_type": "code",
   "execution_count": 17,
   "id": "014744b9",
   "metadata": {},
   "outputs": [],
   "source": [
    "# entrainement de la tokenisation sur le X_train\n",
    "tk.fit_on_texts(X_train)"
   ]
  },
  {
   "cell_type": "code",
   "execution_count": 18,
   "id": "5faa7d54",
   "metadata": {},
   "outputs": [
    {
     "data": {
      "text/plain": [
       "80151"
      ]
     },
     "execution_count": 18,
     "metadata": {},
     "output_type": "execute_result"
    }
   ],
   "source": [
    "# nb de ligne de la matrice\n",
    "word_index = tk.word_index\n",
    "len(tk.word_index)"
   ]
  },
  {
   "cell_type": "code",
   "execution_count": 19,
   "id": "8a275671",
   "metadata": {},
   "outputs": [
    {
     "data": {
      "text/plain": [
       "500"
      ]
     },
     "execution_count": 19,
     "metadata": {},
     "output_type": "execute_result"
    }
   ],
   "source": [
    "# nb de colonnes dans la matrice\n",
    "vocabulary_size = tk.num_words\n",
    "vocabulary_size"
   ]
  },
  {
   "cell_type": "code",
   "execution_count": 20,
   "id": "c937c451",
   "metadata": {},
   "outputs": [],
   "source": [
    "# mise sous vecteur des commentaires\n",
    "X_seq_train = tk.texts_to_sequences(X_train)\n",
    "X_seq_test = tk.texts_to_sequences(X_test)"
   ]
  },
  {
   "cell_type": "code",
   "execution_count": 21,
   "id": "204ad175",
   "metadata": {},
   "outputs": [
    {
     "name": "stdout",
     "output_type": "stream",
     "text": [
      "[54, 20, 425, 14, 14, 74, 15, 123, 98, 1, 54, 19, 24]\n",
      "[54, 10, 5, 228, 9, 167, 21, 9, 167, 276, 29, 1, 54, 10, 4]\n",
      "[52, 8, 378, 1, 52, 8, 6]\n",
      "[65, 17, 2, 1, 65, 16, 24]\n",
      "[68, 42, 187, 37, 187, 38, 37, 63, 7, 37, 63, 418, 98, 191, 129, 192, 7, 141, 45, 457, 402, 180, 37, 63, 83, 183, 38, 198, 113, 129, 12, 192, 107, 106, 58, 366, 212, 134, 215, 38, 278, 2, 1, 94, 40, 18]\n"
     ]
    }
   ],
   "source": [
    "# affichage de la vectorisation réalisée\n",
    "for x in range(0,5):\n",
    "    print(X_seq_train[x]) "
   ]
  },
  {
   "cell_type": "code",
   "execution_count": 45,
   "id": "23f08fd6",
   "metadata": {},
   "outputs": [
    {
     "data": {
      "text/plain": [
       "Text(0.5, 1.0, 'commentaires sans stop_word')"
      ]
     },
     "execution_count": 45,
     "metadata": {},
     "output_type": "execute_result"
    },
    {
     "data": {
      "image/png": "[encoded data removed]",
      "text/plain": [
       "<Figure size 864x288 with 2 Axes>"
      ]
     },
     "metadata": {
      "needs_background": "light"
     },
     "output_type": "display_data"
    }
   ],
   "source": [
    "# affichage du nb de mots par commentaire pour nous aider à choisir le nb de mots dans la matrice \n",
    "df_hist = pd.read_csv('datasets/SatisfactionClients/cdiscount_retraite.csv', index_col=0)\n",
    "df_hist['split'] = df_hist['commentaire'].apply(lambda x: len(x.split(' ')))\n",
    "df_hist['filtre_split'] = df_hist['Commentaire_filtre'].apply(lambda x: len(x.split(' ')))\n",
    "\n",
    "plt.figure(figsize=(12, 4))\n",
    "plt.subplot(121)\n",
    "plt.hist(df_hist['split'])\n",
    "plt.xlim([0, 600])\n",
    "plt.title('commentaires bruts')\n",
    "plt.subplot(122)\n",
    "plt.hist(df_hist['filtre_split'])\n",
    "plt.xlim([0, 600])\n",
    "plt.title('commentaires sans stop_word')"
   ]
  },
  {
   "cell_type": "code",
   "execution_count": 22,
   "id": "aa8ad6cf",
   "metadata": {},
   "outputs": [],
   "source": [
    "# transformation en matrice de même longueur par maxlen défini ci-dessous. Avec des 0 si colonne inférieure à maxlen\n",
    "max_words = 100\n",
    "X_pad_train = pad_sequences(X_seq_train, maxlen=max_words, padding='post')\n",
    "X_pad_test= pad_sequences(X_seq_test, maxlen=max_words, padding='post')"
   ]
  },
  {
   "cell_type": "code",
   "execution_count": 23,
   "id": "e5651d36",
   "metadata": {},
   "outputs": [
    {
     "name": "stdout",
     "output_type": "stream",
     "text": [
      "(96000, 100)\n"
     ]
    },
    {
     "data": {
      "text/plain": [
       "array([[ 54,  20, 425, ...,   0,   0,   0],\n",
       "       [ 54,  10,   5, ...,   0,   0,   0],\n",
       "       [ 52,   8, 378, ...,   0,   0,   0],\n",
       "       ...,\n",
       "       [ 39,  36, 165, ...,   0,   0,   0],\n",
       "       [ 39,  20, 181, ...,   0,   0,   0],\n",
       "       [ 39,  10,   5, ...,   0,   0,   0]])"
      ]
     },
     "execution_count": 23,
     "metadata": {},
     "output_type": "execute_result"
    }
   ],
   "source": [
    "# affice de la matrice\n",
    "print(X_pad_train.shape)\n",
    "X_pad_train"
   ]
  },
  {
   "cell_type": "code",
   "execution_count": 24,
   "id": "a509121c",
   "metadata": {},
   "outputs": [
    {
     "name": "stdout",
     "output_type": "stream",
     "text": [
      "Model: \"sequential\"\n",
      "_________________________________________________________________\n",
      "Layer (type)                 Output Shape              Param #   \n",
      "=================================================================\n",
      "embedding (Embedding)        (None, 100, 100)          50000     \n",
      "_________________________________________________________________\n",
      "global_average_pooling1d (Gl (None, 100)               0         \n",
      "_________________________________________________________________\n",
      "dense (Dense)                (None, 256)               25856     \n",
      "_________________________________________________________________\n",
      "dropout (Dropout)            (None, 256)               0         \n",
      "_________________________________________________________________\n",
      "dense_1 (Dense)              (None, 6)                 1542      \n",
      "=================================================================\n",
      "Total params: 77,398\n",
      "Trainable params: 77,398\n",
      "Non-trainable params: 0\n",
      "_________________________________________________________________\n"
     ]
    }
   ],
   "source": [
    "# Création des couches du modéle\n",
    "\n",
    "from tensorflow.keras.models import Sequential\n",
    "from tensorflow.keras.layers import Dense, GlobalAveragePooling1D, Input, Embedding, Dropout\n",
    "\n",
    "embedding_size = 100\n",
    "\n",
    "model_embedding_1 = Sequential()\n",
    "model_embedding_1.add(Embedding(input_dim=vocabulary_size, output_dim=embedding_size, input_length=max_words, embeddings_initializer='uniform'))  # On reprend le nb de mot choisi dans la tokenisation\n",
    "model_embedding_1.add(GlobalAveragePooling1D())\n",
    "model_embedding_1.add(Dense(units=256, activation='relu'))\n",
    "model_embedding_1.add(Dropout(rate=0.3))\n",
    "model_embedding_1.add(Dense(units=6, activation='softmax')) # En sortie le nb de units devra correspondre aux nb de variables cibles\n",
    "\n",
    "model_embedding_1.summary()"
   ]
  },
  {
   "cell_type": "code",
   "execution_count": 69,
   "id": "9f5cf8c5",
   "metadata": {},
   "outputs": [],
   "source": [
    "# timer pour mesurer le temps écoulé entre les epochs de début et de fin de callback\n",
    "from tensorflow.keras.callbacks import Callback\n",
    "from timeit import default_timer as timer\n",
    "\n",
    "class TimingCallback(Callback):\n",
    "    def __init__(self, logs={}):\n",
    "        self.logs=[]\n",
    "    def on_epoch_begin(self, epoch, logs={}):\n",
    "        self.starttime = timer()\n",
    "    def on_epoch_end(self, epoch, logs={}):\n",
    "        self.logs.append(timer()-self.starttime)\n",
    "\n",
    "# instanciation la fonction TimingCallback()\n",
    "time_callback = TimingCallback()"
   ]
  },
  {
   "cell_type": "code",
   "execution_count": 47,
   "id": "36ef05cc",
   "metadata": {},
   "outputs": [],
   "source": [
    "# Création des callback\n",
    "from tensorflow.keras.callbacks import EarlyStopping\n",
    "\n",
    "early_stop = EarlyStopping(monitor='val_loss',\n",
    "                          min_delta=0.01,\n",
    "                          patience=2,\n",
    "                          mode='min',\n",
    "                          restore_best_weights=True,\n",
    "                          verbose=1)"
   ]
  },
  {
   "cell_type": "code",
   "execution_count": 25,
   "id": "bbfcec82",
   "metadata": {},
   "outputs": [],
   "source": [
    "model_embedding_1.compile(loss='sparse_categorical_crossentropy', optimizer='adam', metrics=['accuracy'])"
   ]
  },
  {
   "cell_type": "code",
   "execution_count": 48,
   "id": "6a48774e",
   "metadata": {},
   "outputs": [
    {
     "name": "stdout",
     "output_type": "stream",
     "text": [
      "Epoch 1/5\n",
      "2700/2700 [==============================] - 19s 7ms/step - loss: 0.7484 - accuracy: 0.7080 - val_loss: 0.7292 - val_accuracy: 0.7219\n",
      "Epoch 2/5\n",
      "2700/2700 [==============================] - 19s 7ms/step - loss: 0.7454 - accuracy: 0.7085 - val_loss: 0.7256 - val_accuracy: 0.7182\n",
      "Epoch 3/5\n",
      "2700/2700 [==============================] - 20s 8ms/step - loss: 0.7441 - accuracy: 0.7097 - val_loss: 0.7338 - val_accuracy: 0.7178\n",
      "Restoring model weights from the end of the best epoch.\n",
      "Epoch 00003: early stopping\n"
     ]
    }
   ],
   "source": [
    "batch_size = 32\n",
    "epochs = 5\n",
    "history = model_embedding_1.fit(X_pad_train, y_train, batch_size=batch_size, epochs=epochs, validation_split=0.1,\n",
    "                               callbacks=[early_stop, time_callback])"
   ]
  },
  {
   "cell_type": "code",
   "execution_count": 49,
   "id": "9ae167f8",
   "metadata": {},
   "outputs": [
    {
     "name": "stdout",
     "output_type": "stream",
     "text": [
      "750/750 [==============================] - 3s 4ms/step - loss: 0.7566 - accuracy: 0.7049\n"
     ]
    },
    {
     "data": {
      "text/plain": [
       "[0.7566401958465576, 0.7048749923706055]"
      ]
     },
     "execution_count": 49,
     "metadata": {},
     "output_type": "execute_result"
    }
   ],
   "source": [
    "model_embedding_1.evaluate(X_pad_test, y_test, verbose=1)"
   ]
  },
  {
   "cell_type": "markdown",
   "id": "6aa031ba",
   "metadata": {},
   "source": [
    "### Calcul des prédictions sur le le de test cdiscount"
   ]
  },
  {
   "cell_type": "code",
   "execution_count": 50,
   "id": "047e9d1c",
   "metadata": {},
   "outputs": [
    {
     "name": "stdout",
     "output_type": "stream",
     "text": [
      "750/750 [==============================] - 2s 3ms/step\n"
     ]
    }
   ],
   "source": [
    "# création des prédictions du eu de test cdiscount à partir du modèle\n",
    "predict_cdiscount = model_embedding_1.predict(X_pad_test, verbose=1)"
   ]
  },
  {
   "cell_type": "code",
   "execution_count": 51,
   "id": "839cd186",
   "metadata": {},
   "outputs": [
    {
     "data": {
      "text/plain": [
       "array([5, 5, 5, ..., 1, 5, 5], dtype=int64)"
      ]
     },
     "execution_count": 51,
     "metadata": {},
     "output_type": "execute_result"
    }
   ],
   "source": [
    "predict_cdiscount_class = predict_cdiscount.argmax(axis=1)\n",
    "predict_cdiscount_class"
   ]
  },
  {
   "cell_type": "code",
   "execution_count": 52,
   "id": "c60286b3",
   "metadata": {},
   "outputs": [
    {
     "name": "stderr",
     "output_type": "stream",
     "text": [
      "C:\\Users\\t.fourtouill\\Anaconda3\\lib\\site-packages\\seaborn\\_decorators.py:36: FutureWarning: Pass the following variable as a keyword arg: x. From version 0.12, the only valid positional argument will be `data`, and passing other arguments without an explicit keyword will result in an error or misinterpretation.\n",
      "  warnings.warn(\n"
     ]
    },
    {
     "data": {
      "image/png": "[encoded data removed]",
      "text/plain": [
       "<Figure size 432x288 with 1 Axes>"
      ]
     },
     "metadata": {
      "needs_background": "light"
     },
     "output_type": "display_data"
    }
   ],
   "source": [
    "sns.countplot(predict_cdiscount_class)\n",
    "plt.show();"
   ]
  },
  {
   "cell_type": "markdown",
   "id": "33371e69",
   "metadata": {},
   "source": [
    "### Calcul des prédictions sur le jeu de test amazon"
   ]
  },
  {
   "cell_type": "code",
   "execution_count": 53,
   "id": "3196ab7a",
   "metadata": {},
   "outputs": [
    {
     "name": "stdout",
     "output_type": "stream",
     "text": [
      "le temps de calcul est de 0.25\n"
     ]
    }
   ],
   "source": [
    "# création d'une colonne commentaire_filtre par application de la fonction commentaire_filtering à la colonne commentaire\n",
    "t0 = time()\n",
    "\n",
    "df_test['commentaire_filtre'] = df_test['commentaire'].apply(lambda x : commentaire_filtering(str(x), stop_words))\n",
    "\n",
    "print('le temps de calcul est de {:.2f}'.format(time()-t0))"
   ]
  },
  {
   "cell_type": "code",
   "execution_count": 54,
   "id": "fa5e08ab",
   "metadata": {},
   "outputs": [
    {
     "data": {
      "text/html": [
       "<div>\n",
       "<style scoped>\n",
       "    .dataframe tbody tr th:only-of-type {\n",
       "        vertical-align: middle;\n",
       "    }\n",
       "\n",
       "    .dataframe tbody tr th {\n",
       "        vertical-align: top;\n",
       "    }\n",
       "\n",
       "    .dataframe thead th {\n",
       "        text-align: right;\n",
       "    }\n",
       "</style>\n",
       "<table border=\"1\" class=\"dataframe\">\n",
       "  <thead>\n",
       "    <tr style=\"text-align: right;\">\n",
       "      <th></th>\n",
       "      <th>pays</th>\n",
       "      <th>note</th>\n",
       "      <th>titre</th>\n",
       "      <th>commentaire</th>\n",
       "      <th>commentaire_filtre</th>\n",
       "    </tr>\n",
       "  </thead>\n",
       "  <tbody>\n",
       "    <tr>\n",
       "      <th>0</th>\n",
       "      <td>FR</td>\n",
       "      <td>1</td>\n",
       "      <td>nage en eaux troubles</td>\n",
       "      <td>ll y a 2 joursnage en eaux troublesSystème de vérification de compte horrible, aucunes indications, quand on fournit les pièces demandées ça ne va pas et on nous redemande les mêmes choses par la suite, service client horrible, attente interminable, me voilà bloqué depuis 3 jours et  cela n'est toujours pas résolu; aucunes informations sur la suite des démarche, ma pire expérience en matière de résolution des soucis liés à un compteDate de l'expérience: 26 novembre 2022</td>\n",
       "      <td>2 joursnage eaux troublessystème vérification compte horrible , aucunes indications , quand fournit pièces demandées ça va redemande mêmes choses suite , service client horrible , attente interminable , voilà bloqué depuis 3 jours cela n'est toujours résolu ; aucunes informations suite démarche , pire expérience matière résolution soucis liés comptedate l'expérience : 26 novembre 2022</td>\n",
       "    </tr>\n",
       "    <tr>\n",
       "      <th>1</th>\n",
       "      <td>FR</td>\n",
       "      <td>1</td>\n",
       "      <td>Colis qui fait le tour du monde</td>\n",
       "      <td>ll y a 2 joursColis qui fait le tour du mondeJe ne suis pas adepte cette enseigne mais j'avoue que je n'ai trouvé ce produit nulle part ailleurs mon expérience pour le paiement XXL par contre pour le suivi et la livraison nul archi nul aucun suivi de commande disponible je ne sais d'où vient mon produit c'est mon ultime commande et la deuxième seulement auprès de cette enseigneDate de l'expérience: 26 novembre 2022</td>\n",
       "      <td>2 jourscolis fait tour mondeje adepte cette enseigne j'avoue n'ai trouvé produit nulle part ailleurs expérience paiement xxl contre suivi livraison nul archi nul aucun suivi commande disponible sais d'où vient produit c'est ultime commande deuxième seulement auprès cette enseignedate l'expérience : 26 novembre 2022</td>\n",
       "    </tr>\n",
       "  </tbody>\n",
       "</table>\n",
       "</div>"
      ],
      "text/plain": [
       "  pays  note                            titre  \\\n",
       "0   FR     1            nage en eaux troubles   \n",
       "1   FR     1  Colis qui fait le tour du monde   \n",
       "\n",
       "                                                                                                                                                                                                                                                                                                                                                                                                                                                                                  commentaire  \\\n",
       "0  ll y a 2 joursnage en eaux troublesSystème de vérification de compte horrible, aucunes indications, quand on fournit les pièces demandées ça ne va pas et on nous redemande les mêmes choses par la suite, service client horrible, attente interminable, me voilà bloqué depuis 3 jours et  cela n'est toujours pas résolu; aucunes informations sur la suite des démarche, ma pire expérience en matière de résolution des soucis liés à un compteDate de l'expérience: 26 novembre 2022   \n",
       "1                                                          ll y a 2 joursColis qui fait le tour du mondeJe ne suis pas adepte cette enseigne mais j'avoue que je n'ai trouvé ce produit nulle part ailleurs mon expérience pour le paiement XXL par contre pour le suivi et la livraison nul archi nul aucun suivi de commande disponible je ne sais d'où vient mon produit c'est mon ultime commande et la deuxième seulement auprès de cette enseigneDate de l'expérience: 26 novembre 2022   \n",
       "\n",
       "                                                                                                                                                                                                                                                                                                                                                                                    commentaire_filtre  \n",
       "0  2 joursnage eaux troublessystème vérification compte horrible , aucunes indications , quand fournit pièces demandées ça va redemande mêmes choses suite , service client horrible , attente interminable , voilà bloqué depuis 3 jours cela n'est toujours résolu ; aucunes informations suite démarche , pire expérience matière résolution soucis liés comptedate l'expérience : 26 novembre 2022  \n",
       "1                                                                         2 jourscolis fait tour mondeje adepte cette enseigne j'avoue n'ai trouvé produit nulle part ailleurs expérience paiement xxl contre suivi livraison nul archi nul aucun suivi commande disponible sais d'où vient produit c'est ultime commande deuxième seulement auprès cette enseignedate l'expérience : 26 novembre 2022  "
      ]
     },
     "execution_count": 54,
     "metadata": {},
     "output_type": "execute_result"
    }
   ],
   "source": [
    "df_test.head(2)"
   ]
  },
  {
   "cell_type": "code",
   "execution_count": 55,
   "id": "11489f4b",
   "metadata": {},
   "outputs": [],
   "source": [
    "# séparation de la variable cible et des variables explicatives\n",
    "check_set = df_test['commentaire_filtre'].values"
   ]
  },
  {
   "cell_type": "code",
   "execution_count": 56,
   "id": "10065e99",
   "metadata": {},
   "outputs": [],
   "source": [
    "# vectorisation des token\n",
    "check_seq = tk.texts_to_sequences(check_set)"
   ]
  },
  {
   "cell_type": "code",
   "execution_count": 57,
   "id": "5197708f",
   "metadata": {},
   "outputs": [],
   "source": [
    "# mise sous matrice numpy\n",
    "check_pad = pad_sequences(check_seq, maxlen=max_words, padding='post')"
   ]
  },
  {
   "cell_type": "code",
   "execution_count": 58,
   "id": "1061496c",
   "metadata": {},
   "outputs": [
    {
     "data": {
      "text/plain": [
       "array([[ 70, 173, 131, ...,   0,   0,   0],\n",
       "       [ 70,  84, 139, ...,   0,   0,   0],\n",
       "       [ 70,  34, 476, ...,   0,   0,   0],\n",
       "       ...,\n",
       "       [ 52,  35,   9, ...,   0,   0,   0],\n",
       "       [ 93,  17, 187, ...,   0,   0,   0],\n",
       "       [ 55,  35,  34, ...,   0,   0,   0]])"
      ]
     },
     "execution_count": 58,
     "metadata": {},
     "output_type": "execute_result"
    }
   ],
   "source": [
    "check_pad"
   ]
  },
  {
   "cell_type": "code",
   "execution_count": 59,
   "id": "bff87635",
   "metadata": {},
   "outputs": [
    {
     "name": "stdout",
     "output_type": "stream",
     "text": [
      "4/4 [==============================] - 0s 4ms/step\n"
     ]
    }
   ],
   "source": [
    "# création des prédictions du jeu de test amazon à partir du modèle\n",
    "check_predict = model_embedding_1.predict(check_pad, verbose=1)"
   ]
  },
  {
   "cell_type": "code",
   "execution_count": 60,
   "id": "3690b8c8",
   "metadata": {},
   "outputs": [
    {
     "name": "stdout",
     "output_type": "stream",
     "text": [
      "[[1.20596255e-10 6.95703030e-01 1.13214612e-01 1.18787214e-01\n",
      "  5.23773357e-02 1.99177600e-02]\n",
      " [6.57347576e-14 8.72121513e-01 6.94709569e-02 3.80561054e-02\n",
      "  1.18274894e-02 8.52395035e-03]\n",
      " [1.50956550e-15 8.47190142e-01 9.02555212e-02 4.76749130e-02\n",
      "  1.02769602e-02 4.60244389e-03]\n",
      " [2.20170271e-22 9.32960212e-01 4.84088957e-02 1.67094190e-02\n",
      "  1.51469698e-03 4.06850188e-04]\n",
      " [3.29822325e-18 9.56319630e-01 2.95324307e-02 1.11102983e-02\n",
      "  2.35168124e-03 6.86003012e-04]\n",
      " [0.00000000e+00 9.99189079e-01 7.89530808e-04 2.05740344e-05\n",
      "  4.93098014e-07 3.06104653e-07]\n",
      " [7.28381937e-24 9.10624444e-01 6.48339689e-02 2.30741818e-02\n",
      "  1.25346880e-03 2.13869338e-04]\n",
      " [7.33957322e-23 9.11610782e-01 5.30126058e-02 3.39200273e-02\n",
      "  1.39131758e-03 6.51781520e-05]\n",
      " [4.16949900e-18 8.55768025e-01 8.45534280e-02 5.19609675e-02\n",
      "  6.70283893e-03 1.01469865e-03]\n",
      " [6.88806701e-09 6.56744063e-01 1.22173093e-01 1.04332358e-01\n",
      "  5.67207709e-02 6.00297488e-02]\n",
      " [3.59749372e-16 8.70549142e-01 7.24368766e-02 4.87186685e-02\n",
      "  6.96757808e-03 1.32779987e-03]\n",
      " [3.80464370e-17 9.31938767e-01 4.32414971e-02 1.99443959e-02\n",
      "  3.40707181e-03 1.46836252e-03]\n",
      " [3.56925511e-07 4.60267305e-01 1.48080498e-01 1.63863868e-01\n",
      "  1.02118269e-01 1.25669748e-01]\n",
      " [3.72512994e-16 9.42806304e-01 3.47609706e-02 1.53548531e-02\n",
      "  4.56587458e-03 2.51198933e-03]\n",
      " [5.02784146e-16 9.39593256e-01 3.53305005e-02 1.23427482e-02\n",
      "  4.83975606e-03 7.89369177e-03]\n",
      " [6.49890475e-19 9.54094112e-01 3.07476614e-02 1.27574280e-02\n",
      "  1.89555436e-03 5.05347096e-04]\n",
      " [8.56386809e-20 8.56280744e-01 7.91590437e-02 6.06675036e-02\n",
      "  3.61948460e-03 2.73217593e-04]\n",
      " [5.13918025e-21 9.35574412e-01 4.64709662e-02 1.54546825e-02\n",
      "  1.98970013e-03 5.10200392e-04]\n",
      " [1.50729679e-10 7.38005757e-01 1.03302389e-01 7.23567978e-02\n",
      "  3.70953009e-02 4.92397398e-02]\n",
      " [4.81391652e-21 9.40632224e-01 4.24488857e-02 1.38417874e-02\n",
      "  2.18885066e-03 8.88302340e-04]\n",
      " [3.39099517e-13 8.43344331e-01 7.99435377e-02 4.89222333e-02\n",
      "  1.50184166e-02 1.27715049e-02]\n",
      " [5.60934438e-21 9.12756145e-01 5.80868758e-02 2.68076751e-02\n",
      "  1.92147086e-03 4.27801162e-04]\n",
      " [7.44085357e-19 9.11618233e-01 5.68302274e-02 2.87717581e-02\n",
      "  2.38573854e-03 3.94086732e-04]\n",
      " [3.37507314e-33 9.41823721e-01 4.67785336e-02 1.11759566e-02\n",
      "  2.14360611e-04 7.34602918e-06]\n",
      " [3.88834132e-10 4.39260364e-01 3.85268927e-02 2.67793573e-02\n",
      "  6.15667254e-02 4.33866590e-01]\n",
      " [1.63078264e-21 9.03665841e-01 6.09000549e-02 3.38268615e-02\n",
      "  1.48569525e-03 1.21515041e-04]\n",
      " [1.22301285e-13 7.12833643e-01 1.23806581e-01 1.32148907e-01\n",
      "  2.65721530e-02 4.63862298e-03]\n",
      " [2.00977646e-21 7.51857936e-01 1.18838318e-01 1.22672670e-01\n",
      "  6.39736839e-03 2.33705141e-04]\n",
      " [2.56010798e-29 9.27064180e-01 4.77800183e-02 2.48425268e-02\n",
      "  3.08166724e-04 5.15938427e-06]\n",
      " [2.61340033e-10 5.38546681e-01 4.23876159e-02 3.15152295e-02\n",
      "  6.49818256e-02 3.22568625e-01]\n",
      " [3.16573733e-27 8.33082795e-01 8.02289471e-02 8.23074058e-02\n",
      "  4.33295406e-03 4.78946931e-05]\n",
      " [1.61294089e-08 4.84379660e-03 5.26751718e-03 3.96527238e-02\n",
      "  2.99619257e-01 6.50616646e-01]\n",
      " [5.66468157e-11 7.68321872e-01 8.68577436e-02 7.33811930e-02\n",
      "  4.10104729e-02 3.04286517e-02]\n",
      " [2.05653361e-09 7.12269306e-01 1.03279673e-01 8.59919786e-02\n",
      "  5.04826792e-02 4.79764268e-02]\n",
      " [5.98085444e-06 3.03042054e-01 8.50474462e-02 1.22533046e-01\n",
      "  1.79356024e-01 3.10015440e-01]\n",
      " [1.90630619e-13 8.73259246e-01 4.29263003e-02 1.89448763e-02\n",
      "  1.46310907e-02 5.02384864e-02]\n",
      " [1.54682434e-22 8.93005788e-01 7.54528567e-02 2.85941083e-02\n",
      "  2.37859646e-03 5.68635354e-04]\n",
      " [1.10465265e-21 9.64215159e-01 2.62718592e-02 8.46235733e-03\n",
      "  7.71699473e-04 2.78981461e-04]\n",
      " [4.74418560e-10 6.45473719e-01 1.27501458e-01 1.39740393e-01\n",
      "  5.68955988e-02 3.03888805e-02]\n",
      " [3.05063538e-19 9.27873075e-01 4.54603843e-02 2.38496903e-02\n",
      "  2.30060797e-03 5.16234955e-04]\n",
      " [9.97854577e-10 5.81866264e-01 9.53603908e-02 1.21819556e-01\n",
      "  1.13805085e-01 8.71486664e-02]\n",
      " [2.29704537e-12 7.61553288e-01 1.15686089e-01 8.94572586e-02\n",
      "  2.12736111e-02 1.20298024e-02]\n",
      " [3.80244565e-08 4.36345041e-01 1.63582817e-01 2.32008979e-01\n",
      "  1.00560956e-01 6.75021037e-02]\n",
      " [3.51068092e-19 9.49760199e-01 3.06974277e-02 1.55699160e-02\n",
      "  3.58066382e-03 3.91738518e-04]\n",
      " [4.02481451e-11 7.97430515e-01 8.49297568e-02 6.36343583e-02\n",
      "  3.21992151e-02 2.18060575e-02]\n",
      " [3.61455190e-16 5.15936911e-01 1.58980340e-01 2.74811119e-01\n",
      "  4.69395518e-02 3.33215576e-03]\n",
      " [2.70183377e-17 1.96976364e-02 3.10000386e-02 4.41622108e-01\n",
      "  4.83181626e-01 2.44985744e-02]\n",
      " [3.14296977e-10 1.44323371e-02 1.96699612e-02 1.43671200e-01\n",
      "  5.65507889e-01 2.56718576e-01]\n",
      " [6.95817675e-07 3.08566213e-01 1.30197048e-01 1.29660755e-01\n",
      "  1.96066409e-01 2.35508934e-01]\n",
      " [2.67617452e-05 2.13771209e-01 9.21543688e-02 1.70091584e-01\n",
      "  2.42028207e-01 2.81927854e-01]\n",
      " [3.77118259e-18 1.42618744e-02 2.27501709e-02 3.43662888e-01\n",
      "  5.95499396e-01 2.38257237e-02]\n",
      " [1.59061891e-12 8.42734337e-01 8.12824816e-02 4.79863808e-02\n",
      "  1.70010347e-02 1.09957093e-02]\n",
      " [7.77485229e-11 8.34569752e-01 6.27305955e-02 4.26210500e-02\n",
      "  3.90193909e-02 2.10591555e-02]\n",
      " [5.59765484e-14 8.79938781e-01 6.55125901e-02 3.77088264e-02\n",
      "  1.08212745e-02 6.01843884e-03]\n",
      " [5.65861846e-08 6.89052269e-02 5.75856119e-02 2.42947906e-01\n",
      "  4.21933562e-01 2.08627582e-01]\n",
      " [2.18646321e-07 3.90331656e-01 1.68101743e-01 2.11611286e-01\n",
      "  1.47653490e-01 8.23015943e-02]\n",
      " [1.34318984e-18 5.80969304e-02 5.15547842e-02 3.82987171e-01\n",
      "  4.89280254e-01 1.80808622e-02]\n",
      " [2.63012860e-21 9.62643564e-01 2.56960262e-02 1.04901195e-02\n",
      "  9.82525758e-04 1.87738056e-04]\n",
      " [1.03170681e-08 5.33423364e-01 1.26959994e-01 1.48954004e-01\n",
      "  8.59067142e-02 1.04756020e-01]\n",
      " [3.61229542e-17 9.44228053e-01 3.37875523e-02 1.59851555e-02\n",
      "  4.06396994e-03 1.93513371e-03]\n",
      " [3.01770187e-09 5.73273480e-01 1.38150051e-01 1.70392394e-01\n",
      "  8.10426921e-02 3.71413901e-02]\n",
      " [2.13946279e-07 3.81415159e-01 6.27720505e-02 5.99133074e-02\n",
      "  1.01335421e-01 3.94563794e-01]\n",
      " [1.00648223e-09 1.89848542e-01 1.25761360e-01 3.70895594e-01\n",
      "  2.43746758e-01 6.97477460e-02]\n",
      " [1.36696167e-06 1.77763119e-01 5.58746830e-02 8.69729742e-02\n",
      "  1.63406178e-01 5.15981734e-01]\n",
      " [8.28198132e-09 4.69787419e-02 2.36825272e-02 1.15171500e-01\n",
      "  4.66092199e-01 3.48075032e-01]\n",
      " [3.91556739e-07 5.39967179e-01 1.00419611e-01 9.06268433e-02\n",
      "  1.00354917e-01 1.68631017e-01]\n",
      " [3.47137900e-13 8.40669155e-01 8.12405944e-02 5.53379990e-02\n",
      "  1.56750064e-02 7.07725668e-03]\n",
      " [9.75114676e-21 1.46360263e-01 8.08928013e-02 4.59942013e-01\n",
      "  3.06143194e-01 6.66166004e-03]\n",
      " [1.15240482e-06 2.99698502e-01 1.41428038e-01 2.36537650e-01\n",
      "  2.01702893e-01 1.20631754e-01]\n",
      " [9.83325435e-07 1.20043121e-01 7.03086480e-02 1.99463889e-01\n",
      "  3.74556184e-01 2.35627189e-01]\n",
      " [1.82642221e-08 6.57085299e-01 6.58577308e-02 4.67994250e-02\n",
      "  7.26225898e-02 1.57634869e-01]\n",
      " [1.13537568e-09 7.36938834e-01 9.85017419e-02 6.79332837e-02\n",
      "  4.68381494e-02 4.97879349e-02]\n",
      " [5.32177857e-10 6.06889784e-01 1.51886344e-01 1.22431815e-01\n",
      "  6.34213835e-02 5.53706065e-02]\n",
      " [4.21180353e-08 4.24651235e-01 6.04730174e-02 4.81725037e-02\n",
      "  8.64568427e-02 3.80246311e-01]\n",
      " [5.99717167e-16 8.86351526e-01 6.52727112e-02 3.59449387e-02\n",
      "  1.02998950e-02 2.13091657e-03]\n",
      " [4.21735598e-11 8.24284136e-01 6.37240484e-02 3.54401693e-02\n",
      "  2.58052349e-02 5.07463887e-02]\n",
      " [4.38342965e-07 5.00477217e-02 6.34541661e-02 2.50476897e-01\n",
      "  3.77628207e-01 2.58392602e-01]\n",
      " [3.83542298e-04 2.29246780e-01 1.27005920e-01 1.73230544e-01\n",
      "  1.95778817e-01 2.74354458e-01]\n",
      " [7.35618016e-07 1.52221367e-01 1.23749554e-01 2.44745240e-01\n",
      "  3.02929282e-01 1.76353827e-01]\n",
      " [7.89929649e-11 5.10315299e-01 1.45808578e-01 2.27134079e-01\n",
      "  9.31095481e-02 2.36324612e-02]\n",
      " [1.07819007e-08 5.20712912e-01 6.10950142e-02 5.78217395e-02\n",
      "  9.99408886e-02 2.60429353e-01]\n",
      " [4.58550906e-12 2.20337708e-04 1.14322458e-04 1.51179696e-03\n",
      "  1.17276162e-01 8.80877435e-01]\n",
      " [2.33075809e-10 1.78336855e-02 2.70278472e-03 6.27431227e-03\n",
      "  8.86367336e-02 8.84552419e-01]\n",
      " [6.33981301e-07 5.28537557e-02 1.83778051e-02 5.24964109e-02\n",
      "  2.52650887e-01 6.23620510e-01]\n",
      " [4.48363945e-18 7.19741404e-01 1.49266437e-01 1.12906903e-01\n",
      "  1.56089384e-02 2.47629220e-03]\n",
      " [1.57912893e-07 2.29149356e-01 5.08443266e-02 5.31937517e-02\n",
      "  1.06155619e-01 5.60656726e-01]\n",
      " [1.09744583e-07 1.40926391e-02 7.20635802e-03 3.38255651e-02\n",
      "  2.73994684e-01 6.70880616e-01]\n",
      " [1.08391141e-09 2.41623865e-03 9.51167895e-04 5.68054197e-03\n",
      "  1.49598986e-01 8.41353118e-01]\n",
      " [1.29352715e-08 6.67543411e-01 6.39805198e-02 4.24522422e-02\n",
      "  6.39551058e-02 1.62068799e-01]\n",
      " [1.03243906e-10 3.17367464e-02 4.08166368e-03 1.12269036e-02\n",
      "  1.74228132e-01 7.78726578e-01]\n",
      " [5.60701028e-06 3.69655699e-01 1.23005182e-01 1.70499042e-01\n",
      "  1.69358164e-01 1.67476267e-01]\n",
      " [2.54230040e-11 6.50697470e-01 3.20425034e-02 1.71233527e-02\n",
      "  3.66957858e-02 2.63440847e-01]\n",
      " [3.12002779e-09 4.09209698e-01 1.94052726e-01 1.98286876e-01\n",
      "  1.11441776e-01 8.70089456e-02]\n",
      " [4.06610345e-09 8.27882532e-03 3.77038028e-03 2.61468776e-02\n",
      "  3.88319165e-01 5.73484838e-01]\n",
      " [1.88445481e-09 5.07370651e-01 6.32544383e-02 4.63809446e-02\n",
      "  6.22835942e-02 3.20710361e-01]\n",
      " [5.46116681e-08 2.38671690e-01 3.42344530e-02 4.21232544e-02\n",
      "  1.53253943e-01 5.31716526e-01]\n",
      " [4.06705697e-10 8.12502146e-01 5.85318916e-02 3.26494686e-02\n",
      "  3.40732299e-02 6.22432530e-02]\n",
      " [4.06599190e-12 8.82038891e-01 4.12987843e-02 1.97641812e-02\n",
      "  1.84090305e-02 3.84891145e-02]\n",
      " [2.36031224e-06 1.71558857e-01 9.13700312e-02 1.77070320e-01\n",
      "  3.15545022e-01 2.44453341e-01]\n",
      " [8.66669403e-10 6.60334647e-01 1.22615032e-01 9.89615843e-02\n",
      "  4.91201654e-02 6.89685494e-02]]\n"
     ]
    }
   ],
   "source": [
    "print(check_predict)"
   ]
  },
  {
   "cell_type": "code",
   "execution_count": 61,
   "id": "918f024f",
   "metadata": {},
   "outputs": [
    {
     "data": {
      "text/plain": [
       "array([1, 1, 1, 1, 1, 1, 1, 1, 1, 1, 1, 1, 1, 1, 1, 1, 1, 1, 1, 1, 1, 1,\n",
       "       1, 1, 1, 1, 1, 1, 1, 1, 1, 5, 1, 1, 5, 1, 1, 1, 1, 1, 1, 1, 1, 1,\n",
       "       1, 1, 4, 4, 1, 5, 4, 1, 1, 1, 4, 1, 4, 1, 1, 1, 1, 5, 3, 5, 4, 1,\n",
       "       1, 3, 1, 4, 1, 1, 1, 1, 1, 1, 4, 5, 4, 1, 1, 5, 5, 5, 1, 5, 5, 5,\n",
       "       1, 5, 1, 1, 1, 5, 1, 5, 1, 1, 4, 1], dtype=int64)"
      ]
     },
     "execution_count": 61,
     "metadata": {},
     "output_type": "execute_result"
    }
   ],
   "source": [
    "check_predict_class = check_predict.argmax(axis=1)\n",
    "check_predict_class"
   ]
  },
  {
   "cell_type": "code",
   "execution_count": 62,
   "id": "819395e0",
   "metadata": {},
   "outputs": [
    {
     "name": "stderr",
     "output_type": "stream",
     "text": [
      "C:\\Users\\t.fourtouill\\Anaconda3\\lib\\site-packages\\seaborn\\_decorators.py:36: FutureWarning: Pass the following variable as a keyword arg: x. From version 0.12, the only valid positional argument will be `data`, and passing other arguments without an explicit keyword will result in an error or misinterpretation.\n",
      "  warnings.warn(\n"
     ]
    },
    {
     "data": {
      "image/png": "[encoded data removed]",
      "text/plain": [
       "<Figure size 432x288 with 1 Axes>"
      ]
     },
     "metadata": {
      "needs_background": "light"
     },
     "output_type": "display_data"
    }
   ],
   "source": [
    "sns.countplot(check_predict_class);"
   ]
  },
  {
   "cell_type": "code",
   "execution_count": 63,
   "id": "438bcba6",
   "metadata": {},
   "outputs": [
    {
     "data": {
      "text/html": [
       "<div>\n",
       "<style scoped>\n",
       "    .dataframe tbody tr th:only-of-type {\n",
       "        vertical-align: middle;\n",
       "    }\n",
       "\n",
       "    .dataframe tbody tr th {\n",
       "        vertical-align: top;\n",
       "    }\n",
       "\n",
       "    .dataframe thead th {\n",
       "        text-align: right;\n",
       "    }\n",
       "</style>\n",
       "<table border=\"1\" class=\"dataframe\">\n",
       "  <thead>\n",
       "    <tr style=\"text-align: right;\">\n",
       "      <th></th>\n",
       "      <th>commentaire</th>\n",
       "      <th>note</th>\n",
       "      <th>prediction</th>\n",
       "    </tr>\n",
       "  </thead>\n",
       "  <tbody>\n",
       "    <tr>\n",
       "      <th>0</th>\n",
       "      <td>ll y a 2 joursnage en eaux troublesSystème de vérification de compte horrible, aucunes indications, quand on fournit les pièces demandées ça ne va pas et on nous redemande les mêmes choses par la suite, service client horrible, attente interminable, me voilà bloqué depuis 3 jours et  cela n'est toujours pas résolu; aucunes informations sur la suite des démarche, ma pire expérience en matière de résolution des soucis liés à un compteDate de l'expérience: 26 novembre 2022</td>\n",
       "      <td>1</td>\n",
       "      <td>1</td>\n",
       "    </tr>\n",
       "    <tr>\n",
       "      <th>1</th>\n",
       "      <td>ll y a 2 joursColis qui fait le tour du mondeJe ne suis pas adepte cette enseigne mais j'avoue que je n'ai trouvé ce produit nulle part ailleurs mon expérience pour le paiement XXL par contre pour le suivi et la livraison nul archi nul aucun suivi de commande disponible je ne sais d'où vient mon produit c'est mon ultime commande et la deuxième seulement auprès de cette enseigneDate de l'expérience: 26 novembre 2022</td>\n",
       "      <td>1</td>\n",
       "      <td>1</td>\n",
       "    </tr>\n",
       "    <tr>\n",
       "      <th>2</th>\n",
       "      <td>ll y a 2 joursPromotion mensongèreHier j’ai voulu commandé un jouet avec la promotion affichée « 3 jouets pour 2 ». Il était bien indiqué que la promotion fonctionnait sur le jouet en question. Arrivé au paiement, pas de déduction pour le 3è jouet, je ne commande donc pas et envoie un mail à Amazon avec print écran à l’appui de la promo sur le jouet. L’interlocutrice n’a rien voulu savoir, la promo a été retirée depuis sur le jouet, honteux !! Non seulement les prix varient sans arrêt et en plus ils ne respectent pas les promotions qu’ils mettent en place. J’ai trouvé mon bonheur chez cdiscount, vendeur bien plus sérieuxDate de l'expérience: 24 novembre 2022</td>\n",
       "      <td>1</td>\n",
       "      <td>1</td>\n",
       "    </tr>\n",
       "    <tr>\n",
       "      <th>3</th>\n",
       "      <td>ll y a 3 joursJ’ai commandé un article cadeau sur…J’ai commandé un article cadeau sur Amazon, le fournisseur n’apparaît plus sur le site d’Amazon, je n’ai aucun retour de la part d’Amazon. Ce n’est que 28€ mais de trop si pas de remboursement. Il me paraît impossible d’entrer en contact avec le service « commercial » après plusieurs tentatives, avez-vous un numéro ou une adresse ? Merci de votre aideDate de l'expérience: 23 novembre 2022</td>\n",
       "      <td>1</td>\n",
       "      <td>1</td>\n",
       "    </tr>\n",
       "    <tr>\n",
       "      <th>4</th>\n",
       "      <td>ll y a 3 joursJ'ai commandé un téléphone portable sur…J'ai commandé un téléphone portable sur le site, reçu mais après lecture de la documentation technique, ce téléphone n'avait pas les fonctions indiquées sur l'annonce, bon l'erreur est humaine, je renvois le matériel avec l'autorisation d'Amazon le 8 novembre, malgré les divers contacts et relances, aucun remboursement ce jour soit le 25 novembre, depuis j'ai acheté un autre téléphone, je me suis fais escroqué de 140 euros, voilà c'est Amazon, ca à bien changé, faites attention.Date de l'expérience: 08 novembre 2022</td>\n",
       "      <td>1</td>\n",
       "      <td>1</td>\n",
       "    </tr>\n",
       "  </tbody>\n",
       "</table>\n",
       "</div>"
      ],
      "text/plain": [
       "                                                                                                                                                                                                                                                                                                                                                                                                                                                                                                                                                                                                                                                                                  commentaire  \\\n",
       "0                                                                                                                                                                                                  ll y a 2 joursnage en eaux troublesSystème de vérification de compte horrible, aucunes indications, quand on fournit les pièces demandées ça ne va pas et on nous redemande les mêmes choses par la suite, service client horrible, attente interminable, me voilà bloqué depuis 3 jours et  cela n'est toujours pas résolu; aucunes informations sur la suite des démarche, ma pire expérience en matière de résolution des soucis liés à un compteDate de l'expérience: 26 novembre 2022   \n",
       "1                                                                                                                                                                                                                                                          ll y a 2 joursColis qui fait le tour du mondeJe ne suis pas adepte cette enseigne mais j'avoue que je n'ai trouvé ce produit nulle part ailleurs mon expérience pour le paiement XXL par contre pour le suivi et la livraison nul archi nul aucun suivi de commande disponible je ne sais d'où vient mon produit c'est mon ultime commande et la deuxième seulement auprès de cette enseigneDate de l'expérience: 26 novembre 2022   \n",
       "2  ll y a 2 joursPromotion mensongèreHier j’ai voulu commandé un jouet avec la promotion affichée « 3 jouets pour 2 ». Il était bien indiqué que la promotion fonctionnait sur le jouet en question. Arrivé au paiement, pas de déduction pour le 3è jouet, je ne commande donc pas et envoie un mail à Amazon avec print écran à l’appui de la promo sur le jouet. L’interlocutrice n’a rien voulu savoir, la promo a été retirée depuis sur le jouet, honteux !! Non seulement les prix varient sans arrêt et en plus ils ne respectent pas les promotions qu’ils mettent en place. J’ai trouvé mon bonheur chez cdiscount, vendeur bien plus sérieuxDate de l'expérience: 24 novembre 2022   \n",
       "3                                                                                                                                                                                                                                   ll y a 3 joursJ’ai commandé un article cadeau sur…J’ai commandé un article cadeau sur Amazon, le fournisseur n’apparaît plus sur le site d’Amazon, je n’ai aucun retour de la part d’Amazon. Ce n’est que 28€ mais de trop si pas de remboursement. Il me paraît impossible d’entrer en contact avec le service « commercial » après plusieurs tentatives, avez-vous un numéro ou une adresse ? Merci de votre aideDate de l'expérience: 23 novembre 2022   \n",
       "4                                                                                             ll y a 3 joursJ'ai commandé un téléphone portable sur…J'ai commandé un téléphone portable sur le site, reçu mais après lecture de la documentation technique, ce téléphone n'avait pas les fonctions indiquées sur l'annonce, bon l'erreur est humaine, je renvois le matériel avec l'autorisation d'Amazon le 8 novembre, malgré les divers contacts et relances, aucun remboursement ce jour soit le 25 novembre, depuis j'ai acheté un autre téléphone, je me suis fais escroqué de 140 euros, voilà c'est Amazon, ca à bien changé, faites attention.Date de l'expérience: 08 novembre 2022   \n",
       "\n",
       "   note  prediction  \n",
       "0     1           1  \n",
       "1     1           1  \n",
       "2     1           1  \n",
       "3     1           1  \n",
       "4     1           1  "
      ]
     },
     "execution_count": 63,
     "metadata": {},
     "output_type": "execute_result"
    }
   ],
   "source": [
    "# comparaison des prédictions et des notes du jeu de test\n",
    "check_df = pd.DataFrame(list(zip(df_test.commentaire, df_test.note, check_predict_class)), columns=['commentaire', 'note', 'prediction'])\n",
    "check_df.head()"
   ]
  },
  {
   "cell_type": "code",
   "execution_count": 67,
   "id": "11ec7bbb",
   "metadata": {},
   "outputs": [
    {
     "name": "stdout",
     "output_type": "stream",
     "text": [
      "              precision    recall  f1-score   support\n",
      "\n",
      "           1       0.68      0.81      0.74      2036\n",
      "           2       0.00      0.00      0.00       554\n",
      "           3       0.38      0.19      0.26      1402\n",
      "           4       0.46      0.18      0.26      5098\n",
      "           5       0.75      0.95      0.83     14910\n",
      "\n",
      "    accuracy                           0.70     24000\n",
      "   macro avg       0.45      0.42      0.42     24000\n",
      "weighted avg       0.64      0.70      0.65     24000\n",
      "\n"
     ]
    },
    {
     "name": "stderr",
     "output_type": "stream",
     "text": [
      "C:\\Users\\t.fourtouill\\Anaconda3\\lib\\site-packages\\sklearn\\metrics\\_classification.py:1327: UndefinedMetricWarning: Precision and F-score are ill-defined and being set to 0.0 in labels with no predicted samples. Use `zero_division` parameter to control this behavior.\n",
      "  _warn_prf(average, modifier, msg_start, len(result))\n",
      "C:\\Users\\t.fourtouill\\Anaconda3\\lib\\site-packages\\sklearn\\metrics\\_classification.py:1327: UndefinedMetricWarning: Precision and F-score are ill-defined and being set to 0.0 in labels with no predicted samples. Use `zero_division` parameter to control this behavior.\n",
      "  _warn_prf(average, modifier, msg_start, len(result))\n",
      "C:\\Users\\t.fourtouill\\Anaconda3\\lib\\site-packages\\sklearn\\metrics\\_classification.py:1327: UndefinedMetricWarning: Precision and F-score are ill-defined and being set to 0.0 in labels with no predicted samples. Use `zero_division` parameter to control this behavior.\n",
      "  _warn_prf(average, modifier, msg_start, len(result))\n"
     ]
    },
    {
     "data": {
      "text/html": [
       "<div>\n",
       "<style scoped>\n",
       "    .dataframe tbody tr th:only-of-type {\n",
       "        vertical-align: middle;\n",
       "    }\n",
       "\n",
       "    .dataframe tbody tr th {\n",
       "        vertical-align: top;\n",
       "    }\n",
       "\n",
       "    .dataframe thead th {\n",
       "        text-align: right;\n",
       "    }\n",
       "</style>\n",
       "<table border=\"1\" class=\"dataframe\">\n",
       "  <thead>\n",
       "    <tr style=\"text-align: right;\">\n",
       "      <th>predictions</th>\n",
       "      <th>1</th>\n",
       "      <th>3</th>\n",
       "      <th>4</th>\n",
       "      <th>5</th>\n",
       "    </tr>\n",
       "    <tr>\n",
       "      <th>données réelles</th>\n",
       "      <th></th>\n",
       "      <th></th>\n",
       "      <th></th>\n",
       "      <th></th>\n",
       "    </tr>\n",
       "  </thead>\n",
       "  <tbody>\n",
       "    <tr>\n",
       "      <th>1</th>\n",
       "      <td>1641</td>\n",
       "      <td>101</td>\n",
       "      <td>66</td>\n",
       "      <td>228</td>\n",
       "    </tr>\n",
       "    <tr>\n",
       "      <th>2</th>\n",
       "      <td>218</td>\n",
       "      <td>95</td>\n",
       "      <td>69</td>\n",
       "      <td>172</td>\n",
       "    </tr>\n",
       "    <tr>\n",
       "      <th>3</th>\n",
       "      <td>274</td>\n",
       "      <td>270</td>\n",
       "      <td>310</td>\n",
       "      <td>548</td>\n",
       "    </tr>\n",
       "    <tr>\n",
       "      <th>4</th>\n",
       "      <td>157</td>\n",
       "      <td>175</td>\n",
       "      <td>903</td>\n",
       "      <td>3863</td>\n",
       "    </tr>\n",
       "    <tr>\n",
       "      <th>5</th>\n",
       "      <td>130</td>\n",
       "      <td>66</td>\n",
       "      <td>611</td>\n",
       "      <td>14103</td>\n",
       "    </tr>\n",
       "  </tbody>\n",
       "</table>\n",
       "</div>"
      ],
      "text/plain": [
       "predictions         1    3    4      5\n",
       "données réelles                       \n",
       "1                1641  101   66    228\n",
       "2                 218   95   69    172\n",
       "3                 274  270  310    548\n",
       "4                 157  175  903   3863\n",
       "5                 130   66  611  14103"
      ]
     },
     "metadata": {},
     "output_type": "display_data"
    },
    {
     "name": "stdout",
     "output_type": "stream",
     "text": [
      "              precision    recall  f1-score   support\n",
      "\n",
      "           1       0.27      1.00      0.43        20\n",
      "           2       0.00      0.00      0.00        20\n",
      "           3       0.00      0.00      0.00        20\n",
      "           4       0.40      0.20      0.27        20\n",
      "           5       0.60      0.45      0.51        20\n",
      "\n",
      "    accuracy                           0.33       100\n",
      "   macro avg       0.25      0.33      0.24       100\n",
      "weighted avg       0.25      0.33      0.24       100\n",
      "\n"
     ]
    },
    {
     "name": "stderr",
     "output_type": "stream",
     "text": [
      "C:\\Users\\t.fourtouill\\Anaconda3\\lib\\site-packages\\sklearn\\metrics\\_classification.py:1327: UndefinedMetricWarning: Precision and F-score are ill-defined and being set to 0.0 in labels with no predicted samples. Use `zero_division` parameter to control this behavior.\n",
      "  _warn_prf(average, modifier, msg_start, len(result))\n",
      "C:\\Users\\t.fourtouill\\Anaconda3\\lib\\site-packages\\sklearn\\metrics\\_classification.py:1327: UndefinedMetricWarning: Precision and F-score are ill-defined and being set to 0.0 in labels with no predicted samples. Use `zero_division` parameter to control this behavior.\n",
      "  _warn_prf(average, modifier, msg_start, len(result))\n",
      "C:\\Users\\t.fourtouill\\Anaconda3\\lib\\site-packages\\sklearn\\metrics\\_classification.py:1327: UndefinedMetricWarning: Precision and F-score are ill-defined and being set to 0.0 in labels with no predicted samples. Use `zero_division` parameter to control this behavior.\n",
      "  _warn_prf(average, modifier, msg_start, len(result))\n"
     ]
    },
    {
     "data": {
      "text/html": [
       "<div>\n",
       "<style scoped>\n",
       "    .dataframe tbody tr th:only-of-type {\n",
       "        vertical-align: middle;\n",
       "    }\n",
       "\n",
       "    .dataframe tbody tr th {\n",
       "        vertical-align: top;\n",
       "    }\n",
       "\n",
       "    .dataframe thead th {\n",
       "        text-align: right;\n",
       "    }\n",
       "</style>\n",
       "<table border=\"1\" class=\"dataframe\">\n",
       "  <thead>\n",
       "    <tr style=\"text-align: right;\">\n",
       "      <th>predictions</th>\n",
       "      <th>1</th>\n",
       "      <th>3</th>\n",
       "      <th>4</th>\n",
       "      <th>5</th>\n",
       "    </tr>\n",
       "    <tr>\n",
       "      <th>données réelles</th>\n",
       "      <th></th>\n",
       "      <th></th>\n",
       "      <th></th>\n",
       "      <th></th>\n",
       "    </tr>\n",
       "  </thead>\n",
       "  <tbody>\n",
       "    <tr>\n",
       "      <th>1</th>\n",
       "      <td>20</td>\n",
       "      <td>0</td>\n",
       "      <td>0</td>\n",
       "      <td>0</td>\n",
       "    </tr>\n",
       "    <tr>\n",
       "      <th>2</th>\n",
       "      <td>18</td>\n",
       "      <td>0</td>\n",
       "      <td>0</td>\n",
       "      <td>2</td>\n",
       "    </tr>\n",
       "    <tr>\n",
       "      <th>3</th>\n",
       "      <td>14</td>\n",
       "      <td>0</td>\n",
       "      <td>5</td>\n",
       "      <td>1</td>\n",
       "    </tr>\n",
       "    <tr>\n",
       "      <th>4</th>\n",
       "      <td>11</td>\n",
       "      <td>2</td>\n",
       "      <td>4</td>\n",
       "      <td>3</td>\n",
       "    </tr>\n",
       "    <tr>\n",
       "      <th>5</th>\n",
       "      <td>10</td>\n",
       "      <td>0</td>\n",
       "      <td>1</td>\n",
       "      <td>9</td>\n",
       "    </tr>\n",
       "  </tbody>\n",
       "</table>\n",
       "</div>"
      ],
      "text/plain": [
       "predictions       1  3  4  5\n",
       "données réelles             \n",
       "1                20  0  0  0\n",
       "2                18  0  0  2\n",
       "3                14  0  5  1\n",
       "4                11  2  4  3\n",
       "5                10  0  1  9"
      ]
     },
     "metadata": {},
     "output_type": "display_data"
    },
    {
     "data": {
      "text/html": [
       "<div>\n",
       "<style scoped>\n",
       "    .dataframe tbody tr th:only-of-type {\n",
       "        vertical-align: middle;\n",
       "    }\n",
       "\n",
       "    .dataframe tbody tr th {\n",
       "        vertical-align: top;\n",
       "    }\n",
       "\n",
       "    .dataframe thead th {\n",
       "        text-align: right;\n",
       "    }\n",
       "</style>\n",
       "<table border=\"1\" class=\"dataframe\">\n",
       "  <thead>\n",
       "    <tr style=\"text-align: right;\">\n",
       "      <th>predictions</th>\n",
       "      <th>1</th>\n",
       "      <th>3</th>\n",
       "      <th>4</th>\n",
       "      <th>5</th>\n",
       "    </tr>\n",
       "    <tr>\n",
       "      <th>données réelles</th>\n",
       "      <th></th>\n",
       "      <th></th>\n",
       "      <th></th>\n",
       "      <th></th>\n",
       "    </tr>\n",
       "  </thead>\n",
       "  <tbody>\n",
       "    <tr>\n",
       "      <th>1</th>\n",
       "      <td>1.00</td>\n",
       "      <td>0.0</td>\n",
       "      <td>0.00</td>\n",
       "      <td>0.00</td>\n",
       "    </tr>\n",
       "    <tr>\n",
       "      <th>2</th>\n",
       "      <td>0.90</td>\n",
       "      <td>0.0</td>\n",
       "      <td>0.00</td>\n",
       "      <td>0.10</td>\n",
       "    </tr>\n",
       "    <tr>\n",
       "      <th>3</th>\n",
       "      <td>0.70</td>\n",
       "      <td>0.0</td>\n",
       "      <td>0.25</td>\n",
       "      <td>0.05</td>\n",
       "    </tr>\n",
       "    <tr>\n",
       "      <th>4</th>\n",
       "      <td>0.55</td>\n",
       "      <td>0.1</td>\n",
       "      <td>0.20</td>\n",
       "      <td>0.15</td>\n",
       "    </tr>\n",
       "    <tr>\n",
       "      <th>5</th>\n",
       "      <td>0.50</td>\n",
       "      <td>0.0</td>\n",
       "      <td>0.05</td>\n",
       "      <td>0.45</td>\n",
       "    </tr>\n",
       "  </tbody>\n",
       "</table>\n",
       "</div>"
      ],
      "text/plain": [
       "predictions         1    3     4     5\n",
       "données réelles                       \n",
       "1                1.00  0.0  0.00  0.00\n",
       "2                0.90  0.0  0.00  0.10\n",
       "3                0.70  0.0  0.25  0.05\n",
       "4                0.55  0.1  0.20  0.15\n",
       "5                0.50  0.0  0.05  0.45"
      ]
     },
     "metadata": {},
     "output_type": "display_data"
    },
    {
     "name": "stdout",
     "output_type": "stream",
     "text": [
      "les prédictions correctes sont supérieures à 50% pour 1 étoile(s) avec 100%\n"
     ]
    }
   ],
   "source": [
    "from sklearn.metrics import classification_report\n",
    "\n",
    "cr = classification_report(y_test, predict_cdiscount_class)\n",
    "print(cr)\n",
    "\n",
    "cm = pd.crosstab(y_test, predict_cdiscount_class, rownames=['données réelles'], colnames=['predictions'])\n",
    "display(cm)\n",
    "\n",
    "# vérification des résultats sur un jeu de test externe (100 commentaires amazon également répartis entre les étoiles)\n",
    "\n",
    "cm_test = classification_report(df_test.note, check_predict_class)\n",
    "print(cm_test)\n",
    "\n",
    "cm_test2 = pd.crosstab(df_test.note, check_predict_class, rownames=['données réelles'], colnames=['predictions'])\n",
    "display(cm_test2)\n",
    "\n",
    "cm_test3 = pd.crosstab(df_test.note, check_predict_class, rownames=['données réelles'], colnames=['predictions'], normalize=0)\n",
    "display(cm_test3)\n",
    "\n",
    "for i in cm_test3.index:\n",
    "    for j in cm_test3.columns :\n",
    "        if (i==j and cm_test3.loc[i, j] > 0.5) :\n",
    "            print(\"les prédictions correctes sont supérieures à 50% pour {} étoile(s) avec {:0.0%}\".format(i, cm_test3.loc[i, j]))"
   ]
  },
  {
   "cell_type": "code",
   "execution_count": 68,
   "id": "8b6366a5",
   "metadata": {},
   "outputs": [
    {
     "name": "stdout",
     "output_type": "stream",
     "text": [
      "INFO:tensorflow:Assets written to: datasets/SatisfactionClients/model_embedding2\\assets\n"
     ]
    }
   ],
   "source": [
    "import os\n",
    "path = \"/Users/t.fourtouill/Downloads/SatisfactionClients\"\n",
    "os.makedirs(path, exist_ok=True)\n",
    "model_embedding_1.save('datasets/SatisfactionClients/model_embedding2')"
   ]
  }
 ],
 "metadata": {
  "kernelspec": {
   "display_name": "Python 3 (ipykernel)",
   "language": "python",
   "name": "python3"
  },
  "language_info": {
   "codemirror_mode": {
    "name": "ipython",
    "version": 3
   },
   "file_extension": ".py",
   "mimetype": "text/x-python",
   "name": "python",
   "nbconvert_exporter": "python",
   "pygments_lexer": "ipython3",
   "version": "3.9.7"
  }
 },
 "nbformat": 4,
 "nbformat_minor": 5
}
