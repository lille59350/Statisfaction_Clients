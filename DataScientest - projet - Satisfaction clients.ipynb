{
 "cells": [
  {
   "cell_type": "code",
   "execution_count": 36,
   "id": "a6ba6f8e",
   "metadata": {},
   "outputs": [],
   "source": [
    "import pandas as pd\n",
    "df = pd.read_csv('data_projet.csv', sep=';', encoding='utf8')"
   ]
  },
  {
   "cell_type": "code",
   "execution_count": 39,
   "id": "77f9f009",
   "metadata": {},
   "outputs": [
    {
     "data": {
      "text/plain": [
       "(19863, 11)"
      ]
     },
     "metadata": {},
     "output_type": "display_data"
    },
    {
     "data": {
      "text/html": [
       "<div>\n",
       "<style scoped>\n",
       "    .dataframe tbody tr th:only-of-type {\n",
       "        vertical-align: middle;\n",
       "    }\n",
       "\n",
       "    .dataframe tbody tr th {\n",
       "        vertical-align: top;\n",
       "    }\n",
       "\n",
       "    .dataframe thead th {\n",
       "        text-align: right;\n",
       "    }\n",
       "</style>\n",
       "<table border=\"1\" class=\"dataframe\">\n",
       "  <thead>\n",
       "    <tr style=\"text-align: right;\">\n",
       "      <th></th>\n",
       "      <th>Commentaire</th>\n",
       "      <th>star</th>\n",
       "      <th>date</th>\n",
       "      <th>client</th>\n",
       "      <th>reponse</th>\n",
       "      <th>source</th>\n",
       "      <th>company</th>\n",
       "      <th>ville</th>\n",
       "      <th>maj</th>\n",
       "      <th>date_commande</th>\n",
       "      <th>ecart</th>\n",
       "    </tr>\n",
       "  </thead>\n",
       "  <tbody>\n",
       "    <tr>\n",
       "      <th>0</th>\n",
       "      <td>Bonjour , Ca doit faire 5 ans environ que je s...</td>\n",
       "      <td>1</td>\n",
       "      <td>2021-06-20 00:00:00+00:00</td>\n",
       "      <td>AUDREY Du 62</td>\n",
       "      <td>NaN</td>\n",
       "      <td>TrustPilot</td>\n",
       "      <td>ShowRoom</td>\n",
       "      <td>NaN</td>\n",
       "      <td>NaN</td>\n",
       "      <td>NaN</td>\n",
       "      <td>NaN</td>\n",
       "    </tr>\n",
       "    <tr>\n",
       "      <th>1</th>\n",
       "      <td>Vente lacoste article manquant photo prise sur...</td>\n",
       "      <td>1</td>\n",
       "      <td>2021-06-20 00:00:00+00:00</td>\n",
       "      <td>Nanasky De Verteuil</td>\n",
       "      <td>NaN</td>\n",
       "      <td>TrustPilot</td>\n",
       "      <td>ShowRoom</td>\n",
       "      <td>NaN</td>\n",
       "      <td>NaN</td>\n",
       "      <td>NaN</td>\n",
       "      <td>NaN</td>\n",
       "    </tr>\n",
       "    <tr>\n",
       "      <th>2</th>\n",
       "      <td>Vente Lacoste Honteuse , article erroné , arti...</td>\n",
       "      <td>1</td>\n",
       "      <td>2021-06-19 00:00:00+00:00</td>\n",
       "      <td>Vanessa L</td>\n",
       "      <td>NaN</td>\n",
       "      <td>TrustPilot</td>\n",
       "      <td>ShowRoom</td>\n",
       "      <td>NaN</td>\n",
       "      <td>NaN</td>\n",
       "      <td>NaN</td>\n",
       "      <td>NaN</td>\n",
       "    </tr>\n",
       "    <tr>\n",
       "      <th>3</th>\n",
       "      <td>J'ai commandé des mules de la marque Moosefiel...</td>\n",
       "      <td>2</td>\n",
       "      <td>2021-06-19 00:00:00+00:00</td>\n",
       "      <td>Valery PERRAULT</td>\n",
       "      <td>Bonjour , Je suis sincèrement navré d'apprendr...</td>\n",
       "      <td>TrustPilot</td>\n",
       "      <td>ShowRoom</td>\n",
       "      <td>NaN</td>\n",
       "      <td>NaN</td>\n",
       "      <td>NaN</td>\n",
       "      <td>NaN</td>\n",
       "    </tr>\n",
       "    <tr>\n",
       "      <th>4</th>\n",
       "      <td>Commande téléphone etat A+ . Livraison d un vi...</td>\n",
       "      <td>1</td>\n",
       "      <td>2021-06-19 00:00:00+00:00</td>\n",
       "      <td>JULIE DRINGENBERG</td>\n",
       "      <td>Bonjour Julie , Je suis sincèrement désolé de ...</td>\n",
       "      <td>TrustPilot</td>\n",
       "      <td>ShowRoom</td>\n",
       "      <td>NaN</td>\n",
       "      <td>NaN</td>\n",
       "      <td>NaN</td>\n",
       "      <td>NaN</td>\n",
       "    </tr>\n",
       "  </tbody>\n",
       "</table>\n",
       "</div>"
      ],
      "text/plain": [
       "                                         Commentaire  star  \\\n",
       "0  Bonjour , Ca doit faire 5 ans environ que je s...     1   \n",
       "1  Vente lacoste article manquant photo prise sur...     1   \n",
       "2  Vente Lacoste Honteuse , article erroné , arti...     1   \n",
       "3  J'ai commandé des mules de la marque Moosefiel...     2   \n",
       "4  Commande téléphone etat A+ . Livraison d un vi...     1   \n",
       "\n",
       "                        date               client  \\\n",
       "0  2021-06-20 00:00:00+00:00         AUDREY Du 62   \n",
       "1  2021-06-20 00:00:00+00:00  Nanasky De Verteuil   \n",
       "2  2021-06-19 00:00:00+00:00            Vanessa L   \n",
       "3  2021-06-19 00:00:00+00:00      Valery PERRAULT   \n",
       "4  2021-06-19 00:00:00+00:00    JULIE DRINGENBERG   \n",
       "\n",
       "                                             reponse      source   company  \\\n",
       "0                                                NaN  TrustPilot  ShowRoom   \n",
       "1                                                NaN  TrustPilot  ShowRoom   \n",
       "2                                                NaN  TrustPilot  ShowRoom   \n",
       "3  Bonjour , Je suis sincèrement navré d'apprendr...  TrustPilot  ShowRoom   \n",
       "4  Bonjour Julie , Je suis sincèrement désolé de ...  TrustPilot  ShowRoom   \n",
       "\n",
       "  ville  maj date_commande  ecart  \n",
       "0   NaN  NaN           NaN    NaN  \n",
       "1   NaN  NaN           NaN    NaN  \n",
       "2   NaN  NaN           NaN    NaN  \n",
       "3   NaN  NaN           NaN    NaN  \n",
       "4   NaN  NaN           NaN    NaN  "
      ]
     },
     "metadata": {},
     "output_type": "display_data"
    },
    {
     "name": "stdout",
     "output_type": "stream",
     "text": [
      "<class 'pandas.core.frame.DataFrame'>\n",
      "RangeIndex: 19863 entries, 0 to 19862\n",
      "Data columns (total 11 columns):\n",
      " #   Column         Non-Null Count  Dtype  \n",
      "---  ------         --------------  -----  \n",
      " 0   Commentaire    19834 non-null  object \n",
      " 1   star           19863 non-null  int64  \n",
      " 2   date           19488 non-null  object \n",
      " 3   client         10215 non-null  object \n",
      " 4   reponse        8477 non-null   object \n",
      " 5   source         19863 non-null  object \n",
      " 6   company        19863 non-null  object \n",
      " 7   ville          4860 non-null   object \n",
      " 8   maj            5 non-null      object \n",
      " 9   date_commande  6686 non-null   object \n",
      " 10  ecart          6686 non-null   float64\n",
      "dtypes: float64(1), int64(1), object(9)\n",
      "memory usage: 1.7+ MB\n"
     ]
    },
    {
     "data": {
      "text/plain": [
       "None"
      ]
     },
     "metadata": {},
     "output_type": "display_data"
    },
    {
     "data": {
      "text/html": [
       "<div>\n",
       "<style scoped>\n",
       "    .dataframe tbody tr th:only-of-type {\n",
       "        vertical-align: middle;\n",
       "    }\n",
       "\n",
       "    .dataframe tbody tr th {\n",
       "        vertical-align: top;\n",
       "    }\n",
       "\n",
       "    .dataframe thead th {\n",
       "        text-align: right;\n",
       "    }\n",
       "</style>\n",
       "<table border=\"1\" class=\"dataframe\">\n",
       "  <thead>\n",
       "    <tr style=\"text-align: right;\">\n",
       "      <th></th>\n",
       "      <th>star</th>\n",
       "      <th>ecart</th>\n",
       "    </tr>\n",
       "  </thead>\n",
       "  <tbody>\n",
       "    <tr>\n",
       "      <th>count</th>\n",
       "      <td>19863.000000</td>\n",
       "      <td>6686.000000</td>\n",
       "    </tr>\n",
       "    <tr>\n",
       "      <th>mean</th>\n",
       "      <td>3.408398</td>\n",
       "      <td>14.286419</td>\n",
       "    </tr>\n",
       "    <tr>\n",
       "      <th>std</th>\n",
       "      <td>1.650531</td>\n",
       "      <td>10.373320</td>\n",
       "    </tr>\n",
       "    <tr>\n",
       "      <th>min</th>\n",
       "      <td>1.000000</td>\n",
       "      <td>1.000000</td>\n",
       "    </tr>\n",
       "    <tr>\n",
       "      <th>25%</th>\n",
       "      <td>1.000000</td>\n",
       "      <td>9.000000</td>\n",
       "    </tr>\n",
       "    <tr>\n",
       "      <th>50%</th>\n",
       "      <td>4.000000</td>\n",
       "      <td>12.000000</td>\n",
       "    </tr>\n",
       "    <tr>\n",
       "      <th>75%</th>\n",
       "      <td>5.000000</td>\n",
       "      <td>17.000000</td>\n",
       "    </tr>\n",
       "    <tr>\n",
       "      <th>max</th>\n",
       "      <td>5.000000</td>\n",
       "      <td>304.000000</td>\n",
       "    </tr>\n",
       "  </tbody>\n",
       "</table>\n",
       "</div>"
      ],
      "text/plain": [
       "               star        ecart\n",
       "count  19863.000000  6686.000000\n",
       "mean       3.408398    14.286419\n",
       "std        1.650531    10.373320\n",
       "min        1.000000     1.000000\n",
       "25%        1.000000     9.000000\n",
       "50%        4.000000    12.000000\n",
       "75%        5.000000    17.000000\n",
       "max        5.000000   304.000000"
      ]
     },
     "metadata": {},
     "output_type": "display_data"
    },
    {
     "data": {
      "text/html": [
       "<div>\n",
       "<style scoped>\n",
       "    .dataframe tbody tr th:only-of-type {\n",
       "        vertical-align: middle;\n",
       "    }\n",
       "\n",
       "    .dataframe tbody tr th {\n",
       "        vertical-align: top;\n",
       "    }\n",
       "\n",
       "    .dataframe thead th {\n",
       "        text-align: right;\n",
       "    }\n",
       "</style>\n",
       "<table border=\"1\" class=\"dataframe\">\n",
       "  <thead>\n",
       "    <tr style=\"text-align: right;\">\n",
       "      <th></th>\n",
       "      <th>Commentaire</th>\n",
       "      <th>date</th>\n",
       "      <th>client</th>\n",
       "      <th>reponse</th>\n",
       "      <th>source</th>\n",
       "      <th>company</th>\n",
       "      <th>ville</th>\n",
       "      <th>maj</th>\n",
       "      <th>date_commande</th>\n",
       "    </tr>\n",
       "  </thead>\n",
       "  <tbody>\n",
       "    <tr>\n",
       "      <th>count</th>\n",
       "      <td>19834</td>\n",
       "      <td>19488</td>\n",
       "      <td>10215</td>\n",
       "      <td>8477</td>\n",
       "      <td>19863</td>\n",
       "      <td>19863</td>\n",
       "      <td>4860</td>\n",
       "      <td>5</td>\n",
       "      <td>6686</td>\n",
       "    </tr>\n",
       "    <tr>\n",
       "      <th>unique</th>\n",
       "      <td>17174</td>\n",
       "      <td>1880</td>\n",
       "      <td>7569</td>\n",
       "      <td>2033</td>\n",
       "      <td>2</td>\n",
       "      <td>2</td>\n",
       "      <td>2457</td>\n",
       "      <td>5</td>\n",
       "      <td>385</td>\n",
       "    </tr>\n",
       "    <tr>\n",
       "      <th>top</th>\n",
       "      <td>Parfait</td>\n",
       "      <td>12/06/2020</td>\n",
       "      <td>Client</td>\n",
       "      <td>Bonjour , Merci d'avoir partagé votre expérien...</td>\n",
       "      <td>TrustedShop</td>\n",
       "      <td>ShowRoom</td>\n",
       "      <td>Paris</td>\n",
       "      <td>30/04/2021</td>\n",
       "      <td>19/08/2020</td>\n",
       "    </tr>\n",
       "    <tr>\n",
       "      <th>freq</th>\n",
       "      <td>284</td>\n",
       "      <td>257</td>\n",
       "      <td>31</td>\n",
       "      <td>1162</td>\n",
       "      <td>14503</td>\n",
       "      <td>16823</td>\n",
       "      <td>110</td>\n",
       "      <td>1</td>\n",
       "      <td>73</td>\n",
       "    </tr>\n",
       "  </tbody>\n",
       "</table>\n",
       "</div>"
      ],
      "text/plain": [
       "       Commentaire        date  client  \\\n",
       "count        19834       19488   10215   \n",
       "unique       17174        1880    7569   \n",
       "top        Parfait  12/06/2020  Client   \n",
       "freq           284         257      31   \n",
       "\n",
       "                                                  reponse       source  \\\n",
       "count                                                8477        19863   \n",
       "unique                                               2033            2   \n",
       "top     Bonjour , Merci d'avoir partagé votre expérien...  TrustedShop   \n",
       "freq                                                 1162        14503   \n",
       "\n",
       "         company  ville         maj date_commande  \n",
       "count      19863   4860           5          6686  \n",
       "unique         2   2457           5           385  \n",
       "top     ShowRoom  Paris  30/04/2021    19/08/2020  \n",
       "freq       16823    110           1            73  "
      ]
     },
     "metadata": {},
     "output_type": "display_data"
    }
   ],
   "source": [
    "display(df.shape)\n",
    "display(df.head(5))\n",
    "display(df.info())\n",
    "display(df.describe())\n",
    "display(df.describe(include='object'))"
   ]
  },
  {
   "cell_type": "code",
   "execution_count": 49,
   "id": "aa78cb68",
   "metadata": {},
   "outputs": [
    {
     "name": "stdout",
     "output_type": "stream",
     "text": [
      "['ShowRoom' 'VeePee']\n",
      "['TrustPilot' 'TrustedShop']\n",
      "[nan '30/04/2021' '24/04/2021' '15/04/2021' '26/02/2021' '23/02/2021']\n"
     ]
    }
   ],
   "source": [
    "print(df['company'].unique())\n",
    "print(df['source'].unique())\n",
    "print(df['maj'].unique())"
   ]
  },
  {
   "cell_type": "code",
   "execution_count": null,
   "id": "620661c0",
   "metadata": {},
   "outputs": [],
   "source": [
    "# 2 company étudiées ShowRoom et VeePee\n",
    "# 2 sites stockent des commentaires : TrustPilot et TrustedShop"
   ]
  },
  {
   "cell_type": "code",
   "execution_count": 48,
   "id": "0e15c68f",
   "metadata": {},
   "outputs": [
    {
     "name": "stdout",
     "output_type": "stream",
     "text": [
      "['TrustPilot' 'TrustedShop']\n",
      "['TrustPilot']\n"
     ]
    }
   ],
   "source": [
    "print(df['source'][df['company']=='ShowRoom'].unique())\n",
    "print(df['source'][df['company']=='VeePee'].unique())"
   ]
  },
  {
   "cell_type": "code",
   "execution_count": null,
   "id": "c6335652",
   "metadata": {},
   "outputs": [],
   "source": [
    "# quand company = ShowRoom les avis peuvent être fait sur TrustPilot et TrustedShop\n",
    "# quand company = VeePee les avis peuvent être fait sur TrustPilot"
   ]
  },
  {
   "cell_type": "code",
   "execution_count": 53,
   "id": "bd9e849e",
   "metadata": {},
   "outputs": [
    {
     "data": {
      "text/plain": [
       "[0.15, 0.0, 1.89, 48.57, 57.32, 0.0, 0.0, 75.53, 99.97, 66.34, 66.34]"
      ]
     },
     "execution_count": 53,
     "metadata": {},
     "output_type": "execute_result"
    }
   ],
   "source": [
    "colonne = df.columns\n",
    "NaN = [round((df[i].isna().sum()/len(df))*100, 2) for i in colonne]\n",
    "NaN"
   ]
  },
  {
   "cell_type": "code",
   "execution_count": 54,
   "id": "0dd40948",
   "metadata": {},
   "outputs": [],
   "source": [
    "result_NaN = {}\n",
    "for i, j in zip(colonne, NaN):\n",
    "    result_NaN[i] = j"
   ]
  },
  {
   "cell_type": "code",
   "execution_count": 55,
   "id": "c3e336e3",
   "metadata": {},
   "outputs": [
    {
     "data": {
      "text/plain": [
       "{'Commentaire': 0.15,\n",
       " 'star': 0.0,\n",
       " 'date': 1.89,\n",
       " 'client': 48.57,\n",
       " 'reponse': 57.32,\n",
       " 'source': 0.0,\n",
       " 'company': 0.0,\n",
       " 'ville': 75.53,\n",
       " 'maj': 99.97,\n",
       " 'date_commande': 66.34,\n",
       " 'ecart': 66.34}"
      ]
     },
     "execution_count": 55,
     "metadata": {},
     "output_type": "execute_result"
    }
   ],
   "source": [
    "result_NaN"
   ]
  },
  {
   "cell_type": "code",
   "execution_count": 61,
   "id": "6b13f1e8",
   "metadata": {},
   "outputs": [
    {
     "data": {
      "text/html": [
       "<div>\n",
       "<style scoped>\n",
       "    .dataframe tbody tr th:only-of-type {\n",
       "        vertical-align: middle;\n",
       "    }\n",
       "\n",
       "    .dataframe tbody tr th {\n",
       "        vertical-align: top;\n",
       "    }\n",
       "\n",
       "    .dataframe thead th {\n",
       "        text-align: right;\n",
       "    }\n",
       "</style>\n",
       "<table border=\"1\" class=\"dataframe\">\n",
       "  <thead>\n",
       "    <tr style=\"text-align: right;\">\n",
       "      <th></th>\n",
       "      <th>0</th>\n",
       "    </tr>\n",
       "  </thead>\n",
       "  <tbody>\n",
       "    <tr>\n",
       "      <th>Commentaire</th>\n",
       "      <td>0.15</td>\n",
       "    </tr>\n",
       "    <tr>\n",
       "      <th>star</th>\n",
       "      <td>0.00</td>\n",
       "    </tr>\n",
       "    <tr>\n",
       "      <th>date</th>\n",
       "      <td>1.89</td>\n",
       "    </tr>\n",
       "    <tr>\n",
       "      <th>client</th>\n",
       "      <td>48.57</td>\n",
       "    </tr>\n",
       "    <tr>\n",
       "      <th>reponse</th>\n",
       "      <td>57.32</td>\n",
       "    </tr>\n",
       "    <tr>\n",
       "      <th>source</th>\n",
       "      <td>0.00</td>\n",
       "    </tr>\n",
       "    <tr>\n",
       "      <th>company</th>\n",
       "      <td>0.00</td>\n",
       "    </tr>\n",
       "    <tr>\n",
       "      <th>ville</th>\n",
       "      <td>75.53</td>\n",
       "    </tr>\n",
       "    <tr>\n",
       "      <th>maj</th>\n",
       "      <td>99.97</td>\n",
       "    </tr>\n",
       "    <tr>\n",
       "      <th>date_commande</th>\n",
       "      <td>66.34</td>\n",
       "    </tr>\n",
       "    <tr>\n",
       "      <th>ecart</th>\n",
       "      <td>66.34</td>\n",
       "    </tr>\n",
       "  </tbody>\n",
       "</table>\n",
       "</div>"
      ],
      "text/plain": [
       "                   0\n",
       "Commentaire     0.15\n",
       "star            0.00\n",
       "date            1.89\n",
       "client         48.57\n",
       "reponse        57.32\n",
       "source          0.00\n",
       "company         0.00\n",
       "ville          75.53\n",
       "maj            99.97\n",
       "date_commande  66.34\n",
       "ecart          66.34"
      ]
     },
     "execution_count": 61,
     "metadata": {},
     "output_type": "execute_result"
    }
   ],
   "source": [
    "df_NaNpd.DataFrame.from_dict(result_NaN, orient='index')"
   ]
  },
  {
   "cell_type": "code",
   "execution_count": null,
   "id": "89f6aaf6",
   "metadata": {},
   "outputs": [],
   "source": []
  },
  {
   "cell_type": "code",
   "execution_count": null,
   "id": "eeb71bc0",
   "metadata": {},
   "outputs": [],
   "source": []
  },
  {
   "cell_type": "code",
   "execution_count": null,
   "id": "c4352322",
   "metadata": {},
   "outputs": [],
   "source": []
  }
 ],
 "metadata": {
  "kernelspec": {
   "display_name": "Python 3 (ipykernel)",
   "language": "python",
   "name": "python3"
  },
  "language_info": {
   "codemirror_mode": {
    "name": "ipython",
    "version": 3
   },
   "file_extension": ".py",
   "mimetype": "text/x-python",
   "name": "python",
   "nbconvert_exporter": "python",
   "pygments_lexer": "ipython3",
   "version": "3.9.7"
  }
 },
 "nbformat": 4,
 "nbformat_minor": 5
}
