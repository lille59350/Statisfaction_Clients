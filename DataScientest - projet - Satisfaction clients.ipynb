{
 "cells": [
  {
   "cell_type": "code",
   "execution_count": 1,
   "id": "a6ba6f8e",
   "metadata": {},
   "outputs": [],
   "source": [
    "# Chargement du jeu de données\n",
    "import pandas as pd\n",
    "df = pd.read_csv('data_projet.csv', sep=';', encoding='utf8')"
   ]
  },
  {
   "cell_type": "code",
   "execution_count": 65,
   "id": "a8ebca57",
   "metadata": {},
   "outputs": [],
   "source": [
    "import numpy as np\n",
    "import matplotlib.pyplot as plt"
   ]
  },
  {
   "cell_type": "code",
   "execution_count": 2,
   "id": "77f9f009",
   "metadata": {},
   "outputs": [
    {
     "data": {
      "text/plain": [
       "(19863, 11)"
      ]
     },
     "metadata": {},
     "output_type": "display_data"
    },
    {
     "data": {
      "text/html": [
       "<div>\n",
       "<style scoped>\n",
       "    .dataframe tbody tr th:only-of-type {\n",
       "        vertical-align: middle;\n",
       "    }\n",
       "\n",
       "    .dataframe tbody tr th {\n",
       "        vertical-align: top;\n",
       "    }\n",
       "\n",
       "    .dataframe thead th {\n",
       "        text-align: right;\n",
       "    }\n",
       "</style>\n",
       "<table border=\"1\" class=\"dataframe\">\n",
       "  <thead>\n",
       "    <tr style=\"text-align: right;\">\n",
       "      <th></th>\n",
       "      <th>Commentaire</th>\n",
       "      <th>star</th>\n",
       "      <th>date</th>\n",
       "      <th>client</th>\n",
       "      <th>reponse</th>\n",
       "      <th>source</th>\n",
       "      <th>company</th>\n",
       "      <th>ville</th>\n",
       "      <th>maj</th>\n",
       "      <th>date_commande</th>\n",
       "      <th>ecart</th>\n",
       "    </tr>\n",
       "  </thead>\n",
       "  <tbody>\n",
       "    <tr>\n",
       "      <th>0</th>\n",
       "      <td>Bonjour , Ca doit faire 5 ans environ que je s...</td>\n",
       "      <td>1</td>\n",
       "      <td>2021-06-20 00:00:00+00:00</td>\n",
       "      <td>AUDREY Du 62</td>\n",
       "      <td>NaN</td>\n",
       "      <td>TrustPilot</td>\n",
       "      <td>ShowRoom</td>\n",
       "      <td>NaN</td>\n",
       "      <td>NaN</td>\n",
       "      <td>NaN</td>\n",
       "      <td>NaN</td>\n",
       "    </tr>\n",
       "    <tr>\n",
       "      <th>1</th>\n",
       "      <td>Vente lacoste article manquant photo prise sur...</td>\n",
       "      <td>1</td>\n",
       "      <td>2021-06-20 00:00:00+00:00</td>\n",
       "      <td>Nanasky De Verteuil</td>\n",
       "      <td>NaN</td>\n",
       "      <td>TrustPilot</td>\n",
       "      <td>ShowRoom</td>\n",
       "      <td>NaN</td>\n",
       "      <td>NaN</td>\n",
       "      <td>NaN</td>\n",
       "      <td>NaN</td>\n",
       "    </tr>\n",
       "    <tr>\n",
       "      <th>2</th>\n",
       "      <td>Vente Lacoste Honteuse , article erroné , arti...</td>\n",
       "      <td>1</td>\n",
       "      <td>2021-06-19 00:00:00+00:00</td>\n",
       "      <td>Vanessa L</td>\n",
       "      <td>NaN</td>\n",
       "      <td>TrustPilot</td>\n",
       "      <td>ShowRoom</td>\n",
       "      <td>NaN</td>\n",
       "      <td>NaN</td>\n",
       "      <td>NaN</td>\n",
       "      <td>NaN</td>\n",
       "    </tr>\n",
       "    <tr>\n",
       "      <th>3</th>\n",
       "      <td>J'ai commandé des mules de la marque Moosefiel...</td>\n",
       "      <td>2</td>\n",
       "      <td>2021-06-19 00:00:00+00:00</td>\n",
       "      <td>Valery PERRAULT</td>\n",
       "      <td>Bonjour , Je suis sincèrement navré d'apprendr...</td>\n",
       "      <td>TrustPilot</td>\n",
       "      <td>ShowRoom</td>\n",
       "      <td>NaN</td>\n",
       "      <td>NaN</td>\n",
       "      <td>NaN</td>\n",
       "      <td>NaN</td>\n",
       "    </tr>\n",
       "    <tr>\n",
       "      <th>4</th>\n",
       "      <td>Commande téléphone etat A+ . Livraison d un vi...</td>\n",
       "      <td>1</td>\n",
       "      <td>2021-06-19 00:00:00+00:00</td>\n",
       "      <td>JULIE DRINGENBERG</td>\n",
       "      <td>Bonjour Julie , Je suis sincèrement désolé de ...</td>\n",
       "      <td>TrustPilot</td>\n",
       "      <td>ShowRoom</td>\n",
       "      <td>NaN</td>\n",
       "      <td>NaN</td>\n",
       "      <td>NaN</td>\n",
       "      <td>NaN</td>\n",
       "    </tr>\n",
       "  </tbody>\n",
       "</table>\n",
       "</div>"
      ],
      "text/plain": [
       "                                         Commentaire  star  \\\n",
       "0  Bonjour , Ca doit faire 5 ans environ que je s...     1   \n",
       "1  Vente lacoste article manquant photo prise sur...     1   \n",
       "2  Vente Lacoste Honteuse , article erroné , arti...     1   \n",
       "3  J'ai commandé des mules de la marque Moosefiel...     2   \n",
       "4  Commande téléphone etat A+ . Livraison d un vi...     1   \n",
       "\n",
       "                        date               client  \\\n",
       "0  2021-06-20 00:00:00+00:00         AUDREY Du 62   \n",
       "1  2021-06-20 00:00:00+00:00  Nanasky De Verteuil   \n",
       "2  2021-06-19 00:00:00+00:00            Vanessa L   \n",
       "3  2021-06-19 00:00:00+00:00      Valery PERRAULT   \n",
       "4  2021-06-19 00:00:00+00:00    JULIE DRINGENBERG   \n",
       "\n",
       "                                             reponse      source   company  \\\n",
       "0                                                NaN  TrustPilot  ShowRoom   \n",
       "1                                                NaN  TrustPilot  ShowRoom   \n",
       "2                                                NaN  TrustPilot  ShowRoom   \n",
       "3  Bonjour , Je suis sincèrement navré d'apprendr...  TrustPilot  ShowRoom   \n",
       "4  Bonjour Julie , Je suis sincèrement désolé de ...  TrustPilot  ShowRoom   \n",
       "\n",
       "  ville  maj date_commande  ecart  \n",
       "0   NaN  NaN           NaN    NaN  \n",
       "1   NaN  NaN           NaN    NaN  \n",
       "2   NaN  NaN           NaN    NaN  \n",
       "3   NaN  NaN           NaN    NaN  \n",
       "4   NaN  NaN           NaN    NaN  "
      ]
     },
     "metadata": {},
     "output_type": "display_data"
    },
    {
     "name": "stdout",
     "output_type": "stream",
     "text": [
      "<class 'pandas.core.frame.DataFrame'>\n",
      "RangeIndex: 19863 entries, 0 to 19862\n",
      "Data columns (total 11 columns):\n",
      " #   Column         Non-Null Count  Dtype  \n",
      "---  ------         --------------  -----  \n",
      " 0   Commentaire    19834 non-null  object \n",
      " 1   star           19863 non-null  int64  \n",
      " 2   date           19488 non-null  object \n",
      " 3   client         10215 non-null  object \n",
      " 4   reponse        8477 non-null   object \n",
      " 5   source         19863 non-null  object \n",
      " 6   company        19863 non-null  object \n",
      " 7   ville          4860 non-null   object \n",
      " 8   maj            5 non-null      object \n",
      " 9   date_commande  6686 non-null   object \n",
      " 10  ecart          6686 non-null   float64\n",
      "dtypes: float64(1), int64(1), object(9)\n",
      "memory usage: 1.7+ MB\n"
     ]
    },
    {
     "data": {
      "text/plain": [
       "None"
      ]
     },
     "metadata": {},
     "output_type": "display_data"
    },
    {
     "data": {
      "text/html": [
       "<div>\n",
       "<style scoped>\n",
       "    .dataframe tbody tr th:only-of-type {\n",
       "        vertical-align: middle;\n",
       "    }\n",
       "\n",
       "    .dataframe tbody tr th {\n",
       "        vertical-align: top;\n",
       "    }\n",
       "\n",
       "    .dataframe thead th {\n",
       "        text-align: right;\n",
       "    }\n",
       "</style>\n",
       "<table border=\"1\" class=\"dataframe\">\n",
       "  <thead>\n",
       "    <tr style=\"text-align: right;\">\n",
       "      <th></th>\n",
       "      <th>star</th>\n",
       "      <th>ecart</th>\n",
       "    </tr>\n",
       "  </thead>\n",
       "  <tbody>\n",
       "    <tr>\n",
       "      <th>count</th>\n",
       "      <td>19863.000000</td>\n",
       "      <td>6686.000000</td>\n",
       "    </tr>\n",
       "    <tr>\n",
       "      <th>mean</th>\n",
       "      <td>3.408398</td>\n",
       "      <td>14.286419</td>\n",
       "    </tr>\n",
       "    <tr>\n",
       "      <th>std</th>\n",
       "      <td>1.650531</td>\n",
       "      <td>10.373320</td>\n",
       "    </tr>\n",
       "    <tr>\n",
       "      <th>min</th>\n",
       "      <td>1.000000</td>\n",
       "      <td>1.000000</td>\n",
       "    </tr>\n",
       "    <tr>\n",
       "      <th>25%</th>\n",
       "      <td>1.000000</td>\n",
       "      <td>9.000000</td>\n",
       "    </tr>\n",
       "    <tr>\n",
       "      <th>50%</th>\n",
       "      <td>4.000000</td>\n",
       "      <td>12.000000</td>\n",
       "    </tr>\n",
       "    <tr>\n",
       "      <th>75%</th>\n",
       "      <td>5.000000</td>\n",
       "      <td>17.000000</td>\n",
       "    </tr>\n",
       "    <tr>\n",
       "      <th>max</th>\n",
       "      <td>5.000000</td>\n",
       "      <td>304.000000</td>\n",
       "    </tr>\n",
       "  </tbody>\n",
       "</table>\n",
       "</div>"
      ],
      "text/plain": [
       "               star        ecart\n",
       "count  19863.000000  6686.000000\n",
       "mean       3.408398    14.286419\n",
       "std        1.650531    10.373320\n",
       "min        1.000000     1.000000\n",
       "25%        1.000000     9.000000\n",
       "50%        4.000000    12.000000\n",
       "75%        5.000000    17.000000\n",
       "max        5.000000   304.000000"
      ]
     },
     "metadata": {},
     "output_type": "display_data"
    },
    {
     "data": {
      "text/html": [
       "<div>\n",
       "<style scoped>\n",
       "    .dataframe tbody tr th:only-of-type {\n",
       "        vertical-align: middle;\n",
       "    }\n",
       "\n",
       "    .dataframe tbody tr th {\n",
       "        vertical-align: top;\n",
       "    }\n",
       "\n",
       "    .dataframe thead th {\n",
       "        text-align: right;\n",
       "    }\n",
       "</style>\n",
       "<table border=\"1\" class=\"dataframe\">\n",
       "  <thead>\n",
       "    <tr style=\"text-align: right;\">\n",
       "      <th></th>\n",
       "      <th>Commentaire</th>\n",
       "      <th>date</th>\n",
       "      <th>client</th>\n",
       "      <th>reponse</th>\n",
       "      <th>source</th>\n",
       "      <th>company</th>\n",
       "      <th>ville</th>\n",
       "      <th>maj</th>\n",
       "      <th>date_commande</th>\n",
       "    </tr>\n",
       "  </thead>\n",
       "  <tbody>\n",
       "    <tr>\n",
       "      <th>count</th>\n",
       "      <td>19834</td>\n",
       "      <td>19488</td>\n",
       "      <td>10215</td>\n",
       "      <td>8477</td>\n",
       "      <td>19863</td>\n",
       "      <td>19863</td>\n",
       "      <td>4860</td>\n",
       "      <td>5</td>\n",
       "      <td>6686</td>\n",
       "    </tr>\n",
       "    <tr>\n",
       "      <th>unique</th>\n",
       "      <td>17174</td>\n",
       "      <td>1880</td>\n",
       "      <td>7569</td>\n",
       "      <td>2033</td>\n",
       "      <td>2</td>\n",
       "      <td>2</td>\n",
       "      <td>2457</td>\n",
       "      <td>5</td>\n",
       "      <td>385</td>\n",
       "    </tr>\n",
       "    <tr>\n",
       "      <th>top</th>\n",
       "      <td>Parfait</td>\n",
       "      <td>12/06/2020</td>\n",
       "      <td>Client</td>\n",
       "      <td>Bonjour , Merci d'avoir partagé votre expérien...</td>\n",
       "      <td>TrustedShop</td>\n",
       "      <td>ShowRoom</td>\n",
       "      <td>Paris</td>\n",
       "      <td>30/04/2021</td>\n",
       "      <td>19/08/2020</td>\n",
       "    </tr>\n",
       "    <tr>\n",
       "      <th>freq</th>\n",
       "      <td>284</td>\n",
       "      <td>257</td>\n",
       "      <td>31</td>\n",
       "      <td>1162</td>\n",
       "      <td>14503</td>\n",
       "      <td>16823</td>\n",
       "      <td>110</td>\n",
       "      <td>1</td>\n",
       "      <td>73</td>\n",
       "    </tr>\n",
       "  </tbody>\n",
       "</table>\n",
       "</div>"
      ],
      "text/plain": [
       "       Commentaire        date  client  \\\n",
       "count        19834       19488   10215   \n",
       "unique       17174        1880    7569   \n",
       "top        Parfait  12/06/2020  Client   \n",
       "freq           284         257      31   \n",
       "\n",
       "                                                  reponse       source  \\\n",
       "count                                                8477        19863   \n",
       "unique                                               2033            2   \n",
       "top     Bonjour , Merci d'avoir partagé votre expérien...  TrustedShop   \n",
       "freq                                                 1162        14503   \n",
       "\n",
       "         company  ville         maj date_commande  \n",
       "count      19863   4860           5          6686  \n",
       "unique         2   2457           5           385  \n",
       "top     ShowRoom  Paris  30/04/2021    19/08/2020  \n",
       "freq       16823    110           1            73  "
      ]
     },
     "metadata": {},
     "output_type": "display_data"
    }
   ],
   "source": [
    "# affichage des principales caractéristiques du jeu de données\n",
    "display(df.shape)\n",
    "display(df.head(5))\n",
    "display(df.info())\n",
    "display(df.describe())\n",
    "display(df.describe(include='object'))"
   ]
  },
  {
   "cell_type": "code",
   "execution_count": 3,
   "id": "aa78cb68",
   "metadata": {},
   "outputs": [
    {
     "name": "stdout",
     "output_type": "stream",
     "text": [
      "['ShowRoom' 'VeePee']\n",
      "['TrustPilot' 'TrustedShop']\n",
      "[nan '30/04/2021' '24/04/2021' '15/04/2021' '26/02/2021' '23/02/2021']\n"
     ]
    }
   ],
   "source": [
    "# affichage des valeurs uniques pour les colonnes 'company', 'source' et 'maj'\n",
    "print(df['company'].unique())\n",
    "print(df['source'].unique())\n",
    "print(df['maj'].unique())"
   ]
  },
  {
   "cell_type": "code",
   "execution_count": 4,
   "id": "620661c0",
   "metadata": {},
   "outputs": [],
   "source": [
    "# 2 company étudiées ShowRoom et VeePee\n",
    "# 2 sites stockent des commentaires : TrustPilot et TrustedShop"
   ]
  },
  {
   "cell_type": "code",
   "execution_count": 5,
   "id": "0e15c68f",
   "metadata": {},
   "outputs": [
    {
     "name": "stdout",
     "output_type": "stream",
     "text": [
      "['TrustPilot' 'TrustedShop']\n",
      "['TrustPilot']\n"
     ]
    }
   ],
   "source": [
    "print(df['source'][df['company']=='ShowRoom'].unique())\n",
    "print(df['source'][df['company']=='VeePee'].unique())\n",
    "# quand company = ShowRoom les avis peuvent être fait sur TrustPilot et TrustedShop\n",
    "# quand company = VeePee les avis peuvent être fait sur TrustPilot"
   ]
  },
  {
   "cell_type": "code",
   "execution_count": 6,
   "id": "bd9e849e",
   "metadata": {},
   "outputs": [
    {
     "data": {
      "text/plain": [
       "[0.15, 0.0, 1.89, 48.57, 57.32, 0.0, 0.0, 75.53, 99.97, 66.34, 66.34]"
      ]
     },
     "execution_count": 6,
     "metadata": {},
     "output_type": "execute_result"
    }
   ],
   "source": [
    "# calcul des % de NaN de chaque colonne \n",
    "colonne = df.columns\n",
    "NaN = [round((df[i].isna().sum()/len(df))*100, 2) for i in colonne]\n",
    "NaN"
   ]
  },
  {
   "cell_type": "code",
   "execution_count": 7,
   "id": "0dd40948",
   "metadata": {},
   "outputs": [],
   "source": [
    "# association des % aux noms de variable dans un dictionnaire\n",
    "result_NaN = {}\n",
    "for i, j in zip(colonne, NaN):\n",
    "    result_NaN[i] = j"
   ]
  },
  {
   "cell_type": "code",
   "execution_count": 8,
   "id": "c3e336e3",
   "metadata": {},
   "outputs": [
    {
     "data": {
      "text/plain": [
       "{'Commentaire': 0.15,\n",
       " 'star': 0.0,\n",
       " 'date': 1.89,\n",
       " 'client': 48.57,\n",
       " 'reponse': 57.32,\n",
       " 'source': 0.0,\n",
       " 'company': 0.0,\n",
       " 'ville': 75.53,\n",
       " 'maj': 99.97,\n",
       " 'date_commande': 66.34,\n",
       " 'ecart': 66.34}"
      ]
     },
     "execution_count": 8,
     "metadata": {},
     "output_type": "execute_result"
    }
   ],
   "source": [
    "result_NaN"
   ]
  },
  {
   "cell_type": "code",
   "execution_count": 9,
   "id": "6b13f1e8",
   "metadata": {},
   "outputs": [
    {
     "data": {
      "text/html": [
       "<div>\n",
       "<style scoped>\n",
       "    .dataframe tbody tr th:only-of-type {\n",
       "        vertical-align: middle;\n",
       "    }\n",
       "\n",
       "    .dataframe tbody tr th {\n",
       "        vertical-align: top;\n",
       "    }\n",
       "\n",
       "    .dataframe thead th {\n",
       "        text-align: right;\n",
       "    }\n",
       "</style>\n",
       "<table border=\"1\" class=\"dataframe\">\n",
       "  <thead>\n",
       "    <tr style=\"text-align: right;\">\n",
       "      <th></th>\n",
       "      <th>0</th>\n",
       "    </tr>\n",
       "  </thead>\n",
       "  <tbody>\n",
       "    <tr>\n",
       "      <th>Commentaire</th>\n",
       "      <td>0.15</td>\n",
       "    </tr>\n",
       "    <tr>\n",
       "      <th>star</th>\n",
       "      <td>0.00</td>\n",
       "    </tr>\n",
       "    <tr>\n",
       "      <th>date</th>\n",
       "      <td>1.89</td>\n",
       "    </tr>\n",
       "    <tr>\n",
       "      <th>client</th>\n",
       "      <td>48.57</td>\n",
       "    </tr>\n",
       "    <tr>\n",
       "      <th>reponse</th>\n",
       "      <td>57.32</td>\n",
       "    </tr>\n",
       "    <tr>\n",
       "      <th>source</th>\n",
       "      <td>0.00</td>\n",
       "    </tr>\n",
       "    <tr>\n",
       "      <th>company</th>\n",
       "      <td>0.00</td>\n",
       "    </tr>\n",
       "    <tr>\n",
       "      <th>ville</th>\n",
       "      <td>75.53</td>\n",
       "    </tr>\n",
       "    <tr>\n",
       "      <th>maj</th>\n",
       "      <td>99.97</td>\n",
       "    </tr>\n",
       "    <tr>\n",
       "      <th>date_commande</th>\n",
       "      <td>66.34</td>\n",
       "    </tr>\n",
       "    <tr>\n",
       "      <th>ecart</th>\n",
       "      <td>66.34</td>\n",
       "    </tr>\n",
       "  </tbody>\n",
       "</table>\n",
       "</div>"
      ],
      "text/plain": [
       "                   0\n",
       "Commentaire     0.15\n",
       "star            0.00\n",
       "date            1.89\n",
       "client         48.57\n",
       "reponse        57.32\n",
       "source          0.00\n",
       "company         0.00\n",
       "ville          75.53\n",
       "maj            99.97\n",
       "date_commande  66.34\n",
       "ecart          66.34"
      ]
     },
     "execution_count": 9,
     "metadata": {},
     "output_type": "execute_result"
    }
   ],
   "source": [
    "# affichage des % de NaN dans un DataFrame\n",
    "df_NaN = pd.DataFrame.from_dict(result_NaN, orient='index')\n",
    "df_NaN"
   ]
  },
  {
   "cell_type": "code",
   "execution_count": 10,
   "id": "89f6aaf6",
   "metadata": {},
   "outputs": [
    {
     "name": "stdout",
     "output_type": "stream",
     "text": [
      "source       company \n",
      "TrustedShop  ShowRoom    6686\n",
      "dtype: int64\n",
      "source       company \n",
      "TrustedShop  ShowRoom    6686\n",
      "dtype: int64\n"
     ]
    }
   ],
   "source": [
    "# intuitivement il semble que les colonnes date commande et écart soient renseignés ensemble\n",
    "# et qu'ils soient renseignés pour une seule company. On peut le vérifier\n",
    "print(df[['source', 'company']][df['date_commande'].isna()==False].value_counts())\n",
    "print(df[['source', 'company']][df['ecart'].isna()==False].value_counts())"
   ]
  },
  {
   "cell_type": "code",
   "execution_count": 11,
   "id": "eeb71bc0",
   "metadata": {},
   "outputs": [
    {
     "data": {
      "text/html": [
       "<div>\n",
       "<style scoped>\n",
       "    .dataframe tbody tr th:only-of-type {\n",
       "        vertical-align: middle;\n",
       "    }\n",
       "\n",
       "    .dataframe tbody tr th {\n",
       "        vertical-align: top;\n",
       "    }\n",
       "\n",
       "    .dataframe thead th {\n",
       "        text-align: right;\n",
       "    }\n",
       "</style>\n",
       "<table border=\"1\" class=\"dataframe\">\n",
       "  <thead>\n",
       "    <tr style=\"text-align: right;\">\n",
       "      <th></th>\n",
       "      <th></th>\n",
       "      <th>date_commande</th>\n",
       "      <th>star</th>\n",
       "    </tr>\n",
       "    <tr>\n",
       "      <th>source</th>\n",
       "      <th>company</th>\n",
       "      <th></th>\n",
       "      <th></th>\n",
       "    </tr>\n",
       "  </thead>\n",
       "  <tbody>\n",
       "    <tr>\n",
       "      <th rowspan=\"2\" valign=\"top\">TrustPilot</th>\n",
       "      <th>ShowRoom</th>\n",
       "      <td>0</td>\n",
       "      <td>2320</td>\n",
       "    </tr>\n",
       "    <tr>\n",
       "      <th>VeePee</th>\n",
       "      <td>0</td>\n",
       "      <td>3040</td>\n",
       "    </tr>\n",
       "    <tr>\n",
       "      <th>TrustedShop</th>\n",
       "      <th>ShowRoom</th>\n",
       "      <td>6686</td>\n",
       "      <td>14503</td>\n",
       "    </tr>\n",
       "  </tbody>\n",
       "</table>\n",
       "</div>"
      ],
      "text/plain": [
       "                      date_commande   star\n",
       "source      company                       \n",
       "TrustPilot  ShowRoom              0   2320\n",
       "            VeePee                0   3040\n",
       "TrustedShop ShowRoom           6686  14503"
      ]
     },
     "execution_count": 11,
     "metadata": {},
     "output_type": "execute_result"
    }
   ],
   "source": [
    "# on peut aussi procéder par un groupby qui permet de voir un peu mieux la répartition des dates de commande et des écarts\n",
    "df.groupby(by=['source', 'company']).agg({'date_commande' : 'count', 'star' : 'count'})"
   ]
  },
  {
   "cell_type": "code",
   "execution_count": 12,
   "id": "c4352322",
   "metadata": {},
   "outputs": [],
   "source": [
    "# les colonnes date_commande et écart ne semble pas apporter grand chose. on va toute de même les garder car il est possible\n",
    "# qu'ils y ait une corrélation entre le commentaire, la star et l'écart"
   ]
  },
  {
   "cell_type": "code",
   "execution_count": 13,
   "id": "bc8f3bdc",
   "metadata": {},
   "outputs": [],
   "source": [
    "# les colonnes maj et date_commande n'ayant que peut d'intérêt (car trop de valeur NaN pour maj et ecart suffit pour date_commande)\n",
    "# on peut donc supprimer ces 2 colonnes\n",
    "# les lignes sans commentaires peuvent être supprimées car ne représentent que 0.15% du DataSet\n",
    "# les lignes sans date peuvent être supprimées car elles ne représentent que 1.89% du data set"
   ]
  },
  {
   "cell_type": "code",
   "execution_count": 54,
   "id": "35ffcb30",
   "metadata": {},
   "outputs": [],
   "source": [
    "df_clean1 = df.drop(columns=['maj', 'date_commande'], axis=1)\n",
    "df_clean1 = df_clean1.dropna(subset=['Commentaire', 'date'])"
   ]
  },
  {
   "cell_type": "code",
   "execution_count": 55,
   "id": "7d957727",
   "metadata": {},
   "outputs": [],
   "source": [
    "# dans la colonne date une partie des données est au format dd/mm/yyyy et l'autre partie est au format yyyy-mm-dd\n",
    "# nous allons donc convertir les données qui sont au format dd/mm/yyyy au format yyyy-mm-dd\n",
    "\n",
    "df_clean1['date'][df_clean1['date'].str.contains('-')==False] = df_clean1['date'][df_clean1['date'].str.contains('-')==False].apply(lambda x: x[0:2]+'-'+x[3:5]+'-'+x[6:10])"
   ]
  },
  {
   "cell_type": "code",
   "execution_count": 56,
   "id": "076aa3d2",
   "metadata": {},
   "outputs": [
    {
     "data": {
      "text/plain": [
       "Series([], Name: date, dtype: object)"
      ]
     },
     "execution_count": 56,
     "metadata": {},
     "output_type": "execute_result"
    }
   ],
   "source": [
    "# on vérifie que toutes les données ont bien été transformées\n",
    "df_clean1['date'][df_clean1['date'].str.contains('/')==True]"
   ]
  },
  {
   "cell_type": "code",
   "execution_count": 57,
   "id": "e98ee758",
   "metadata": {},
   "outputs": [],
   "source": [
    "# on les mets sur 10 caractères pour que l'on puisse les trasnformer à un format datetime\n",
    "df_clean1['date'] = df_clean1['date'].apply(lambda x : x[0:11])\n",
    "\n",
    "# puis on les convertit à un format datetime\n",
    "df_clean1['date'] = pd.to_datetime(df_clean1['date'])"
   ]
  },
  {
   "cell_type": "code",
   "execution_count": 58,
   "id": "df78d9ee",
   "metadata": {
    "scrolled": true
   },
   "outputs": [
    {
     "name": "stdout",
     "output_type": "stream",
     "text": [
      "<class 'pandas.core.frame.DataFrame'>\n",
      "Int64Index: 19459 entries, 0 to 19862\n",
      "Data columns (total 9 columns):\n",
      " #   Column       Non-Null Count  Dtype         \n",
      "---  ------       --------------  -----         \n",
      " 0   Commentaire  19459 non-null  object        \n",
      " 1   star         19459 non-null  int64         \n",
      " 2   date         19459 non-null  datetime64[ns]\n",
      " 3   client       10062 non-null  object        \n",
      " 4   reponse      8360 non-null   object        \n",
      " 5   source       19459 non-null  object        \n",
      " 6   company      19459 non-null  object        \n",
      " 7   ville        4735 non-null   object        \n",
      " 8   ecart        6686 non-null   float64       \n",
      "dtypes: datetime64[ns](1), float64(1), int64(1), object(6)\n",
      "memory usage: 2.0+ MB\n"
     ]
    }
   ],
   "source": [
    "#on vérifie le nb de données et leur type\n",
    "df_clean1.info()"
   ]
  },
  {
   "cell_type": "code",
   "execution_count": 60,
   "id": "df0e2459",
   "metadata": {},
   "outputs": [
    {
     "name": "stdout",
     "output_type": "stream",
     "text": [
      "la date min des commentaires est :  2015-10-02 00:00:00 \n",
      "la date min des commentaires est :  2021-12-05 00:00:00\n"
     ]
    }
   ],
   "source": [
    "# on calcule le min est le max pour avoir la plage de date couverte\n",
    "print(\"la date min des commentaires est : \", df_clean1['date'].min(), \"\\nla date min des commentaires est : \",df_clean1['date'].max())"
   ]
  },
  {
   "cell_type": "code",
   "execution_count": 61,
   "id": "3bd7d8b9",
   "metadata": {},
   "outputs": [],
   "source": [
    "# on rajoute une colonne avec seulement l'année du commentaire ce qui permettra d'étudier plus facilement les commentaires \n",
    "df_clean1['year'] = df_clean1['date'].dt.year"
   ]
  },
  {
   "cell_type": "code",
   "execution_count": 63,
   "id": "27967c46",
   "metadata": {},
   "outputs": [
    {
     "data": {
      "text/plain": [
       "2020    13719\n",
       "2021     3424\n",
       "2019     1163\n",
       "2018      493\n",
       "2017      361\n",
       "2016      232\n",
       "2015       67\n",
       "Name: year, dtype: int64"
      ]
     },
     "execution_count": 63,
     "metadata": {},
     "output_type": "execute_result"
    }
   ],
   "source": [
    "# on regarde la répartition des commentaires sur les différentes années\n",
    "df_clean1['year'].value_counts()"
   ]
  },
  {
   "cell_type": "code",
   "execution_count": 85,
   "id": "63c942bc",
   "metadata": {},
   "outputs": [
    {
     "data": {
      "image/png": "[encoded data removed]",
      "text/plain": [
       "<Figure size 432x288 with 1 Axes>"
      ]
     },
     "metadata": {
      "needs_background": "light"
     },
     "output_type": "display_data"
    }
   ],
   "source": [
    "# on peut afficher les résultats de la distribution des commentaires par année dans un histogramme\n",
    "plt.hist(df_clean1['year'], rwidth=0.8, bins=6, align='left');"
   ]
  },
  {
   "cell_type": "code",
   "execution_count": null,
   "id": "9b651ae9",
   "metadata": {},
   "outputs": [],
   "source": []
  },
  {
   "cell_type": "code",
   "execution_count": null,
   "id": "46e8f3dd",
   "metadata": {},
   "outputs": [],
   "source": []
  },
  {
   "cell_type": "code",
   "execution_count": null,
   "id": "76561ba2",
   "metadata": {},
   "outputs": [],
   "source": []
  },
  {
   "cell_type": "code",
   "execution_count": null,
   "id": "2386178a",
   "metadata": {},
   "outputs": [],
   "source": []
  },
  {
   "cell_type": "code",
   "execution_count": null,
   "id": "0e70bcaf",
   "metadata": {},
   "outputs": [],
   "source": []
  },
  {
   "cell_type": "code",
   "execution_count": null,
   "id": "7b988ef8",
   "metadata": {},
   "outputs": [],
   "source": []
  }
 ],
 "metadata": {
  "kernelspec": {
   "display_name": "Python 3 (ipykernel)",
   "language": "python",
   "name": "python3"
  },
  "language_info": {
   "codemirror_mode": {
    "name": "ipython",
    "version": 3
   },
   "file_extension": ".py",
   "mimetype": "text/x-python",
   "name": "python",
   "nbconvert_exporter": "python",
   "pygments_lexer": "ipython3",
   "version": "3.9.7"
  }
 },
 "nbformat": 4,
 "nbformat_minor": 5
}
