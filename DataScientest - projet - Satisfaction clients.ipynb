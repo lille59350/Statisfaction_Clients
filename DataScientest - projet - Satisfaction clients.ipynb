{
 "cells": [
  {
   "cell_type": "code",
   "execution_count": 2,
   "id": "a6ba6f8e",
   "metadata": {},
   "outputs": [
    {
     "ename": "FileNotFoundError",
     "evalue": "[Errno 2] No such file or directory: 'data_projet.csv'",
     "output_type": "error",
     "traceback": [
      "\u001b[1;31m---------------------------------------------------------------------------\u001b[0m",
      "\u001b[1;31mFileNotFoundError\u001b[0m                         Traceback (most recent call last)",
      "\u001b[1;32mC:\\Users\\TB84A~1.FOU\\AppData\\Local\\Temp/ipykernel_2608/1464125890.py\u001b[0m in \u001b[0;36m<module>\u001b[1;34m\u001b[0m\n\u001b[0;32m      1\u001b[0m \u001b[1;31m# Chargement du jeu de données\u001b[0m\u001b[1;33m\u001b[0m\u001b[1;33m\u001b[0m\u001b[0m\n\u001b[0;32m      2\u001b[0m \u001b[1;32mimport\u001b[0m \u001b[0mpandas\u001b[0m \u001b[1;32mas\u001b[0m \u001b[0mpd\u001b[0m\u001b[1;33m\u001b[0m\u001b[1;33m\u001b[0m\u001b[0m\n\u001b[1;32m----> 3\u001b[1;33m \u001b[0mdf\u001b[0m \u001b[1;33m=\u001b[0m \u001b[0mpd\u001b[0m\u001b[1;33m.\u001b[0m\u001b[0mread_csv\u001b[0m\u001b[1;33m(\u001b[0m\u001b[1;34m'data_projet.csv'\u001b[0m\u001b[1;33m,\u001b[0m \u001b[0msep\u001b[0m\u001b[1;33m=\u001b[0m\u001b[1;34m';'\u001b[0m\u001b[1;33m,\u001b[0m \u001b[0mencoding\u001b[0m\u001b[1;33m=\u001b[0m\u001b[1;34m'utf8'\u001b[0m\u001b[1;33m)\u001b[0m\u001b[1;33m\u001b[0m\u001b[1;33m\u001b[0m\u001b[0m\n\u001b[0m",
      "\u001b[1;32m~\\Anaconda3\\lib\\site-packages\\pandas\\util\\_decorators.py\u001b[0m in \u001b[0;36mwrapper\u001b[1;34m(*args, **kwargs)\u001b[0m\n\u001b[0;32m    309\u001b[0m                     \u001b[0mstacklevel\u001b[0m\u001b[1;33m=\u001b[0m\u001b[0mstacklevel\u001b[0m\u001b[1;33m,\u001b[0m\u001b[1;33m\u001b[0m\u001b[1;33m\u001b[0m\u001b[0m\n\u001b[0;32m    310\u001b[0m                 )\n\u001b[1;32m--> 311\u001b[1;33m             \u001b[1;32mreturn\u001b[0m \u001b[0mfunc\u001b[0m\u001b[1;33m(\u001b[0m\u001b[1;33m*\u001b[0m\u001b[0margs\u001b[0m\u001b[1;33m,\u001b[0m \u001b[1;33m**\u001b[0m\u001b[0mkwargs\u001b[0m\u001b[1;33m)\u001b[0m\u001b[1;33m\u001b[0m\u001b[1;33m\u001b[0m\u001b[0m\n\u001b[0m\u001b[0;32m    312\u001b[0m \u001b[1;33m\u001b[0m\u001b[0m\n\u001b[0;32m    313\u001b[0m         \u001b[1;32mreturn\u001b[0m \u001b[0mwrapper\u001b[0m\u001b[1;33m\u001b[0m\u001b[1;33m\u001b[0m\u001b[0m\n",
      "\u001b[1;32m~\\Anaconda3\\lib\\site-packages\\pandas\\io\\parsers\\readers.py\u001b[0m in \u001b[0;36mread_csv\u001b[1;34m(filepath_or_buffer, sep, delimiter, header, names, index_col, usecols, squeeze, prefix, mangle_dupe_cols, dtype, engine, converters, true_values, false_values, skipinitialspace, skiprows, skipfooter, nrows, na_values, keep_default_na, na_filter, verbose, skip_blank_lines, parse_dates, infer_datetime_format, keep_date_col, date_parser, dayfirst, cache_dates, iterator, chunksize, compression, thousands, decimal, lineterminator, quotechar, quoting, doublequote, escapechar, comment, encoding, encoding_errors, dialect, error_bad_lines, warn_bad_lines, on_bad_lines, delim_whitespace, low_memory, memory_map, float_precision, storage_options)\u001b[0m\n\u001b[0;32m    584\u001b[0m     \u001b[0mkwds\u001b[0m\u001b[1;33m.\u001b[0m\u001b[0mupdate\u001b[0m\u001b[1;33m(\u001b[0m\u001b[0mkwds_defaults\u001b[0m\u001b[1;33m)\u001b[0m\u001b[1;33m\u001b[0m\u001b[1;33m\u001b[0m\u001b[0m\n\u001b[0;32m    585\u001b[0m \u001b[1;33m\u001b[0m\u001b[0m\n\u001b[1;32m--> 586\u001b[1;33m     \u001b[1;32mreturn\u001b[0m \u001b[0m_read\u001b[0m\u001b[1;33m(\u001b[0m\u001b[0mfilepath_or_buffer\u001b[0m\u001b[1;33m,\u001b[0m \u001b[0mkwds\u001b[0m\u001b[1;33m)\u001b[0m\u001b[1;33m\u001b[0m\u001b[1;33m\u001b[0m\u001b[0m\n\u001b[0m\u001b[0;32m    587\u001b[0m \u001b[1;33m\u001b[0m\u001b[0m\n\u001b[0;32m    588\u001b[0m \u001b[1;33m\u001b[0m\u001b[0m\n",
      "\u001b[1;32m~\\Anaconda3\\lib\\site-packages\\pandas\\io\\parsers\\readers.py\u001b[0m in \u001b[0;36m_read\u001b[1;34m(filepath_or_buffer, kwds)\u001b[0m\n\u001b[0;32m    480\u001b[0m \u001b[1;33m\u001b[0m\u001b[0m\n\u001b[0;32m    481\u001b[0m     \u001b[1;31m# Create the parser.\u001b[0m\u001b[1;33m\u001b[0m\u001b[1;33m\u001b[0m\u001b[0m\n\u001b[1;32m--> 482\u001b[1;33m     \u001b[0mparser\u001b[0m \u001b[1;33m=\u001b[0m \u001b[0mTextFileReader\u001b[0m\u001b[1;33m(\u001b[0m\u001b[0mfilepath_or_buffer\u001b[0m\u001b[1;33m,\u001b[0m \u001b[1;33m**\u001b[0m\u001b[0mkwds\u001b[0m\u001b[1;33m)\u001b[0m\u001b[1;33m\u001b[0m\u001b[1;33m\u001b[0m\u001b[0m\n\u001b[0m\u001b[0;32m    483\u001b[0m \u001b[1;33m\u001b[0m\u001b[0m\n\u001b[0;32m    484\u001b[0m     \u001b[1;32mif\u001b[0m \u001b[0mchunksize\u001b[0m \u001b[1;32mor\u001b[0m \u001b[0miterator\u001b[0m\u001b[1;33m:\u001b[0m\u001b[1;33m\u001b[0m\u001b[1;33m\u001b[0m\u001b[0m\n",
      "\u001b[1;32m~\\Anaconda3\\lib\\site-packages\\pandas\\io\\parsers\\readers.py\u001b[0m in \u001b[0;36m__init__\u001b[1;34m(self, f, engine, **kwds)\u001b[0m\n\u001b[0;32m    809\u001b[0m             \u001b[0mself\u001b[0m\u001b[1;33m.\u001b[0m\u001b[0moptions\u001b[0m\u001b[1;33m[\u001b[0m\u001b[1;34m\"has_index_names\"\u001b[0m\u001b[1;33m]\u001b[0m \u001b[1;33m=\u001b[0m \u001b[0mkwds\u001b[0m\u001b[1;33m[\u001b[0m\u001b[1;34m\"has_index_names\"\u001b[0m\u001b[1;33m]\u001b[0m\u001b[1;33m\u001b[0m\u001b[1;33m\u001b[0m\u001b[0m\n\u001b[0;32m    810\u001b[0m \u001b[1;33m\u001b[0m\u001b[0m\n\u001b[1;32m--> 811\u001b[1;33m         \u001b[0mself\u001b[0m\u001b[1;33m.\u001b[0m\u001b[0m_engine\u001b[0m \u001b[1;33m=\u001b[0m \u001b[0mself\u001b[0m\u001b[1;33m.\u001b[0m\u001b[0m_make_engine\u001b[0m\u001b[1;33m(\u001b[0m\u001b[0mself\u001b[0m\u001b[1;33m.\u001b[0m\u001b[0mengine\u001b[0m\u001b[1;33m)\u001b[0m\u001b[1;33m\u001b[0m\u001b[1;33m\u001b[0m\u001b[0m\n\u001b[0m\u001b[0;32m    812\u001b[0m \u001b[1;33m\u001b[0m\u001b[0m\n\u001b[0;32m    813\u001b[0m     \u001b[1;32mdef\u001b[0m \u001b[0mclose\u001b[0m\u001b[1;33m(\u001b[0m\u001b[0mself\u001b[0m\u001b[1;33m)\u001b[0m\u001b[1;33m:\u001b[0m\u001b[1;33m\u001b[0m\u001b[1;33m\u001b[0m\u001b[0m\n",
      "\u001b[1;32m~\\Anaconda3\\lib\\site-packages\\pandas\\io\\parsers\\readers.py\u001b[0m in \u001b[0;36m_make_engine\u001b[1;34m(self, engine)\u001b[0m\n\u001b[0;32m   1038\u001b[0m             )\n\u001b[0;32m   1039\u001b[0m         \u001b[1;31m# error: Too many arguments for \"ParserBase\"\u001b[0m\u001b[1;33m\u001b[0m\u001b[1;33m\u001b[0m\u001b[0m\n\u001b[1;32m-> 1040\u001b[1;33m         \u001b[1;32mreturn\u001b[0m \u001b[0mmapping\u001b[0m\u001b[1;33m[\u001b[0m\u001b[0mengine\u001b[0m\u001b[1;33m]\u001b[0m\u001b[1;33m(\u001b[0m\u001b[0mself\u001b[0m\u001b[1;33m.\u001b[0m\u001b[0mf\u001b[0m\u001b[1;33m,\u001b[0m \u001b[1;33m**\u001b[0m\u001b[0mself\u001b[0m\u001b[1;33m.\u001b[0m\u001b[0moptions\u001b[0m\u001b[1;33m)\u001b[0m  \u001b[1;31m# type: ignore[call-arg]\u001b[0m\u001b[1;33m\u001b[0m\u001b[1;33m\u001b[0m\u001b[0m\n\u001b[0m\u001b[0;32m   1041\u001b[0m \u001b[1;33m\u001b[0m\u001b[0m\n\u001b[0;32m   1042\u001b[0m     \u001b[1;32mdef\u001b[0m \u001b[0m_failover_to_python\u001b[0m\u001b[1;33m(\u001b[0m\u001b[0mself\u001b[0m\u001b[1;33m)\u001b[0m\u001b[1;33m:\u001b[0m\u001b[1;33m\u001b[0m\u001b[1;33m\u001b[0m\u001b[0m\n",
      "\u001b[1;32m~\\Anaconda3\\lib\\site-packages\\pandas\\io\\parsers\\c_parser_wrapper.py\u001b[0m in \u001b[0;36m__init__\u001b[1;34m(self, src, **kwds)\u001b[0m\n\u001b[0;32m     49\u001b[0m \u001b[1;33m\u001b[0m\u001b[0m\n\u001b[0;32m     50\u001b[0m         \u001b[1;31m# open handles\u001b[0m\u001b[1;33m\u001b[0m\u001b[1;33m\u001b[0m\u001b[0m\n\u001b[1;32m---> 51\u001b[1;33m         \u001b[0mself\u001b[0m\u001b[1;33m.\u001b[0m\u001b[0m_open_handles\u001b[0m\u001b[1;33m(\u001b[0m\u001b[0msrc\u001b[0m\u001b[1;33m,\u001b[0m \u001b[0mkwds\u001b[0m\u001b[1;33m)\u001b[0m\u001b[1;33m\u001b[0m\u001b[1;33m\u001b[0m\u001b[0m\n\u001b[0m\u001b[0;32m     52\u001b[0m         \u001b[1;32massert\u001b[0m \u001b[0mself\u001b[0m\u001b[1;33m.\u001b[0m\u001b[0mhandles\u001b[0m \u001b[1;32mis\u001b[0m \u001b[1;32mnot\u001b[0m \u001b[1;32mNone\u001b[0m\u001b[1;33m\u001b[0m\u001b[1;33m\u001b[0m\u001b[0m\n\u001b[0;32m     53\u001b[0m \u001b[1;33m\u001b[0m\u001b[0m\n",
      "\u001b[1;32m~\\Anaconda3\\lib\\site-packages\\pandas\\io\\parsers\\base_parser.py\u001b[0m in \u001b[0;36m_open_handles\u001b[1;34m(self, src, kwds)\u001b[0m\n\u001b[0;32m    220\u001b[0m         \u001b[0mLet\u001b[0m \u001b[0mthe\u001b[0m \u001b[0mreaders\u001b[0m \u001b[0mopen\u001b[0m \u001b[0mIOHandles\u001b[0m \u001b[0mafter\u001b[0m \u001b[0mthey\u001b[0m \u001b[0mare\u001b[0m \u001b[0mdone\u001b[0m \u001b[1;32mwith\u001b[0m \u001b[0mtheir\u001b[0m \u001b[0mpotential\u001b[0m \u001b[0mraises\u001b[0m\u001b[1;33m.\u001b[0m\u001b[1;33m\u001b[0m\u001b[1;33m\u001b[0m\u001b[0m\n\u001b[0;32m    221\u001b[0m         \"\"\"\n\u001b[1;32m--> 222\u001b[1;33m         self.handles = get_handle(\n\u001b[0m\u001b[0;32m    223\u001b[0m             \u001b[0msrc\u001b[0m\u001b[1;33m,\u001b[0m\u001b[1;33m\u001b[0m\u001b[1;33m\u001b[0m\u001b[0m\n\u001b[0;32m    224\u001b[0m             \u001b[1;34m\"r\"\u001b[0m\u001b[1;33m,\u001b[0m\u001b[1;33m\u001b[0m\u001b[1;33m\u001b[0m\u001b[0m\n",
      "\u001b[1;32m~\\Anaconda3\\lib\\site-packages\\pandas\\io\\common.py\u001b[0m in \u001b[0;36mget_handle\u001b[1;34m(path_or_buf, mode, encoding, compression, memory_map, is_text, errors, storage_options)\u001b[0m\n\u001b[0;32m    700\u001b[0m         \u001b[1;32mif\u001b[0m \u001b[0mioargs\u001b[0m\u001b[1;33m.\u001b[0m\u001b[0mencoding\u001b[0m \u001b[1;32mand\u001b[0m \u001b[1;34m\"b\"\u001b[0m \u001b[1;32mnot\u001b[0m \u001b[1;32min\u001b[0m \u001b[0mioargs\u001b[0m\u001b[1;33m.\u001b[0m\u001b[0mmode\u001b[0m\u001b[1;33m:\u001b[0m\u001b[1;33m\u001b[0m\u001b[1;33m\u001b[0m\u001b[0m\n\u001b[0;32m    701\u001b[0m             \u001b[1;31m# Encoding\u001b[0m\u001b[1;33m\u001b[0m\u001b[1;33m\u001b[0m\u001b[0m\n\u001b[1;32m--> 702\u001b[1;33m             handle = open(\n\u001b[0m\u001b[0;32m    703\u001b[0m                 \u001b[0mhandle\u001b[0m\u001b[1;33m,\u001b[0m\u001b[1;33m\u001b[0m\u001b[1;33m\u001b[0m\u001b[0m\n\u001b[0;32m    704\u001b[0m                 \u001b[0mioargs\u001b[0m\u001b[1;33m.\u001b[0m\u001b[0mmode\u001b[0m\u001b[1;33m,\u001b[0m\u001b[1;33m\u001b[0m\u001b[1;33m\u001b[0m\u001b[0m\n",
      "\u001b[1;31mFileNotFoundError\u001b[0m: [Errno 2] No such file or directory: 'data_projet.csv'"
     ]
    }
   ],
   "source": [
    "# Chargement du jeu de données\n",
    "import pandas as pd\n",
    "df = pd.read_csv('data_projet.csv', sep=';', encoding='utf8')"
   ]
  },
  {
   "cell_type": "code",
   "execution_count": null,
   "id": "a8ebca57",
   "metadata": {},
   "outputs": [],
   "source": [
    "import numpy as np\n",
    "import matplotlib.pyplot as plt\n",
    "import seaborn as sns"
   ]
  },
  {
   "cell_type": "code",
   "execution_count": null,
   "id": "77f9f009",
   "metadata": {},
   "outputs": [],
   "source": [
    "# affichage des principales caractéristiques du jeu de données\n",
    "display(df.shape)\n",
    "display(df.head(5))\n",
    "display(df.info())\n",
    "display(df.describe())\n",
    "display(df.describe(include='object'))"
   ]
  },
  {
   "cell_type": "code",
   "execution_count": null,
   "id": "aa78cb68",
   "metadata": {},
   "outputs": [],
   "source": [
    "# affichage des valeurs uniques pour les colonnes 'company', 'source' et 'maj'\n",
    "print(df['company'].unique())\n",
    "print(df['source'].unique())\n",
    "print(df['maj'].unique())"
   ]
  },
  {
   "cell_type": "code",
   "execution_count": null,
   "id": "620661c0",
   "metadata": {},
   "outputs": [],
   "source": [
    "# 2 company étudiées ShowRoom et VeePee\n",
    "# 2 sites stockent des commentaires : TrustPilot et TrustedShop"
   ]
  },
  {
   "cell_type": "code",
   "execution_count": null,
   "id": "0e15c68f",
   "metadata": {},
   "outputs": [],
   "source": [
    "print(df['source'][df['company']=='ShowRoom'].unique())\n",
    "print(df['source'][df['company']=='VeePee'].unique())\n",
    "# quand company = ShowRoom les avis peuvent être fait sur TrustPilot et TrustedShop\n",
    "# quand company = VeePee les avis peuvent être fait sur TrustPilot"
   ]
  },
  {
   "cell_type": "code",
   "execution_count": null,
   "id": "bd9e849e",
   "metadata": {},
   "outputs": [],
   "source": [
    "# calcul des % de NaN de chaque colonne \n",
    "colonne = df.columns\n",
    "NaN = [round((df[i].isna().sum()/len(df))*100, 2) for i in colonne]\n",
    "NaN"
   ]
  },
  {
   "cell_type": "code",
   "execution_count": null,
   "id": "0dd40948",
   "metadata": {},
   "outputs": [],
   "source": [
    "# association des % aux noms de variable dans un dictionnaire\n",
    "result_NaN = {}\n",
    "for i, j in zip(colonne, NaN):\n",
    "    result_NaN[i] = j"
   ]
  },
  {
   "cell_type": "code",
   "execution_count": null,
   "id": "c3e336e3",
   "metadata": {},
   "outputs": [],
   "source": [
    "result_NaN"
   ]
  },
  {
   "cell_type": "code",
   "execution_count": null,
   "id": "6b13f1e8",
   "metadata": {},
   "outputs": [],
   "source": [
    "# affichage des % de NaN dans un DataFrame\n",
    "df_NaN = pd.DataFrame.from_dict(result_NaN, orient='index')\n",
    "df_NaN"
   ]
  },
  {
   "cell_type": "code",
   "execution_count": null,
   "id": "89f6aaf6",
   "metadata": {},
   "outputs": [],
   "source": [
    "# intuitivement il semble que les colonnes date commande et écart soient renseignés ensemble\n",
    "# et qu'ils soient renseignés pour une seule company. On peut le vérifier\n",
    "print(df[['source', 'company']][df['date_commande'].isna()==False].value_counts())\n",
    "print(df[['source', 'company']][df['ecart'].isna()==False].value_counts())"
   ]
  },
  {
   "cell_type": "code",
   "execution_count": null,
   "id": "eeb71bc0",
   "metadata": {},
   "outputs": [],
   "source": [
    "# on peut aussi procéder par un groupby qui permet de voir un peu mieux la répartition des dates de commande et des écarts\n",
    "df.groupby(by=['source', 'company']).agg({'date_commande' : 'count', 'star' : 'count'})"
   ]
  },
  {
   "cell_type": "code",
   "execution_count": null,
   "id": "c4352322",
   "metadata": {},
   "outputs": [],
   "source": [
    "# les colonnes date_commande et écart ne semble pas apporter grand chose. on va toute de même les garder car il est possible\n",
    "# qu'ils y ait une corrélation entre le commentaire, la star et l'écart"
   ]
  },
  {
   "cell_type": "code",
   "execution_count": null,
   "id": "bc8f3bdc",
   "metadata": {},
   "outputs": [],
   "source": [
    "# les colonnes maj et date_commande n'ayant que peut d'intérêt (car trop de valeur NaN pour maj et ecart suffit pour date_commande)\n",
    "# on peut donc supprimer ces 2 colonnes\n",
    "# les lignes sans commentaires peuvent être supprimées car ne représentent que 0.15% du DataSet\n",
    "# les lignes sans date peuvent être supprimées car elles ne représentent que 1.89% du data set"
   ]
  },
  {
   "cell_type": "code",
   "execution_count": null,
   "id": "35ffcb30",
   "metadata": {},
   "outputs": [],
   "source": [
    "df_clean1 = df.drop(columns=['maj', 'date_commande'], axis=1)\n",
    "df_clean1 = df_clean1.dropna(subset=['Commentaire', 'date'])"
   ]
  },
  {
   "cell_type": "code",
   "execution_count": null,
   "id": "06899cfa",
   "metadata": {},
   "outputs": [],
   "source": [
    "df_clean1['date'][df_clean1['date'].str.contains('/2019')]"
   ]
  },
  {
   "cell_type": "code",
   "execution_count": null,
   "id": "7d957727",
   "metadata": {},
   "outputs": [],
   "source": [
    "# dans la colonne date une partie des données est au format dd/mm/yyyy et l'autre partie est au format yyyy-mm-dd\n",
    "# nous allons donc convertir les données qui sont au format dd/mm/yyyy au format yyyy-mm-dd\n",
    "\n",
    "df_clean1['date'][df_clean1['date'].str.contains('-')==False] = df_clean1['date'][df_clean1['date'].str.contains('-')==False].apply(lambda x: x[6:10]+'-'+x[3:5]+'-'+x[0:2])"
   ]
  },
  {
   "cell_type": "code",
   "execution_count": null,
   "id": "076aa3d2",
   "metadata": {},
   "outputs": [],
   "source": [
    "# on vérifie que toutes les données ont bien été transformées\n",
    "df_clean1['date'][df_clean1['date'].str.contains('/')==True]"
   ]
  },
  {
   "cell_type": "code",
   "execution_count": null,
   "id": "e98ee758",
   "metadata": {},
   "outputs": [],
   "source": [
    "# on les mets sur 10 caractères pour que l'on puisse les trasnformer à un format datetime\n",
    "df_clean1['date'] = df_clean1['date'].apply(lambda x : x[0:11])\n",
    "\n",
    "# puis on les convertit à un format datetime\n",
    "df_clean1['date'] = pd.to_datetime(df_clean1['date'])"
   ]
  },
  {
   "cell_type": "code",
   "execution_count": null,
   "id": "df78d9ee",
   "metadata": {
    "scrolled": true
   },
   "outputs": [],
   "source": [
    "#on vérifie le nb de données et leur type\n",
    "df_clean1.info()"
   ]
  },
  {
   "cell_type": "code",
   "execution_count": null,
   "id": "df0e2459",
   "metadata": {},
   "outputs": [],
   "source": [
    "# on calcule le min est le max pour avoir la plage de date couverte\n",
    "print(\"la date min des commentaires est : \", df_clean1['date'].min(), \"\\nla date max des commentaires est : \",df_clean1['date'].max())"
   ]
  },
  {
   "cell_type": "code",
   "execution_count": null,
   "id": "3bd7d8b9",
   "metadata": {},
   "outputs": [],
   "source": [
    "# on rajoute une colonne avec seulement l'année du commentaire ce qui permettra d'étudier plus facilement les commentaires \n",
    "df_clean1['year'] = df_clean1['date'].dt.year"
   ]
  },
  {
   "cell_type": "code",
   "execution_count": null,
   "id": "b6fcbccb",
   "metadata": {},
   "outputs": [],
   "source": [
    "# distribution des données en fonction des sources, company et années \n",
    "display(df_clean1.groupby(by=['source', 'company', 'year']).agg({'star' : 'count'}))\n",
    "print(\"\\nOn constate que TrustedShop n'a fourni des commentaires qu'à partir de 2020 alors que TrustPilot a commencé en 2015 pour le site VeePee et en 2019 pour le site ShowRoom\")"
   ]
  },
  {
   "cell_type": "code",
   "execution_count": null,
   "id": "27967c46",
   "metadata": {},
   "outputs": [],
   "source": [
    "# on regarde la répartition des commentaires sur les différentes années\n",
    "print(\"la distribution des commentaires par année es la suivante :\")\n",
    "print(df_clean1['year'].value_counts())\n",
    "\n",
    "# on peut afficher les résultats de la distribution des commentaires par année dans un graphique\n",
    "sns.countplot(x='year', data=df_clean1, palette='deep', hue='company')\n",
    "plt.legend((), loc='upper left');\n",
    "\n",
    "print(\"\\nOnconstate que la majorité des commentaires on été réalisés à partir de 2020 grace à l'utilisation de TrustedShop\\n\")"
   ]
  },
  {
   "cell_type": "code",
   "execution_count": null,
   "id": "9b651ae9",
   "metadata": {},
   "outputs": [],
   "source": [
    "# on peut aussi étudier la répartition de l'attribution des étoiles selon les company, les sources et les années \n",
    "display(pd.crosstab(df_clean1['company'], df_clean1['star']))\n",
    "display(round(pd.crosstab(df_clean1['company'], df_clean1['star'], normalize=0), 2))\n",
    "\n",
    "# affichage sur un graphique la distribution des star pour chaque company\n",
    "sns.countplot(x='company', data=df_clean1, hue='star');"
   ]
  },
  {
   "cell_type": "code",
   "execution_count": null,
   "id": "0e70bcaf",
   "metadata": {},
   "outputs": [],
   "source": [
    "# on peut faire de même avec la répartition de l'attribution des étoiles selon les sources\n",
    "display(pd.crosstab(df_clean1['source'], df_clean1['star']))\n",
    "display(round(pd.crosstab(df_clean1['source'], df_clean1['star'], normalize=0), 2))\n",
    "\n",
    "# affichage sur un graphique la distribution des star pour chaque source\n",
    "sns.countplot(x='source', data=df_clean1, hue='star');"
   ]
  },
  {
   "cell_type": "code",
   "execution_count": null,
   "id": "8c25a5a0",
   "metadata": {},
   "outputs": [],
   "source": [
    "df.groupby(by=['source', 'company', 'star']).agg({'star' : 'count'})"
   ]
  },
  {
   "cell_type": "code",
   "execution_count": null,
   "id": "bb519f20",
   "metadata": {},
   "outputs": [],
   "source": []
  },
  {
   "cell_type": "code",
   "execution_count": null,
   "id": "35060e09",
   "metadata": {},
   "outputs": [],
   "source": []
  },
  {
   "cell_type": "code",
   "execution_count": null,
   "id": "5c54e01c",
   "metadata": {},
   "outputs": [],
   "source": []
  },
  {
   "cell_type": "code",
   "execution_count": null,
   "id": "95b0a9c8",
   "metadata": {},
   "outputs": [],
   "source": []
  },
  {
   "cell_type": "code",
   "execution_count": null,
   "id": "7b988ef8",
   "metadata": {},
   "outputs": [],
   "source": []
  }
 ],
 "metadata": {
  "kernelspec": {
   "display_name": "Python 3 (ipykernel)",
   "language": "python",
   "name": "python3"
  },
  "language_info": {
   "codemirror_mode": {
    "name": "ipython",
    "version": 3
   },
   "file_extension": ".py",
   "mimetype": "text/x-python",
   "name": "python",
   "nbconvert_exporter": "python",
   "pygments_lexer": "ipython3",
   "version": "3.9.7"
  }
 },
 "nbformat": 4,
 "nbformat_minor": 5
}
