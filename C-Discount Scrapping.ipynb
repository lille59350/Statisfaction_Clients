{
 "cells": [
  {
   "cell_type": "code",
   "execution_count": null,
   "id": "4bf9f814",
   "metadata": {},
   "outputs": [],
   "source": [
    "from requests import get\n",
    "import json\n",
    "import requests\n",
    "from time import sleep\n",
    "from time import time\n",
    "from random import randint\n",
    "from IPython.display import clear_output\n",
    "from warnings import warn\n",
    "from bs4 import BeautifulSoup\n",
    "import pandas as pd"
   ]
  },
  {
   "cell_type": "code",
   "execution_count": null,
   "id": "6c28971f",
   "metadata": {},
   "outputs": [],
   "source": [
    "page = requests.get(\"https://fr.trustpilot.com/review/www.cdiscount.com\")\n",
    "\n",
    "content = page.content\n",
    "parser = BeautifulSoup(content, 'html.parser')\n",
    "all_section = parser.find_all(\"section\", class_=\"styles_reviewsContainer__3_GQw\")\n",
    "\n",
    "data = all_section[0]\n",
    "print(data.prettify())"
   ]
  },
  {
   "cell_type": "markdown",
   "id": "d000c86e",
   "metadata": {},
   "source": [
    "#### Récupération du titre des commentaires"
   ]
  },
  {
   "cell_type": "code",
   "execution_count": null,
   "id": "ca93e6bc",
   "metadata": {},
   "outputs": [],
   "source": [
    "title = data.find('h2', class_='typography_heading-s__f7029 typography_appearance-default__AAY17').text\n",
    "title"
   ]
  },
  {
   "cell_type": "code",
   "execution_count": null,
   "id": "99625582",
   "metadata": {},
   "outputs": [],
   "source": [
    "title2 = data.find_all('h2', class_='typography_heading-s__f7029 typography_appearance-default__AAY17')\n",
    "\n",
    "titres = []\n",
    "for i in title2:\n",
    "    nom = i.get_text()\n",
    "    titres.append(nom)\n",
    "    \n",
    "titres[1]"
   ]
  },
  {
   "cell_type": "markdown",
   "id": "82a31376",
   "metadata": {},
   "source": [
    "#### Récupération des commentaires"
   ]
  },
  {
   "cell_type": "code",
   "execution_count": null,
   "id": "76490e2f",
   "metadata": {},
   "outputs": [],
   "source": [
    "comment_tags = data.select(\".styles_reviewContentwrapper__zH_9M\")\n",
    "\n",
    "comment = []\n",
    "for i in comment_tags:\n",
    "    commentaire = i.get_text()\n",
    "    commentaires = comment.append(commentaire)\n",
    "    \n",
    "comment[3]"
   ]
  },
  {
   "cell_type": "markdown",
   "id": "bcc1823c",
   "metadata": {},
   "source": [
    "#### Récupération des notes"
   ]
  },
  {
   "cell_type": "code",
   "execution_count": null,
   "id": "e9e02127",
   "metadata": {},
   "outputs": [],
   "source": [
    "data.find('div', attrs ={'class':'styles_reviewHeader__iU9Px'})['data-service-review-rating']"
   ]
  },
  {
   "cell_type": "code",
   "execution_count": null,
   "id": "771a7c9b",
   "metadata": {},
   "outputs": [],
   "source": [
    "note = data.find_all('div', class_='styles_reviewHeader__iU9Px')\n",
    "note[3]['data-service-review-rating']"
   ]
  },
  {
   "cell_type": "code",
   "execution_count": null,
   "id": "589d76ff",
   "metadata": {},
   "outputs": [],
   "source": [
    "notes = []\n",
    "for i in notes:\n",
    "    note = i['data-service-review-rating']\n",
    "    notes.append(note) "
   ]
  },
  {
   "cell_type": "markdown",
   "id": "23bd15c2",
   "metadata": {},
   "source": [
    "#### Préparation pour la récupération dynamique des données"
   ]
  },
  {
   "cell_type": "code",
   "execution_count": null,
   "id": "cb81991f",
   "metadata": {},
   "outputs": [],
   "source": [
    "# https://fr.trustpilot.com/review/www.cdiscount.com?page=2\n",
    "# variation du numéro de la page\n",
    "\n",
    "pages = [str(i) for i in range(1,6198)]"
   ]
  },
  {
   "cell_type": "code",
   "execution_count": null,
   "id": "9bda5ada",
   "metadata": {},
   "outputs": [],
   "source": [
    "# gestion du temps d'arrêt après une requête envoyées\n",
    "\n",
    "for a in range(0,5):\n",
    "    print('Booh')\n",
    "    sleep(randint(1,4))"
   ]
  },
  {
   "cell_type": "code",
   "execution_count": null,
   "id": "884b7a55",
   "metadata": {},
   "outputs": [],
   "source": [
    "# Mesurer le temps de réponse de la fréquence des requêtes et retourner le code statu\n",
    "\n",
    "start_time = time() # on fixe le temps de début\n",
    "requests = 0 # compter le nombre de requêtes\n",
    "\n",
    "for _ in range(5):\n",
    "    requests += 1 # on incrémente la variable d'une unité à chaque passage de boucle\n",
    "    sleep(randint(1,3)) # on fait une pause de 1 à 3 secondes\n",
    "    elapsed_time = time() - start_time # on calcule le temps écoulé depuis la première requête\n",
    "    \n",
    "    print('Request: {}; Frequency: {} request/s'.format(requests, requests/elapsed_time))\n",
    "    \n",
    "    clear_output(wait = True)"
   ]
  },
  {
   "cell_type": "code",
   "execution_count": null,
   "id": "7ef626fd",
   "metadata": {},
   "outputs": [],
   "source": [
    "# envoyer un message d'alert si présence d'erreurs\n",
    "\n",
    "warn('Attention')"
   ]
  },
  {
   "cell_type": "code",
   "execution_count": null,
   "id": "ea95baca",
   "metadata": {},
   "outputs": [],
   "source": [
    "#### Script final"
   ]
  },
  {
   "cell_type": "code",
   "execution_count": null,
   "id": "24906f15",
   "metadata": {},
   "outputs": [],
   "source": [
    "# 1. Rédéclarer les listes\n",
    "\n",
    "commentaires = []\n",
    "notes = []\n",
    "titres = []\n",
    "\n",
    "# 2. Preparer l'affichage des boucles\n",
    "\n",
    "start_time = time()\n",
    "requests = 0\n",
    "\n",
    "\n",
    "\n",
    "pages = [str(i) for i in range(1,6198)]\n",
    "\n",
    "for pages in pages:\n",
    "    response = get('https://fr.trustpilot.com/review/www.cdiscount.com?page='+ pages +'')\n",
    "\n",
    "    # 3. Pause la boucle de 8 à 15 secondes\n",
    "    sleep(randint(8,15))\n",
    "    \n",
    "    # 4. Afficher les informations sur les requêtes\n",
    "    requests += 1\n",
    "    elapsed_time = time() - start_time\n",
    "    print('Request: {}; Frequency: {} request/s'.format(requests, requests/elapsed_time))\n",
    "    clear_output(wait = True)\n",
    "    \n",
    "    # 5. Avertir si le code statu est différents de 200\n",
    "    if response.status_code != 200:\n",
    "        warn('Request: {}; Statust code: {}'.format(requests, response.status_code))\n",
    "            \n",
    "            \n",
    "    # 6. Stopper la boucle si le nombre de requêtes est supérieur à 100 à faire varier en fonction du nombre obs\n",
    "    if requests > 100:\n",
    "        warn('Nombre de requêtes trop important')\n",
    "        break\n",
    "        \n",
    "        \n",
    "    # 7. Extraire le HTML avec Beauti\n",
    "    page_html = BeautifulSoup(response.text, 'html.parser')\n",
    "    \n",
    "    # 8. Selectionner les 19 commentaires de chaque page\n",
    "    mv_containers = page_html.find_all('section', class_=\"styles_reviewsContainer__3_GQw\")\n",
    "    \n",
    "    # 9. Boucle pour chaque container\n",
    "    for container in mv_containers:       \n",
    "        \n",
    "        # 10. les commentaires\n",
    "        comment = container.find('section', class_='styles_reviewContentwrapper__zH_9M').text\n",
    "        commentaires.append(comment)\n",
    "        \n",
    "        # 11. les Titres\n",
    "        titre = container.find('h2', class_='typography_heading-s__f7029 typography_appearance-default__AAY17').text\n",
    "        titres.append(titre)\n",
    "        \n",
    "        # 12. les Notes\n",
    "        note = container.find('div', attrs ={'class':'styles_reviewHeader__iU9Px'})['data-service-review-rating']\n",
    "        notes.append(note) "
   ]
  },
  {
   "cell_type": "code",
   "execution_count": null,
   "id": "0b71803f",
   "metadata": {},
   "outputs": [],
   "source": [
    "dataBase = pd.DataFrame({\n",
    "        'commentaires': commentaires,\n",
    "        'titres': titres,\n",
    "        'notes':notes\n",
    "    })\n",
    "\n",
    "dataBase"
   ]
  }
 ],
 "metadata": {
  "kernelspec": {
   "display_name": "Python 3 (ipykernel)",
   "language": "python",
   "name": "python3"
  },
  "language_info": {
   "codemirror_mode": {
    "name": "ipython",
    "version": 3
   },
   "file_extension": ".py",
   "mimetype": "text/x-python",
   "name": "python",
   "nbconvert_exporter": "python",
   "pygments_lexer": "ipython3",
   "version": "3.9.12"
  }
 },
 "nbformat": 4,
 "nbformat_minor": 5
}
