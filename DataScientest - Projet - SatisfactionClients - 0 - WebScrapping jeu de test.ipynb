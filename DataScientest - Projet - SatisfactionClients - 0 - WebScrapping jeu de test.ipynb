{
 "cells": [
  {
   "cell_type": "code",
   "execution_count": 1,
   "id": "16ee25c2",
   "metadata": {},
   "outputs": [],
   "source": [
    "import pandas as pd\n",
    "import requests\n",
    "from bs4 import BeautifulSoup"
   ]
  },
  {
   "cell_type": "code",
   "execution_count": 6,
   "id": "68090436",
   "metadata": {
    "scrolled": true
   },
   "outputs": [
    {
     "name": "stdout",
     "output_type": "stream",
     "text": [
      "le temps de calcul est de 12.92 secondes\n"
     ]
    }
   ],
   "source": [
    "from time import sleep\n",
    "from time import time\n",
    "t0 = time()\n",
    "\n",
    "# recherche sur plusieurs pages\n",
    "nb_pages = 5\n",
    "liste_url = []\n",
    "page = 1\n",
    "star = 1\n",
    "while page <= nb_pages :\n",
    "    liste_url.append('https://fr.trustpilot.com/review/www.amazon.fr?stars='+str(star))\n",
    "    page = page + 1\n",
    "    star = star + 1\n",
    "\n",
    "liste_pays = []\n",
    "liste_note = []\n",
    "liste_titre_commentaire = []\n",
    "liste_commentaire = []\n",
    "\n",
    "for url in liste_url:\n",
    "    html = requests.get(url)\n",
    "    soup = BeautifulSoup(html.text, 'html.parser')\n",
    "    comment = soup.find_all('div', {\"class\" : \"styles_cardWrapper__LcCPA styles_show__HUXRb styles_reviewCard__9HxJJ\"})\n",
    "    for nb_avis in range(len(comment)):\n",
    "        liste_pays.append(comment[nb_avis].find('div', {\"class\" : \"typography_body-m__xgxZ_ typography_appearance-subtle__8_H2l styles_detailsIcon__Fo_ua\"}).span.text)\n",
    "        liste_note.append(comment[nb_avis].find('div', {\"class\" : \"styles_reviewHeader__iU9Px\"})['data-service-review-rating'])\n",
    "        liste_titre_commentaire.append(comment[nb_avis].find({\"h2\" : \"typography_heading-s__f7029 typography_appearance-default__AAY17\"}).text)\n",
    "        liste_commentaire.append(comment[nb_avis].find('section', {\"class\" : \"styles_reviewContentwrapper__zH_9M\"}).text)\n",
    "    sleep(2)\n",
    "\n",
    "dico = {'pays' : liste_pays, 'note' : liste_note, 'titre' : liste_titre_commentaire, 'commentaire' : liste_commentaire}\n",
    "df = pd.DataFrame(dico)\n",
    "\n",
    "print('le temps de calcul est de {:.2f} secondes'.format(time()-t0))"
   ]
  },
  {
   "cell_type": "code",
   "execution_count": 7,
   "id": "cd6585b8",
   "metadata": {},
   "outputs": [
    {
     "data": {
      "text/plain": [
       "(100, 4)"
      ]
     },
     "execution_count": 7,
     "metadata": {},
     "output_type": "execute_result"
    }
   ],
   "source": [
    "df.shape"
   ]
  },
  {
   "cell_type": "code",
   "execution_count": 8,
   "id": "2add8f3e",
   "metadata": {},
   "outputs": [
    {
     "name": "stderr",
     "output_type": "stream",
     "text": [
      "C:\\Users\\t.fourtouill\\Anaconda3\\lib\\site-packages\\seaborn\\_decorators.py:36: FutureWarning: Pass the following variable as a keyword arg: x. From version 0.12, the only valid positional argument will be `data`, and passing other arguments without an explicit keyword will result in an error or misinterpretation.\n",
      "  warnings.warn(\n"
     ]
    },
    {
     "data": {
      "text/plain": [
       "<AxesSubplot:xlabel='note', ylabel='count'>"
      ]
     },
     "execution_count": 8,
     "metadata": {},
     "output_type": "execute_result"
    },
    {
     "data": {
      "image/png": "[encoded data removed]",
      "text/plain": [
       "<Figure size 432x288 with 1 Axes>"
      ]
     },
     "metadata": {
      "needs_background": "light"
     },
     "output_type": "display_data"
    }
   ],
   "source": [
    "import seaborn as sns\n",
    "sns.countplot(df['note'])"
   ]
  },
  {
   "cell_type": "code",
   "execution_count": 9,
   "id": "164f559e",
   "metadata": {},
   "outputs": [],
   "source": [
    "df.to_csv('datasets/SatisfactionClients/amazon_test1.csv')"
   ]
  }
 ],
 "metadata": {
  "kernelspec": {
   "display_name": "Python 3 (ipykernel)",
   "language": "python",
   "name": "python3"
  },
  "language_info": {
   "codemirror_mode": {
    "name": "ipython",
    "version": 3
   },
   "file_extension": ".py",
   "mimetype": "text/x-python",
   "name": "python",
   "nbconvert_exporter": "python",
   "pygments_lexer": "ipython3",
   "version": "3.9.7"
  }
 },
 "nbformat": 4,
 "nbformat_minor": 5
}
