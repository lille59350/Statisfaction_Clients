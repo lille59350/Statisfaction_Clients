{
 "cells": [
  {
   "cell_type": "code",
<<<<<<< HEAD
   "execution_count": 6,
=======
   "execution_count": 1,
>>>>>>> bf07ed19085aa50287a649042560dfdd83c85f0b
   "id": "e2cf857f",
   "metadata": {},
   "outputs": [],
   "source": [
    "import pandas as pd\n",
    "import numpy as np\n",
    "import matplotlib.pyplot as plt\n",
    "import seaborn as sns"
   ]
  },
  {
   "cell_type": "code",
<<<<<<< HEAD
   "execution_count": 7,
=======
   "execution_count": 2,
>>>>>>> bf07ed19085aa50287a649042560dfdd83c85f0b
   "id": "d0a6ec30",
   "metadata": {},
   "outputs": [],
   "source": [
<<<<<<< HEAD
    "TrustPilot = pd.read_csv('TrustPilot_2.csv')\n",
    "TrustedShop = pd.read_csv('TrustedShop_2.csv')"
=======
    "TrustPilot = pd.read_csv('TrustPilot.csv')\n",
    "TrustedShop = pd.read_csv('TrustedShop.csv')"
>>>>>>> bf07ed19085aa50287a649042560dfdd83c85f0b
   ]
  },
  {
   "cell_type": "markdown",
   "id": "a8a1cf34",
   "metadata": {},
   "source": [
    "### Application du GradientBoostingClassifier sur le df TrustPilot"
   ]
  },
  {
   "cell_type": "code",
<<<<<<< HEAD
   "execution_count": 12,
=======
   "execution_count": 3,
>>>>>>> bf07ed19085aa50287a649042560dfdd83c85f0b
   "id": "18e229ae",
   "metadata": {},
   "outputs": [
    {
     "data": {
      "text/html": [
       "<div>\n",
       "<style scoped>\n",
       "    .dataframe tbody tr th:only-of-type {\n",
       "        vertical-align: middle;\n",
       "    }\n",
       "\n",
       "    .dataframe tbody tr th {\n",
       "        vertical-align: top;\n",
       "    }\n",
       "\n",
       "    .dataframe thead th {\n",
       "        text-align: right;\n",
       "    }\n",
       "</style>\n",
       "<table border=\"1\" class=\"dataframe\">\n",
       "  <thead>\n",
       "    <tr style=\"text-align: right;\">\n",
       "      <th></th>\n",
       "      <th>Unnamed: 0</th>\n",
<<<<<<< HEAD
       "      <th>Unnamed: 0.1</th>\n",
=======
>>>>>>> bf07ed19085aa50287a649042560dfdd83c85f0b
       "      <th>Commentaire</th>\n",
       "      <th>star</th>\n",
       "      <th>date</th>\n",
       "      <th>client</th>\n",
       "      <th>reponse</th>\n",
       "      <th>source</th>\n",
       "      <th>company</th>\n",
       "      <th>ville</th>\n",
       "      <th>ecart</th>\n",
       "      <th>YearMonth</th>\n",
       "      <th>year</th>\n",
<<<<<<< HEAD
       "      <th>comments_filter</th>\n",
=======
>>>>>>> bf07ed19085aa50287a649042560dfdd83c85f0b
       "    </tr>\n",
       "  </thead>\n",
       "  <tbody>\n",
       "    <tr>\n",
       "      <th>0</th>\n",
       "      <td>0</td>\n",
<<<<<<< HEAD
       "      <td>2320</td>\n",
       "      <td>Excelente</td>\n",
       "      <td>5</td>\n",
       "      <td>2021-06-08</td>\n",
       "      <td>NaN</td>\n",
       "      <td>¡Hola , Gracias por compartir tu experiencia c...</td>\n",
       "      <td>TrustedShop</td>\n",
       "      <td>ShowRoom</td>\n",
       "      <td>NaN</td>\n",
       "      <td>14.0</td>\n",
       "      <td>2021-06</td>\n",
       "      <td>2021</td>\n",
       "      <td>['excelente']</td>\n",
=======
       "      <td>Bonjour , Ca doit faire 5 ans environ que je s...</td>\n",
       "      <td>1</td>\n",
       "      <td>2021-06-20</td>\n",
       "      <td>AUDREY Du 62</td>\n",
       "      <td>NaN</td>\n",
       "      <td>TrustPilot</td>\n",
       "      <td>ShowRoom</td>\n",
       "      <td>NaN</td>\n",
       "      <td>NaN</td>\n",
       "      <td>2021-06</td>\n",
       "      <td>2021</td>\n",
>>>>>>> bf07ed19085aa50287a649042560dfdd83c85f0b
       "    </tr>\n",
       "    <tr>\n",
       "      <th>1</th>\n",
       "      <td>1</td>\n",
<<<<<<< HEAD
       "      <td>2321</td>\n",
       "      <td>J ’ adore les articles de cette marque</td>\n",
       "      <td>5</td>\n",
       "      <td>2021-06-07</td>\n",
       "      <td>NaN</td>\n",
       "      <td>Bonjour , Merci infiniment pour votre apprécia...</td>\n",
       "      <td>TrustedShop</td>\n",
       "      <td>ShowRoom</td>\n",
       "      <td>NaN</td>\n",
       "      <td>14.0</td>\n",
       "      <td>2021-06</td>\n",
       "      <td>2021</td>\n",
       "      <td>['adore', 'articles', 'cette', 'marque']</td>\n",
=======
       "      <td>Vente lacoste article manquant photo prise sur...</td>\n",
       "      <td>1</td>\n",
       "      <td>2021-06-20</td>\n",
       "      <td>Nanasky De Verteuil</td>\n",
       "      <td>NaN</td>\n",
       "      <td>TrustPilot</td>\n",
       "      <td>ShowRoom</td>\n",
       "      <td>NaN</td>\n",
       "      <td>NaN</td>\n",
       "      <td>2021-06</td>\n",
       "      <td>2021</td>\n",
>>>>>>> bf07ed19085aa50287a649042560dfdd83c85f0b
       "    </tr>\n",
       "  </tbody>\n",
       "</table>\n",
       "</div>"
      ],
      "text/plain": [
<<<<<<< HEAD
       "   Unnamed: 0  Unnamed: 0.1                             Commentaire  star  \\\n",
       "0           0          2320                               Excelente     5   \n",
       "1           1          2321  J ’ adore les articles de cette marque     5   \n",
       "\n",
       "         date client                                            reponse  \\\n",
       "0  2021-06-08    NaN  ¡Hola , Gracias por compartir tu experiencia c...   \n",
       "1  2021-06-07    NaN  Bonjour , Merci infiniment pour votre apprécia...   \n",
       "\n",
       "        source   company ville  ecart YearMonth  year  \\\n",
       "0  TrustedShop  ShowRoom   NaN   14.0   2021-06  2021   \n",
       "1  TrustedShop  ShowRoom   NaN   14.0   2021-06  2021   \n",
       "\n",
       "                            comments_filter  \n",
       "0                             ['excelente']  \n",
       "1  ['adore', 'articles', 'cette', 'marque']  "
      ]
     },
     "execution_count": 12,
=======
       "   Unnamed: 0                                        Commentaire  star  \\\n",
       "0           0  Bonjour , Ca doit faire 5 ans environ que je s...     1   \n",
       "1           1  Vente lacoste article manquant photo prise sur...     1   \n",
       "\n",
       "         date               client reponse      source   company  ville  \\\n",
       "0  2021-06-20         AUDREY Du 62     NaN  TrustPilot  ShowRoom    NaN   \n",
       "1  2021-06-20  Nanasky De Verteuil     NaN  TrustPilot  ShowRoom    NaN   \n",
       "\n",
       "   ecart YearMonth  year  \n",
       "0    NaN   2021-06  2021  \n",
       "1    NaN   2021-06  2021  "
      ]
     },
     "execution_count": 3,
>>>>>>> bf07ed19085aa50287a649042560dfdd83c85f0b
     "metadata": {},
     "output_type": "execute_result"
    }
   ],
   "source": [
<<<<<<< HEAD
    "TrustedShop.head(2)"
=======
    "TrustPilot.head(2)"
>>>>>>> bf07ed19085aa50287a649042560dfdd83c85f0b
   ]
  },
  {
   "cell_type": "code",
<<<<<<< HEAD
   "execution_count": 13,
=======
   "execution_count": 46,
>>>>>>> bf07ed19085aa50287a649042560dfdd83c85f0b
   "id": "166647ac",
   "metadata": {},
   "outputs": [],
   "source": [
    "# répartion entre variables explicatives et variable cible\n",
<<<<<<< HEAD
    "X_gb = TrustedShop['comments_filter']\n",
    "y_gb = TrustedShop['star']"
=======
    "X_tp = TrustPilot['Commentaire']\n",
    "y_tp = TrustPilot['star']"
>>>>>>> bf07ed19085aa50287a649042560dfdd83c85f0b
   ]
  },
  {
   "cell_type": "code",
<<<<<<< HEAD
   "execution_count": 14,
=======
   "execution_count": 47,
>>>>>>> bf07ed19085aa50287a649042560dfdd83c85f0b
   "id": "a331104b",
   "metadata": {},
   "outputs": [],
   "source": [
    "# séparation du jeu de données en un dataset d'entrainement et un dataset de test\n",
    "from sklearn.model_selection import train_test_split\n",
    "\n",
<<<<<<< HEAD
    "X_train, X_test, y_train, y_test = train_test_split(X_gb, y_gb, test_size=0.2, shuffle=True)"
=======
    "X_train, X_test, y_train, y_test = train_test_split(X_tp, y_tp, test_size=0.2, shuffle=True)"
>>>>>>> bf07ed19085aa50287a649042560dfdd83c85f0b
   ]
  },
  {
   "cell_type": "code",
<<<<<<< HEAD
   "execution_count": 15,
=======
   "execution_count": 48,
>>>>>>> bf07ed19085aa50287a649042560dfdd83c85f0b
   "id": "e13f2aa0",
   "metadata": {},
   "outputs": [],
   "source": [
    "# conversion des chaines de caratères en tokens numériques\n",
    "\n",
    "from sklearn.feature_extraction.text import CountVectorizer\n",
    "\n",
    "vectorizer = CountVectorizer()\n",
    "X_train = vectorizer.fit_transform(X_train).todense()\n",
    "X_test = vectorizer.transform(X_test).todense()"
   ]
  },
  {
   "cell_type": "code",
<<<<<<< HEAD
   "execution_count": 16,
=======
   "execution_count": 54,
>>>>>>> bf07ed19085aa50287a649042560dfdd83c85f0b
   "id": "6f9fcf75",
   "metadata": {},
   "outputs": [
    {
     "name": "stderr",
     "output_type": "stream",
     "text": [
      "C:\\Users\\t.fourtouill\\Anaconda3\\lib\\site-packages\\sklearn\\utils\\validation.py:727: FutureWarning: np.matrix usage is deprecated in 1.0 and will raise a TypeError in 1.2. Please convert to a numpy array with np.asarray. For more information see: https://numpy.org/doc/stable/reference/generated/numpy.matrix.html\n",
      "  warnings.warn(\n",
      "C:\\Users\\t.fourtouill\\Anaconda3\\lib\\site-packages\\sklearn\\utils\\validation.py:727: FutureWarning: np.matrix usage is deprecated in 1.0 and will raise a TypeError in 1.2. Please convert to a numpy array with np.asarray. For more information see: https://numpy.org/doc/stable/reference/generated/numpy.matrix.html\n",
      "  warnings.warn(\n"
     ]
    }
   ],
   "source": [
    "# application du modèle de gradientBoosting sur les tokens numériques et calcul des prédictions\n",
    "from sklearn.ensemble import GradientBoostingClassifier\n",
    "\n",
    "clf = GradientBoostingClassifier(n_estimators=100, max_depth=1, learning_rate=1, random_state=0)\n",
    "clf.fit(X_train, y_train)\n",
    "\n",
    "y_pred = clf.predict(X_test)"
   ]
  },
  {
   "cell_type": "code",
<<<<<<< HEAD
   "execution_count": 18,
=======
   "execution_count": 57,
>>>>>>> bf07ed19085aa50287a649042560dfdd83c85f0b
   "id": "2139aa3d",
   "metadata": {},
   "outputs": [
    {
<<<<<<< HEAD
     "name": "stderr",
     "output_type": "stream",
     "text": [
      "C:\\Users\\t.fourtouill\\Anaconda3\\lib\\site-packages\\sklearn\\utils\\validation.py:727: FutureWarning: np.matrix usage is deprecated in 1.0 and will raise a TypeError in 1.2. Please convert to a numpy array with np.asarray. For more information see: https://numpy.org/doc/stable/reference/generated/numpy.matrix.html\n",
      "  warnings.warn(\n"
     ]
    },
    {
     "name": "stdout",
     "output_type": "stream",
     "text": [
      "0.583510261854211\n",
      "\n",
      "              precision    recall  f1-score   support\n",
      "\n",
      "           1       0.12      0.04      0.06       135\n",
      "           2       0.24      0.10      0.14       182\n",
      "           3       0.36      0.17      0.23       339\n",
      "           4       0.39      0.27      0.32       683\n",
      "           5       0.67      0.93      0.78      1487\n",
      "\n",
      "    accuracy                           0.58      2826\n",
      "   macro avg       0.35      0.30      0.31      2826\n",
      "weighted avg       0.51      0.58      0.53      2826\n",
=======
     "name": "stdout",
     "output_type": "stream",
     "text": [
      "              precision    recall  f1-score   support\n",
      "\n",
      "           1       0.86      0.95      0.90       891\n",
      "           2       0.17      0.07      0.10        74\n",
      "           3       0.09      0.06      0.07        18\n",
      "           4       0.00      0.00      0.00        30\n",
      "           5       0.53      0.43      0.47        54\n",
      "\n",
      "    accuracy                           0.82      1067\n",
      "   macro avg       0.33      0.30      0.31      1067\n",
      "weighted avg       0.76      0.82      0.79      1067\n",
>>>>>>> bf07ed19085aa50287a649042560dfdd83c85f0b
      "\n"
     ]
    },
    {
     "data": {
      "text/html": [
       "<div>\n",
       "<style scoped>\n",
       "    .dataframe tbody tr th:only-of-type {\n",
       "        vertical-align: middle;\n",
       "    }\n",
       "\n",
       "    .dataframe tbody tr th {\n",
       "        vertical-align: top;\n",
       "    }\n",
       "\n",
       "    .dataframe thead th {\n",
       "        text-align: right;\n",
       "    }\n",
       "</style>\n",
       "<table border=\"1\" class=\"dataframe\">\n",
       "  <thead>\n",
       "    <tr style=\"text-align: right;\">\n",
       "      <th>données prédites</th>\n",
       "      <th>1</th>\n",
       "      <th>2</th>\n",
       "      <th>3</th>\n",
       "      <th>4</th>\n",
       "      <th>5</th>\n",
       "    </tr>\n",
       "    <tr>\n",
       "      <th>données réelles</th>\n",
       "      <th></th>\n",
       "      <th></th>\n",
       "      <th></th>\n",
       "      <th></th>\n",
       "      <th></th>\n",
       "    </tr>\n",
       "  </thead>\n",
       "  <tbody>\n",
       "    <tr>\n",
       "      <th>1</th>\n",
<<<<<<< HEAD
       "      <td>6</td>\n",
       "      <td>12</td>\n",
       "      <td>18</td>\n",
       "      <td>37</td>\n",
       "      <td>62</td>\n",
       "    </tr>\n",
       "    <tr>\n",
       "      <th>2</th>\n",
       "      <td>18</td>\n",
       "      <td>18</td>\n",
       "      <td>35</td>\n",
       "      <td>52</td>\n",
       "      <td>59</td>\n",
=======
       "      <td>846</td>\n",
       "      <td>23</td>\n",
       "      <td>9</td>\n",
       "      <td>5</td>\n",
       "      <td>8</td>\n",
       "    </tr>\n",
       "    <tr>\n",
       "      <th>2</th>\n",
       "      <td>64</td>\n",
       "      <td>5</td>\n",
       "      <td>1</td>\n",
       "      <td>0</td>\n",
       "      <td>4</td>\n",
>>>>>>> bf07ed19085aa50287a649042560dfdd83c85f0b
       "    </tr>\n",
       "    <tr>\n",
       "      <th>3</th>\n",
       "      <td>13</td>\n",
<<<<<<< HEAD
       "      <td>33</td>\n",
       "      <td>59</td>\n",
       "      <td>117</td>\n",
       "      <td>117</td>\n",
       "    </tr>\n",
       "    <tr>\n",
       "      <th>4</th>\n",
       "      <td>15</td>\n",
       "      <td>11</td>\n",
       "      <td>38</td>\n",
       "      <td>185</td>\n",
       "      <td>434</td>\n",
       "    </tr>\n",
       "    <tr>\n",
       "      <th>5</th>\n",
       "      <td>0</td>\n",
       "      <td>1</td>\n",
       "      <td>16</td>\n",
       "      <td>89</td>\n",
       "      <td>1381</td>\n",
=======
       "      <td>1</td>\n",
       "      <td>1</td>\n",
       "      <td>0</td>\n",
       "      <td>3</td>\n",
       "    </tr>\n",
       "    <tr>\n",
       "      <th>4</th>\n",
       "      <td>25</td>\n",
       "      <td>0</td>\n",
       "      <td>0</td>\n",
       "      <td>0</td>\n",
       "      <td>5</td>\n",
       "    </tr>\n",
       "    <tr>\n",
       "      <th>5</th>\n",
       "      <td>31</td>\n",
       "      <td>0</td>\n",
       "      <td>0</td>\n",
       "      <td>0</td>\n",
       "      <td>23</td>\n",
>>>>>>> bf07ed19085aa50287a649042560dfdd83c85f0b
       "    </tr>\n",
       "  </tbody>\n",
       "</table>\n",
       "</div>"
      ],
      "text/plain": [
<<<<<<< HEAD
       "données prédites   1   2   3    4     5\n",
       "données réelles                        \n",
       "1                  6  12  18   37    62\n",
       "2                 18  18  35   52    59\n",
       "3                 13  33  59  117   117\n",
       "4                 15  11  38  185   434\n",
       "5                  0   1  16   89  1381"
      ]
     },
     "execution_count": 18,
=======
       "données prédites    1   2  3  4   5\n",
       "données réelles                    \n",
       "1                 846  23  9  5   8\n",
       "2                  64   5  1  0   4\n",
       "3                  13   1  1  0   3\n",
       "4                  25   0  0  0   5\n",
       "5                  31   0  0  0  23"
      ]
     },
     "execution_count": 57,
>>>>>>> bf07ed19085aa50287a649042560dfdd83c85f0b
     "metadata": {},
     "output_type": "execute_result"
    }
   ],
   "source": [
    "# calcul des métriques des résultats du modèle\n",
    "from sklearn.metrics import classification_report\n",
    "\n",
<<<<<<< HEAD
    "print(clf.score(X_test, y_test), end='\\n\\n')\n",
    "\n",
=======
>>>>>>> bf07ed19085aa50287a649042560dfdd83c85f0b
    "cr = classification_report(y_test, y_pred)\n",
    "print(cr)\n",
    "\n",
    "# affichage de la matrice de confusion pour voir si les données se sont bien classées\n",
    "cm = pd.crosstab(y_test, y_pred, rownames=['données réelles'], colnames=['données prédites'])\n",
    "cm"
   ]
  },
  {
   "cell_type": "code",
<<<<<<< HEAD
   "execution_count": 19,
=======
   "execution_count": 59,
>>>>>>> bf07ed19085aa50287a649042560dfdd83c85f0b
   "id": "68e94461",
   "metadata": {},
   "outputs": [
    {
     "name": "stdout",
     "output_type": "stream",
     "text": [
<<<<<<< HEAD
      "le modèle prédit bien les bon avis (à 5 star) avec 67% de précision, par contre, plutot mal les notes à 5 star avec seulement 50% et encore pire pour les résultats intermédiaires, on peut penser que le modèle fait de l'overfitting\n"
=======
      "le modèle prédit bien les mauvais avis (à 1 star) avec 86% de précision, par contre, plutot mal les notes à 5 star avec seulement 50% et encore pire pour les résultats intermédiaires, on peut penser que le modèle fait de l'overfitting\n"
>>>>>>> bf07ed19085aa50287a649042560dfdd83c85f0b
     ]
    }
   ],
   "source": [
<<<<<<< HEAD
    "print(\"le modèle prédit bien les bon avis (à 5 star) avec 67% de précision, par contre, plutot mal les notes à 5 star avec seulement 50% et encore pire pour les résultats intermédiaires, on peut penser que le modèle fait de l'overfitting\")"
=======
    "print(\"le modèle prédit bien les mauvais avis (à 1 star) avec 86% de précision, par contre, plutot mal les notes à 5 star avec seulement 50% et encore pire pour les résultats intermédiaires, on peut penser que le modèle fait de l'overfitting\")"
>>>>>>> bf07ed19085aa50287a649042560dfdd83c85f0b
   ]
  },
  {
   "cell_type": "code",
<<<<<<< HEAD
   "execution_count": 20,
=======
   "execution_count": 68,
>>>>>>> bf07ed19085aa50287a649042560dfdd83c85f0b
   "id": "2d35682a",
   "metadata": {},
   "outputs": [
    {
     "name": "stdout",
     "output_type": "stream",
     "text": [
<<<<<<< HEAD
      "[5 4 5 3]\n"
=======
      "[1 1 1 1]\n"
>>>>>>> bf07ed19085aa50287a649042560dfdd83c85f0b
     ]
    },
    {
     "name": "stderr",
     "output_type": "stream",
     "text": [
      "C:\\Users\\t.fourtouill\\Anaconda3\\lib\\site-packages\\sklearn\\utils\\validation.py:727: FutureWarning: np.matrix usage is deprecated in 1.0 and will raise a TypeError in 1.2. Please convert to a numpy array with np.asarray. For more information see: https://numpy.org/doc/stable/reference/generated/numpy.matrix.html\n",
      "  warnings.warn(\n"
     ]
    }
   ],
   "source": [
    "# on peut tester le modèles sur de nouveaux commentaire pour voir la prédictions qui seraits faites\n",
    "\n",
    "new_comments = [\"Satisfait et delai de livraison au top\", \"Bel article mais malheureusement trop petit\", \"Très déçu et c'est la deuxième fois ! ! ! Il n ' y avait aucun produits qui correspondaient à ma commande et en plus ils étaient cassés\", \"La veste est trop serré 42 veste Que j ’ avais déjà commander en 40 Déçu Et plus de taille au dessus du 42 dommage Pour cet article\"]\n",
    "\n",
    "# on tokenize les commentaires à partir du modèle vectorizer existant\n",
    "new_comments_token = vectorizer.transform(new_comments).todense()\n",
    "\n",
    "# on prédit les données à partir à parti du modèle clf et on regarde si c'est cohérent\n",
    "y_predict = clf.predict(new_comments_token)\n",
    "print(y_predict)"
   ]
  },
  {
   "cell_type": "code",
   "execution_count": null,
   "id": "8a849e61",
   "metadata": {},
   "outputs": [],
   "source": [
    "print(\"les prédictions ne sont clairement pas satisfaisantes\")"
   ]
  },
  {
   "cell_type": "code",
   "execution_count": null,
   "id": "db26e3a2",
   "metadata": {},
   "outputs": [],
   "source": []
  },
  {
   "cell_type": "code",
   "execution_count": null,
   "id": "c6e815b2",
   "metadata": {},
   "outputs": [],
   "source": []
  }
 ],
 "metadata": {
  "kernelspec": {
   "display_name": "Python 3 (ipykernel)",
   "language": "python",
   "name": "python3"
  },
  "language_info": {
   "codemirror_mode": {
    "name": "ipython",
    "version": 3
   },
   "file_extension": ".py",
   "mimetype": "text/x-python",
   "name": "python",
   "nbconvert_exporter": "python",
   "pygments_lexer": "ipython3",
   "version": "3.9.7"
  }
 },
 "nbformat": 4,
 "nbformat_minor": 5
}
